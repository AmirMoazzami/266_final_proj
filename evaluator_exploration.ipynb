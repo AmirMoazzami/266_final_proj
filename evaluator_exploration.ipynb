{
  "cells": [
    {
      "cell_type": "code",
      "execution_count": 3,
      "metadata": {
        "colab": {
          "base_uri": "https://localhost:8080/"
        },
        "id": "siWmXXPgidJi",
        "outputId": "9eb9c98c-9305-4217-f389-3c7f79ea9a57"
      },
      "outputs": [],
      "source": [
        "!pip install -q rouge_score transformers bert_score"
      ]
    },
    {
      "cell_type": "code",
      "execution_count": 1,
      "metadata": {
        "id": "dycHxY1_idJj"
      },
      "outputs": [
        {
          "data": {
            "text/plain": [
              "Dataset({\n",
              "    features: ['review_id', 'pmid', 'title', 'abstract', 'target', 'background'],\n",
              "    num_rows: 2021\n",
              "})"
            ]
          },
          "metadata": {},
          "output_type": "display_data"
        }
      ],
      "source": [
        "import torch\n",
        "from typing import List, Dict\n",
        "from rouge_score import rouge_scorer, scoring\n",
        "import bert_score\n",
        "from transformers import AutoTokenizer\n",
        "from datasets import load_dataset\n",
        "import pandas as pd\n",
        "import matplotlib.pyplot as plt\n",
        "\n",
        "\n",
        "START_POPULATION='<pop>'\n",
        "END_POPULATION='</pop>'\n",
        "START_INTERVENTION='<int>'\n",
        "END_INTERVENTION='</int>'\n",
        "START_OUTCOME='<out>'\n",
        "END_OUTCOME='</out>'\n",
        "START_BACKGROUND = '<background>'\n",
        "END_BACKGROUND = '</background>'\n",
        "START_REFERENCE = '<ref>'\n",
        "END_REFERENCE = '</ref>'\n",
        "START_EVIDENCE = '<evidence>'\n",
        "END_EVIDENCE = '</evidence>'\n",
        "SEP_TOKEN = '<sep>'\n",
        "EXTRA_TOKENS = [\n",
        "    START_BACKGROUND,\n",
        "    END_BACKGROUND,\n",
        "    START_REFERENCE,\n",
        "    END_REFERENCE,\n",
        "    SEP_TOKEN,\n",
        "    START_POPULATION,\n",
        "    END_POPULATION,\n",
        "    START_INTERVENTION,\n",
        "    END_INTERVENTION,\n",
        "    START_OUTCOME,\n",
        "    END_OUTCOME,\n",
        "    START_EVIDENCE,\n",
        "    END_EVIDENCE,\n",
        "]\n",
        "\n",
        "\n",
        "def rouge_scores(\n",
        "    preds: List[List[torch.Tensor]], targets: List[List[torch.Tensor]],\n",
        "    tokenizer, use_stemmer=False, use_aggregator=False\n",
        "):\n",
        "    # largely copied from https://github.com/huggingface/nlp/blob/master/metrics/rouge/rouge.py#L84\n",
        "    # and from https://github.com/allenai/ms2/blob/a03ab009e00c5e412b4c55f6ec4f9b49c2d8a7f6/ms2/models/utils.py\n",
        "    rouge_types = ['rouge1', 'rouge2', 'rougeL', 'rougeLsum']\n",
        "    scorer = rouge_scorer.RougeScorer(rouge_types=rouge_types, use_stemmer=use_stemmer)\n",
        "    refs, hyps = [], []\n",
        "    for p, t in zip(preds, targets):\n",
        "        assert len(p) == len(t)\n",
        "        refs.extend(p)\n",
        "        hyps.extend(t)\n",
        "\n",
        "    if use_aggregator:\n",
        "        aggregator = scoring.BootstrapAggregator()\n",
        "        scores = None\n",
        "    else:\n",
        "        aggregator = None\n",
        "        scores = []\n",
        "\n",
        "    for ref, pred in zip(refs, hyps):\n",
        "        if isinstance(ref, torch.Tensor):\n",
        "            ref = tokenizer.decode(ref).lower()\n",
        "        if isinstance(pred, torch.Tensor):\n",
        "            pred = tokenizer.decode(pred).lower()\n",
        "        score = scorer.score(ref, pred)\n",
        "        if use_aggregator:\n",
        "            aggregator.add_scores(score)\n",
        "        else:\n",
        "            scores.append(score)\n",
        "\n",
        "    if use_aggregator:\n",
        "        result = aggregator.aggregate()\n",
        "    else:\n",
        "        result = {}\n",
        "        for key in scores[0]:\n",
        "            result[key] = list(score[key] for score in scores)\n",
        "\n",
        "    return result\n",
        "\n",
        "\n",
        "def get_tokenizer(tokenizer_type: str):\n",
        "    tokenizer = AutoTokenizer.from_pretrained(tokenizer_type, additional_special_tokens=EXTRA_TOKENS)\n",
        "    return tokenizer\n",
        "\n",
        "\n",
        "def calculate_rouge(targets: Dict[str, Dict], generated: Dict[str, str]) -> Dict:\n",
        "    \"\"\"\n",
        "    Calculate ROUGE scores\n",
        "    :param targets: dict of docid -> {'target': target_text}\n",
        "    :param generated: dict of docid -> generated_text\n",
        "    :return: dict of ROUGE scores (rouge1, rouge2, rougeL, rougeLsum)\n",
        "    \"\"\"\n",
        "    # copied from https://github.com/allenai/mslr-shared-task/blob/c2218c1a440cf5172d784065b48af2d6c5c50f9a/evaluator/evaluator.py\n",
        "    print(\"Computing ROUGE scores...\")\n",
        "    docids = list(targets.keys())\n",
        "    target_texts = [[targets[docid]['target']] for docid in docids]\n",
        "    generated_texts = [[generated.get(docid, '')] for docid in docids]\n",
        "\n",
        "    # rouge scoring\n",
        "    tokenizer = get_tokenizer('facebook/bart-base')\n",
        "    rouge_results = rouge_scores(generated_texts, target_texts, tokenizer, use_aggregator=True)\n",
        "    return rouge_results\n",
        "\n",
        "\n",
        "def calculate_mid_rouge(targets: Dict[str, Dict], generated: Dict[str, str]) -> Dict:\n",
        "    \"\"\"\n",
        "    Calculate ROUGE scores but only return mid fmeasure.\n",
        "    :param targets: dict of docid -> {'target': target_text}\n",
        "    :param generated: dict of docid -> generated_text\n",
        "    :return: dict of ROUGE scores (rouge1, rouge2, rougeL, rougeLsum)\n",
        "    \"\"\"\n",
        "    results = calculate_rouge(targets, generated)\n",
        "    return {\n",
        "        \"rouge\": results,\n",
        "        \"rouge1\": results[\"rouge1\"].mid.fmeasure,\n",
        "        \"rouge2\": results[\"rouge2\"].mid.fmeasure,\n",
        "        \"rougeL\": results[\"rougeL\"].mid.fmeasure,\n",
        "        \"rougeLsum\": results[\"rougeLsum\"].mid.fmeasure,\n",
        "    }\n",
        "\n",
        "\n",
        "def calculate_bertscore(\n",
        "    targets: Dict[str, Dict], generated: Dict[str, str], model_type=\"roberta-large\"\n",
        ") -> Dict:\n",
        "    \"\"\"\n",
        "    Calculate BERTscore\n",
        "    :param targets: dict of docid -> {'target': target_text}\n",
        "    :param generated: dict of docid -> generated_text\n",
        "    :param model_type: model type for BERTscore. Choose from many choices (look\n",
        "        up bert-score github). Note that MSLR/MS2 uses roberta-large in default\n",
        "        args, but https://huggingface.co/allenai/led-base-16384-ms2 uses\n",
        "        `microsoft/deberta-xlarge-mnli`. Note that `bert-score`\n",
        "        recommends `microsoft/deberta-xlarge-mnli` as the one with best\n",
        "        correlation with human judgement. Details here:\n",
        "        https://huggingface.co/microsoft/deberta-xlarge-mnli\n",
        "    :return: dict of BERTscore results (bs_ps, bs_rs, bs_fs) (precision, recall, f1)\n",
        "    \"\"\"\n",
        "    # copied from https://github.com/allenai/mslr-shared-task/blob/c2218c1a440cf5172d784065b48af2d6c5c50f9a/evaluator/evaluator.py\n",
        "    # original bert score: https://github.com/Tiiiger/bert_score\n",
        "    print(\"Computing BERTscore...\")\n",
        "    docids = list(targets.keys())\n",
        "    target_texts = [targets[docid]['target'] for docid in docids]\n",
        "    generated_texts = [generated.get(docid, '') for docid in docids]\n",
        "\n",
        "    # BERTscore\n",
        "    bs_ps, bs_rs, bs_fs = bert_score.score(generated_texts, target_texts, model_type=model_type)\n",
        "    return {\n",
        "        \"bs_ps\": bs_ps,\n",
        "        \"bs_rs\": bs_rs,\n",
        "        \"bs_fs\": bs_fs\n",
        "    }\n",
        "\n",
        "\n",
        "def calculate_mean_bertscore(\n",
        "    targets: Dict[str, Dict], generated: Dict[str, str], model_type=\"roberta-large\"\n",
        ") -> Dict:\n",
        "    \"\"\"\n",
        "    Calculate mean BERTscore\n",
        "    :param targets: dict of docid -> {'target': target_text}\n",
        "    :param generated: dict of docid -> generated_text\n",
        "    :param model_type: model type for BERTscore.\n",
        "    :return: dict of mean BERTscore results (bs_ps, bs_rs, bs_fs) (precision, recall, f1)\n",
        "    \"\"\"\n",
        "    individual_results = calculate_bertscore(targets, generated, model_type=model_type)\n",
        "\n",
        "    results = {\n",
        "        \"bertscore_avg_p\": torch.mean(individual_results[\"bs_ps\"]).item(),\n",
        "        \"bertscore_avg_r\": torch.mean(individual_results[\"bs_rs\"]).item(),\n",
        "        \"bertscore_avg_f\": torch.mean(individual_results[\"bs_fs\"]).item(),\n",
        "        \"bertscore_std_p\": torch.std(individual_results[\"bs_ps\"]).item(),\n",
        "        \"bertscore_std_r\": torch.std(individual_results[\"bs_rs\"]).item(),\n",
        "        \"bertscore_std_f\": torch.std(individual_results[\"bs_fs\"]).item(),\n",
        "    }\n",
        "    return results\n",
        "\n",
        "\n",
        "# pull in original validation data from huggingface datasets\n",
        "dataset = load_dataset(\"allenai/mslr2022\", \"ms2\", split=\"validation\")  # takes 9 mins\n",
        "display(dataset)\n",
        "\n",
        "# organize target data into dicts for rouge and bertscore\n",
        "targets = {row['review_id']: row for row in dataset}"
      ]
    },
    {
      "cell_type": "code",
      "execution_count": 13,
      "metadata": {
        "colab": {
          "base_uri": "https://localhost:8080/",
          "height": 312
        },
        "id": "Gu8yijH1qwmg",
        "outputId": "4108ea03-fba8-4a22-d769-f50c3e4313f1"
      },
      "outputs": [
        {
          "name": "stdout",
          "output_type": "stream",
          "text": [
            "Computing ROUGE scores...\n"
          ]
        },
        {
          "data": {
            "text/plain": [
              "{'rouge1': AggregateScore(low=Score(precision=0.12222222222222223, recall=0.0787037037037037, fmeasure=0.0989010989010989), mid=Score(precision=0.35555555555555557, recall=0.28703703703703703, fmeasure=0.31684981684981683), high=Score(precision=0.6333333333333333, recall=0.5972222222222222, fmeasure=0.6068376068376068)),\n",
              " 'rouge2': AggregateScore(low=Score(precision=0.020833333333333332, recall=0.020833333333333332, fmeasure=0.020833333333333332), mid=Score(precision=0.20833333333333334, recall=0.20833333333333334, fmeasure=0.20833333333333334), high=Score(precision=0.5625, recall=0.5416666666666666, fmeasure=0.548611111111111)),\n",
              " 'rougeL': AggregateScore(low=Score(precision=0.07407407407407407, recall=0.05787037037037037, fmeasure=0.07326007326007326), mid=Score(precision=0.30370370370370364, recall=0.26157407407407407, fmeasure=0.2716727716727717), high=Score(precision=0.5711111111111105, recall=0.5578703703703703, fmeasure=0.5626780626780626)),\n",
              " 'rougeLsum': AggregateScore(low=Score(precision=0.07037037037037037, recall=0.05787037037037037, fmeasure=0.06267806267806268), mid=Score(precision=0.30370370370370364, recall=0.2615740740740741, fmeasure=0.27696377696377694), high=Score(precision=0.6037037037037037, recall=0.5740740740740741, fmeasure=0.5846560846560847))}"
            ]
          },
          "metadata": {},
          "output_type": "display_data"
        },
        {
          "name": "stdout",
          "output_type": "stream",
          "text": [
            "Computing BERTscore...\n"
          ]
        },
        {
          "data": {
            "text/plain": [
              "{'bs_ps': tensor([0.7381, 0.5301, 0.5480, 0.3825, 0.6740, 1.0000]),\n",
              " 'bs_rs': tensor([0.7276, 0.5883, 0.6598, 0.4499, 0.6900, 1.0000]),\n",
              " 'bs_fs': tensor([0.7328, 0.5577, 0.5987, 0.4135, 0.6819, 1.0000])}"
            ]
          },
          "metadata": {},
          "output_type": "display_data"
        }
      ],
      "source": [
        "# Test with some toy examples\n",
        "\n",
        "targets_toy = {\n",
        "    \"doc1\": {\"target\": \"The quick brown fox jumps over the lazy dog\"},\n",
        "    \"doc2\": {\"target\": \"fruit flies like a banana\"},\n",
        "    \"doc3\": {\"target\": \"fruit flies like a banana\"},\n",
        "    \"doc4\": {\"target\": \"fruit flies like a banana\"},\n",
        "    \"doc5\": {\"target\": \"everything is chaotic\"},\n",
        "    \"doc6\": {\"target\": \"The quick brown fox jumps over the lazy dog\"},\n",
        "}\n",
        "\n",
        "generated_toy = {\n",
        "    \"doc1\": \"A lazy dog is under a hopping speedy fox\",  # synonym\n",
        "    \"doc2\": \"some insects are attracted to a yellow fruit\",  # one interpretation\n",
        "    \"doc3\": \"most fruits have the aerodynamic properties of a banana\",  # another interpretation\n",
        "    \"doc4\": \"nothing makes sense\",  # completely irrelevant\n",
        "    \"doc5\": \"nothing makes sense\",  # synonym\n",
        "    \"doc6\": \"The quick brown fox jumps over the lazy dog\",  # perfect/identical\n",
        "}\n",
        "\n",
        "rouge_results = calculate_rouge(targets_toy, generated_toy)\n",
        "display(rouge_results)\n",
        "\n",
        "bertscore_results = calculate_bertscore(targets_toy, generated_toy, \"microsoft/deberta-xlarge-mnli\")\n",
        "display(bertscore_results)"
      ]
    },
    {
      "cell_type": "code",
      "execution_count": 33,
      "metadata": {
        "colab": {
          "base_uri": "https://localhost:8080/",
          "height": 434
        },
        "id": "DjR_IKBpwCJl",
        "outputId": "5ec2166c-b1e6-40fa-d1d4-f180ba4929e6"
      },
      "outputs": [
        {
          "name": "stdout",
          "output_type": "stream",
          "text": [
            "Computing ROUGE scores...\n"
          ]
        },
        {
          "data": {
            "text/plain": [
              "{'rouge': {'rouge1': AggregateScore(low=Score(precision=0.4727272727272727, recall=0.09961685823754789, fmeasure=0.16455696202531644), mid=Score(precision=0.4754940711462451, recall=0.10959103781442611, fmeasure=0.1779306549257017), high=Score(precision=0.4782608695652174, recall=0.11956521739130435, fmeasure=0.19130434782608696)),\n",
              "  'rouge2': AggregateScore(low=Score(precision=0.08823529411764706, recall=0.019230769230769232, fmeasure=0.03184713375796178), mid=Score(precision=0.09041394335511982, recall=0.020524475524475526, fmeasure=0.033416278249243286), high=Score(precision=0.09259259259259259, recall=0.02181818181818182, fmeasure=0.03498542274052478)),\n",
              "  'rougeL': AggregateScore(low=Score(precision=0.2727272727272727, recall=0.05747126436781609, fmeasure=0.0949367088607595), mid=Score(precision=0.2812911725955204, recall=0.06496751624187906, fmeasure=0.10543936892313338), high=Score(precision=0.2898550724637681, recall=0.07246376811594203, fmeasure=0.11594202898550726)),\n",
              "  'rougeLsum': AggregateScore(low=Score(precision=0.2727272727272727, recall=0.05747126436781609, fmeasure=0.0949367088607595), mid=Score(precision=0.2812911725955204, recall=0.06496751624187906, fmeasure=0.10543936892313338), high=Score(precision=0.2898550724637681, recall=0.07246376811594203, fmeasure=0.11594202898550726))},\n",
              " 'rouge1': 0.1779306549257017,\n",
              " 'rouge2': 0.033416278249243286,\n",
              " 'rougeL': 0.10543936892313338,\n",
              " 'rougeLsum': 0.10543936892313338}"
            ]
          },
          "metadata": {},
          "output_type": "display_data"
        },
        {
          "name": "stdout",
          "output_type": "stream",
          "text": [
            "Computing BERTscore...\n"
          ]
        },
        {
          "data": {
            "text/plain": [
              "{'bertscore_avg_p': 0.47608551383018494,\n",
              " 'bertscore_avg_r': 0.6032038927078247,\n",
              " 'bertscore_avg_f': 0.5320615768432617,\n",
              " 'bertscore_std_p': 0.006571114994585514,\n",
              " 'bertscore_std_r': 0.014886646531522274,\n",
              " 'bertscore_std_f': 0.0016888664104044437}"
            ]
          },
          "metadata": {},
          "output_type": "display_data"
        }
      ],
      "source": [
        "# Test with some toy examples\n",
        "\n",
        "targets_x_sample = {\n",
        "    \"28514886\": {\n",
        "        \"target\": \"Current evidence from systematic review and meta- analysis revealed that probiotics are the most promising intervention in reduction of the incidence of NEC in VLBW neonates . As per the evidence , prebiotics modulate the composition of human intestine microflora to the benefit of the host by suppression of colonization of harmful microorganism and /or the stimulation of bifidobacterial growth , decreased stool viscosity , reduced gastrointestinal transit time , and better feed tolerance .\",\n",
        "        \"background\": targets[\"28514886\"][\"background\"],\n",
        "    },\n",
        "    \"18842808\": {\n",
        "        \"target\": \"The use of glucomannan did not appear to significantly alter any other study endpoints . Pediatric patients , patients receiving dietary modification , and patients with impaired glucose metabolism did not benefit from glucomannan to the same degree . Glucomannan appears to beneficially affect total cholesterol , LDL cholesterol , triglycerides , body weight , and FBG , but not HDL cholesterol or BP\",\n",
        "        \"background\": targets[\"18842808\"][\"background\"],\n",
        "    },\n",
        "}\n",
        "\n",
        "generated_2_sample = {\n",
        "    \"28514886\": \"Retrieve concise conclusion without background: BACKGROUND : Necrotizing enterocolitis ( NEC ) is one of the most destructive diseases associated with the intestine. We aim to determine the effect of a preterm formula containing partially hydrolyzed whey protein, modified vegetable oil with a high & bgr;-palmitic acid content, on the intestinal flora. We hypothesized that enteral supplementation of a prebiotic mixture consisting of neutral oligosaccharides ( (SC)GOS/(LC)FOS ) and acidic oligosaccharides ( AOS ) on intestinal permeability. In a double-blind trial 20 preterm infants ( gestational age 27 ( 24 - 31 ) weeks, postnatal age 42 ( 11 - 84 ) days ), and weight at study entry 1570 ( 1080 - 2300 ) g were enrolled. The infants were randomized to receive either a formula with 8 g/L of either GOS/LCFOS ( 1.5 or 3.0 g/kg ). The stool specimens were quantitatively cultured weekly for the number of bifidobacteria, gastric residue, bowel habits, and feeding tolerance.  Clinical examination including anthropometric measurements, microbiological analysis of fecal sample s, and blood leukocyte population analysis were performed at birth and 6 and 10 weeks... The results showed that the incidence of NEC, the group fed the oligosaccharide supplemented formula increased to the upper range of infant growth, and the placebo group. The incidence of > or = 1 serious infection, as measured by extrusion force ( P=0.006 ), was not significantly different in the supplemented group ( P = 0.056 )..  The intestinal microbiota of infants who received a st and ard formula seems to resemble a more mature gut flora, while the 0.8 g/dL group, 9.7 - 14 % of these neonates.. Conclusion : Neonatal enteric NEC. The intestinal flora of preterm neonates was not different between the 2 groups. and/.}).\",\n",
        "    \"18842808\": \"Retrieve concise conclusion without background: BACKGROUND The purpose of this study was to evaluate the effectiveness of the hydrosoluble fiber glucomannan to a Step-One-Diet in mildly hypercholesterolemic type II diabetic and non-diabetic subjects and to compare the response of these two subject groups to the treatments. MATERIAL / METHODS One hundred and seventy six men and women were included to receive either active fiber substance or placebo in r and omized placebo-controlled studies. The subjects were encouraged not to change their ordinary diets or general lifestyle during the investigation. RESULTS : After a three-days food recall, a balanced diet with adequate caloric intake was provided to all obese children. In all patients before and 2 - 4 months after the intervention, the plasma lipids ( weight, height, weight excess ) and laboratory data ( serum levels of cholesterol, HDL, triglycerides, glucose, fructosamine, glycosylated hemoglobin, RBC, WBC, hemoglobin, iron, calcium, Cu and Zn ) have been determined. Excess weight and triglycerids levels were significantly decreased in treated obese patients than in obese controls 4 months later. Both groups experienced decreases in ( P < 0.01 ) body weight, percent body fat, systolic blood pressure, waist circumference, and plasma glucose levels. After 12 weeks, HDL-C and TAG improved significantly in the fiber ( 10 % and -34 % ) and placebo ( 14 %, -43 % ) groups. The results of lipid profiles did not differ between subject groups. Overall plasma lathosterol concentrations, as well as FBG, and other lipids were lowered ( P<0.05 ). The study to perform a meta- analysis of r, omized controlled trials of glucarannan on plasma lipid, FBG.. and).-..\",\n",
        "}\n",
        "\n",
        "rouge_results = calculate_mid_rouge(targets_2_sample, generated_2_sample)\n",
        "display(rouge_results)\n",
        "\n",
        "bertscore_results = calculate_mean_bertscore(targets_2_sample, generated_2_sample, \"microsoft/deberta-xlarge-mnli\")\n",
        "display(bertscore_results)"
      ]
    },
    {
      "cell_type": "markdown",
      "metadata": {},
      "source": [
        "## Evaluating on model outputs"
      ]
    },
    {
      "cell_type": "markdown",
      "metadata": {},
      "source": [
        "### BioBART"
      ]
    },
    {
      "cell_type": "code",
      "execution_count": 79,
      "metadata": {},
      "outputs": [
        {
          "data": {
            "text/html": [
              "<div>\n",
              "<style scoped>\n",
              "    .dataframe tbody tr th:only-of-type {\n",
              "        vertical-align: middle;\n",
              "    }\n",
              "\n",
              "    .dataframe tbody tr th {\n",
              "        vertical-align: top;\n",
              "    }\n",
              "\n",
              "    .dataframe thead th {\n",
              "        text-align: right;\n",
              "    }\n",
              "</style>\n",
              "<table border=\"1\" class=\"dataframe\">\n",
              "  <thead>\n",
              "    <tr style=\"text-align: right;\">\n",
              "      <th></th>\n",
              "      <th>review_id</th>\n",
              "      <th>candidate</th>\n",
              "    </tr>\n",
              "  </thead>\n",
              "  <tbody>\n",
              "    <tr>\n",
              "      <th>0</th>\n",
              "      <td>26762372</td>\n",
              "      <td>Background : The aim of the present study was...</td>\n",
              "    </tr>\n",
              "    <tr>\n",
              "      <th>1</th>\n",
              "      <td>28723736</td>\n",
              "      <td>BACKGROUND Surgical site infections ( SSIs ) ...</td>\n",
              "    </tr>\n",
              "    <tr>\n",
              "      <th>2</th>\n",
              "      <td>22002191</td>\n",
              "      <td>BACKGROUND AND PURPOSE : The purpose of this ...</td>\n",
              "    </tr>\n",
              "    <tr>\n",
              "      <th>3</th>\n",
              "      <td>31921439</td>\n",
              "      <td>Background : Several established tools are av...</td>\n",
              "    </tr>\n",
              "    <tr>\n",
              "      <th>4</th>\n",
              "      <td>30301735</td>\n",
              "      <td>Background Topical glyceryl trinitrate ( GTN ...</td>\n",
              "    </tr>\n",
              "  </tbody>\n",
              "</table>\n",
              "</div>"
            ],
            "text/plain": [
              "  review_id                                          candidate\n",
              "0  26762372   Background : The aim of the present study was...\n",
              "1  28723736   BACKGROUND Surgical site infections ( SSIs ) ...\n",
              "2  22002191   BACKGROUND AND PURPOSE : The purpose of this ...\n",
              "3  31921439   Background : Several established tools are av...\n",
              "4  30301735   Background Topical glyceryl trinitrate ( GTN ..."
            ]
          },
          "metadata": {},
          "output_type": "display_data"
        }
      ],
      "source": [
        "# Open results from BioBART on validation set\n",
        "df_biobart = pd.read_csv(\"pretrained_no_finetune/biobart/biobart_validation.csv\")\n",
        "# review_id is the docid and should be a string\n",
        "df_biobart['review_id'] = df_biobart['review_id'].astype(str)\n",
        "display(df_biobart.head())\n",
        "\n",
        "# organize into dicts for rouge and bertscore\n",
        "generated_biobart = {row['review_id']: row['candidate'] for _, row in df_biobart.iterrows()}\n",
        "\n",
        "# check to see if all docids are present and unique\n",
        "assert set(generated_biobart.keys()) == set(targets.keys())\n",
        "assert len(generated_biobart) == len(targets)"
      ]
    },
    {
      "cell_type": "code",
      "execution_count": 8,
      "metadata": {},
      "outputs": [
        {
          "data": {
            "text/plain": [
              "<Axes: >"
            ]
          },
          "execution_count": 8,
          "metadata": {},
          "output_type": "execute_result"
        },
        {
          "data": {
            "image/png": "[encoded data removed]",
            "text/plain": [
              "<Figure size 640x480 with 1 Axes>"
            ]
          },
          "metadata": {},
          "output_type": "display_data"
        }
      ],
      "source": [
        "df_biobart.candidate.str.len().hist()"
      ]
    },
    {
      "cell_type": "code",
      "execution_count": 9,
      "metadata": {},
      "outputs": [
        {
          "name": "stdout",
          "output_type": "stream",
          "text": [
            "Computing ROUGE scores...\n"
          ]
        },
        {
          "data": {
            "text/plain": [
              "{'rouge': {'rouge1': AggregateScore(low=Score(precision=0.4085764548117969, recall=0.09217051335154197, fmeasure=0.1448897839623271), mid=Score(precision=0.46691416592132295, recall=0.1346856479283819, fmeasure=0.19092749741701748), high=Score(precision=0.5227113929191609, recall=0.18335498949362816, fmeasure=0.24417392291854567)),\n",
              "  'rouge2': AggregateScore(low=Score(precision=0.07378749078582353, recall=0.019862255033613725, fmeasure=0.030216589670523743), mid=Score(precision=0.1241565192861693, recall=0.029366603129565398, fmeasure=0.042641450275991935), high=Score(precision=0.17737006675077563, recall=0.04004910719325335, fmeasure=0.05588984314531449)),\n",
              "  'rougeL': AggregateScore(low=Score(precision=0.2140476538033701, recall=0.05383590357501683, fmeasure=0.08535759468459861), mid=Score(precision=0.2782796951002747, recall=0.07385370559083271, fmeasure=0.10569908603798697), high=Score(precision=0.349088778867628, recall=0.09313559353500153, fmeasure=0.12639377488587802)),\n",
              "  'rougeLsum': AggregateScore(low=Score(precision=0.2541063885717719, recall=0.057616764009429784, fmeasure=0.09270628865518564), mid=Score(precision=0.30040165033178545, recall=0.08443637581661043, fmeasure=0.11992510707873644), high=Score(precision=0.36140156820303876, recall=0.11074462147619998, fmeasure=0.14793002632371963))},\n",
              " 'rouge1': 0.19092749741701748,\n",
              " 'rouge2': 0.042641450275991935,\n",
              " 'rougeL': 0.10569908603798697,\n",
              " 'rougeLsum': 0.11992510707873644}"
            ]
          },
          "metadata": {},
          "output_type": "display_data"
        },
        {
          "name": "stdout",
          "output_type": "stream",
          "text": [
            "Computing BERTscore...\n"
          ]
        },
        {
          "data": {
            "text/plain": [
              "{'bertscore_avg_p': 0.47950369119644165,\n",
              " 'bertscore_avg_r': 0.5985714197158813,\n",
              " 'bertscore_avg_f': 0.5301606059074402,\n",
              " 'bertscore_std_p': 0.05009160935878754,\n",
              " 'bertscore_std_r': 0.039970237761735916,\n",
              " 'bertscore_std_f': 0.03192624822258949}"
            ]
          },
          "metadata": {},
          "output_type": "display_data"
        }
      ],
      "source": [
        "# SMALL SUBSET DATASET - calculate rouge and bertscore for only 10 docs\n",
        "\n",
        "subset_review_ids = list(generated_biobart.keys())[:10]\n",
        "targets_subset = {docid: targets[docid] for docid in subset_review_ids}\n",
        "generated_subset = {docid: generated_biobart[docid] for docid in subset_review_ids}\n",
        "\n",
        "rouge_results = calculate_mid_rouge(targets_subset, generated_subset)\n",
        "display(rouge_results)\n",
        "\n",
        "bertscore_results = calculate_mean_bertscore(targets_subset, generated_subset, \"microsoft/deberta-xlarge-mnli\")\n",
        "display(bertscore_results)"
      ]
    },
    {
      "cell_type": "code",
      "execution_count": 32,
      "metadata": {},
      "outputs": [
        {
          "name": "stdout",
          "output_type": "stream",
          "text": [
            "Computing ROUGE scores...\n"
          ]
        },
        {
          "data": {
            "text/plain": [
              "{'rouge': {'rouge1': AggregateScore(low=Score(precision=0.4961293110596966, recall=0.09804610749650168, fmeasure=0.15496854682493477), mid=Score(precision=0.5010460912997867, recall=0.10033882683006921, fmeasure=0.15787649150257704), high=Score(precision=0.5061464436016391, recall=0.10296259138737313, fmeasure=0.16123738642284913)),\n",
              "  'rouge2': AggregateScore(low=Score(precision=0.12074097153798954, recall=0.021833711098443242, fmeasure=0.03501379734426587), mid=Score(precision=0.12477178207184145, recall=0.022547010164837327, fmeasure=0.03609727189353998), high=Score(precision=0.1284730654869281, recall=0.023239723047089753, fmeasure=0.03711046213471403)),\n",
              "  'rougeL': AggregateScore(low=Score(precision=0.3091211111639237, recall=0.05700992858853988, fmeasure=0.09137477431435435), mid=Score(precision=0.3138483862064446, recall=0.05815324451429994, fmeasure=0.09277901738343573), high=Score(precision=0.31780643509315887, recall=0.059300800373725426, fmeasure=0.09430320248381381)),\n",
              "  'rougeLsum': AggregateScore(low=Score(precision=0.34022809189644826, recall=0.06522637932743615, fmeasure=0.1037920479790383), mid=Score(precision=0.3443802745766378, recall=0.06691941306703642, fmeasure=0.10582250252061917), high=Score(precision=0.348589540310728, recall=0.06843215052089782, fmeasure=0.1077508540229986))},\n",
              " 'rouge1': 0.15787649150257704,\n",
              " 'rouge2': 0.03609727189353998,\n",
              " 'rougeL': 0.09277901738343573,\n",
              " 'rougeLsum': 0.10582250252061917}"
            ]
          },
          "metadata": {},
          "output_type": "display_data"
        },
        {
          "name": "stdout",
          "output_type": "stream",
          "text": [
            "Computing BERTscore...\n"
          ]
        },
        {
          "data": {
            "text/plain": [
              "{'bertscore_avg_p': 0.4647563397884369,\n",
              " 'bertscore_avg_r': 0.6073237061500549,\n",
              " 'bertscore_avg_f': 0.524921178817749,\n",
              " 'bertscore_std_p': 0.04064429923892021,\n",
              " 'bertscore_std_r': 0.04167566075921059,\n",
              " 'bertscore_std_f': 0.030336380004882812}"
            ]
          },
          "metadata": {},
          "output_type": "display_data"
        }
      ],
      "source": [
        "# FULL DATASET - calculate rouge and bertscore\n",
        "rouge_results = calculate_mid_rouge(targets, generated_biobart)\n",
        "display(rouge_results)\n",
        "\n",
        "bertscore_results = calculate_mean_bertscore(targets, generated_biobart, \"microsoft/deberta-xlarge-mnli\")\n",
        "display(bertscore_results)"
      ]
    },
    {
      "cell_type": "markdown",
      "metadata": {},
      "source": [
        "### LongT5"
      ]
    },
    {
      "cell_type": "code",
      "execution_count": 71,
      "metadata": {},
      "outputs": [
        {
          "data": {
            "text/html": [
              "<div>\n",
              "<style scoped>\n",
              "    .dataframe tbody tr th:only-of-type {\n",
              "        vertical-align: middle;\n",
              "    }\n",
              "\n",
              "    .dataframe tbody tr th {\n",
              "        vertical-align: top;\n",
              "    }\n",
              "\n",
              "    .dataframe thead th {\n",
              "        text-align: right;\n",
              "    }\n",
              "</style>\n",
              "<table border=\"1\" class=\"dataframe\">\n",
              "  <thead>\n",
              "    <tr style=\"text-align: right;\">\n",
              "      <th></th>\n",
              "      <th>review_id</th>\n",
              "      <th>candidate</th>\n",
              "      <th>Target</th>\n",
              "    </tr>\n",
              "  </thead>\n",
              "  <tbody>\n",
              "    <tr>\n",
              "      <th>0</th>\n",
              "      <td>28514886</td>\n",
              "      <td>In this paper, the authors present a detailed ...</td>\n",
              "      <td>Current evidence from systematic review and me...</td>\n",
              "    </tr>\n",
              "    <tr>\n",
              "      <th>1</th>\n",
              "      <td>18842808</td>\n",
              "      <td>The effects of soluble fiber Konjacglucomannaa...</td>\n",
              "      <td>The use of glucomannan did not appear to signi...</td>\n",
              "    </tr>\n",
              "    <tr>\n",
              "      <th>2</th>\n",
              "      <td>24297836</td>\n",
              "      <td>In this study, we examine the autonomic functi...</td>\n",
              "      <td>Ensuring that the characteristics of the histo...</td>\n",
              "    </tr>\n",
              "    <tr>\n",
              "      <th>3</th>\n",
              "      <td>32367221</td>\n",
              "      <td>The first four months after ACL-reconstruction...</td>\n",
              "      <td>The QT autograft detected comparable rate of L...</td>\n",
              "    </tr>\n",
              "    <tr>\n",
              "      <th>4</th>\n",
              "      <td>25038833</td>\n",
              "      <td>In this study, we examine the effects of a com...</td>\n",
              "      <td>medicines with anti-cholinergic properties hav...</td>\n",
              "    </tr>\n",
              "  </tbody>\n",
              "</table>\n",
              "</div>"
            ],
            "text/plain": [
              "  review_id                                          candidate  \\\n",
              "0  28514886  In this paper, the authors present a detailed ...   \n",
              "1  18842808  The effects of soluble fiber Konjacglucomannaa...   \n",
              "2  24297836  In this study, we examine the autonomic functi...   \n",
              "3  32367221  The first four months after ACL-reconstruction...   \n",
              "4  25038833  In this study, we examine the effects of a com...   \n",
              "\n",
              "                                              Target  \n",
              "0  Current evidence from systematic review and me...  \n",
              "1  The use of glucomannan did not appear to signi...  \n",
              "2  Ensuring that the characteristics of the histo...  \n",
              "3  The QT autograft detected comparable rate of L...  \n",
              "4  medicines with anti-cholinergic properties hav...  "
            ]
          },
          "metadata": {},
          "output_type": "display_data"
        }
      ],
      "source": [
        "# Do the same for LongT5\n",
        "df_longt5 = pd.read_csv(\"pretrained_no_finetune/longt5_validation_output.csv\")\n",
        "# rename columns\n",
        "df_longt5.rename(columns={\"ReviewID\": \"review_id\", \"Candidate_Summary\": \"candidate\"}, inplace=True)\n",
        "df_longt5['review_id'] = df_longt5['review_id'].astype(str)\n",
        "display(df_longt5.head())\n",
        "\n",
        "# organize into dicts for rouge and bertscore\n",
        "generated_longt5 = {row['review_id']: row['candidate'] for _, row in df_longt5.iterrows()}\n",
        "\n",
        "# check to see if all docids are present and unique\n",
        "assert set(generated_longt5.keys()) == set(targets.keys())\n",
        "assert len(generated_longt5) == len(targets)"
      ]
    },
    {
      "cell_type": "code",
      "execution_count": 15,
      "metadata": {},
      "outputs": [
        {
          "data": {
            "text/plain": [
              "<Axes: >"
            ]
          },
          "execution_count": 15,
          "metadata": {},
          "output_type": "execute_result"
        },
        {
          "data": {
            "image/png": "[encoded data removed]",
            "text/plain": [
              "<Figure size 640x480 with 1 Axes>"
            ]
          },
          "metadata": {},
          "output_type": "display_data"
        }
      ],
      "source": [
        "df_longt5.candidate.str.len().hist()"
      ]
    },
    {
      "cell_type": "code",
      "execution_count": 21,
      "metadata": {},
      "outputs": [
        {
          "name": "stdout",
          "output_type": "stream",
          "text": [
            "Computing ROUGE scores...\n"
          ]
        },
        {
          "data": {
            "text/plain": [
              "{'rouge': {'rouge1': AggregateScore(low=Score(precision=0.3689880935169033, recall=0.1373716882683111, fmeasure=0.18146408062581565), mid=Score(precision=0.37411828801996916, recall=0.1409145648626524, fmeasure=0.18470632255173647), high=Score(precision=0.3794242086017666, recall=0.14449596274682863, fmeasure=0.1879584466757623)),\n",
              "  'rouge2': AggregateScore(low=Score(precision=0.04557487872639194, recall=0.01590814686224898, fmeasure=0.021231856485365564), mid=Score(precision=0.04793996144557606, recall=0.016668281522408682, fmeasure=0.0221177594000776), high=Score(precision=0.050202056518269936, recall=0.017373962287074943, fmeasure=0.022961333533190822)),\n",
              "  'rougeL': AggregateScore(low=Score(precision=0.21965267778396885, recall=0.07783630907778631, fmeasure=0.10407646651699773), mid=Score(precision=0.22360079833164628, recall=0.07955625729090238, fmeasure=0.105555116591603), high=Score(precision=0.22757073587894702, recall=0.08141784681695725, fmeasure=0.10705688532393431)),\n",
              "  'rougeLsum': AggregateScore(low=Score(precision=0.2441192413906547, recall=0.08978796439477985, fmeasure=0.11882565080150424), mid=Score(precision=0.2478403228735478, recall=0.09202858211867199, fmeasure=0.12067120374709103), high=Score(precision=0.25174149547059227, recall=0.09415420511489385, fmeasure=0.12253281134260406))},\n",
              " 'rouge1': 0.18470632255173647,\n",
              " 'rouge2': 0.0221177594000776,\n",
              " 'rougeL': 0.105555116591603,\n",
              " 'rougeLsum': 0.12067120374709103}"
            ]
          },
          "metadata": {},
          "output_type": "display_data"
        },
        {
          "name": "stdout",
          "output_type": "stream",
          "text": [
            "Computing BERTscore...\n"
          ]
        },
        {
          "data": {
            "text/plain": [
              "{'bertscore_avg_p': 0.511027991771698,\n",
              " 'bertscore_avg_r': 0.5844007730484009,\n",
              " 'bertscore_avg_f': 0.5434643030166626,\n",
              " 'bertscore_std_p': 0.04310934618115425,\n",
              " 'bertscore_std_r': 0.048223260790109634,\n",
              " 'bertscore_std_f': 0.033570773899555206}"
            ]
          },
          "metadata": {},
          "output_type": "display_data"
        }
      ],
      "source": [
        "# FULL DATASET - calculate rouge and bertscore\n",
        "rouge_results = calculate_mid_rouge(targets, generated_longt5)\n",
        "display(rouge_results)\n",
        "\n",
        "bertscore_results = calculate_mean_bertscore(targets, generated_longt5, \"microsoft/deberta-xlarge-mnli\")\n",
        "display(bertscore_results)"
      ]
    },
    {
      "cell_type": "code",
      "execution_count": 80,
      "metadata": {},
      "outputs": [
        {
          "data": {
            "text/html": [
              "<div>\n",
              "<style scoped>\n",
              "    .dataframe tbody tr th:only-of-type {\n",
              "        vertical-align: middle;\n",
              "    }\n",
              "\n",
              "    .dataframe tbody tr th {\n",
              "        vertical-align: top;\n",
              "    }\n",
              "\n",
              "    .dataframe thead th {\n",
              "        text-align: right;\n",
              "    }\n",
              "</style>\n",
              "<table border=\"1\" class=\"dataframe\">\n",
              "  <thead>\n",
              "    <tr style=\"text-align: right;\">\n",
              "      <th></th>\n",
              "      <th>review_id</th>\n",
              "      <th>candidate</th>\n",
              "    </tr>\n",
              "  </thead>\n",
              "  <tbody>\n",
              "    <tr>\n",
              "      <th>0</th>\n",
              "      <td>28514886</td>\n",
              "      <td>The 5′ nuclease assays were subsequently used ...</td>\n",
              "    </tr>\n",
              "    <tr>\n",
              "      <th>1</th>\n",
              "      <td>18842808</td>\n",
              "      <td>GM fibers reduced total cholesterol ( TC ) con...</td>\n",
              "    </tr>\n",
              "    <tr>\n",
              "      <th>2</th>\n",
              "      <td>24297836</td>\n",
              "      <td>The purpose of this study was 1 ) to evaluate ...</td>\n",
              "    </tr>\n",
              "    <tr>\n",
              "      <th>3</th>\n",
              "      <td>32367221</td>\n",
              "      <td>Pain on kneeling, KT-1000 measured side to sid...</td>\n",
              "    </tr>\n",
              "    <tr>\n",
              "      <th>4</th>\n",
              "      <td>25038833</td>\n",
              "      <td>RESULTS Results of the Name-Face Association T...</td>\n",
              "    </tr>\n",
              "  </tbody>\n",
              "</table>\n",
              "</div>"
            ],
            "text/plain": [
              "  review_id                                          candidate\n",
              "0  28514886  The 5′ nuclease assays were subsequently used ...\n",
              "1  18842808  GM fibers reduced total cholesterol ( TC ) con...\n",
              "2  24297836  The purpose of this study was 1 ) to evaluate ...\n",
              "3  32367221  Pain on kneeling, KT-1000 measured side to sid...\n",
              "4  25038833  RESULTS Results of the Name-Face Association T..."
            ]
          },
          "metadata": {},
          "output_type": "display_data"
        }
      ],
      "source": [
        "# Do the same for Pegasus\n",
        "\n",
        "df_pegasus = pd.read_csv(\"PEGASUS_LARGE/val-prediction.csv\", index_col=0).reset_index(drop=True)\n",
        "df_pegasus.rename(columns={\"Summary\": \"candidate\"}, inplace=True)\n",
        "df_pegasus['review_id'] = df_pegasus['review_id'].astype(str)\n",
        "display(df_pegasus.head())\n",
        "\n",
        "# organize into dicts for rouge and bertscore\n",
        "generated_pegasus = {row['review_id']: row['candidate'] for _, row in df_pegasus.iterrows()}\n",
        "# check to see if all docids are present and unique\n",
        "assert set(generated_pegasus.keys()) == set(targets.keys())\n",
        "assert len(generated_pegasus) == len(targets)"
      ]
    },
    {
      "cell_type": "code",
      "execution_count": 30,
      "metadata": {},
      "outputs": [
        {
          "data": {
            "text/plain": [
              "<Axes: >"
            ]
          },
          "execution_count": 30,
          "metadata": {},
          "output_type": "execute_result"
        },
        {
          "data": {
            "image/png": "[encoded data removed]",
            "text/plain": [
              "<Figure size 640x480 with 1 Axes>"
            ]
          },
          "metadata": {},
          "output_type": "display_data"
        }
      ],
      "source": [
        "df_pegasus.candidate.str.len().hist()"
      ]
    },
    {
      "cell_type": "code",
      "execution_count": 31,
      "metadata": {},
      "outputs": [
        {
          "name": "stdout",
          "output_type": "stream",
          "text": [
            "Computing ROUGE scores...\n"
          ]
        },
        {
          "data": {
            "text/plain": [
              "{'rouge': {'rouge1': AggregateScore(low=Score(precision=0.23188510954639052, recall=0.16099073832364824, fmeasure=0.17069165533548553), mid=Score(precision=0.23636549568618445, recall=0.16508845641785155, fmeasure=0.17369981891498523), high=Score(precision=0.2410069773924332, recall=0.16849743182924395, fmeasure=0.17653612736981214)),\n",
              "  'rouge2': AggregateScore(low=Score(precision=0.025609972888597017, recall=0.016841790228365836, fmeasure=0.018114094286240737), mid=Score(precision=0.027286249022990428, recall=0.01787230488805157, fmeasure=0.01910065539440901), high=Score(precision=0.028971208429477726, recall=0.01883083674581007, fmeasure=0.020115374285278053)),\n",
              "  'rougeL': AggregateScore(low=Score(precision=0.14984277944496277, recall=0.10096691095688277, fmeasure=0.10783642394171626), mid=Score(precision=0.1529523009446699, recall=0.10302738727799489, fmeasure=0.10937489929608912), high=Score(precision=0.15617329592365214, recall=0.10519244319098883, fmeasure=0.11108952315261846)),\n",
              "  'rougeLsum': AggregateScore(low=Score(precision=0.16282568580513515, recall=0.11368947175779581, fmeasure=0.11980467336529034), mid=Score(precision=0.1662381470581819, recall=0.116408103310772, fmeasure=0.12170440561740219), high=Score(precision=0.1695010123743512, recall=0.1192908546567098, fmeasure=0.12380964331683568))},\n",
              " 'rouge1': 0.17369981891498523,\n",
              " 'rouge2': 0.01910065539440901,\n",
              " 'rougeL': 0.10937489929608912,\n",
              " 'rougeLsum': 0.12170440561740219}"
            ]
          },
          "metadata": {},
          "output_type": "display_data"
        },
        {
          "name": "stdout",
          "output_type": "stream",
          "text": [
            "Computing BERTscore...\n"
          ]
        },
        {
          "data": {
            "text/plain": [
              "{'bertscore_avg_p': 0.4978368282318115,\n",
              " 'bertscore_avg_r': 0.5536131858825684,\n",
              " 'bertscore_avg_f': 0.5221330523490906,\n",
              " 'bertscore_std_p': 0.05015239864587784,\n",
              " 'bertscore_std_r': 0.057531993836164474,\n",
              " 'bertscore_std_f': 0.042330335825681686}"
            ]
          },
          "metadata": {},
          "output_type": "display_data"
        }
      ],
      "source": [
        "# FULL DATASET - calculate rouge and bertscore\n",
        "rouge_results = calculate_mid_rouge(targets, generated_pegasus)\n",
        "display(rouge_results)\n",
        "\n",
        "bertscore_results = calculate_mean_bertscore(targets, generated_pegasus, \"microsoft/deberta-xlarge-mnli\")\n",
        "display(bertscore_results)"
      ]
    },
    {
      "cell_type": "markdown",
      "metadata": {},
      "source": [
        "## Delta Evidence Inference"
      ]
    },
    {
      "cell_type": "code",
      "execution_count": 10,
      "metadata": {},
      "outputs": [],
      "source": [
        "# Run this once to get EI model params\n",
        "!cd evaluator/ && wget https://ai2-s2-ms2.s3-us-west-2.amazonaws.com/evidence_inference_models.zip  # For Linux\n",
        "# !cd evaluator/ && curl -O https://ai2-s2-ms2.s3-us-west-2.amazonaws.com/evidence_inference_models.zip  # For MacOS if there's no wget\n",
        "!cd evaluator/ && unzip -q evidence_inference_models.zip"
      ]
    },
    {
      "cell_type": "code",
      "execution_count": 75,
      "metadata": {},
      "outputs": [],
      "source": [
        "# Delta Evidence Inference\n",
        "# From MSLR repo\n",
        "import os\n",
        "import json\n",
        "import torch\n",
        "from typing import Dict\n",
        "from importlib import reload\n",
        "import random\n",
        "\n",
        "from evaluator import evaluator\n",
        "\n",
        "\n",
        "# device = torch.device('cuda') if torch.cuda.is_available() else torch.device('cpu')\n",
        "# also consider mps\n",
        "if torch.cuda.is_available():\n",
        "    device = torch.device('cuda')\n",
        "    torch.cuda.set_device(0)\n",
        "elif torch.backends.mps.is_available():\n",
        "    device = torch.device(\"mps\")\n",
        "else:\n",
        "    device = torch.device('cpu')\n",
        "\n",
        "\n",
        "def calculate_evidence_inference_divergence(\n",
        "        targets: Dict[str, Dict],\n",
        "        generated: Dict[str, str],\n",
        "        ei_param_file: str,\n",
        "        ei_model_dir: str,\n",
        "        ei_use_unconditional: bool = False\n",
        ") -> Dict:\n",
        "    \"\"\"\n",
        "    Calculate Evidence Inference Divergence\n",
        "    :param targets: dict of docid -> {'target': target_text , 'preface': preface_text}\n",
        "    :param generated: dict of docid -> generated_text\n",
        "    :param ei_param_file: path to json file containing EI model parameters\n",
        "    :param ei_model_dir:\n",
        "    :param ei_use_unconditional:\n",
        "    :return:\n",
        "    \"\"\"\n",
        "    print(\"Computing Delta Evidence Inference scores...\")\n",
        "    docids = list(targets.keys())\n",
        "    target_texts = [targets[docid]['target'] for docid in docids]\n",
        "    preface_texts = [targets[docid]['preface'] for docid in docids]\n",
        "    generated_texts = [generated.get(docid, '') for docid in docids]\n",
        "\n",
        "    generated_texts = list(map(evaluator.clean, generated_texts))\n",
        "    target_texts = list(map(evaluator.clean, target_texts))\n",
        "\n",
        "    # evidence inference scoring\n",
        "    with open(ei_param_file, 'r') as inf:\n",
        "        params = json.loads(inf.read())\n",
        "    _, evidence_inference_classifier, _, _, _, evidence_inference_tokenizer = evaluator.initialize_models(params)\n",
        "    if ei_use_unconditional:\n",
        "        classifier_file = os.path.join(\n",
        "            ei_model_dir,\n",
        "            'unconditioned_evidence_classifier',\n",
        "            'unconditioned_evidence_classifier.pt'\n",
        "        )\n",
        "    else:\n",
        "        classifier_file = os.path.join(\n",
        "            ei_model_dir, 'evidence_classifier', 'evidence_classifier.pt'\n",
        "        )\n",
        "\n",
        "    # pooler parameters are added by default in an older transformers, so we have to ignore that those are uninitialized.\n",
        "    evidence_inference_classifier.load_state_dict(\n",
        "        torch.load(classifier_file, map_location=device), strict=False\n",
        "    )\n",
        "    if torch.cuda.is_available():\n",
        "        evidence_inference_classifier.cuda()\n",
        "    elif torch.backends.mps.is_available():\n",
        "        evidence_inference_classifier.to(device)\n",
        "\n",
        "    entailment_results = evaluator.entailment_scores(\n",
        "        evidence_inference_classifier, evidence_inference_tokenizer,\n",
        "        generated_texts, target_texts, preface_texts,\n",
        "        use_ios=ei_use_unconditional\n",
        "    )\n",
        "\n",
        "    return entailment_results"
      ]
    },
    {
      "cell_type": "code",
      "execution_count": 77,
      "metadata": {},
      "outputs": [
        {
          "name": "stdout",
          "output_type": "stream",
          "text": [
            "Computing Delta Evidence Inference scores...\n"
          ]
        },
        {
          "name": "stderr",
          "output_type": "stream",
          "text": [
            "Some weights of RobertaForSequenceClassification were not initialized from the model checkpoint at allenai/biomed_roberta_base and are newly initialized: ['classifier.dense.weight', 'classifier.dense.bias', 'classifier.out_proj.bias', 'classifier.out_proj.weight']\n",
            "You should probably TRAIN this model on a down-stream task to be able to use it for predictions and inference.\n",
            "Some weights of RobertaForSequenceClassification were not initialized from the model checkpoint at allenai/biomed_roberta_base and are newly initialized: ['classifier.dense.weight', 'classifier.dense.bias', 'classifier.out_proj.bias', 'classifier.out_proj.weight']\n",
            "You should probably TRAIN this model on a down-stream task to be able to use it for predictions and inference.\n"
          ]
        },
        {
          "data": {
            "text/plain": [
              "'average'"
            ]
          },
          "metadata": {},
          "output_type": "display_data"
        },
        {
          "data": {
            "text/plain": [
              "0.19373307094613526"
            ]
          },
          "metadata": {},
          "output_type": "display_data"
        },
        {
          "data": {
            "text/plain": [
              "'std'"
            ]
          },
          "metadata": {},
          "output_type": "display_data"
        },
        {
          "data": {
            "text/plain": [
              "0.30078610414331475"
            ]
          },
          "metadata": {},
          "output_type": "display_data"
        },
        {
          "data": {
            "text/plain": [
              "'uniform_preds'"
            ]
          },
          "metadata": {},
          "output_type": "display_data"
        },
        {
          "data": {
            "text/plain": [
              "0.46051702656047766"
            ]
          },
          "metadata": {},
          "output_type": "display_data"
        },
        {
          "data": {
            "text/plain": [
              "'f1_score'"
            ]
          },
          "metadata": {},
          "output_type": "display_data"
        },
        {
          "data": {
            "text/plain": [
              "{'significantly decreased': {'precision': 0.0,\n",
              "  'recall': 0.0,\n",
              "  'f1-score': 0.0,\n",
              "  'support': 0.0},\n",
              " 'no significant difference': {'precision': 0.8888888888888888,\n",
              "  'recall': 1.0,\n",
              "  'f1-score': 0.9411764705882353,\n",
              "  'support': 8.0},\n",
              " 'significantly increased': {'precision': 1.0,\n",
              "  'recall': 0.5,\n",
              "  'f1-score': 0.6666666666666666,\n",
              "  'support': 2.0},\n",
              " 'micro avg': {'precision': 0.9,\n",
              "  'recall': 0.9,\n",
              "  'f1-score': 0.9,\n",
              "  'support': 10.0},\n",
              " 'macro avg': {'precision': 0.6296296296296297,\n",
              "  'recall': 0.5,\n",
              "  'f1-score': 0.5359477124183006,\n",
              "  'support': 10.0},\n",
              " 'weighted avg': {'precision': 0.9111111111111111,\n",
              "  'recall': 0.9,\n",
              "  'f1-score': 0.8862745098039216,\n",
              "  'support': 10.0}}"
            ]
          },
          "metadata": {},
          "output_type": "display_data"
        },
        {
          "data": {
            "text/html": [
              "<div>\n",
              "<style scoped>\n",
              "    .dataframe tbody tr th:only-of-type {\n",
              "        vertical-align: middle;\n",
              "    }\n",
              "\n",
              "    .dataframe tbody tr th {\n",
              "        vertical-align: top;\n",
              "    }\n",
              "\n",
              "    .dataframe thead th {\n",
              "        text-align: right;\n",
              "    }\n",
              "</style>\n",
              "<table border=\"1\" class=\"dataframe\">\n",
              "  <thead>\n",
              "    <tr style=\"text-align: right;\">\n",
              "      <th></th>\n",
              "      <th>docid</th>\n",
              "      <th>target</th>\n",
              "      <th>generated</th>\n",
              "      <th>score</th>\n",
              "    </tr>\n",
              "  </thead>\n",
              "  <tbody>\n",
              "    <tr>\n",
              "      <th>0</th>\n",
              "      <td>0</td>\n",
              "      <td>no significant results are found</td>\n",
              "      <td>no significant results are found</td>\n",
              "      <td>0.000000</td>\n",
              "    </tr>\n",
              "    <tr>\n",
              "      <th>1</th>\n",
              "      <td>1</td>\n",
              "      <td>treatment is definitely not helpful</td>\n",
              "      <td>no significant results are found</td>\n",
              "      <td>0.315579</td>\n",
              "    </tr>\n",
              "    <tr>\n",
              "      <th>2</th>\n",
              "      <td>2</td>\n",
              "      <td>treatment is definitely not helpful</td>\n",
              "      <td>treatment is definitely not helpful</td>\n",
              "      <td>0.000000</td>\n",
              "    </tr>\n",
              "    <tr>\n",
              "      <th>3</th>\n",
              "      <td>3</td>\n",
              "      <td>treatment is definitely not helpful</td>\n",
              "      <td>no significant results are found</td>\n",
              "      <td>0.315579</td>\n",
              "    </tr>\n",
              "    <tr>\n",
              "      <th>4</th>\n",
              "      <td>4</td>\n",
              "      <td>no significant results are found</td>\n",
              "      <td>no significant results are found</td>\n",
              "      <td>0.000000</td>\n",
              "    </tr>\n",
              "    <tr>\n",
              "      <th>5</th>\n",
              "      <td>5</td>\n",
              "      <td>significant improvements are found</td>\n",
              "      <td>significant improvements are found</td>\n",
              "      <td>0.000000</td>\n",
              "    </tr>\n",
              "    <tr>\n",
              "      <th>6</th>\n",
              "      <td>6</td>\n",
              "      <td>treatment is definitely not helpful</td>\n",
              "      <td>no significant results are found</td>\n",
              "      <td>0.315579</td>\n",
              "    </tr>\n",
              "    <tr>\n",
              "      <th>7</th>\n",
              "      <td>7</td>\n",
              "      <td>significant improvements are found</td>\n",
              "      <td>no significant results are found</td>\n",
              "      <td>0.990595</td>\n",
              "    </tr>\n",
              "    <tr>\n",
              "      <th>8</th>\n",
              "      <td>8</td>\n",
              "      <td>treatment is definitely not helpful</td>\n",
              "      <td>treatment is definitely not helpful</td>\n",
              "      <td>0.000000</td>\n",
              "    </tr>\n",
              "    <tr>\n",
              "      <th>9</th>\n",
              "      <td>9</td>\n",
              "      <td>treatment is definitely not helpful</td>\n",
              "      <td>treatment is definitely not helpful</td>\n",
              "      <td>0.000000</td>\n",
              "    </tr>\n",
              "  </tbody>\n",
              "</table>\n",
              "</div>"
            ],
            "text/plain": [
              "   docid                               target  \\\n",
              "0      0     no significant results are found   \n",
              "1      1  treatment is definitely not helpful   \n",
              "2      2  treatment is definitely not helpful   \n",
              "3      3  treatment is definitely not helpful   \n",
              "4      4     no significant results are found   \n",
              "5      5   significant improvements are found   \n",
              "6      6  treatment is definitely not helpful   \n",
              "7      7   significant improvements are found   \n",
              "8      8  treatment is definitely not helpful   \n",
              "9      9  treatment is definitely not helpful   \n",
              "\n",
              "                             generated     score  \n",
              "0     no significant results are found  0.000000  \n",
              "1     no significant results are found  0.315579  \n",
              "2  treatment is definitely not helpful  0.000000  \n",
              "3     no significant results are found  0.315579  \n",
              "4     no significant results are found  0.000000  \n",
              "5   significant improvements are found  0.000000  \n",
              "6     no significant results are found  0.315579  \n",
              "7     no significant results are found  0.990595  \n",
              "8  treatment is definitely not helpful  0.000000  \n",
              "9  treatment is definitely not helpful  0.000000  "
            ]
          },
          "metadata": {},
          "output_type": "display_data"
        }
      ],
      "source": [
        "# Test usage on toy examples\n",
        "reload(evaluator)\n",
        "\n",
        "some_targets = [\"significant improvements are found\", \"treatment is definitely not helpful\", \"no significant results are found\"]\n",
        "a_generic_preface = \"studying this is important\"\n",
        "\n",
        "# modify targets_toy to include preface (key \"background\", value \"this is a test\")\n",
        "num_examples = 10\n",
        "\n",
        "targets_toy_2 = {\n",
        "    doc_key: {\n",
        "        \"target\": random.choice(some_targets),\n",
        "        \"preface\": a_generic_preface,\n",
        "    } for doc_key in range(num_examples)\n",
        "}\n",
        "generated_toy_2 = {\n",
        "    doc_key: random.choice(some_targets) for doc_key in range(num_examples)\n",
        "}\n",
        "\n",
        "# test usage\n",
        "results_toy = calculate_evidence_inference_divergence(\n",
        "    targets_toy_2,\n",
        "    generated_toy_2,\n",
        "    \"evaluator/bert_pipeline_8samples.json\",\n",
        "    \"evaluator/evidence_inference_models\",\n",
        ")\n",
        "# print everything except the raw scores\n",
        "for key, val in results_toy.items():\n",
        "    if key != \"scores\":\n",
        "        display(key, val)\n",
        "\n",
        "# Compare scores and target-generated pairs in a dataframe\n",
        "df_toy = pd.DataFrame({\n",
        "    \"docid\": list(targets_toy_2.keys()),\n",
        "    \"target\": [targets_toy_2[docid][\"target\"] for docid in targets_toy_2.keys()],\n",
        "    \"generated\": [generated_toy_2[docid] for docid in generated_toy_2.keys()],\n",
        "    \"score\": list(results_toy[\"scores\"]),\n",
        "})\n",
        "display(df_toy)"
      ]
    },
    {
      "cell_type": "code",
      "execution_count": 78,
      "metadata": {},
      "outputs": [
        {
          "name": "stdout",
          "output_type": "stream",
          "text": [
            "Computing Delta Evidence Inference scores...\n"
          ]
        },
        {
          "name": "stderr",
          "output_type": "stream",
          "text": [
            "Some weights of RobertaForSequenceClassification were not initialized from the model checkpoint at allenai/biomed_roberta_base and are newly initialized: ['classifier.dense.weight', 'classifier.dense.bias', 'classifier.out_proj.bias', 'classifier.out_proj.weight']\n",
            "You should probably TRAIN this model on a down-stream task to be able to use it for predictions and inference.\n",
            "Some weights of RobertaForSequenceClassification were not initialized from the model checkpoint at allenai/biomed_roberta_base and are newly initialized: ['classifier.dense.weight', 'classifier.dense.bias', 'classifier.out_proj.bias', 'classifier.out_proj.weight']\n",
            "You should probably TRAIN this model on a down-stream task to be able to use it for predictions and inference.\n",
            "Token indices sequence length is longer than the specified maximum sequence length for this model (590 > 512). Running this sequence through the model will result in indexing errors\n"
          ]
        },
        {
          "data": {
            "text/plain": [
              "'average'"
            ]
          },
          "metadata": {},
          "output_type": "display_data"
        },
        {
          "data": {
            "text/plain": [
              "0.5432441385412898"
            ]
          },
          "metadata": {},
          "output_type": "display_data"
        },
        {
          "data": {
            "text/plain": [
              "'std'"
            ]
          },
          "metadata": {},
          "output_type": "display_data"
        },
        {
          "data": {
            "text/plain": [
              "0.39463136145671507"
            ]
          },
          "metadata": {},
          "output_type": "display_data"
        },
        {
          "data": {
            "text/plain": [
              "'uniform_preds'"
            ]
          },
          "metadata": {},
          "output_type": "display_data"
        },
        {
          "data": {
            "text/plain": [
              "0.5406478590360975"
            ]
          },
          "metadata": {},
          "output_type": "display_data"
        },
        {
          "data": {
            "text/plain": [
              "'f1_score'"
            ]
          },
          "metadata": {},
          "output_type": "display_data"
        },
        {
          "data": {
            "text/plain": [
              "{'significantly decreased': {'precision': 0.09401709401709402,\n",
              "  'recall': 0.1981981981981982,\n",
              "  'f1-score': 0.127536231884058,\n",
              "  'support': 111.0},\n",
              " 'no significant difference': {'precision': 0.639599555061179,\n",
              "  'recall': 0.47364085667215816,\n",
              "  'f1-score': 0.5442498816848084,\n",
              "  'support': 1214.0},\n",
              " 'significantly increased': {'precision': 0.375,\n",
              "  'recall': 0.47844827586206895,\n",
              "  'f1-score': 0.42045454545454547,\n",
              "  'support': 696.0},\n",
              " 'accuracy': 0.46016823354774866,\n",
              " 'macro avg': {'precision': 0.369538883026091,\n",
              "  'recall': 0.3834291102441418,\n",
              "  'f1-score': 0.3640802196744706,\n",
              "  'support': 2021.0},\n",
              " 'weighted avg': {'precision': 0.518510518198995,\n",
              "  'recall': 0.46016823354774866,\n",
              "  'f1-score': 0.4787294615244193,\n",
              "  'support': 2021.0}}"
            ]
          },
          "metadata": {},
          "output_type": "display_data"
        },
        {
          "data": {
            "text/html": [
              "<div>\n",
              "<style scoped>\n",
              "    .dataframe tbody tr th:only-of-type {\n",
              "        vertical-align: middle;\n",
              "    }\n",
              "\n",
              "    .dataframe tbody tr th {\n",
              "        vertical-align: top;\n",
              "    }\n",
              "\n",
              "    .dataframe thead th {\n",
              "        text-align: right;\n",
              "    }\n",
              "</style>\n",
              "<table border=\"1\" class=\"dataframe\">\n",
              "  <thead>\n",
              "    <tr style=\"text-align: right;\">\n",
              "      <th></th>\n",
              "      <th>docid</th>\n",
              "      <th>target</th>\n",
              "      <th>generated</th>\n",
              "      <th>score</th>\n",
              "    </tr>\n",
              "  </thead>\n",
              "  <tbody>\n",
              "    <tr>\n",
              "      <th>1376</th>\n",
              "      <td>28668150</td>\n",
              "      <td>( S ) Few studies of medical therapies for end...</td>\n",
              "      <td>In this study, the effects of continuous or cy...</td>\n",
              "      <td>0.019503</td>\n",
              "    </tr>\n",
              "    <tr>\n",
              "      <th>15</th>\n",
              "      <td>28616252</td>\n",
              "      <td>Our case study successfully enabled us to addr...</td>\n",
              "      <td>This paper focuses on pilot studies, or \"feasi...</td>\n",
              "      <td>0.504117</td>\n",
              "    </tr>\n",
              "    <tr>\n",
              "      <th>329</th>\n",
              "      <td>30921478</td>\n",
              "      <td>Two primary outcomes of efficacy and acceptabi...</td>\n",
              "      <td>A double blind trial of a combination of alpra...</td>\n",
              "      <td>0.006196</td>\n",
              "    </tr>\n",
              "    <tr>\n",
              "      <th>76</th>\n",
              "      <td>10796152</td>\n",
              "      <td>REVIEW ER 'S CONCLUSIONS Iodine supplementatio...</td>\n",
              "      <td>In this study, the effects of reduced maternal...</td>\n",
              "      <td>0.485056</td>\n",
              "    </tr>\n",
              "    <tr>\n",
              "      <th>77</th>\n",
              "      <td>26897342</td>\n",
              "      <td>Among children , these interventions demonstra...</td>\n",
              "      <td>The Switch program is a novel, evidence-based ...</td>\n",
              "      <td>0.983839</td>\n",
              "    </tr>\n",
              "    <tr>\n",
              "      <th>727</th>\n",
              "      <td>28898559</td>\n",
              "      <td>Physical activity did not change at 6 months ,...</td>\n",
              "      <td>In this study, we examine the efficacy of a lo...</td>\n",
              "      <td>0.846085</td>\n",
              "    </tr>\n",
              "    <tr>\n",
              "      <th>515</th>\n",
              "      <td>29279934</td>\n",
              "      <td>Subgroup analyses showed that these results we...</td>\n",
              "      <td>This study focuses on the effects of four-mont...</td>\n",
              "      <td>0.110708</td>\n",
              "    </tr>\n",
              "    <tr>\n",
              "      <th>979</th>\n",
              "      <td>30985692</td>\n",
              "      <td>Results : This systematic review will provide ...</td>\n",
              "      <td>In this study, the combined efficaciousness of...</td>\n",
              "      <td>0.452037</td>\n",
              "    </tr>\n",
              "    <tr>\n",
              "      <th>1760</th>\n",
              "      <td>26081915</td>\n",
              "      <td>The findings support the effects of BAs on sat...</td>\n",
              "      <td>Gastric bypass is an effective treatment for T...</td>\n",
              "      <td>0.983107</td>\n",
              "    </tr>\n",
              "    <tr>\n",
              "      <th>1549</th>\n",
              "      <td>25978537</td>\n",
              "      <td>Reflecting public health interest in the poten...</td>\n",
              "      <td>In this study, we examine the effects of a six...</td>\n",
              "      <td>0.088469</td>\n",
              "    </tr>\n",
              "  </tbody>\n",
              "</table>\n",
              "</div>"
            ],
            "text/plain": [
              "         docid                                             target  \\\n",
              "1376  28668150  ( S ) Few studies of medical therapies for end...   \n",
              "15    28616252  Our case study successfully enabled us to addr...   \n",
              "329   30921478  Two primary outcomes of efficacy and acceptabi...   \n",
              "76    10796152  REVIEW ER 'S CONCLUSIONS Iodine supplementatio...   \n",
              "77    26897342  Among children , these interventions demonstra...   \n",
              "727   28898559  Physical activity did not change at 6 months ,...   \n",
              "515   29279934  Subgroup analyses showed that these results we...   \n",
              "979   30985692  Results : This systematic review will provide ...   \n",
              "1760  26081915  The findings support the effects of BAs on sat...   \n",
              "1549  25978537  Reflecting public health interest in the poten...   \n",
              "\n",
              "                                              generated     score  \n",
              "1376  In this study, the effects of continuous or cy...  0.019503  \n",
              "15    This paper focuses on pilot studies, or \"feasi...  0.504117  \n",
              "329   A double blind trial of a combination of alpra...  0.006196  \n",
              "76    In this study, the effects of reduced maternal...  0.485056  \n",
              "77    The Switch program is a novel, evidence-based ...  0.983839  \n",
              "727   In this study, we examine the efficacy of a lo...  0.846085  \n",
              "515   This study focuses on the effects of four-mont...  0.110708  \n",
              "979   In this study, the combined efficaciousness of...  0.452037  \n",
              "1760  Gastric bypass is an effective treatment for T...  0.983107  \n",
              "1549  In this study, we examine the effects of a six...  0.088469  "
            ]
          },
          "metadata": {},
          "output_type": "display_data"
        }
      ],
      "source": [
        "# Test on X sample docs\n",
        "generated_candidates_to_use = generated_longt5\n",
        "# num_examples = 100\n",
        "num_examples = len(generated_candidates_to_use)  # to get all examples\n",
        "\n",
        "targets_x_sample = {\n",
        "    doc_key: {\n",
        "        \"target\": targets[doc_key][\"target\"],\n",
        "        \"preface\": targets[doc_key][\"background\"],\n",
        "    } for doc_key in list(targets.keys())[:num_examples]\n",
        "}\n",
        "generated_x_sample = {\n",
        "    doc_key: generated_candidates_to_use[doc_key] for doc_key in targets_x_sample.keys()\n",
        "}\n",
        "results_x_sample = calculate_evidence_inference_divergence(\n",
        "    targets_x_sample,\n",
        "    generated_x_sample,\n",
        "    \"evaluator/bert_pipeline_8samples.json\",\n",
        "    \"evaluator/evidence_inference_models\",\n",
        ")\n",
        "\n",
        "# print everything except the raw scores\n",
        "for key, val in results_x_sample.items():\n",
        "    if key != \"scores\":\n",
        "        display(key, val)\n",
        "\n",
        "# Compare scores and target-generated pairs in a dataframe\n",
        "df_x_sample = pd.DataFrame({\n",
        "    \"docid\": list(targets_x_sample.keys()),\n",
        "    \"target\": [targets_x_sample[docid][\"target\"] for docid in targets_x_sample.keys()],\n",
        "    \"generated\": [generated_x_sample[docid] for docid in generated_x_sample.keys()],\n",
        "    \"score\": list(results_x_sample[\"scores\"]),\n",
        "})\n",
        "display(df_x_sample.sample(10))\n",
        "\n",
        "# save results to csv\n",
        "df_x_sample.to_csv(\"evaluator/evidence_inference_results_longt5.csv\", index=False)"
      ]
    },
    {
      "cell_type": "code",
      "execution_count": 74,
      "metadata": {},
      "outputs": [
        {
          "name": "stdout",
          "output_type": "stream",
          "text": [
            "Highest score: (higher is bad)\n",
            "[{'docid': '25076495',\n",
            "  'generated': \"The Nurses' Health Study, a large cohort study of women aged \"\n",
            "               '52-77 years, records the consumption of walnuts in relation to '\n",
            "               'risk of type two diabetes. In this paper, we report that there '\n",
            "               'is a significant lower risk of Type 2 disease in women who '\n",
            "               'consume more than 1 serving per day. Women who do not '\n",
            "               'frequently consume walnuts are also associated with an '\n",
            "               'increased risk of developing type 2 disease. We conclude that '\n",
            "               'higher nuts have a protective effect on both blood lipid and '\n",
            "               'body weight because they improve insulin sensitivity. A diet '\n",
            "               'rich in fat but low in carbohydrates has been shown to be '\n",
            "               'effective in improving many modifiably important '\n",
            "               'cardiovascular risk factors. Almond was found to be superior '\n",
            "               'to other dietary approaches in improving fasting blood '\n",
            "               'glucose, Hb1c, and trigglyceride levels. This suggests that '\n",
            "               'almonds may be beneficial for patients with Type 2 Diabetes.',\n",
            "  'score': 0.9970147662947663,\n",
            "  'target': 'No significant treatment effects were observed for fasting '\n",
            "            'insulin and HOMA-IR , however the direction of effect favoured '\n",
            "            'tree nuts .\\n'\n",
            "            'Pooled analyses show that tree nuts improve glycemic control in '\n",
            "            'individuals with type 2 diabetes , supporting their inclusion in '\n",
            "            'a healthy diet .'}]\n",
            "Lowest score: (lower is good)\n",
            "[{'docid': '32367221',\n",
            "  'generated': 'The first four months after ACL-reconstruction are described '\n",
            "               'in this paper. After two weeks, patients undergo a series of '\n",
            "               'exercises to improve their knee function. At the end of these '\n",
            "               'studies, there is little difference in pain and symptoms '\n",
            "               'between the two groupings. In contrast, both groups have '\n",
            "               'similar pain at 4 months. Both groups also report higher '\n",
            "               'sports activity scores than those in the other group. This '\n",
            "               'study concludes that neither type of autograft can be used for '\n",
            "               'ACL reconstructation because of reduced harvest site symptoms '\n",
            "               'and high injury rates. However, both types provide good long- '\n",
            "               'term subjective and objective outcome. Short-term results show '\n",
            "               'no differences in functional outcome or quality of life when '\n",
            "               'compared with one another. Seventeen years later, no '\n",
            "               'significant differences will be seen among the two groups. '\n",
            "               'Functional outcome questions such as the modified Cincinnati '\n",
            "               'knee Rating system and the International knee Documentation '\n",
            "               \"Committee are used to assess patient's functional and health \"\n",
            "               'status after knee surgical procedures. These surveys indicate '\n",
            "               'that all patients with complicated knee problems receive '\n",
            "               'improved functional outcomes from pre-operative measurements '\n",
            "               'through the two- year follow- up.',\n",
            "  'score': 0.0011715736671408167,\n",
            "  'target': 'The QT autograft detected comparable rate of Lachman test > 3 mm '\n",
            "            ', Pivot shift test > 3 m and instrumental laxity > 3 mm .\\n'\n",
            "            'The QT autograft showed a lower rate of autograft failure above '\n",
            "            'all .\\n'\n",
            "            'The QT autograft detected the reduced rate of AKP than the PT .\\n'\n",
            "            'Quadriceps tendon autograft may represent a feasible option for '\n",
            "            'primary ACL reconstruction .'}]\n"
          ]
        }
      ],
      "source": [
        "import pprint\n",
        "\n",
        "# What's actually happening?\n",
        "# find the docid with the highest score\n",
        "print(\"Highest score: (higher is bad)\")\n",
        "pprint.pprint(df_x_sample.sort_values(by=\"score\", ascending=False).head(1).to_dict(orient=\"records\"))\n",
        "\n",
        "# find the docid with the lowest score\n",
        "print(\"Lowest score: (lower is good)\")\n",
        "pprint.pprint(df_x_sample.sort_values(by=\"score\", ascending=True).head(1).to_dict(orient=\"records\"))"
      ]
    },
    {
      "cell_type": "code",
      "execution_count": 83,
      "metadata": {},
      "outputs": [
        {
          "name": "stdout",
          "output_type": "stream",
          "text": [
            "\n",
            "\n",
            "##### Running BioBART #####\n",
            "Computing Delta Evidence Inference scores...\n"
          ]
        },
        {
          "name": "stderr",
          "output_type": "stream",
          "text": [
            "Some weights of RobertaForSequenceClassification were not initialized from the model checkpoint at allenai/biomed_roberta_base and are newly initialized: ['classifier.dense.weight', 'classifier.dense.bias', 'classifier.out_proj.bias', 'classifier.out_proj.weight']\n",
            "You should probably TRAIN this model on a down-stream task to be able to use it for predictions and inference.\n",
            "Some weights of RobertaForSequenceClassification were not initialized from the model checkpoint at allenai/biomed_roberta_base and are newly initialized: ['classifier.dense.weight', 'classifier.dense.bias', 'classifier.out_proj.bias', 'classifier.out_proj.weight']\n",
            "You should probably TRAIN this model on a down-stream task to be able to use it for predictions and inference.\n",
            "Token indices sequence length is longer than the specified maximum sequence length for this model (590 > 512). Running this sequence through the model will result in indexing errors\n"
          ]
        },
        {
          "data": {
            "text/plain": [
              "'average'"
            ]
          },
          "metadata": {},
          "output_type": "display_data"
        },
        {
          "data": {
            "text/plain": [
              "0.5255207930010092"
            ]
          },
          "metadata": {},
          "output_type": "display_data"
        },
        {
          "data": {
            "text/plain": [
              "'std'"
            ]
          },
          "metadata": {},
          "output_type": "display_data"
        },
        {
          "data": {
            "text/plain": [
              "0.4020220675361712"
            ]
          },
          "metadata": {},
          "output_type": "display_data"
        },
        {
          "data": {
            "text/plain": [
              "'uniform_preds'"
            ]
          },
          "metadata": {},
          "output_type": "display_data"
        },
        {
          "data": {
            "text/plain": [
              "0.5406478590360975"
            ]
          },
          "metadata": {},
          "output_type": "display_data"
        },
        {
          "data": {
            "text/plain": [
              "'f1_score'"
            ]
          },
          "metadata": {},
          "output_type": "display_data"
        },
        {
          "data": {
            "text/plain": [
              "{'significantly decreased': {'precision': 0.08045977011494253,\n",
              "  'recall': 0.1891891891891892,\n",
              "  'f1-score': 0.11290322580645161,\n",
              "  'support': 111.0},\n",
              " 'no significant difference': {'precision': 0.6424682395644283,\n",
              "  'recall': 0.5831960461285008,\n",
              "  'f1-score': 0.61139896373057,\n",
              "  'support': 1214.0},\n",
              " 'significantly increased': {'precision': 0.3829787234042553,\n",
              "  'recall': 0.3620689655172414,\n",
              "  'f1-score': 0.3722304283604136,\n",
              "  'support': 696.0},\n",
              " 'accuracy': 0.48540326571004455,\n",
              " 'macro avg': {'precision': 0.3686355776945421,\n",
              "  'recall': 0.37815140027831046,\n",
              "  'f1-score': 0.36551087263247845,\n",
              "  'support': 2021.0},\n",
              " 'weighted avg': {'precision': 0.5222368475028879,\n",
              "  'recall': 0.48540326571004455,\n",
              "  'f1-score': 0.5016541208175537,\n",
              "  'support': 2021.0}}"
            ]
          },
          "metadata": {},
          "output_type": "display_data"
        },
        {
          "data": {
            "text/html": [
              "<div>\n",
              "<style scoped>\n",
              "    .dataframe tbody tr th:only-of-type {\n",
              "        vertical-align: middle;\n",
              "    }\n",
              "\n",
              "    .dataframe tbody tr th {\n",
              "        vertical-align: top;\n",
              "    }\n",
              "\n",
              "    .dataframe thead th {\n",
              "        text-align: right;\n",
              "    }\n",
              "</style>\n",
              "<table border=\"1\" class=\"dataframe\">\n",
              "  <thead>\n",
              "    <tr style=\"text-align: right;\">\n",
              "      <th></th>\n",
              "      <th>docid</th>\n",
              "      <th>target</th>\n",
              "      <th>generated</th>\n",
              "      <th>score</th>\n",
              "    </tr>\n",
              "  </thead>\n",
              "  <tbody>\n",
              "    <tr>\n",
              "      <th>1543</th>\n",
              "      <td>31616340</td>\n",
              "      <td>The results confirmed the presence of a relati...</td>\n",
              "      <td>OBJECTIVE Cognitive dysfunction is an increas...</td>\n",
              "      <td>0.017790</td>\n",
              "    </tr>\n",
              "    <tr>\n",
              "      <th>282</th>\n",
              "      <td>25271203</td>\n",
              "      <td>This systematic review covered all the relevan...</td>\n",
              "      <td>Study Design. A cross-sectional study compari...</td>\n",
              "      <td>0.120460</td>\n",
              "    </tr>\n",
              "    <tr>\n",
              "      <th>999</th>\n",
              "      <td>16983542</td>\n",
              "      <td>Results There is some evidence of the effectiv...</td>\n",
              "      <td>OBJECTIVE To examine whether risperidone is e...</td>\n",
              "      <td>0.986373</td>\n",
              "    </tr>\n",
              "    <tr>\n",
              "      <th>67</th>\n",
              "      <td>26104189</td>\n",
              "      <td>Conclusion These studies provide preliminary e...</td>\n",
              "      <td>Background The purpose of this study was to c...</td>\n",
              "      <td>0.919738</td>\n",
              "    </tr>\n",
              "    <tr>\n",
              "      <th>229</th>\n",
              "      <td>19300334</td>\n",
              "      <td>Although current guidelines for antibiotic pro...</td>\n",
              "      <td>OBJECTIVE To determine the efficacy of the ad...</td>\n",
              "      <td>0.996130</td>\n",
              "    </tr>\n",
              "    <tr>\n",
              "      <th>673</th>\n",
              "      <td>25831962</td>\n",
              "      <td>The review demonstrated that the WHO-5 has hig...</td>\n",
              "      <td>BACKGROUND : The point prevalence of depressi...</td>\n",
              "      <td>0.844074</td>\n",
              "    </tr>\n",
              "    <tr>\n",
              "      <th>550</th>\n",
              "      <td>16508562</td>\n",
              "      <td>Robust statistically significant effects were ...</td>\n",
              "      <td>We compared the effects of nonpharmacological...</td>\n",
              "      <td>0.077446</td>\n",
              "    </tr>\n",
              "    <tr>\n",
              "      <th>1298</th>\n",
              "      <td>24772264</td>\n",
              "      <td>The best retention capacity of the material in...</td>\n",
              "      <td>BACKGROUND The aim of this study was to compa...</td>\n",
              "      <td>0.962021</td>\n",
              "    </tr>\n",
              "    <tr>\n",
              "      <th>1747</th>\n",
              "      <td>32187830</td>\n",
              "      <td>Circulating fasting total BA was not associate...</td>\n",
              "      <td>BACKGROUND Bile acids ( BAs ) are currently n...</td>\n",
              "      <td>0.793408</td>\n",
              "    </tr>\n",
              "    <tr>\n",
              "      <th>1653</th>\n",
              "      <td>25429224</td>\n",
              "      <td>Vertebral fracture caused the greatest health ...</td>\n",
              "      <td>BACKGROUND BACKGROUND Vertebral fractures are...</td>\n",
              "      <td>0.448402</td>\n",
              "    </tr>\n",
              "  </tbody>\n",
              "</table>\n",
              "</div>"
            ],
            "text/plain": [
              "         docid                                             target  \\\n",
              "1543  31616340  The results confirmed the presence of a relati...   \n",
              "282   25271203  This systematic review covered all the relevan...   \n",
              "999   16983542  Results There is some evidence of the effectiv...   \n",
              "67    26104189  Conclusion These studies provide preliminary e...   \n",
              "229   19300334  Although current guidelines for antibiotic pro...   \n",
              "673   25831962  The review demonstrated that the WHO-5 has hig...   \n",
              "550   16508562  Robust statistically significant effects were ...   \n",
              "1298  24772264  The best retention capacity of the material in...   \n",
              "1747  32187830  Circulating fasting total BA was not associate...   \n",
              "1653  25429224  Vertebral fracture caused the greatest health ...   \n",
              "\n",
              "                                              generated     score  \n",
              "1543   OBJECTIVE Cognitive dysfunction is an increas...  0.017790  \n",
              "282    Study Design. A cross-sectional study compari...  0.120460  \n",
              "999    OBJECTIVE To examine whether risperidone is e...  0.986373  \n",
              "67     Background The purpose of this study was to c...  0.919738  \n",
              "229    OBJECTIVE To determine the efficacy of the ad...  0.996130  \n",
              "673    BACKGROUND : The point prevalence of depressi...  0.844074  \n",
              "550    We compared the effects of nonpharmacological...  0.077446  \n",
              "1298   BACKGROUND The aim of this study was to compa...  0.962021  \n",
              "1747   BACKGROUND Bile acids ( BAs ) are currently n...  0.793408  \n",
              "1653   BACKGROUND BACKGROUND Vertebral fractures are...  0.448402  "
            ]
          },
          "metadata": {},
          "output_type": "display_data"
        },
        {
          "name": "stdout",
          "output_type": "stream",
          "text": [
            "\n",
            "\n",
            "##### Running LongT5 #####\n",
            "Computing Delta Evidence Inference scores...\n"
          ]
        },
        {
          "name": "stderr",
          "output_type": "stream",
          "text": [
            "Some weights of RobertaForSequenceClassification were not initialized from the model checkpoint at allenai/biomed_roberta_base and are newly initialized: ['classifier.dense.weight', 'classifier.dense.bias', 'classifier.out_proj.bias', 'classifier.out_proj.weight']\n",
            "You should probably TRAIN this model on a down-stream task to be able to use it for predictions and inference.\n",
            "Some weights of RobertaForSequenceClassification were not initialized from the model checkpoint at allenai/biomed_roberta_base and are newly initialized: ['classifier.dense.weight', 'classifier.dense.bias', 'classifier.out_proj.bias', 'classifier.out_proj.weight']\n",
            "You should probably TRAIN this model on a down-stream task to be able to use it for predictions and inference.\n",
            "Token indices sequence length is longer than the specified maximum sequence length for this model (590 > 512). Running this sequence through the model will result in indexing errors\n"
          ]
        },
        {
          "data": {
            "text/plain": [
              "'average'"
            ]
          },
          "metadata": {},
          "output_type": "display_data"
        },
        {
          "data": {
            "text/plain": [
              "0.5432441385412898"
            ]
          },
          "metadata": {},
          "output_type": "display_data"
        },
        {
          "data": {
            "text/plain": [
              "'std'"
            ]
          },
          "metadata": {},
          "output_type": "display_data"
        },
        {
          "data": {
            "text/plain": [
              "0.39463136145671507"
            ]
          },
          "metadata": {},
          "output_type": "display_data"
        },
        {
          "data": {
            "text/plain": [
              "'uniform_preds'"
            ]
          },
          "metadata": {},
          "output_type": "display_data"
        },
        {
          "data": {
            "text/plain": [
              "0.5406478590360975"
            ]
          },
          "metadata": {},
          "output_type": "display_data"
        },
        {
          "data": {
            "text/plain": [
              "'f1_score'"
            ]
          },
          "metadata": {},
          "output_type": "display_data"
        },
        {
          "data": {
            "text/plain": [
              "{'significantly decreased': {'precision': 0.09401709401709402,\n",
              "  'recall': 0.1981981981981982,\n",
              "  'f1-score': 0.127536231884058,\n",
              "  'support': 111.0},\n",
              " 'no significant difference': {'precision': 0.639599555061179,\n",
              "  'recall': 0.47364085667215816,\n",
              "  'f1-score': 0.5442498816848084,\n",
              "  'support': 1214.0},\n",
              " 'significantly increased': {'precision': 0.375,\n",
              "  'recall': 0.47844827586206895,\n",
              "  'f1-score': 0.42045454545454547,\n",
              "  'support': 696.0},\n",
              " 'accuracy': 0.46016823354774866,\n",
              " 'macro avg': {'precision': 0.369538883026091,\n",
              "  'recall': 0.3834291102441418,\n",
              "  'f1-score': 0.3640802196744706,\n",
              "  'support': 2021.0},\n",
              " 'weighted avg': {'precision': 0.518510518198995,\n",
              "  'recall': 0.46016823354774866,\n",
              "  'f1-score': 0.4787294615244193,\n",
              "  'support': 2021.0}}"
            ]
          },
          "metadata": {},
          "output_type": "display_data"
        },
        {
          "data": {
            "text/html": [
              "<div>\n",
              "<style scoped>\n",
              "    .dataframe tbody tr th:only-of-type {\n",
              "        vertical-align: middle;\n",
              "    }\n",
              "\n",
              "    .dataframe tbody tr th {\n",
              "        vertical-align: top;\n",
              "    }\n",
              "\n",
              "    .dataframe thead th {\n",
              "        text-align: right;\n",
              "    }\n",
              "</style>\n",
              "<table border=\"1\" class=\"dataframe\">\n",
              "  <thead>\n",
              "    <tr style=\"text-align: right;\">\n",
              "      <th></th>\n",
              "      <th>docid</th>\n",
              "      <th>target</th>\n",
              "      <th>generated</th>\n",
              "      <th>score</th>\n",
              "    </tr>\n",
              "  </thead>\n",
              "  <tbody>\n",
              "    <tr>\n",
              "      <th>896</th>\n",
              "      <td>27071989</td>\n",
              "      <td>Although the convergent validity of ImPACT was...</td>\n",
              "      <td>Brain injury is a common cause of concusions i...</td>\n",
              "      <td>0.888612</td>\n",
              "    </tr>\n",
              "    <tr>\n",
              "      <th>313</th>\n",
              "      <td>22354262</td>\n",
              "      <td>Antihypertensive drugs reduce headache but it ...</td>\n",
              "      <td>The effect of an anti-hyptertensive drug on me...</td>\n",
              "      <td>0.320313</td>\n",
              "    </tr>\n",
              "    <tr>\n",
              "      <th>1117</th>\n",
              "      <td>20824372</td>\n",
              "      <td>Conclusions P-POSSUM was the most accurate mod...</td>\n",
              "      <td>In this paper, Dr. Manette focuses on the use ...</td>\n",
              "      <td>0.128728</td>\n",
              "    </tr>\n",
              "    <tr>\n",
              "      <th>1601</th>\n",
              "      <td>28700715</td>\n",
              "      <td>At the class level , behavioural therapy ( alo...</td>\n",
              "      <td>In this paper, the authors describe a doublebl...</td>\n",
              "      <td>0.962361</td>\n",
              "    </tr>\n",
              "    <tr>\n",
              "      <th>1476</th>\n",
              "      <td>31833645</td>\n",
              "      <td>However , total PA , sedentary behaviour , and...</td>\n",
              "      <td>In this paper, we identify the most important ...</td>\n",
              "      <td>0.998453</td>\n",
              "    </tr>\n",
              "    <tr>\n",
              "      <th>1955</th>\n",
              "      <td>25370201</td>\n",
              "      <td>Motor fitness , particularly balance , was the...</td>\n",
              "      <td>In this study, we examine the effect of an int...</td>\n",
              "      <td>0.993318</td>\n",
              "    </tr>\n",
              "    <tr>\n",
              "      <th>1608</th>\n",
              "      <td>28720391</td>\n",
              "      <td>EVIDENCE SYNTHESIS The systematic review showe...</td>\n",
              "      <td>In this study, we report the effcacy and safet...</td>\n",
              "      <td>0.419093</td>\n",
              "    </tr>\n",
              "    <tr>\n",
              "      <th>1850</th>\n",
              "      <td>28025174</td>\n",
              "      <td>R and omized controlled trials found a positiv...</td>\n",
              "      <td>The effect of moderate- to-vigorously intensit...</td>\n",
              "      <td>0.951206</td>\n",
              "    </tr>\n",
              "    <tr>\n",
              "      <th>1986</th>\n",
              "      <td>26210195</td>\n",
              "      <td>Conclusions RYGB surgery reverses the dyslipid...</td>\n",
              "      <td>The effect of statin therapy on the reduction ...</td>\n",
              "      <td>0.451245</td>\n",
              "    </tr>\n",
              "    <tr>\n",
              "      <th>1976</th>\n",
              "      <td>30547275</td>\n",
              "      <td>The evidence supports the WPAI as having test-...</td>\n",
              "      <td>In this study, we examine the effect of four-g...</td>\n",
              "      <td>0.514672</td>\n",
              "    </tr>\n",
              "  </tbody>\n",
              "</table>\n",
              "</div>"
            ],
            "text/plain": [
              "         docid                                             target  \\\n",
              "896   27071989  Although the convergent validity of ImPACT was...   \n",
              "313   22354262  Antihypertensive drugs reduce headache but it ...   \n",
              "1117  20824372  Conclusions P-POSSUM was the most accurate mod...   \n",
              "1601  28700715  At the class level , behavioural therapy ( alo...   \n",
              "1476  31833645  However , total PA , sedentary behaviour , and...   \n",
              "1955  25370201  Motor fitness , particularly balance , was the...   \n",
              "1608  28720391  EVIDENCE SYNTHESIS The systematic review showe...   \n",
              "1850  28025174  R and omized controlled trials found a positiv...   \n",
              "1986  26210195  Conclusions RYGB surgery reverses the dyslipid...   \n",
              "1976  30547275  The evidence supports the WPAI as having test-...   \n",
              "\n",
              "                                              generated     score  \n",
              "896   Brain injury is a common cause of concusions i...  0.888612  \n",
              "313   The effect of an anti-hyptertensive drug on me...  0.320313  \n",
              "1117  In this paper, Dr. Manette focuses on the use ...  0.128728  \n",
              "1601  In this paper, the authors describe a doublebl...  0.962361  \n",
              "1476  In this paper, we identify the most important ...  0.998453  \n",
              "1955  In this study, we examine the effect of an int...  0.993318  \n",
              "1608  In this study, we report the effcacy and safet...  0.419093  \n",
              "1850  The effect of moderate- to-vigorously intensit...  0.951206  \n",
              "1986  The effect of statin therapy on the reduction ...  0.451245  \n",
              "1976  In this study, we examine the effect of four-g...  0.514672  "
            ]
          },
          "metadata": {},
          "output_type": "display_data"
        },
        {
          "name": "stdout",
          "output_type": "stream",
          "text": [
            "\n",
            "\n",
            "##### Running Pegasus #####\n",
            "Computing Delta Evidence Inference scores...\n"
          ]
        },
        {
          "name": "stderr",
          "output_type": "stream",
          "text": [
            "Some weights of RobertaForSequenceClassification were not initialized from the model checkpoint at allenai/biomed_roberta_base and are newly initialized: ['classifier.dense.weight', 'classifier.dense.bias', 'classifier.out_proj.bias', 'classifier.out_proj.weight']\n",
            "You should probably TRAIN this model on a down-stream task to be able to use it for predictions and inference.\n",
            "Some weights of RobertaForSequenceClassification were not initialized from the model checkpoint at allenai/biomed_roberta_base and are newly initialized: ['classifier.dense.weight', 'classifier.dense.bias', 'classifier.out_proj.bias', 'classifier.out_proj.weight']\n",
            "You should probably TRAIN this model on a down-stream task to be able to use it for predictions and inference.\n",
            "Token indices sequence length is longer than the specified maximum sequence length for this model (538 > 512). Running this sequence through the model will result in indexing errors\n"
          ]
        },
        {
          "data": {
            "text/plain": [
              "'average'"
            ]
          },
          "metadata": {},
          "output_type": "display_data"
        },
        {
          "data": {
            "text/plain": [
              "0.5584327999499968"
            ]
          },
          "metadata": {},
          "output_type": "display_data"
        },
        {
          "data": {
            "text/plain": [
              "'std'"
            ]
          },
          "metadata": {},
          "output_type": "display_data"
        },
        {
          "data": {
            "text/plain": [
              "0.3984307240017028"
            ]
          },
          "metadata": {},
          "output_type": "display_data"
        },
        {
          "data": {
            "text/plain": [
              "'uniform_preds'"
            ]
          },
          "metadata": {},
          "output_type": "display_data"
        },
        {
          "data": {
            "text/plain": [
              "0.5406478590360975"
            ]
          },
          "metadata": {},
          "output_type": "display_data"
        },
        {
          "data": {
            "text/plain": [
              "'f1_score'"
            ]
          },
          "metadata": {},
          "output_type": "display_data"
        },
        {
          "data": {
            "text/plain": [
              "{'significantly decreased': {'precision': 0.08873720136518772,\n",
              "  'recall': 0.23423423423423423,\n",
              "  'f1-score': 0.12871287128712872,\n",
              "  'support': 111.0},\n",
              " 'no significant difference': {'precision': 0.6457564575645757,\n",
              "  'recall': 0.43245469522240526,\n",
              "  'f1-score': 0.5180069067587568,\n",
              "  'support': 1214.0},\n",
              " 'significantly increased': {'precision': 0.3825136612021858,\n",
              "  'recall': 0.5028735632183908,\n",
              "  'f1-score': 0.4345127250155183,\n",
              "  'support': 696.0},\n",
              " 'accuracy': 0.4458189015338941,\n",
              " 'macro avg': {'precision': 0.3723357733773163,\n",
              "  'recall': 0.3898541642250101,\n",
              "  'f1-score': 0.3604108343538013,\n",
              "  'support': 2021.0},\n",
              " 'weighted avg': {'precision': 0.5245065200552459,\n",
              "  'recall': 0.4458189015338941,\n",
              "  'f1-score': 0.46787153395784403,\n",
              "  'support': 2021.0}}"
            ]
          },
          "metadata": {},
          "output_type": "display_data"
        },
        {
          "data": {
            "text/html": [
              "<div>\n",
              "<style scoped>\n",
              "    .dataframe tbody tr th:only-of-type {\n",
              "        vertical-align: middle;\n",
              "    }\n",
              "\n",
              "    .dataframe tbody tr th {\n",
              "        vertical-align: top;\n",
              "    }\n",
              "\n",
              "    .dataframe thead th {\n",
              "        text-align: right;\n",
              "    }\n",
              "</style>\n",
              "<table border=\"1\" class=\"dataframe\">\n",
              "  <thead>\n",
              "    <tr style=\"text-align: right;\">\n",
              "      <th></th>\n",
              "      <th>docid</th>\n",
              "      <th>target</th>\n",
              "      <th>generated</th>\n",
              "      <th>score</th>\n",
              "    </tr>\n",
              "  </thead>\n",
              "  <tbody>\n",
              "    <tr>\n",
              "      <th>383</th>\n",
              "      <td>25754617</td>\n",
              "      <td>We found high quality evidence that hormone th...</td>\n",
              "      <td>A decrease in both vaginal pH ( P less than 0....</td>\n",
              "      <td>0.202884</td>\n",
              "    </tr>\n",
              "    <tr>\n",
              "      <th>985</th>\n",
              "      <td>25187795</td>\n",
              "      <td>Therefore , the rotary NiTi Hero 642 and K3 fi...</td>\n",
              "      <td>CONCLUSION Hero rotary instruments produced mo...</td>\n",
              "      <td>0.043736</td>\n",
              "    </tr>\n",
              "    <tr>\n",
              "      <th>1845</th>\n",
              "      <td>24405725</td>\n",
              "      <td>We found a strong level of evidence for a rela...</td>\n",
              "      <td>RESULTS Of those who participated in a r and o...</td>\n",
              "      <td>0.345374</td>\n",
              "    </tr>\n",
              "    <tr>\n",
              "      <th>660</th>\n",
              "      <td>28488799</td>\n",
              "      <td>Endurance training alone was found to increase...</td>\n",
              "      <td>Multivariate analysis ( 95%CI ) in all three p...</td>\n",
              "      <td>0.997671</td>\n",
              "    </tr>\n",
              "    <tr>\n",
              "      <th>1887</th>\n",
              "      <td>27714911</td>\n",
              "      <td>Group sports improve body composition , cardio...</td>\n",
              "      <td>Compared with children receiving health educat...</td>\n",
              "      <td>0.980351</td>\n",
              "    </tr>\n",
              "    <tr>\n",
              "      <th>958</th>\n",
              "      <td>29119235</td>\n",
              "      <td>Subgroup analysis suggested the existence of l...</td>\n",
              "      <td>The following variables were assessed at 4 ( b...</td>\n",
              "      <td>0.990305</td>\n",
              "    </tr>\n",
              "    <tr>\n",
              "      <th>205</th>\n",
              "      <td>29453672</td>\n",
              "      <td>Conclusion Plant and marine sources of n-3 PUF...</td>\n",
              "      <td>The direct effects of PUFA on leptin promoter ...</td>\n",
              "      <td>0.879165</td>\n",
              "    </tr>\n",
              "    <tr>\n",
              "      <th>1302</th>\n",
              "      <td>26605535</td>\n",
              "      <td>CONCLUSION Lateral wedge insoles cause small r...</td>\n",
              "      <td>Results of this study suggest that using a cus...</td>\n",
              "      <td>0.517784</td>\n",
              "    </tr>\n",
              "    <tr>\n",
              "      <th>1768</th>\n",
              "      <td>28034901</td>\n",
              "      <td>Conclusions : Obesity is associated with lower...</td>\n",
              "      <td>In contrast, BMI was not associated with five-...</td>\n",
              "      <td>0.957437</td>\n",
              "    </tr>\n",
              "    <tr>\n",
              "      <th>113</th>\n",
              "      <td>21339335</td>\n",
              "      <td>RhGh did not consistently affect blood pressur...</td>\n",
              "      <td>In the GH-treated group only, a low baseline G...</td>\n",
              "      <td>0.993109</td>\n",
              "    </tr>\n",
              "  </tbody>\n",
              "</table>\n",
              "</div>"
            ],
            "text/plain": [
              "         docid                                             target  \\\n",
              "383   25754617  We found high quality evidence that hormone th...   \n",
              "985   25187795  Therefore , the rotary NiTi Hero 642 and K3 fi...   \n",
              "1845  24405725  We found a strong level of evidence for a rela...   \n",
              "660   28488799  Endurance training alone was found to increase...   \n",
              "1887  27714911  Group sports improve body composition , cardio...   \n",
              "958   29119235  Subgroup analysis suggested the existence of l...   \n",
              "205   29453672  Conclusion Plant and marine sources of n-3 PUF...   \n",
              "1302  26605535  CONCLUSION Lateral wedge insoles cause small r...   \n",
              "1768  28034901  Conclusions : Obesity is associated with lower...   \n",
              "113   21339335  RhGh did not consistently affect blood pressur...   \n",
              "\n",
              "                                              generated     score  \n",
              "383   A decrease in both vaginal pH ( P less than 0....  0.202884  \n",
              "985   CONCLUSION Hero rotary instruments produced mo...  0.043736  \n",
              "1845  RESULTS Of those who participated in a r and o...  0.345374  \n",
              "660   Multivariate analysis ( 95%CI ) in all three p...  0.997671  \n",
              "1887  Compared with children receiving health educat...  0.980351  \n",
              "958   The following variables were assessed at 4 ( b...  0.990305  \n",
              "205   The direct effects of PUFA on leptin promoter ...  0.879165  \n",
              "1302  Results of this study suggest that using a cus...  0.517784  \n",
              "1768  In contrast, BMI was not associated with five-...  0.957437  \n",
              "113   In the GH-treated group only, a low baseline G...  0.993109  "
            ]
          },
          "metadata": {},
          "output_type": "display_data"
        }
      ],
      "source": [
        "# Wrap in a loop\n",
        "\n",
        "model_results = {}\n",
        "for model_name, generated_candidates_to_use in [\n",
        "    (\"BioBART\", generated_biobart),\n",
        "    (\"LongT5\", generated_longt5),\n",
        "    (\"Pegasus\", generated_pegasus),\n",
        "]:\n",
        "    print(f\"\\n\\n##### Running {model_name} #####\")\n",
        "    num_examples = len(generated_candidates_to_use)  # to get all examples\n",
        "\n",
        "    targets_x_sample = {\n",
        "        doc_key: {\n",
        "            \"target\": targets[doc_key][\"target\"],\n",
        "            \"preface\": targets[doc_key][\"background\"],\n",
        "        } for doc_key in list(targets.keys())[:num_examples]\n",
        "    }\n",
        "    generated_x_sample = {\n",
        "        doc_key: generated_candidates_to_use[doc_key] for doc_key in targets_x_sample.keys()\n",
        "    }\n",
        "    results_x_sample = calculate_evidence_inference_divergence(\n",
        "        targets_x_sample,\n",
        "        generated_x_sample,\n",
        "        \"evaluator/bert_pipeline_8samples.json\",\n",
        "        \"evaluator/evidence_inference_models\",\n",
        "    )\n",
        "    model_results[model_name] = {}\n",
        "    model_results[model_name][\"results\"] = results_x_sample\n",
        "\n",
        "    # print everything except the raw scores\n",
        "    for key, val in results_x_sample.items():\n",
        "        if key != \"scores\":\n",
        "            display(key, val)\n",
        "\n",
        "    # Compare scores and target-generated pairs in a dataframe\n",
        "    df_x_sample = pd.DataFrame({\n",
        "        \"docid\": list(targets_x_sample.keys()),\n",
        "        \"target\": [targets_x_sample[docid][\"target\"] for docid in targets_x_sample.keys()],\n",
        "        \"generated\": [generated_x_sample[docid] for docid in generated_x_sample.keys()],\n",
        "        \"score\": list(results_x_sample[\"scores\"]),\n",
        "    })\n",
        "    model_results[model_name][\"df\"] = df_x_sample\n",
        "    display(df_x_sample.sample(10))\n",
        "\n",
        "    # save results to csv\n",
        "    df_x_sample.to_csv(f\"evaluator/evidence_inference_results_{model_name.lower()}.csv\", index=False)"
      ]
    },
    {
      "cell_type": "code",
      "execution_count": null,
      "metadata": {},
      "outputs": [],
      "source": [
        "# command to unzip evaluator.zip\n",
        "!unzip -q evaluator.zip"
      ]
    },
    {
      "cell_type": "code",
      "execution_count": 18,
      "metadata": {},
      "outputs": [
        {
          "name": "stdout",
          "output_type": "stream",
          "text": [
            "Number of generated summaries: 2021\n",
            "Computing ROUGE scores...\n",
            "Computing BERTscore...\n",
            "Computing Delta Evidence Inference scores...\n"
          ]
        },
        {
          "name": "stderr",
          "output_type": "stream",
          "text": [
            "Some weights of RobertaForSequenceClassification were not initialized from the model checkpoint at allenai/biomed_roberta_base and are newly initialized: ['classifier.out_proj.weight', 'classifier.dense.bias', 'classifier.dense.weight', 'classifier.out_proj.bias']\n",
            "You should probably TRAIN this model on a down-stream task to be able to use it for predictions and inference.\n",
            "Some weights of RobertaForSequenceClassification were not initialized from the model checkpoint at allenai/biomed_roberta_base and are newly initialized: ['classifier.out_proj.weight', 'classifier.dense.bias', 'classifier.dense.weight', 'classifier.out_proj.bias']\n",
            "You should probably TRAIN this model on a down-stream task to be able to use it for predictions and inference.\n",
            "Token indices sequence length is longer than the specified maximum sequence length for this model (3537 > 512). Running this sequence through the model will result in indexing errors\n"
          ]
        },
        {
          "name": "stdout",
          "output_type": "stream",
          "text": [
            "Number of generated summaries: 2021\n",
            "Computing ROUGE scores...\n",
            "Computing BERTscore...\n",
            "Computing Delta Evidence Inference scores...\n",
            "Number of generated summaries: 2021\n",
            "Computing ROUGE scores...\n",
            "Computing BERTscore...\n",
            "Computing Delta Evidence Inference scores...\n"
          ]
        }
      ],
      "source": [
        "# Standalone imported evaluator\n",
        "from importlib import reload\n",
        "import pickle\n",
        "import os\n",
        "import pandas as pd\n",
        "from evaluator import evaluator\n",
        "from pprint import pprint\n",
        "\n",
        "reload(evaluator)\n",
        "\n",
        "# Test usage on toy examples\n",
        "ev = evaluator.MS2Evaluator()\n",
        "\n",
        "# optional destination folder\n",
        "destination_folder = \"evaluator/results\"\n",
        "# destination_folder = \"/content/drive/MyDrive/MSLR/evaluator/results\"  # for Google Drive\n",
        "\n",
        "# read generated data from csv\n",
        "for generated_csv_source, candidate_key in [\n",
        "    # (\"extraction_exploration/results_longt5_conclusion_only/longt5_with_conclusion_only_validation.csv\", \"candidate\"),\n",
        "    # (\"baseline_extractive/BERT_extractive_prediction.csv\", \"summary\"),\n",
        "    # (\"baseline_extractive/BioBERT_extractive_prediction.csv\", \"summary\"),\n",
        "    # (\"baseline_extractive/SciBERT_extractive_prediction.csv\", \"summary\"),\n",
        "    # (\"experiment_1/summaries/summary_BioBERT_K_Means_Long_T5_prediction.csv\", \"Summary\"),\n",
        "    # (\"experiment_1/BioBERT_K_Means_extractive.csv\", \"summary\"),\n",
        "    # (\"experiment_2/summaries/summary_BioBERT_HDBSCAN_UMAP_Long_T5_prediction.csv\", \"Summary\"),\n",
        "    # (\"extractive_models/BioBERT_Kmeans_extractive.csv\", \"summary\"),\n",
        "    # (\"extractive_models/SciBERT_Kmeans_extractive.csv\", \"summary\"),\n",
        "    (\"extractive_models/BERT_Kmeans_extractive.csv\", \"summary\"),\n",
        "    (\"experiment_4_full_finetune/model_evaluation_output_epoch-8-train-loss-2.0239-val-loss-2.6407.csv\", \"Candidate_Summary\"),\n",
        "    (\"experiment_4_full_finetune/model_evaluation_output_epoch-9-train-loss-1.9464-val-loss-2.6663.csv\", \"Candidate_Summary\"),\n",
        "]:\n",
        "    df = pd.read_csv(generated_csv_source)\n",
        "    generated = {row['review_id']: row[candidate_key] for _, row in df.iterrows()}\n",
        "    # generated = {k: generated[k] for k in list(generated.keys())[:3]}  # test with first few examples\n",
        "\n",
        "    results_from_ev = ev.evaluate(generated=generated)\n",
        "    # remove keys \"generated\" and \"targets\" from results\n",
        "    results_from_ev_without_examples = {k: v for k, v in results_from_ev.items() if k not in [\"generated\", \"targets\"]}\n",
        "\n",
        "    # save results (pickle) to file\n",
        "    with open(\n",
        "        os.path.join(destination_folder, f\"{generated_csv_source.split('/')[-1].split('.')[0]}.pkl\"), \"wb\"\n",
        "    ) as f:\n",
        "        pickle.dump(results_from_ev_without_examples, f)"
      ]
    },
    {
      "cell_type": "code",
      "execution_count": 20,
      "metadata": {},
      "outputs": [
        {
          "data": {
            "text/html": [
              "<div>\n",
              "<style scoped>\n",
              "    .dataframe tbody tr th:only-of-type {\n",
              "        vertical-align: middle;\n",
              "    }\n",
              "\n",
              "    .dataframe tbody tr th {\n",
              "        vertical-align: top;\n",
              "    }\n",
              "\n",
              "    .dataframe thead th {\n",
              "        text-align: right;\n",
              "    }\n",
              "</style>\n",
              "<table border=\"1\" class=\"dataframe\">\n",
              "  <thead>\n",
              "    <tr style=\"text-align: right;\">\n",
              "      <th></th>\n",
              "      <th>rouge1</th>\n",
              "      <th>rouge2</th>\n",
              "      <th>rougeL</th>\n",
              "      <th>bertscore_avg_f1</th>\n",
              "      <th>evidence_inference_divergence</th>\n",
              "      <th>evidence_inference_divergence_f1</th>\n",
              "    </tr>\n",
              "    <tr>\n",
              "      <th>model</th>\n",
              "      <th></th>\n",
              "      <th></th>\n",
              "      <th></th>\n",
              "      <th></th>\n",
              "      <th></th>\n",
              "      <th></th>\n",
              "    </tr>\n",
              "  </thead>\n",
              "  <tbody>\n",
              "    <tr>\n",
              "      <th>BERT_Kmeans_extractive</th>\n",
              "      <td>0.047</td>\n",
              "      <td>0.012</td>\n",
              "      <td>0.030</td>\n",
              "      <td>0.505</td>\n",
              "      <td>0.518</td>\n",
              "      <td>0.372</td>\n",
              "    </tr>\n",
              "    <tr>\n",
              "      <th>BERT_extractive_prediction</th>\n",
              "      <td>0.074</td>\n",
              "      <td>0.017</td>\n",
              "      <td>0.046</td>\n",
              "      <td>0.508</td>\n",
              "      <td>0.501</td>\n",
              "      <td>0.400</td>\n",
              "    </tr>\n",
              "    <tr>\n",
              "      <th>BioBERT_K_Means_extractive</th>\n",
              "      <td>0.046</td>\n",
              "      <td>0.012</td>\n",
              "      <td>0.029</td>\n",
              "      <td>0.502</td>\n",
              "      <td>0.510</td>\n",
              "      <td>0.379</td>\n",
              "    </tr>\n",
              "    <tr>\n",
              "      <th>BioBERT_Kmeans_extractive</th>\n",
              "      <td>0.046</td>\n",
              "      <td>0.012</td>\n",
              "      <td>0.029</td>\n",
              "      <td>0.502</td>\n",
              "      <td>0.503</td>\n",
              "      <td>0.389</td>\n",
              "    </tr>\n",
              "    <tr>\n",
              "      <th>BioBERT_extractive_prediction</th>\n",
              "      <td>0.077</td>\n",
              "      <td>0.017</td>\n",
              "      <td>0.048</td>\n",
              "      <td>0.508</td>\n",
              "      <td>0.522</td>\n",
              "      <td>0.378</td>\n",
              "    </tr>\n",
              "    <tr>\n",
              "      <th>SciBERT_Kmeans_extractive</th>\n",
              "      <td>0.047</td>\n",
              "      <td>0.012</td>\n",
              "      <td>0.030</td>\n",
              "      <td>0.504</td>\n",
              "      <td>0.516</td>\n",
              "      <td>0.376</td>\n",
              "    </tr>\n",
              "    <tr>\n",
              "      <th>SciBERT_extractive_prediction</th>\n",
              "      <td>0.077</td>\n",
              "      <td>0.017</td>\n",
              "      <td>0.048</td>\n",
              "      <td>0.509</td>\n",
              "      <td>0.525</td>\n",
              "      <td>0.371</td>\n",
              "    </tr>\n",
              "    <tr>\n",
              "      <th>longt5_with_conclusion_only_validation</th>\n",
              "      <td>0.210</td>\n",
              "      <td>0.028</td>\n",
              "      <td>0.125</td>\n",
              "      <td>0.567</td>\n",
              "      <td>0.526</td>\n",
              "      <td>0.377</td>\n",
              "    </tr>\n",
              "    <tr>\n",
              "      <th>model_evaluation_output_epoch-8-train-loss-2</th>\n",
              "      <td>0.147</td>\n",
              "      <td>0.018</td>\n",
              "      <td>0.110</td>\n",
              "      <td>0.559</td>\n",
              "      <td>0.561</td>\n",
              "      <td>0.336</td>\n",
              "    </tr>\n",
              "    <tr>\n",
              "      <th>model_evaluation_output_epoch-9-train-loss-1</th>\n",
              "      <td>0.154</td>\n",
              "      <td>0.021</td>\n",
              "      <td>0.115</td>\n",
              "      <td>0.561</td>\n",
              "      <td>0.576</td>\n",
              "      <td>0.332</td>\n",
              "    </tr>\n",
              "    <tr>\n",
              "      <th>summary_BioBERT_HDBSCAN_UMAP_Long_T5_prediction</th>\n",
              "      <td>0.187</td>\n",
              "      <td>0.023</td>\n",
              "      <td>0.105</td>\n",
              "      <td>0.545</td>\n",
              "      <td>0.559</td>\n",
              "      <td>0.363</td>\n",
              "    </tr>\n",
              "    <tr>\n",
              "      <th>summary_BioBERT_K_Means_Long_T5_prediction</th>\n",
              "      <td>0.194</td>\n",
              "      <td>0.024</td>\n",
              "      <td>0.109</td>\n",
              "      <td>0.550</td>\n",
              "      <td>0.519</td>\n",
              "      <td>0.382</td>\n",
              "    </tr>\n",
              "  </tbody>\n",
              "</table>\n",
              "</div>"
            ],
            "text/plain": [
              "                                                 rouge1  rouge2  rougeL  \\\n",
              "model                                                                     \n",
              "BERT_Kmeans_extractive                            0.047   0.012   0.030   \n",
              "BERT_extractive_prediction                        0.074   0.017   0.046   \n",
              "BioBERT_K_Means_extractive                        0.046   0.012   0.029   \n",
              "BioBERT_Kmeans_extractive                         0.046   0.012   0.029   \n",
              "BioBERT_extractive_prediction                     0.077   0.017   0.048   \n",
              "SciBERT_Kmeans_extractive                         0.047   0.012   0.030   \n",
              "SciBERT_extractive_prediction                     0.077   0.017   0.048   \n",
              "longt5_with_conclusion_only_validation            0.210   0.028   0.125   \n",
              "model_evaluation_output_epoch-8-train-loss-2      0.147   0.018   0.110   \n",
              "model_evaluation_output_epoch-9-train-loss-1      0.154   0.021   0.115   \n",
              "summary_BioBERT_HDBSCAN_UMAP_Long_T5_prediction   0.187   0.023   0.105   \n",
              "summary_BioBERT_K_Means_Long_T5_prediction        0.194   0.024   0.109   \n",
              "\n",
              "                                                 bertscore_avg_f1  \\\n",
              "model                                                               \n",
              "BERT_Kmeans_extractive                                      0.505   \n",
              "BERT_extractive_prediction                                  0.508   \n",
              "BioBERT_K_Means_extractive                                  0.502   \n",
              "BioBERT_Kmeans_extractive                                   0.502   \n",
              "BioBERT_extractive_prediction                               0.508   \n",
              "SciBERT_Kmeans_extractive                                   0.504   \n",
              "SciBERT_extractive_prediction                               0.509   \n",
              "longt5_with_conclusion_only_validation                      0.567   \n",
              "model_evaluation_output_epoch-8-train-loss-2                0.559   \n",
              "model_evaluation_output_epoch-9-train-loss-1                0.561   \n",
              "summary_BioBERT_HDBSCAN_UMAP_Long_T5_prediction             0.545   \n",
              "summary_BioBERT_K_Means_Long_T5_prediction                  0.550   \n",
              "\n",
              "                                                 evidence_inference_divergence  \\\n",
              "model                                                                            \n",
              "BERT_Kmeans_extractive                                                   0.518   \n",
              "BERT_extractive_prediction                                               0.501   \n",
              "BioBERT_K_Means_extractive                                               0.510   \n",
              "BioBERT_Kmeans_extractive                                                0.503   \n",
              "BioBERT_extractive_prediction                                            0.522   \n",
              "SciBERT_Kmeans_extractive                                                0.516   \n",
              "SciBERT_extractive_prediction                                            0.525   \n",
              "longt5_with_conclusion_only_validation                                   0.526   \n",
              "model_evaluation_output_epoch-8-train-loss-2                             0.561   \n",
              "model_evaluation_output_epoch-9-train-loss-1                             0.576   \n",
              "summary_BioBERT_HDBSCAN_UMAP_Long_T5_prediction                          0.559   \n",
              "summary_BioBERT_K_Means_Long_T5_prediction                               0.519   \n",
              "\n",
              "                                                 evidence_inference_divergence_f1  \n",
              "model                                                                              \n",
              "BERT_Kmeans_extractive                                                      0.372  \n",
              "BERT_extractive_prediction                                                  0.400  \n",
              "BioBERT_K_Means_extractive                                                  0.379  \n",
              "BioBERT_Kmeans_extractive                                                   0.389  \n",
              "BioBERT_extractive_prediction                                               0.378  \n",
              "SciBERT_Kmeans_extractive                                                   0.376  \n",
              "SciBERT_extractive_prediction                                               0.371  \n",
              "longt5_with_conclusion_only_validation                                      0.377  \n",
              "model_evaluation_output_epoch-8-train-loss-2                                0.336  \n",
              "model_evaluation_output_epoch-9-train-loss-1                                0.332  \n",
              "summary_BioBERT_HDBSCAN_UMAP_Long_T5_prediction                             0.363  \n",
              "summary_BioBERT_K_Means_Long_T5_prediction                                  0.382  "
            ]
          },
          "metadata": {},
          "output_type": "display_data"
        }
      ],
      "source": [
        "import pandas as pd\n",
        "import pickle\n",
        "import os\n",
        "\n",
        "results_path = \"evaluator/results\"\n",
        "\n",
        "# load results from pickle files\n",
        "results = {}\n",
        "for filename in os.listdir(results_path):\n",
        "    if filename.endswith(\".pkl\"):\n",
        "        with open(os.path.join(results_path, filename), \"rb\") as f:\n",
        "            results[filename.split(\".\")[0]] = pickle.load(f)\n",
        "\n",
        "# convert to dataframe but only for the metrics we care about\n",
        "df_results = pd.DataFrame({\n",
        "    \"model\": list(results.keys()),\n",
        "    \"rouge1\": [results[model][\"rouge\"][\"rouge1\"].mid.fmeasure for model in results.keys()],\n",
        "    \"rouge2\": [results[model][\"rouge\"][\"rouge2\"].mid.fmeasure for model in results.keys()],\n",
        "    \"rougeL\": [results[model][\"rouge\"][\"rougeL\"].mid.fmeasure for model in results.keys()],\n",
        "    \"bertscore_avg_f1\": [results[model][\"bertscore_avg_f1\"] for model in results.keys()],\n",
        "    \"evidence_inference_divergence\": [results[model][\"evidence_inference_divergence\"][\"average\"] for model in results.keys()],\n",
        "    \"evidence_inference_divergence_f1\": [results[model][\"evidence_inference_divergence\"][\"f1_score\"][\"macro avg\"][\"f1-score\"] for model in results.keys()],\n",
        "}).set_index(\"model\")\n",
        "\n",
        "# display with 3 significant digits, without the 0s before the decimal point\n",
        "pd.options.display.float_format = \"{:.3f}\".format\n",
        "display(df_results.sort_index())"
      ]
    },
    {
      "cell_type": "code",
      "execution_count": 16,
      "metadata": {},
      "outputs": [
        {
          "name": "stderr",
          "output_type": "stream",
          "text": [
            "/var/folders/qp/hy557z1d5_5ckqwp_fxv8j440000gn/T/ipykernel_71294/699215200.py:19: UserWarning: FixedFormatter should only be used together with FixedLocator\n",
            "  ax.set_xticklabels([\"\"] + df_results.index.str.replace(\"_\", \"\\n\").tolist())\n",
            "/var/folders/qp/hy557z1d5_5ckqwp_fxv8j440000gn/T/ipykernel_71294/699215200.py:24: UserWarning: Tight layout not applied. tight_layout cannot make axes height small enough to accommodate all axes decorations.\n",
            "  plt.tight_layout()\n"
          ]
        },
        {
          "data": {
            "image/png": "[encoded data removed]",
            "text/plain": [
              "<Figure size 1000x1000 with 4 Axes>"
            ]
          },
          "metadata": {},
          "output_type": "display_data"
        }
      ],
      "source": [
        "fig = plt.figure(figsize=(10, 10))\n",
        "for mg_idx, metric_group in enumerate([[\"rouge1\", \"rouge2\", \"rougeL\"], [\"bertscore_avg_f1\"], [\"evidence_inference_divergence\"], [\"evidence_inference_divergence_f1\"]]):\n",
        "    ax = fig.add_subplot(4, 1, mg_idx + 1)\n",
        "    if mg_idx == 0:\n",
        "        df_results[metric_group].plot.bar(rot=90, title=metric_group[0], ax=ax)\n",
        "    else:\n",
        "        # use scatter plot instead of bar plot. set x to be enumerate(df_results.index)\n",
        "        ax.scatter(x=range(len(df_results)), y=df_results[metric_group[0]], label=metric_group[0])\n",
        "\n",
        "    plt.ylabel(\"\\n\".join(metric_group).replace(\"_\", \"\\n\"))\n",
        "    plt.title(\"\")\n",
        "\n",
        "    if mg_idx != 3:\n",
        "        plt.xlabel(\"\")\n",
        "        # also set xticklabels to white\n",
        "        ax.tick_params(axis='x', colors='white')\n",
        "    else:\n",
        "        # replace x tick labels \"_\" with \"\\n\". make sure tick labels are set to the correct value\n",
        "        ax.set_xticklabels([\"\"] + df_results.index.str.replace(\"_\", \"\\n\").tolist())\n",
        "\n",
        "        #\n",
        "\n",
        "\n",
        "plt.tight_layout()"
      ]
    },
    {
      "cell_type": "code",
      "execution_count": 17,
      "metadata": {},
      "outputs": [
        {
          "data": {
            "text/plain": [
              "<Axes: xlabel='model'>"
            ]
          },
          "execution_count": 17,
          "metadata": {},
          "output_type": "execute_result"
        },
        {
          "data": {
            "image/png": "[encoded data removed]",
            "text/plain": [
              "<Figure size 1000x500 with 1 Axes>"
            ]
          },
          "metadata": {},
          "output_type": "display_data"
        }
      ],
      "source": [
        "df_results[\"bertscore_avg_f1\"].plot.bar(figsize=(10, 5), rot=90)"
      ]
    },
    {
      "cell_type": "code",
      "execution_count": null,
      "metadata": {},
      "outputs": [],
      "source": [
        "df_results[\"bertscore_avg_f1\"].plot.bar(figsize=(10, 5), rot=90)"
      ]
    }
  ],
  "metadata": {
    "colab": {
      "provenance": []
    },
    "kernelspec": {
      "display_name": "Python 3",
      "name": "python3"
    },
    "language_info": {
      "codemirror_mode": {
        "name": "ipython",
        "version": 3
      },
      "file_extension": ".py",
      "mimetype": "text/x-python",
      "name": "python",
      "nbconvert_exporter": "python",
      "pygments_lexer": "ipython3",
      "version": "3.8.18"
    }
  },
  "nbformat": 4,
  "nbformat_minor": 0
}
