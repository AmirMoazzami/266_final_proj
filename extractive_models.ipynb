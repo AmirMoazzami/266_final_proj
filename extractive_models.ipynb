{
 "cells": [
  {
   "cell_type": "code",
   "execution_count": 1,
   "id": "52899d3f",
   "metadata": {},
   "outputs": [
    {
     "name": "stdout",
     "output_type": "stream",
     "text": [
      "PyTorch version: 2.1.0\n",
      "Is MPS (Metal Performance Shader) built? True\n",
      "Is MPS available? True\n",
      "Using device: mps\n"
     ]
    }
   ],
   "source": [
    "import torch\n",
    "import numpy as np\n",
    "import pandas as pd\n",
    "import sklearn\n",
    "import matplotlib.pyplot as plt\n",
    "\n",
    "print(f\"PyTorch version: {torch.__version__}\")\n",
    "\n",
    "# Check PyTorch has access to MPS (Metal Performance Shader, Apple's GPU architecture)\n",
    "print(f\"Is MPS (Metal Performance Shader) built? {torch.backends.mps.is_built()}\")\n",
    "print(f\"Is MPS available? {torch.backends.mps.is_available()}\")\n",
    "\n",
    "# Set the device      \n",
    "device = \"mps\" if torch.backends.mps.is_available() else \"cpu\"\n",
    "print(f\"Using device: {device}\")"
   ]
  },
  {
   "cell_type": "code",
   "execution_count": 2,
   "id": "158e27c3",
   "metadata": {},
   "outputs": [
    {
     "name": "stdout",
     "output_type": "stream",
     "text": [
      "tensor([1.], device='mps:0')\n"
     ]
    }
   ],
   "source": [
    "import torch\n",
    "if torch.backends.mps.is_available():\n",
    "    mps_device = torch.device(\"mps\")\n",
    "    x = torch.ones(1, device=mps_device)\n",
    "    print (x)\n",
    "else:\n",
    "    print (\"MPS device not found.\")"
   ]
  },
  {
   "cell_type": "markdown",
   "id": "2c2dba55",
   "metadata": {},
   "source": [
    "**Extractive: BERT**"
   ]
  },
  {
   "cell_type": "code",
   "execution_count": 3,
   "id": "18986532",
   "metadata": {},
   "outputs": [
    {
     "data": {
      "application/vnd.jupyter.widget-view+json": {
       "model_id": "fb410428640444e7b90df9a837b6a31a",
       "version_major": 2,
       "version_minor": 0
      },
      "text/plain": [
       "Map:   0%|          | 0/2021 [00:00<?, ? examples/s]"
      ]
     },
     "metadata": {},
     "output_type": "display_data"
    },
    {
     "name": "stdout",
     "output_type": "stream",
     "text": [
      "Saved summaries to BERT_extractive_prediction.csv\n"
     ]
    }
   ],
   "source": [
    "from transformers import BertTokenizer, BertModel\n",
    "import torch\n",
    "import numpy as np\n",
    "from sklearn.cluster import KMeans\n",
    "from datasets import load_dataset\n",
    "import pandas as pd\n",
    "import time\n",
    "\n",
    "# Set the device to MPS if available, else CPU\n",
    "device = torch.device(\"mps\" if torch.backends.mps.is_available() else \"cpu\")\n",
    "\n",
    "\n",
    "# Load the dataset and cut down to the first 5 for demonstration\n",
    "dataset = load_dataset(\"allenai/mslr2022\", \"ms2\", split='validation')\n",
    "# dataset = dataset.select(range(10))  # Use select to create a subset\n",
    "\n",
    "\n",
    "# Initialize BERT and move the model to the device\n",
    "tokenizer = BertTokenizer.from_pretrained('bert-base-uncased')\n",
    "model = BertModel.from_pretrained('bert-base-uncased').to(device)\n",
    "\n",
    "def bert_sentence_embeddings(sentences):\n",
    "    embeddings = []\n",
    "    for sentence in sentences:\n",
    "        # Move inputs to the device\n",
    "        inputs = tokenizer(sentence, return_tensors='pt', max_length=512, truncation=True).to(device)\n",
    "        with torch.no_grad():\n",
    "            outputs = model(**inputs)\n",
    "        # Move outputs back to CPU\n",
    "        embeddings.append(outputs.last_hidden_state.mean(dim=1).squeeze().cpu().numpy())\n",
    "    return np.array(embeddings)\n",
    "\n",
    "def select_top_sentences(sentences, embeddings, n_sentences=2):\n",
    "    if len(sentences) < n_sentences:\n",
    "        return ' '.join(sentences)\n",
    "    kmeans = KMeans(n_clusters=n_sentences, n_init=10)\n",
    "    kmeans.fit(embeddings)\n",
    "    top_sentence_indices = np.argmin(\n",
    "        np.linalg.norm(embeddings[:, np.newaxis] - kmeans.cluster_centers_, axis=2), axis=0)\n",
    "    top_sentences = [sentences[index] for index in top_sentence_indices]\n",
    "    return ' '.join(top_sentences)\n",
    "\n",
    "def process_row(row):\n",
    "    review_id = row['review_id']\n",
    "    abstract_list = row['abstract'] \n",
    "\n",
    "    combined_summary = ''\n",
    "\n",
    "    for abstract in abstract_list:\n",
    "        # Check if the abstract is a string; if not, join it into a single string\n",
    "        abstract_text = ' '.join(abstract) if isinstance(abstract, list) else abstract\n",
    "\n",
    "        # Split abstract into sentences\n",
    "        sentences = abstract_text.split('. ')\n",
    "        # Generate embeddings for each sentence\n",
    "        embeddings = bert_sentence_embeddings(sentences)\n",
    "        # Select the top sentences from these embeddings\n",
    "        summary = select_top_sentences(sentences, embeddings)\n",
    "        \n",
    "#         # Print the top sentences for debugging\n",
    "#         print(\"Top sentences for this abstract:\", summary)\n",
    "        \n",
    "        \n",
    "        # Combine the summaries from each abstract\n",
    "        combined_summary += summary + ' '\n",
    "\n",
    "    return {\"review_id\": review_id, \"summary\": combined_summary.strip()}\n",
    "\n",
    "# Apply the function to each element of the dataset\n",
    "summaries_dataset = dataset.map(process_row)\n",
    "\n",
    "# Convert to pandas DataFrame\n",
    "df = pd.DataFrame(summaries_dataset)\n",
    "df = df[['review_id', 'summary']]\n",
    "# Save to CSV\n",
    "csv_file_path = 'BERT_extractive_prediction.csv'\n",
    "df.to_csv(csv_file_path, index=True)\n",
    "\n",
    "print(f\"Saved summaries to {csv_file_path}\")"
   ]
  },
  {
   "cell_type": "markdown",
   "id": "7c5414e9",
   "metadata": {},
   "source": [
    "**Extractive: SciBERT**"
   ]
  },
  {
   "cell_type": "code",
   "execution_count": 4,
   "id": "296b5018",
   "metadata": {},
   "outputs": [
    {
     "data": {
      "application/vnd.jupyter.widget-view+json": {
       "model_id": "ae0546a39316480dbb2dfd252b15a744",
       "version_major": 2,
       "version_minor": 0
      },
      "text/plain": [
       "Map:   0%|          | 0/2021 [00:00<?, ? examples/s]"
      ]
     },
     "metadata": {},
     "output_type": "display_data"
    },
    {
     "name": "stdout",
     "output_type": "stream",
     "text": [
      "Saved summaries to SciBERT_extractive_prediction.csv\n"
     ]
    }
   ],
   "source": [
    "from transformers import BertTokenizer, BertModel\n",
    "import torch\n",
    "import numpy as np\n",
    "from sklearn.cluster import KMeans\n",
    "from datasets import load_dataset\n",
    "import pandas as pd\n",
    "import time\n",
    "\n",
    "# Set the device to MPS if available, else CPU\n",
    "device = torch.device(\"mps\" if torch.backends.mps.is_available() else \"cpu\")\n",
    "\n",
    "\n",
    "# Load the dataset and cut down to the first 5 for demonstration\n",
    "dataset = load_dataset(\"allenai/mslr2022\", \"ms2\", split='validation')\n",
    "# dataset = dataset.select(range(5))  # Use select to create a subset\n",
    "\n",
    "\n",
    "# Initialize the SciBERT tokenizer and model\n",
    "tokenizer = BertTokenizer.from_pretrained('allenai/scibert_scivocab_uncased')\n",
    "model = BertModel.from_pretrained('allenai/scibert_scivocab_uncased').to(device)\n",
    "\n",
    "def bert_sentence_embeddings(sentences):\n",
    "    embeddings = []\n",
    "    for sentence in sentences:\n",
    "        # Move inputs to the device\n",
    "        inputs = tokenizer(sentence, return_tensors='pt', max_length=512, truncation=True).to(device)\n",
    "        with torch.no_grad():\n",
    "            outputs = model(**inputs)\n",
    "        # Move outputs back to CPU\n",
    "        embeddings.append(outputs.last_hidden_state.mean(dim=1).squeeze().cpu().numpy())\n",
    "    return np.array(embeddings)\n",
    "\n",
    "def select_top_sentences(sentences, embeddings, n_sentences=2):\n",
    "    if len(sentences) < n_sentences:\n",
    "        return ' '.join(sentences)\n",
    "    kmeans = KMeans(n_clusters=n_sentences, n_init=10)\n",
    "    kmeans.fit(embeddings)\n",
    "    top_sentence_indices = np.argmin(\n",
    "        np.linalg.norm(embeddings[:, np.newaxis] - kmeans.cluster_centers_, axis=2), axis=0)\n",
    "    top_sentences = [sentences[index] for index in top_sentence_indices]\n",
    "    return ' '.join(top_sentences)\n",
    "\n",
    "def process_row(row):\n",
    "    review_id = row['review_id']\n",
    "    abstract_list = row['abstract'] \n",
    "\n",
    "    combined_summary = ''\n",
    "\n",
    "    for abstract in abstract_list:\n",
    "        # Check if the abstract is a string; if not, join it into a single string\n",
    "        abstract_text = ' '.join(abstract) if isinstance(abstract, list) else abstract\n",
    "\n",
    "        # Split abstract into sentences\n",
    "        sentences = abstract_text.split('. ')\n",
    "        # Generate embeddings for each sentence\n",
    "        embeddings = bert_sentence_embeddings(sentences)\n",
    "        # Select the top sentences from these embeddings\n",
    "        summary = select_top_sentences(sentences, embeddings)\n",
    "        \n",
    "#         # Print the top sentences for debugging\n",
    "#         print(\"Top sentences for this abstract:\", summary)\n",
    "        \n",
    "        \n",
    "        # Combine the summaries from each abstract\n",
    "        combined_summary += summary + ' '\n",
    "\n",
    "    return {\"review_id\": review_id, \"summary\": combined_summary.strip()}\n",
    "\n",
    "# Apply the function to each element of the dataset\n",
    "summaries_dataset = dataset.map(process_row)\n",
    "\n",
    "# Convert to pandas DataFrame\n",
    "df = pd.DataFrame(summaries_dataset)\n",
    "df = df[['review_id', 'summary']]\n",
    "# Save to CSV\n",
    "csv_file_path = 'SciBERT_extractive_prediction.csv'\n",
    "df.to_csv(csv_file_path, index=True)\n",
    "\n",
    "print(f\"Saved summaries to {csv_file_path}\")"
   ]
  },
  {
   "cell_type": "markdown",
   "id": "aa0ad4cc",
   "metadata": {},
   "source": [
    "**Extractive: BioBERT**"
   ]
  },
  {
   "cell_type": "code",
   "execution_count": 5,
   "id": "6e6c7344",
   "metadata": {},
   "outputs": [
    {
     "data": {
      "application/vnd.jupyter.widget-view+json": {
       "model_id": "5fb67ae437304f2ab9631c51bce40998",
       "version_major": 2,
       "version_minor": 0
      },
      "text/plain": [
       "Map:   0%|          | 0/2021 [00:00<?, ? examples/s]"
      ]
     },
     "metadata": {},
     "output_type": "display_data"
    },
    {
     "name": "stdout",
     "output_type": "stream",
     "text": [
      "Saved summaries to BioBERT_extractive_prediction.csv\n"
     ]
    }
   ],
   "source": [
    "from transformers import BertTokenizer, BertModel\n",
    "import torch\n",
    "import numpy as np\n",
    "from sklearn.cluster import KMeans\n",
    "from datasets import load_dataset\n",
    "import pandas as pd\n",
    "import time\n",
    "\n",
    "# Set the device to MPS if available, else CPU\n",
    "device = torch.device(\"mps\" if torch.backends.mps.is_available() else \"cpu\")\n",
    "\n",
    "\n",
    "# Load the dataset and cut down to the first 5 for demonstration\n",
    "dataset = load_dataset(\"allenai/mslr2022\", \"ms2\", split='validation')\n",
    "# dataset = dataset.select(range(5))  # Use select to create a subset\n",
    "\n",
    "\n",
    "# Initialize the BioBERT tokenizer and model\n",
    "tokenizer = BertTokenizer.from_pretrained('dmis-lab/biobert-base-cased-v1.1')\n",
    "model = BertModel.from_pretrained('dmis-lab/biobert-base-cased-v1.1').to(device)\n",
    "\n",
    "\n",
    "def bert_sentence_embeddings(sentences):\n",
    "    embeddings = []\n",
    "    for sentence in sentences:\n",
    "        # Move inputs to the device\n",
    "        inputs = tokenizer(sentence, return_tensors='pt', max_length=512, truncation=True).to(device)\n",
    "        with torch.no_grad():\n",
    "            outputs = model(**inputs)\n",
    "        # Move outputs back to CPU\n",
    "        embeddings.append(outputs.last_hidden_state.mean(dim=1).squeeze().cpu().numpy())\n",
    "    return np.array(embeddings)\n",
    "\n",
    "def select_top_sentences(sentences, embeddings, n_sentences=2):\n",
    "    if len(sentences) < n_sentences:\n",
    "        return ' '.join(sentences)\n",
    "    kmeans = KMeans(n_clusters=n_sentences, n_init=10)\n",
    "    kmeans.fit(embeddings)\n",
    "    top_sentence_indices = np.argmin(\n",
    "        np.linalg.norm(embeddings[:, np.newaxis] - kmeans.cluster_centers_, axis=2), axis=0)\n",
    "    top_sentences = [sentences[index] for index in top_sentence_indices]\n",
    "    return ' '.join(top_sentences)\n",
    "\n",
    "def process_row(row):\n",
    "    review_id = row['review_id']\n",
    "    abstract_list = row['abstract'] \n",
    "\n",
    "    combined_summary = ''\n",
    "\n",
    "    for abstract in abstract_list:\n",
    "        # Check if the abstract is a string; if not, join it into a single string\n",
    "        abstract_text = ' '.join(abstract) if isinstance(abstract, list) else abstract\n",
    "\n",
    "        # Split abstract into sentences\n",
    "        sentences = abstract_text.split('. ')\n",
    "        # Generate embeddings for each sentence\n",
    "        embeddings = bert_sentence_embeddings(sentences)\n",
    "        # Select the top sentences from these embeddings\n",
    "        summary = select_top_sentences(sentences, embeddings)\n",
    "        \n",
    "#         # Print the top sentences for debugging\n",
    "#         print(\"Top sentences for this abstract:\", summary)\n",
    "        \n",
    "        \n",
    "        # Combine the summaries from each abstract\n",
    "        combined_summary += summary + ' '\n",
    "\n",
    "    return {\"review_id\": review_id, \"summary\": combined_summary.strip()}\n",
    "\n",
    "# Apply the function to each element of the dataset\n",
    "summaries_dataset = dataset.map(process_row)\n",
    "\n",
    "# Convert to pandas DataFrame\n",
    "df = pd.DataFrame(summaries_dataset)\n",
    "df = df[['review_id', 'summary']]\n",
    "# Save to CSV\n",
    "csv_file_path = 'BioBERT_extractive_prediction.csv'\n",
    "df.to_csv(csv_file_path, index=True)\n",
    "\n",
    "print(f\"Saved summaries to {csv_file_path}\")"
   ]
  }
 ],
 "metadata": {
  "kernelspec": {
   "display_name": "Python 3 (ipykernel)",
   "language": "python",
   "name": "python3"
  },
  "language_info": {
   "codemirror_mode": {
    "name": "ipython",
    "version": 3
   },
   "file_extension": ".py",
   "mimetype": "text/x-python",
   "name": "python",
   "nbconvert_exporter": "python",
   "pygments_lexer": "ipython3",
   "version": "3.8.18"
  }
 },
 "nbformat": 4,
 "nbformat_minor": 5
}
