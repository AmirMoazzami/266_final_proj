{
 "cells": [
  {
   "cell_type": "code",
   "execution_count": null,
   "id": "b29af5bb",
   "metadata": {},
   "outputs": [],
   "source": [
    "#Download and Extract the Dataset:\n",
    "!wget https://ai2-s2-mslr.s3.us-west-2.amazonaws.com/mslr_data.tar.gz\n",
    "!tar -xvf mslr_data.tar.gz\n",
    "\n",
    "#Delete the Cochrane dataset and any other unwanted files:\n",
    "!rm -r mslr_data/cochrane/\n",
    "!rm mslr_data.tar.gz*\n",
    "\n",
    "#Move the ms2 directory up one level and remove the parent mslr_data directory:\n",
    "!mv mslr_data/ms2 ./\n",
    "!rm -r mslr_data/\n",
    "!rm -r sample_data/"
   ]
  },
  {
   "cell_type": "markdown",
   "id": "b5bca7f9",
   "metadata": {},
   "source": [
    "_______"
   ]
  },
  {
   "cell_type": "code",
   "execution_count": 1,
   "id": "2552056c",
   "metadata": {},
   "outputs": [
    {
     "name": "stdout",
     "output_type": "stream",
     "text": [
      "TensorFlow has access to the following devices:\n",
      "[PhysicalDevice(name='/physical_device:CPU:0', device_type='CPU'), PhysicalDevice(name='/physical_device:GPU:0', device_type='GPU')]\n",
      "TensorFlow version: 2.9.0\n"
     ]
    },
    {
     "data": {
      "text/html": [
       "<div>\n",
       "<style scoped>\n",
       "    .dataframe tbody tr th:only-of-type {\n",
       "        vertical-align: middle;\n",
       "    }\n",
       "\n",
       "    .dataframe tbody tr th {\n",
       "        vertical-align: top;\n",
       "    }\n",
       "\n",
       "    .dataframe thead th {\n",
       "        text-align: right;\n",
       "    }\n",
       "</style>\n",
       "<table border=\"1\" class=\"dataframe\">\n",
       "  <thead>\n",
       "    <tr style=\"text-align: right;\">\n",
       "      <th></th>\n",
       "      <th>ReviewID</th>\n",
       "      <th>Abstract</th>\n",
       "    </tr>\n",
       "  </thead>\n",
       "  <tbody>\n",
       "    <tr>\n",
       "      <th>0</th>\n",
       "      <td>9712593</td>\n",
       "      <td>A r and omized controlled prospect i ve clinic...</td>\n",
       "    </tr>\n",
       "    <tr>\n",
       "      <th>1</th>\n",
       "      <td>10103327</td>\n",
       "      <td>OBJECTIVES To measure the proportion of childr...</td>\n",
       "    </tr>\n",
       "    <tr>\n",
       "      <th>2</th>\n",
       "      <td>10567628</td>\n",
       "      <td>Patients with chronic obstructive pulmonary di...</td>\n",
       "    </tr>\n",
       "    <tr>\n",
       "      <th>3</th>\n",
       "      <td>10732935</td>\n",
       "      <td>It is often necessary to adjust a patient ’s s...</td>\n",
       "    </tr>\n",
       "    <tr>\n",
       "      <th>4</th>\n",
       "      <td>10796140</td>\n",
       "      <td>Previous studies have found that there is a co...</td>\n",
       "    </tr>\n",
       "  </tbody>\n",
       "</table>\n",
       "</div>"
      ],
      "text/plain": [
       "   ReviewID                                           Abstract\n",
       "0   9712593  A r and omized controlled prospect i ve clinic...\n",
       "1  10103327  OBJECTIVES To measure the proportion of childr...\n",
       "2  10567628  Patients with chronic obstructive pulmonary di...\n",
       "3  10732935  It is often necessary to adjust a patient ’s s...\n",
       "4  10796140  Previous studies have found that there is a co..."
      ]
     },
     "execution_count": 1,
     "metadata": {},
     "output_type": "execute_result"
    }
   ],
   "source": [
    "# sure the GPUs are working \n",
    "import tensorflow as tf\n",
    "\n",
    "# Check for TensorFlow GPU access\n",
    "print(f\"TensorFlow has access to the following devices:\\n{tf.config.list_physical_devices()}\")\n",
    "\n",
    "# See TensorFlow version\n",
    "print(f\"TensorFlow version: {tf.__version__}\")\n",
    "#import \n",
    "import pandas as pd\n",
    "import matplotlib.pyplot as plt\n",
    "import seaborn as sns\n",
    "\n",
    "# from transformers import PegasusTokenizer, TFPegasusForConditionalGeneration, AutoConfig\n",
    "from transformers import PegasusTokenizer, PegasusForConditionalGeneration\n",
    "import torch\n",
    "\n",
    "import evaluate\n",
    "from pprint import pprint  # Makes longer output readable without horizontal scrolling\n",
    "\n",
    "import csv\n",
    "\n",
    "\n",
    "# Load the data- test inputs\n",
    "df = pd.read_csv('ms2/test-inputs.csv')\n",
    "\n",
    "# Group by ReviewID and concatenate all Abstracts\n",
    "df = df.groupby('ReviewID').agg({\n",
    "    'Abstract': ' '.join\n",
    "}).reset_index()\n",
    "\n",
    "df.head()\n",
    "\n"
   ]
  },
  {
   "cell_type": "code",
   "execution_count": null,
   "id": "404fc190",
   "metadata": {},
   "outputs": [],
   "source": [
    "# # Replace 'your_review_id' with the actual ReviewID you're looking for\n",
    "# your_review_id = 9712593\n",
    "\n",
    "# # Select the row where 'ReviewID' matches 'your_review_id'\n",
    "# target_text = df.loc[df['ReviewID'] == your_review_id, 'Abstract'].values[0]\n",
    "\n",
    "# print(target_text)"
   ]
  },
  {
   "cell_type": "code",
   "execution_count": null,
   "id": "2f74b125",
   "metadata": {},
   "outputs": [],
   "source": [
    "#tokenize\n",
    "\n",
    "# Initialize the Pegasus tokenizer and model\n",
    "tokenizer = PegasusTokenizer.from_pretrained(\"google/pegasus-large\")\n",
    "model = PegasusForConditionalGeneration.from_pretrained(\"google/pegasus-large\")\n",
    "\n",
    "# Tokenize the inputs\n",
    "inputs = tokenizer(df['Abstract'].tolist(), max_length=1024, \n",
    "                    truncation=True, padding=\"max_length\", return_tensors=\"pt\")  # Note return_tensors=\"pt\" for PyTorch\n"
   ]
  },
  {
   "cell_type": "code",
   "execution_count": null,
   "id": "a0f61488",
   "metadata": {},
   "outputs": [],
   "source": [
    "# Define the batch size\n",
    "batch_size = 5\n",
    "\n",
    "# Initialize the results list\n",
    "results = []\n",
    "\n",
    "# Generate summaries in batches of 5\n",
    "for i in range(0, len(inputs['input_ids']), batch_size):\n",
    "    input_ids_batch = inputs['input_ids'][i:i+batch_size]\n",
    "    review_ids_batch = df['ReviewID'][i:i+batch_size].tolist()  # Get the corresponding ReviewIDs\n",
    "    summary_ids = model.generate(input_ids_batch,\n",
    "                                 num_beams=2,\n",
    "                                 no_repeat_ngram_size=2,\n",
    "                                 min_length=10,\n",
    "                                 max_length=800,\n",
    "                                 early_stopping=True)\n",
    "    batch_summaries = tokenizer.batch_decode(summary_ids, skip_special_tokens=True)\n",
    "\n",
    "    # Append each summary with its ReviewID to the results list\n",
    "    for review_id, summary in zip(review_ids_batch, batch_summaries):\n",
    "        results.append({'ReviewID': review_id, 'Summary': summary})\n",
    "\n",
    "# Convert the results to a DataFrame\n",
    "summaries_df = pd.DataFrame(results)\n",
    "\n",
    "# Save the DataFrame to a CSV file\n",
    "output_file = '/Users/faridgholitabar/Coding/266_final_proj/test-prediction.csv'\n",
    "summaries_df.to_csv(output_file, index=True)\n",
    "print(f\"Saved summaries to {output_file}\")"
   ]
  },
  {
   "cell_type": "markdown",
   "id": "65b47dea",
   "metadata": {},
   "source": [
    "_______"
   ]
  },
  {
   "cell_type": "markdown",
   "id": "3eec2dfd",
   "metadata": {},
   "source": [
    "***Run the same code on the dev dataset***"
   ]
  },
  {
   "cell_type": "code",
   "execution_count": null,
   "id": "2e1e0bc7",
   "metadata": {},
   "outputs": [],
   "source": [
    "# Load the data - test inputs\n",
    "df_dev = pd.read_csv('ms2/dev-inputs.csv')\n",
    "\n",
    "# Group by ReviewID and concatenate all Abstracts\n",
    "df_dev = df_dev.groupby('ReviewID').agg({\n",
    "    'Abstract': ' '.join\n",
    "}).reset_index()\n",
    "\n",
    "print(df_dev.head())\n",
    "\n",
    "# Initialize the Pegasus tokenizer and model\n",
    "tokenizer = PegasusTokenizer.from_pretrained(\"google/pegasus-large\")\n",
    "model = PegasusForConditionalGeneration.from_pretrained(\"google/pegasus-large\")\n",
    "\n",
    "# Tokenize the inputs\n",
    "inputs = tokenizer(df_dev['Abstract'].tolist(), max_length=1024, \n",
    "                    truncation=True, padding=\"max_length\", return_tensors=\"pt\")  # Note return_tensors=\"pt\" for PyTorch\n",
    "\n",
    "# Define the batch size\n",
    "batch_size = 5\n",
    "\n",
    "# Initialize the results list\n",
    "results = []\n",
    "\n",
    "# Generate summaries in batches\n",
    "for i in range(0, len(inputs['input_ids']), batch_size):\n",
    "    input_ids_batch = inputs['input_ids'][i:i+batch_size]\n",
    "    review_ids_batch = df_dev['ReviewID'][i:i+batch_size].tolist()  # Get the corresponding ReviewIDs\n",
    "    summary_ids = model.generate(input_ids_batch,\n",
    "                                 num_beams=2,\n",
    "                                 no_repeat_ngram_size=2,\n",
    "                                 min_length=10,\n",
    "                                 max_length=800,\n",
    "                                 early_stopping=True)\n",
    "    batch_summaries = tokenizer.batch_decode(summary_ids, skip_special_tokens=True)\n",
    "\n",
    "    # Append each summary with its ReviewID to the results list\n",
    "    for review_id, summary in zip(review_ids_batch, batch_summaries):\n",
    "        results.append({'ReviewID': review_id, 'Summary': summary})\n",
    "\n",
    "# Convert the results to a DataFrame\n",
    "summaries_df_dev = pd.DataFrame(results)\n",
    "\n",
    "# Save the DataFrame to a CSV file\n",
    "output_file_dev = 'dev-prediction.csv'\n",
    "summaries_df_dev.to_csv(output_file_dev, index=True)\n",
    "print(f\"Saved summaries to {output_file_dev}\")\n"
   ]
  },
  {
   "cell_type": "code",
   "execution_count": 7,
   "id": "41487ab2",
   "metadata": {},
   "outputs": [
    {
     "data": {
      "text/html": [
       "<div>\n",
       "<style scoped>\n",
       "    .dataframe tbody tr th:only-of-type {\n",
       "        vertical-align: middle;\n",
       "    }\n",
       "\n",
       "    .dataframe tbody tr th {\n",
       "        vertical-align: top;\n",
       "    }\n",
       "\n",
       "    .dataframe thead th {\n",
       "        text-align: right;\n",
       "    }\n",
       "</style>\n",
       "<table border=\"1\" class=\"dataframe\">\n",
       "  <thead>\n",
       "    <tr style=\"text-align: right;\">\n",
       "      <th></th>\n",
       "      <th>ReviewID</th>\n",
       "      <th>Abstract</th>\n",
       "    </tr>\n",
       "  </thead>\n",
       "  <tbody>\n",
       "    <tr>\n",
       "      <th>0</th>\n",
       "      <td>9470890</td>\n",
       "      <td>A clinical trial , aim ed at secondary prevent...</td>\n",
       "    </tr>\n",
       "    <tr>\n",
       "      <th>1</th>\n",
       "      <td>9678145</td>\n",
       "      <td>Reports in the surgical literature are conflic...</td>\n",
       "    </tr>\n",
       "    <tr>\n",
       "      <th>2</th>\n",
       "      <td>9755013</td>\n",
       "      <td>In the majority of patients with neck pain , s...</td>\n",
       "    </tr>\n",
       "    <tr>\n",
       "      <th>3</th>\n",
       "      <td>9876364</td>\n",
       "      <td>The authors evaluated a six-session interactiv...</td>\n",
       "    </tr>\n",
       "    <tr>\n",
       "      <th>4</th>\n",
       "      <td>10716002</td>\n",
       "      <td>This paper reports the 5-year findings of a mu...</td>\n",
       "    </tr>\n",
       "  </tbody>\n",
       "</table>\n",
       "</div>"
      ],
      "text/plain": [
       "   ReviewID                                           Abstract\n",
       "0   9470890  A clinical trial , aim ed at secondary prevent...\n",
       "1   9678145  Reports in the surgical literature are conflic...\n",
       "2   9755013  In the majority of patients with neck pain , s...\n",
       "3   9876364  The authors evaluated a six-session interactiv...\n",
       "4  10716002  This paper reports the 5-year findings of a mu..."
      ]
     },
     "execution_count": 7,
     "metadata": {},
     "output_type": "execute_result"
    }
   ],
   "source": [
    "# Load the data - test inputs\n",
    "df_dev = pd.read_csv('ms2/dev-inputs.csv')\n",
    "\n",
    "# Group by ReviewID and concatenate all Abstracts\n",
    "df_dev = df_dev.groupby('ReviewID').agg({\n",
    "    'Abstract': ' '.join\n",
    "}).reset_index()\n",
    "\n",
    "df_dev.head()"
   ]
  },
  {
   "cell_type": "code",
   "execution_count": null,
   "id": "17c78af4",
   "metadata": {},
   "outputs": [],
   "source": []
  },
  {
   "cell_type": "code",
   "execution_count": 8,
   "id": "0d133993",
   "metadata": {},
   "outputs": [
    {
     "data": {
      "text/plain": [
       "(2021, 2)"
      ]
     },
     "execution_count": 8,
     "metadata": {},
     "output_type": "execute_result"
    }
   ],
   "source": [
    "df_dev.shape"
   ]
  },
  {
   "cell_type": "code",
   "execution_count": null,
   "id": "1a054cc9",
   "metadata": {},
   "outputs": [],
   "source": []
  },
  {
   "cell_type": "code",
   "execution_count": 3,
   "id": "8bbdb62f",
   "metadata": {},
   "outputs": [
    {
     "data": {
      "text/plain": [
       "(1667, 2)"
      ]
     },
     "execution_count": 3,
     "metadata": {},
     "output_type": "execute_result"
    }
   ],
   "source": [
    "df.shape"
   ]
  },
  {
   "cell_type": "code",
   "execution_count": 6,
   "id": "7da19cf4",
   "metadata": {},
   "outputs": [
    {
     "data": {
      "text/plain": [
       "(323608, 5)"
      ]
     },
     "execution_count": 6,
     "metadata": {},
     "output_type": "execute_result"
    }
   ],
   "source": [
    "df_train = pd.read_csv('ms2/train-inputs.csv')\n",
    "df_train.shape"
   ]
  }
 ],
 "metadata": {
  "kernelspec": {
   "display_name": "Python 3 (ipykernel)",
   "language": "python",
   "name": "python3"
  },
  "language_info": {
   "codemirror_mode": {
    "name": "ipython",
    "version": 3
   },
   "file_extension": ".py",
   "mimetype": "text/x-python",
   "name": "python",
   "nbconvert_exporter": "python",
   "pygments_lexer": "ipython3",
   "version": "3.8.18"
  }
 },
 "nbformat": 4,
 "nbformat_minor": 5
}
