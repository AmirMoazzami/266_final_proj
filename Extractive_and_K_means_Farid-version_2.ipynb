{
 "cells": [
  {
   "cell_type": "code",
   "execution_count": 13,
   "id": "74bc1a2e",
   "metadata": {},
   "outputs": [
    {
     "name": "stdout",
     "output_type": "stream",
     "text": [
      "TensorFlow has access to the following devices:\n",
      "[PhysicalDevice(name='/physical_device:CPU:0', device_type='CPU'), PhysicalDevice(name='/physical_device:GPU:0', device_type='GPU')]\n",
      "TensorFlow version: 2.9.0\n"
     ]
    }
   ],
   "source": [
    "import pandas as pd\n",
    "import matplotlib.pyplot as plt\n",
    "import seaborn as sns\n",
    "import torch\n",
    "import evaluate\n",
    "import numpy as np\n",
    "\n",
    "from pprint import pprint\n",
    "from datasets import load_dataset\n",
    "from sklearn.cluster import KMeans\n",
    "\n",
    "from transformers import PegasusTokenizer, PegasusForConditionalGeneration\n",
    "from transformers import BertTokenizer, BertModel\n",
    "from nltk.tokenize import sent_tokenize\n",
    "\n",
    "# sure the GPUs are working \n",
    "import tensorflow as tf\n",
    "\n",
    "# Check for TensorFlow GPU access\n",
    "print(f\"TensorFlow has access to the following devices:\\n{tf.config.list_physical_devices()}\")\n",
    "\n",
    "# See TensorFlow version\n",
    "print(f\"TensorFlow version: {tf.__version__}\")\n",
    "\n",
    "\n",
    "# # Load the dataset\n",
    "# dataset = load_dataset(\"allenai/mslr2022\", \"ms2\", split='validation')\n",
    "\n",
    "# # Convert the dataset to a Pandas DataFrame\n",
    "# df = dataset.to_pandas()\n",
    "\n",
    "\n",
    "# Load the data- test inputs\n",
    "df = pd.read_csv('mslr2022_validation.csv')\n",
    "\n",
    "\n",
    "df = df[['review_id', 'abstract']]\n",
    "\n",
    "#save the first 10 rows for practice \n",
    "df= df[5:10]\n",
    "\n",
    "# df.head()"
   ]
  },
  {
   "cell_type": "code",
   "execution_count": null,
   "id": "b2b2e6fa",
   "metadata": {},
   "outputs": [],
   "source": [
    "df.head(15)"
   ]
  },
  {
   "cell_type": "code",
   "execution_count": null,
   "id": "7ba72d0d",
   "metadata": {},
   "outputs": [],
   "source": [
    "# Split the abstracts into lists of sentences\n",
    "df['split_abstracts'] = df['abstract'].apply(lambda x: x.split('\\n '))\n",
    "df['split_abstracts']"
   ]
  },
  {
   "cell_type": "markdown",
   "id": "8bdce99a",
   "metadata": {},
   "source": [
    "***Extractive step: SCiBERT, K means***"
   ]
  },
  {
   "cell_type": "code",
   "execution_count": 14,
   "id": "2c2cccc7",
   "metadata": {},
   "outputs": [
    {
     "name": "stdout",
     "output_type": "stream",
     "text": [
      "Review ID: 16801507\n",
      "Summary: Markers of bone metabolism , including serum OPG , osteocalcin ( OC ) , bone-specific alkaline phosphatase activity ( BAP ) , PTH , tartrate-resistant acid phosphatase ( TRAP ) , and bone mineral density ( BMD ) , were measured before and during the treatment  BAP had decreased at month 3 in group A ( P < 0.05 ) , but not in group B Twenty patients with chronic glomerulonephritis treated with GC for the first time were chosen for this study  OC was decreased at month 1 but subsequently increased until month 12 in both groups  The present study demonstrated that the inhibition exerted by vitamin K2 of the reduction in OPG induced by GC may , at least in part , play a role in the prevention and treatment of GC-induced  bone loss' There were no significant differences between the groups in the incidence of serious adverse events  METHODS To evaluate the efficacy of strontium ranelate in preventing vertebral fractures in a phase 3 trial , we r and omly assigned 1649 postmenopausal women with osteoporosis ( low bone mineral density ) and at least one vertebral fracture to receive 2 g of oral strontium ranelate per day or placebo for three years  'BACKGROUND Osteoporotic structural damage and bone fragility result from reduced bone formation and increased bone resorption  We gave calcium and vitamin D supplements to both groups before and during the study  Vertebral radiographs were obtained annually , and measurements of bone mineral density were performed every six months  The level of ucOC was negatively correlated with 25OHD ( r = -0.32 , P < 0.001 ) even after excluding the effect of age , parathyroid hormone ( PTH ) , and creatinine by partial correlation ( r = -0.24 , P < 0.002 )  In conclusion , the increase in ucOC in the elderly reflects not only some degree of vitamin K deficiency but also their poor vitamin D status , suggesting that vitamin D may be important , either directly or indirectly through its effect on bone turnover , for achieving a normal gamma-carboxylation of OC  In 45 women ( 23 % ) serum ucOC was above the upper limit of the normal range for young women  To underst and the mechanism of the increase in the ucOC in the elderly and to assess its potential consequences on bone fragility , we have measured  ucOC  in the sera of 195 elderly institutionalized women 70 - 101 yr of age  'It has been previously shown that the level of circulating undercarboxylated osteocalcin ( ucOC ) is elevated in elderly women in comparison with young , healthy , premenopausal ones  Risk of hip fracture was also inversely associated with lettuce consumption ( RR : 0.55 ; 95 % CI : 0.40 , 0.78 ) for one or more servings per day compared with one or fewer servings per week ) , the food that contributed the most to dietary vitamin K intakes  OBJECTIVE We investigated the hypothesis that high intakes of vitamin K are associated with a lower  risk of hip fracture in women  However , data are limited on the effects of dietary vitamin K High serum concentrations of undercarboxylated osteocalcin and low serum concentrations of vitamin K are associated with lower bone mineral density and increased risk of hip fracture  Diet was assessed in 72327 women aged 38 - 63 y with a food-frequency question naire in 1984 ( baseline )  OBJECTIVE The objective of this study was to determine whether phylloquinone ( vitamin K(1 ) ) intake and biochemical indicators of vitamin K status are related to bone mineral content ( BMC ) and markers of bone formation and bone resorption in girls  R and omized phylloquinone supplementation trials are needed to further underst and the potential benefits of phylloquinone on bone acquisition in growing children' CONCLUSIONS Better vitamin K status was associated with decreased bone turnover in healthy girls consuming a typical US diet  Indicators of vitamin K status were not consistently associated with current BMC or gain in BMC over the 4-y study period  BMC of the total body , lumbar spine , and hip and dietary phylloquinone intake were measured annually for 4 y Conclusions : The rate of bone loss in all three subgroups of female athletes was unexpectedly high ; neither estrogen nor vitamin K supplementation prevented bone loss  Study Design : Prospect i ve cohort study  \"Background : Low bone mass leading to stress fractures is a well-known and yet unsolved problem among female athletes  Methods : We classified 115 female endurance athletes into amenorrheic , eumenorrheic , or estrogen-supplemented groups and r and omized them to receive either placebo or vitamin K1  The bone mineral densities of the subjects ' femoral neck and lumbar spine were measured at baseline and after 2 years  The milk : plasma concentration ratio of menaquinone-4 was > 10  Milk sample s were collected on days 4 , 8 , 16 , and 19  Breast-milk phylloquinone levels were raised in a dose-dependent manner : 4- , 12- , and 30-fold on day 16 for the 08 , 2.0 , and 4.0 mg group respectively  'The effect of  maternal phylloquinone supplementation  on vitamin K in breast milk was studied to establish : ( 1 ) if phylloquinone is the source of menaquinone-4 in breast milk ; ( 2 ) the dose-effect relationship between intake and obtainable levels  Detectable menaquinone-4 was found in ten of thirty-one day 4 plasma sample s Lateral spine radiography was done at baseline and at 24 and 36 months  For clinical ly apparent vertebral fractures , the corresponding numbers were 23 ( 2.3 % ) alendronate and 50 ( 5.0 % ) placebo ( relative hazard 0.45 [ 0.27 - 0.72 ] )  New symptomatic vertebral fractures were based on self-report and confirmed by radiography  The Fracture Intervention Trial aim ed to investigate the effect of alendronate on the risk of morphometric as well as clinical ly evident fractures in postmenopausal women with low bone mass  Results for women with at least one vertebral fracture at baseline are reported here  RESULTS Compared with baseline , the 2-year mean changes in bone mineral density were 2.0 % for hormone replacement therapy , -0.5 % for etidronate , 1.6 % for calcitonin , -3.6 % for alfacalcidol , -1.9 % for vitamin K , and -3.3 % for control  'PURPOSE To assess the comparative effectiveness of several medications on bone mineral density , biochemical bone markers , and the incidence of vertebral fractures in postmenopausal women with osteoporosis  Seventeen ( 26 % ) of the 66 control patients developed new vertebral fractures  CONCLUSION We observed significant reductions in the incidence of vertebral fractures with hormone replacement therapy , etidronate , and calcitonin , and significant improvements in bone mineral density with hormone replacement therapy and calcitonin' METHODS A total of 396 postmenopausal women , aged 50 to 75 years , were allocated r and omly to six equal-sized groups : hormone replacement therapy , etidronate , eel calcitonin , alfacalcidol , vitamin K ( menatetrenone ) , or control ( no treatment )  The main outcome was the change in BMD of the femoral neck and lumbar spine after 3 years , as measured by DXA  In the trial presented here we have investigated the potential complementary effect of vitamin K1 ( 1 mg/day ) and a mineral + vitamin D supplement ( 8 µg/day ) on postmenopausal bone loss  During the 3-year treatment period , participants received a daily supplement containing either placebo , or calcium , magnesium , zinc , and vitamin D ( MD group ) , or the same formulation with additional vitamin K1 ( MDK group )  The group receiving the supplement containing additional vitamin K1  showed reduced bone loss of the femoral neck : after 3 years the difference between the MDK and the placebo group was 1.7 % ( 95 % Cl : 0.35–3.44 ) and that between the MDK and MD group was 1.3 % ( 95 % Cl : 0.10–3.41 )  The design of our study was a r and omized , double-blind , placebo-controlled intervention study ; 181 healthy postmenopausal women between 50 and 60 years old were recruited , 155 of whom completed the study  We evaluated treatment with vitamin K(2 ) ( menatetrenone ; MK-4 ) in maintaining BMD and reducing the incidence of nonvertebral fractures in elderly female patients with PD  Correspondingly , significant decreases in Glu Oc and calcium were observed in the treated group , in association with an increase in both PTH and 1,25-(OH)(2)D In a r and om and prospect i ve study of PD patients , 60 received 45 mg of MK-4 daily for 12 months , and the remaining 60 ( untreated group ) did not   Vitamin K(2 ) level increased by 259.8 % in the treated group  BMD in the second metacarpals increased by 0.9 % in the treated group and decreased by 4.3 % in the untreated group ( p < 0.0001 )  One-way analysis of variance ( ANOVA ) with repeated measurements showed a significant decrease in BMD in the C group ( P < 0.001 )  'Abstract The effect of the combined administration of vitamin D3 and vitamin K2 on bone mineral density ( BMD ) of the lumbar spine was examined in postmenopausal women with osteoporosis  Ninety-two osteoporotic women who were more than 5 years after menopause , aged 55–81 years , were r and omly divided into four administration groups : vitamin D3 ( 1α hydroxyvitamin D3 , 0.75 μg/day ) ( D group ; n = 29 ) , vitamin K2 ( menatetrenone , 45 mg/day ) ( K group ; n = 22 ) , vitamin D3 plus vitamin K2 ( DK group , n = 21 ) , and calcium ( calcium lactate , 2 g/day ) ( C group ; n = 20 )  There were no significant differences in age , body mass index , years since menopause , and initial BMD among the four groups  BMD of the lumbar spine ( L2–L4 ) was measured by dual energy X-ray absorptiometry at 0 , 1 , and 2 years after the treatment started  Effects did not vary significantly according to prer and omization serum vitamin D levels  Censoring data from women when they ceased to adhere to the study medication reduced the hazard ratio for hip fracture to 0.71 ( 95 percent confidence interval , 0.52 to 0.97 )  Bone density was measured at three WHI centers  \"BACKGROUND The efficacy of calcium with vitamin D supplementation for preventing hip and other fractures in healthy postmenopausal women remains equivocal  )\" group A ) ( group D ) , respectively  Group B tended to have the highest percent changes of bone resorption markers among the four groups , but these increases were not significantly different between any of the groups  Bone formation and resorption markers were also measured before and after 6 months of treatment  'The purpose of this study is to evaluate the efficacy of vitamin K2 and 1,25-dihydroxyvitamin D3 [ 1,25-(OH)2D3 ] in preventing bone loss induced by estrogen deficiency during therapy with the GnRH agonist ( GnRH-a ) leuprolide  Bone mineral density was reduced in all four groups , but the percent changes varied slightly , at - 5.25 % ( group A ) , -3.72 % ( P < 0.05 vs 'OBJECTIVES To investigate the effect of vitamin K2 treatment for a year on spinal bone mineral density ( BMD ) in postmenopausal women , comparing with vitamin D3 hormone replacement therapy and to determine the factors which affect the efficacy of vitamin K2 therapy  SUBJECTS AND METHODS Seventy-two postmenopausal women were r and omized into four groups and treated with respective agents  CONCLUSIONS Vitamin K2 therapy may be a useful method for preventing postmenopausal spinal bone mineral loss  Before the therapy , 6 and 12 months after the treatment , their lumbar spine BMD were measured by dual energy X-ray absorptiometry  In addition , the therapy should be started early in postmenopausal period' 'BACKGROUND Once-daily injections of parathyroid hormone or its amino-terminal fragments increase bone formation and bone mass without causing hypercalcemia , but their effects on fractures are unknown  RESULTS New vertebral fractures occurred in 14 percent of the women in the placebo group and in 5 percent and 4 percent , respectively , of the women in the 20-microg and 40-microg parathyroid hormone groups ; the respective relative risks of fracture in the 20-microg and 40-microg groups , as compared with the placebo group , were 0.35 and 0.31 ( 95 percent confidence intervals , 0.22 to 0.55 and 0.19 to 0.50 )  Both doses increased total-body bone mineral by 2 to 4 more percentage points than did placebo  As compared with placebo , the 20-microg and 40-microg doses of parathyroid hormone increased bone mineral density by 9 and 13 more percentage points in the lumbar spine and by 3 and 6 more percentage points in the femoral neck ; the 40-microg dose decreased bone mineral density at the shaft of the radius by 2 more percentage points  Parathyroid hormone had only minor side effects ( occasional nausea and headache )  Serum level of Glu-osteocalcin ( Glu-OC ) and menaquinone-4 levels were measured at the end of the follow-up period  The serum levels of Glu-OC at the end of the observation period in the control and the treated group were 3.0 + /- 0.3 ng/ml and 1.6 + /- 0.1 ng/ml , respectively ( p < 0.0001 ) , while the serum level of OC measured by the conventional radioimmunoassay ( RIA ) showed a significant rise ( 42.4 + /-6.9 % from the basal value ) in the treated group at 24 months ( 18.2 + /- 6.1 % for the controls;p = 0.0081 )  The background data of these two groups were identical  These findings suggest that vitamin K2 treatment effectively prevents the occurrence of new fractures , although the vitamin K2-treated group failed to increase in LBMD  A total of 241 osteoporotic patients were enrolled in a 24-month r and omized open label study  By 24 months , 2886 ( 54.5 % ) of 5292 were still taking tablets , 451 ( 8.5 % ) had died , 58 ( 1.1 % ) had withdrawn , and 1897 ( 35.8 % ) had stopped taking tablets but were still providing data for at least the main outcomes  METHODS In a factorial- design trial , 5292 people aged 70 years or older ( 4481 [ 85 % ] of whom were women ) who were mobile before developing a low-trauma fracture were r and omly assigned 800 IU daily oral vitamin D3 , 1000 mg calcium , oral vitamin D3 ( 800 IU per day ) combined with calcium ( 1000 mg per day ) , or placebo   Participants who were recruited in 21 UK hospitals were followed up for between 24 months and 62 months  'BACKGROUND Elderly people who have a fracture are at high risk of another  We aim ed to assess whether vitamin D3 and calcium , either alone or in combination , were effective in prevention of secondary fractures  The treatment with MK-4 can increase the BMD of disused and vitamin D- and K-deficient hemiplegic bone by increasing the vitamin K concentration , and it also can decrease calcium levels through inhibition of bone resorption , result ing in an increase in 1 , 25-[OH]2D concentration' Both vitamins K1 and K2 increased by 97.6 % and 666.9 % , respectively , in the MK-4 group  The BMD in the second metacarpals and serum indices of bone metabolism were determined  Nine patients excluded from the study  One patient in the untreated group suffered from a hip fracture , compared with none in the MK-4 group  Two-way ANOVA with repeated measurements showed a significant increase in BMD in the M group compared with that in the C group ( P < 0.0001 ) , and a significant increase in BMD in the E group compared with that in the C and M groups ( P < 0.0001 and P < 0.01 , respectively )  'Abstract  There were no significant differences in age , body mass index , years since menopause , and initial BMD among the three groups  The present preliminary study provides evidence to suggest that , despite the lower increase in BMD produced by me-natetrenone , this agent , as well as etidronate , may have the potential to reduce osteoporotic vertebral fractures in postmenopausal women with osteoporosis'] Seventy-two osteoporotic women , more than 5 years after menopause , 53–78 years of age , were r and omly divided into three administration groups : E group ; intermittent cyclical etidronate ( 200 mg/day , 14 days per 3 months ; n = 25 ) ; M group ; menatetrenone ( 45 mg/day , daily ; n = 23 ) ; and C group ( control ) ; calcium lactate ( 2 g/day , daily ; n = 24 )\n",
      "\n",
      "Review ID: 11676811\n",
      "Summary: Forty-four of 56 HCTs  ( 79 percent ) found the therapy better than the control regimen , but only 10 of 50 RCTs ( 20 percent ) agreed  ['To compare the use of  r and omized controls ( RCTs ) and historical controls ( HCTs )  for clinical trials , we search ed the literature for therapies studied by both methods  RCTs may miss clinical ly important benefits because of inadequate attention to sample size  We found six therapies for which 50 RCTs and 56 HCTs were reported  Adjustment of the outcomes of the HCTs for prognostic factors , when possible , did not appreciably change the results  The superiority of the CAL group was achieved partly because of the significant increase in trunk forward flexion and to initial increment in abdominal muscle strength  A monthly surveillance for the whole year showed a mean of 4.5 “ painful months ” in the CAL group versus 7.3 and 7.4 months in the back school and control groups , respectively ( P < 0.0001 )  Further research is needed to answer the question of “ intensity versus type of exercise ” by comparing different intervention programs , with similar intensity' The effectiveness of the two intervention programs was evaluated over a 1-year period  Baseline preintervention data and evaluation at the end of 3 months of intervention and after an additional 6 months were collected  1 ) To investigate and compare the effects of two different exercise programs on low back problems in patients after a 1‐year training program under the supervision of a physiotherapist  Objectives  Summary of Background Data  'Study Design  Results  OBJECTIVE To assess the efficacy of lumbar supports and education in the prevention of low back pain in industry  In the 282 subjects for whom data were available , no statistically significant differences in back pain incidence ( 48 [ 36 % ] of 134 with lumbar support vs 51 [ 34 % ] of 148 without , P=.81 ) or in sick leave because of low back pain ( mean , 0.4 days per month with lumbar support vs 0.4 days without , P=.52 ) were found among the intervention groups  Education consisted of 3 group sessions on lifting techniques with a total duration of 5 hours  DESIGN A r and omized controlled trial with a factorial design  'CONTEXT Low back pain is a frequent and costly health problem  'We analysed 113 reports published in 1980 in a sample of medical journals to relate features of study design to the magnitude of gains attributed to new therapies over old  The mean gain ( measured by the Mann-Whitney statistic ) was relatively constant across study design s , except for non-r and omized controlled trials with sequential assignment to therapy , which showed a significantly higher likelihood that a patient would do better on the innovation than on st and ard therapy ( p = 0.004 )  Overall we rated 87 per cent of new therapies as improvements over st and ard therapies  Any evaluation of an innovation may include both bias and the true efficacy of the new therapy , therefore we may consider making adjustments for the average bias associated with a study design  R and omized controlled trials that did not use a double-blind design had a higher likelihood of showing a gain for the innovation than did double-blind trials ( p = 0.02 )  The exercise group trained twice a week for 1 year using a mixed program including exercises for coordination , strength/endurance , and fitness  'The aim of the present controlled study was to evaluate the effect of a general fitness program , performed by an occupational health service , using pre-post assessment for a number of different outcome measures  However , the exercise group reported worse situations post-exercise concerning aspects of their physical and psychosocial work-environment ( i.e The subjects were r and omly assigned to an exercise ( treatment ) or control group  Of the 160 selected , 54 subjects declined to participate and nine subjects were rejected after a medical check up  The invited participants were experts in the field of quality assessment of RCTs  The final criteria list ( the Delphi list ) was satisfactory to all participants  The aim of this study was to obtain consensus among experts about a set of generic core items for quality assessment of r and omized clinical trials ( RCTs )  The initial item pool contained all items from existing criteria lists  This list is not intended to replace , but rather to be used alongside , existing criteria lists' Four of the six divisions were r and omly selected as the intervention group and the remaining two , the  control group  The back injury and cost data of both the control and intervention groups were collected before and after the 1-year intervention  'Back-related injuries have become a major health problem in the workplace , affecting as many as 35 percent of the work force and accounting for about 25 percent of all compensation cl aims  This study evaluates a back injury prevention program  among employees in a northern California county in 1989 - 90  Therefore , the study offers suggestive evidence for the initial benefits of a back injury prevention program and lends support to the widely held belief that health promotion in the workplace can reduce employee health risks , increase healthful behaviors and attitudes , and improve attitudes toward the employer organization  'This study was design ed to determine which method of instruction in body mechanics results in the higher subsequent use of the techniques taught  Two groups were formed from nursing personnel at a rural general medical-surgical hospital in the southwestern United States  Using analysis of covariance , no significant differences were found in the posttest scores of the two groups' Subjects from the direct care nursing staff were r and omly assigned to one of the two groups  One group attended two hours of classroom instruction in body mechanics , while the other completed an independent study module  \"This study was funded in part by NIH grant AR36308 The authors thank the employees of the United States Postal Service and the American Postal Workers Union ( APWU ) , Boston Metro Area Local , and Maith and lers Local 301 for their help and cooperation ; therapists from the Department of Rehabilitation Services , Bngham and Women 's Hospital for help in training workers ; and Ms Nancy Tanner for\" Work units of workers and supervisors were trained in a two-session back school ( three hours of training ) , followed by three to four reinforcement sessions over the succeeding few years  Our comparison of the intervention and control groups found that the education program did not reduce the rate of low back injury , the median cost per injury , the time off from work per injury , the rate of related musculoskeletal injuries , or the rate of repeated injury after return to work ; only the subjects ' knowledge of safe behavior was increased by the training  METHODS We evaluated an educational program design ed to prevent low back injury in a r and omized , controlled trial involving about 4000 postal workers  The effectiveness of those programs , however , has received little rigorous evaluation  RESULTS Physical therapists trained 2534 postal workers and 134 supervisors  Taken as a whole , the results suggest that a secondary prevention program aim ed at altering life style factors may represent an effective method for dealing with musculoskeletal pain problems' These differences were generally maintained at the 6 month follow‐up  A 2 × 3 repeated measures design was employed with 2 groups and 3 assessment periods  Results indicated that the treatment group had significantly greater improvements than the control group for pain intensity , anxiety , sleep quality and fatigue ratings , observed pain behavior , activities , mood , and helplessness  The control group was placed on a waiting‐list  This study supports the concept of using education and prophylactic bracing to prevent back injury and reduce time loss  Subjects were 90 male warehouse workers r and omly selected from over 800 employees at a grocery distribution center  Controls and training-only group showed no changes in strength productivity or lost time  Comparisons of pre-testing and 6-month follow-up posttesting for abdominal strength , cognitive data , work injury incidence and productivity and use of health care services were evaluated  Subjects were assigned to three groups : true controls , no back school , no brace orthoses ; back school only ; and back school plus wearing a custom molded lumbosacral orthosis  One group was allowed to exercise during working hours to improve back muscle strength , endurance , and coordination  One subject had been absent from work 28 days in the training group whereas 12 subjects had been absent 155 days from work because of low back pain in the control group ( P<0.004 )  'The personnel at a geriatric hospital were r and omized into two groups  The other group did not participate in the exercise program and received no further advice or information  The back pain complaints and intensity of back pain in the training group also decreased in a statistically significant way  For primary treatments ( aim ed at curing or ameliorating a patient 's principal disease ) , an average gain of 0.56 was produced by 20 r and omized controlled trials  For each comparison we measured the gain attributed to the innovation over the st and ard therapy by the Mann-Whitney statistic and the difference in proportion of treatment successes  Readers of studies evaluating new treatments , particularly for primary treatments , may consider adjustment of the gain according to the study type\" This was less than the 0.62 average for four non-r and omized controlled trials , 0.63 for 19 externally controlled trials , and 0.57 for 73 record review s ( 0.50 represents a toss-up between innovation and st and ard )  \"We analysed the results of 221 comparisons of an innovation with a st and ard treatment in surgery published in six leading surgery journals in 1983 to relate features of study design to the magnitude of gain  Results indicated that the group which received instruction performed significantly better on the novel task than the group that received no instruction  \"Thirty food service workers were r and omly assigned to two groups ; one group received body mechanics instruction while the other did not  The role of the occupational therapist in a work-related safety program is also discussed\" However , no significant difference between groups was found in performance in the work environment  The application of the instruction was measured by evaluating the subjects ' use of body mechanics on a novel lifting and lowering task and during performance on the job  Subjects were r and omly assigned to an exercise group ( n = 58 ) and a control group ( n = 53 )  In the exercise group , the number of episodes of back pain and the number of sick-leave days attributable to back pain in the intervention period decreased by over 50 %  Suggestions for establishing exercise programs are given'  Sick leave attributable to back pain was determined in the intervention period of 1 1/2 years and a comparable 1 1/2-year period prior to the study  Absenteeism attributable to back pain increased in the control group  Instruction on  low back pain  began with one classroom session before the subjects ' first day of work and continued during employment with two on-site sessions  The instruction focused on proper spinal alignment in the work environment  The results of the study indicate that the group that received instruction performed significantly better than the control group  This paper also discusses the occupational therapist 's role in providing job-specific  body mechanics instruction in the work environment as a primary method of preventing low back pain\"] \"Thirty young workers ( aged 14 to 19 years ) employed as groundskeepers and custodians were r and omly assigned to two groups ; one group received body mechanics instruction and the other did not\n",
      "\n",
      "Review ID: 12719681\n",
      "Summary: The 41 patients given domiciliary oxygen did not differ in SGRQ or spirometric parameters  Logistic regression analysis of the three SGRQ subscales ( Symptom , Impact and Activity ) , adjusting for lung function , age and sex , showed that all three subscales were significantly related to hospital readmission and that Impact scores were related to nebuliser provision  A total of 377 patients admitted with an exacerbation of COPD were identified in this time , 111 of whom were not included in the study because they refused the interview or died before discharge  METHODS The study was carried out in all acute medical wards of Aberdeen Royal Infirmary , Woodend and City Hospitals , Aberdeen over 12 months  One hundred and thirty eight patients did not have a home nebuliser before admission   Self-directed exercise is an effective way to improve physical functioning compared with usual care  RESULTS Physical functioning in the control group decreased by 4.1 points , whereas it increased by 5.7 points and 2.2 points in the self-directed and supervised exercise groups , respectively ( P = .04 )  In participants not receiving chemotherapy  , supervised exercise may increase aerobic capacity and reduce body weight compared with usual care' No significant differences between groups were observed for changes in quality of life scores   Quality of life , aerobic capacity , and body weight measures were repeated at 26 weeks  Rehabilitation of COPD patients at home may improve quality of life ; this improvement is not correlated with an improvement in lung function and exercise tolerance' We found a highly significant improvement in the rehabilitation group compared to the control group for the dimensions dyspnoea , emotion , and mastery  Fifteen patients in a control group received no rehabilitation  We studied 43 patients with severe airflow obstruction : forced expiratory volume in one second ( FEV1 ) 1.3 + /- 0.4 l ( mean + /- SD ) , FEV1/inspiratory vital capacity ( IVC ) 37 + /- 7.9 %  After stratification , 28 patients were r and omly allocated in a home rehabilitation programme for 12 weeks  'PURPOSE We report on a clinical trial developed to compare four different instruments that provide overall quality -of-life ( QOL ) scores , ranging from a simple , one-item instrument to more detailed instruments  RESULTS A total of 128 patients were r and omized  Greater than 90 % complete QOL data were obtained  CONCLUSION Patients can effectively complete QOL tools in a cooperative group setting with proper education of health care providers and patients  Physicians provided lower UNISCALE scores than patients  Conditional st and ard errors of measurement ( CSEMs ) were computed for initial and follow-up RMQ scores , and these values were used to estimate the minimum level of detectable change  Results  Little is known about the usefulness of this instrument in aiding decision making regarding individual patients  SUBJECTS The study sample consisted of 60 out patients with low back pain  CONCLUSION AND DISCUSSION The magnitude of CSEMs is sufficiently small to detect change in patients with initial scores in the central portion of the scale ( 4 - 20 RMQ points ) ; however , the magnitude is too large to detect improvement in patients with scores of less than 4 and deterioration in patients who have scores greater than 20\" For 6-minute walking distance and quality of life , the differences between the training group and controls at 18 months exceeded the minimal clinical ly-important difference  Thirty-four patients in the training group were evaluated after 6 months ( end of training ) , and 26 were evaluated after 18 months of follow-up  'PURPOSE Pulmonary rehabilitation programs are effective in patients with severe chronic obstructive pulmonary disease ( COPD ) in the short term , but their long-term effects are not known  RESULTS At 6 months , the training group showed improvement in 6-minute walking distance [ mean difference ( training - control ) of 52 m ; 95 % confidence interval ( CI ) , 15 to 89 m ] , maximal work load ( 12 W ; 95 % CI , 6 to 19 W ) , maximal oxygen uptake ( 0.26 liters/min ; 95 % CI , 0.07 to 0.45 liters/min ) , quadriceps force ( 18 Nm ; 95 % CI , 7 to 29 Nm ) , inspiratory muscle force ( 11 cm H(2)O ; 95 % CI , 3 to 20 cm H(2)O ) , and quality of life ( 14 points ; 95 % CI , 6 to 21 points ; all P < 0.05 )  Most of these effects persisted 18 months after starting the program' However , interpretation should be carried out cautiously when reporting a single value as a clinical ly important change' The average minimal patient perceivable improvement for each measure was : 1 ) -0.31 points for the symptom score on a scale of 0 - 6 ; 2 ) -0.81 puffs x day(-1 ) for inhaled beta-agonist use ; 3 ) 0.23 L for FEV1 ; and 4 ) 18.79 L x min(-1 ) for PEF  'In this study , the perceptions of asthmatics to change in their disease was associated with observed changes in clinical asthma measures , in order to identify the threshold where changes in clinical asthma measures are perceivable by patients  Determining the minimal patient perceivable improvement value for a measure may be helpful to interpret changes  Additional analyses examined differences in the group reporting minimal improvement by treatment ( active treatment versus placebo ) , sex and age groups  The importance rating indicated that an important change in the GSRS reflux dimension and the QOLRAD dimensions is equivalent to 1.0 , and a very important change to 1.5  CONCLUSIONS : The GSRS and QOLRAD are valid question naires that are reliable and sensitive to change  METHODS : Patients ( n = 1143 ) with heartburn , but no esophagitis included in a r and omized clinical trial assessing the effectiveness of active treatment with proton pump inhibitors over 4 wk were evaluated  Both question naires should be suitable for use in clinical trials of therapeutic interventions for patients with heartburn' RESULTS : The test-retest reliability of both question naires over time was good to excellent ( GSRS 0.53–0.69 ; QOLRAD 0.65–0.76 ) , as was the responsiveness estimated by st and ardized response means ( GSRS reflux dimension , −1.43 ; QOLRAD 0.81–1.43 ) and effect sizes ( GRSR reflux dimension , −1.74 ; QOLRAD 0.82–1.56 )  \"Objectives : To establish a link between the minimal important difference ( MID ) and the st and ard error of measurement ( SEM ) for all responsive dimensions of the Asthma Quality of Life Question naire ( AQLQ )  Domain statistics for baseline and follow-up interviews were examined for the AQLQ  Results : One SEM identified the MID in responsive AQLQ dimensions  Methods : Secondary data analysis of baseline and follow-up interview data from 198 out patients with asthma enrolled in a r and omized controlled trial and receiving care at a major urban academic medical center 's general medicine clinics  Weighted κ values ( 0.88–0.93 ) vali date d excellent agreement between these two criteria  'BACKGROUND --Pulmonary rehabilitation has been shown to have short term subjective and objective benefits for patients with chronic obstructive pulmonary disease ( COPD )  Between groups analysis showed no differences for six minute walking distance , FEV1 , and IVC  Both these problems have been addressed in a single study of the long term effects of once monthly physiotherapy versus once weekly physiotherapy at home after a comprehensive home rehabilitation programme on quality of life and exercise tolerance in patients with COPD  Twenty three patients followed a rehabilitation programme at home for 18 months consisting of physiotherapy and supervision by a nurse and general practitioner  There was a decrease in both six minute walking distance ( at 12 and 18 months ) and IVC ( at three , 12 , and 18 months ) in patients in group C compared with the baseline measurement  RESULTS One-SEM changes in this population corresponded well to the patient-driven MCID st and ards on all CHQ dimensions ( weighted kappas ( 0.87 ; P < 0.001 )  CONCLUSIONS The use of the SEM to evaluate individual patient change should be explored among other health-related quality of life instruments with established st and ards for clinical ly relevant differences  DESIGN Secondary analysis of data from a r and omized controlled trial  MEASURES Baseline and follow-up interviews included a modified version of the Chronic Heart Failure Question naire ( CHQ )  and the SF-36  SUBJECTS Six hundred and five out patients with a history of cardiac problems attending the general medicine clinics of a major academic medical center  -2.4 , respectively )  Analyses assuming nonr and om missing data result ed in slightly larger differences  Similarly , the average TOI change score from baseline to 12 weeks was -6.1 for patients who had progressive disease versus -0.8 points for patients who had responded to treatment  Comparing across baseline performance status ( 0 vs 1 ) , prior weight loss ( < 5 % vs 103 patients were enrolled on this multisite prospect i ve repeated measures design  'The purpose was to determine the minimally important clinical difference ( MICD ) in fatigue as measured by the Profile of Mood States , Schwartz Cancer Fatigue Scale ( SCFS ) , General Fatigue Scale , and a 10-point single-item fatigue measure  MICD was determined following established procedures at two time points  This information may be useful in interpreting scale scores and planning studies using these measures' , fatigue ) measure that signifies an important change in that symptom  'The use of  quality -of-life indices  in therapeutic trials is gaining recognition as important outcome variables for evaluating the total impact of antihypertensive therapy  While the statistical significance of treatment differentials in  quality -of-life indices  has been well documented , their clinical relevance still remains unclear  The interpretation of clinical trial quality -of-life treatment differentials depends on a clear underst and ing of the normal variability in the index due to changes in day-to-day living and the relationship between the size of the differential and shifts in population responses  Using the results from a large-scale r and omized clinical trial on  quality of life  and  antihypertensive therapy  , a rationale for the interpretation of clinical trial results for use by the practicing clinician is presented' Minimally important changes ranged from 2 % to 5 % in association with these measures and effect sizes  METHODS Incontinent female patients ( 141 with stress , 147 with mixed UI ) completed the I-QOL and comparative measures at screening , pretreatment , and four subsequent follow-up visits during participation in a multicenter , double-blind , placebo-controlled , r and omized trial assessing the efficacy of duloxetine  Psychometric testing followed st and ardized procedures  All scores were internally consistent ( alpha = 0.87 to 0.93 ) and reproducible ( ICC = 0.87 to 0.91 )  RESULTS Factor analysis confirmed an overall score and three subscale scores ( avoidance and limiting behaviors , psychosocial impacts , and social embarrassment )  The MCID for improvement ranged from 0.80 to 1.01 points on the continuous WOMAC numerical rating scale from 0 to 10 , reflecting changes of 17 to 22 % of baseline scores  RESULTS In total 192 patients were followed up  METHODS A prospect i ve cohort study assessed patients \\' health by the WOMAC at baseline ( entry into the clinic ) and at the 3 month followup , and by a transition question naire asking about the change of \" health in general related to the OA joint \" during that time period  Both MCID and pessimistic bias showed regression to the mean and baseline dependency  The size of the MCID and of the systematic bias is comparable to that assessed by other methods and in other therapeutic setting' Effects of this size lead to reasonable sample sizes for future studies lying below n = 300  METHODS  SDD and MCID  were determined in a prospect i ve study of 122 patients before a comprehensive inpatient rehabilitation intervention  and at the 3-month followup  'OBJECTIVE To discuss the concepts of the minimal clinical ly important difference ( MCID ) and the smallest detectable difference ( SDD ) and to examine their relation to required sample sizes for future studies using concrete data of the condition-specific Western Ontario and McMaster Universities Osteoarthritis Index ( WOMAC ) and the generic Medical Outcomes Study 36-Item Short Form ( SF-36 ) in patients with osteoarthritis of the lower extremities undergoing a comprehensive inpatient rehabilitation intervention  Required SDD and sample sizes were determined by applying normal approximation and taking into account the calculation of power  Both question naires showed 2 moderately responsive sections that led to required sample sizes of 40 to 325 per treatment arm for a clinical study with unpaired data or total for paired followup data  Patients completed the disease-specific St They also showed a weak but significant relationship with FEV1  Compared with placebo , salmeterol 50 microg twice a day was associated with significant improvements in SGRQ \" Total \" and \" Impacts \" scores which exceeded the threshold for a clinical ly significant change  This was not seen with salmeterol 100 microg twice a day  Changes in SGRQ and SF-36 scores correlated\n",
      "\n",
      "Review ID: 26830881\n",
      "Summary: Thus , total treatment duration was 36 months  At initiation of the long-term study , the mean doses of clonazepam and paroxetine were 1.9 ( SD , 0.30 ) and 38.4 ( SD , 3.74 ) mg/d , respectively  There was a significant advantage with clonazepam over paroxetine with respect to the frequency and nature of adverse events' The efficacy of clonazepam and paroxetine for the treatment of panic disorder was maintained over the long-term course  Target doses for all patients were 2 mg/d clonazepam and 40 mg/d paroxetine ( both taken at bedtime )  Conclusion A substantial proportion of the incremental improvements in anxiety-related sleep disturbances with pregabalin vs UC were explained by its direct effect , not mediated by improvements in anxiety symptoms' Sleep disturbances are highly prevalent in GAD patients  Methods Male and female GAD out patients , aged 18 years or above , from a 6-month prospect i ve noninterventional trial were analyzed  Thus , the objective of this study was to model the longitudinal latent effect of pregabalin or usual care ( UC ) therapies on changes in sleep in out patients with GAD under routine clinical practice   Both symptoms of anxiety and sleep disturbances were significantly improved in both groups , with higher mean ( 95 % confidence interval ) score reductions in subjects receiving pregabalin : −15.9 ( −15.2 ; −16.6 ) vs −14.5 ( −13.5 ; −15.5 ) , P=0.027 , in Hamilton Anxiety Scale ; and −29.7 ( −28.1 ; −31.3 ) vs −24.0 ( −21.6 ; −26.4 ) , P<0.001 , in MOS-S In addition , adverse events were also followed over time  'Background : Remission has become one of the leading outcome criteria in clinical trials  Data collected by this research group assessed the rate of remission after 6 months of treatment of generalized anxiety disorder ( GAD ) with venlafaxine XR , to search for predictors of remission and to define how early on in treatment later remission can be predicted  Remission was defined by a Hamilton anxiety scale total score ≤7  Method : Two hundred sixty-eight patients with a GAD diagnosis enrolled into an open-label 6-month-treatment trial with venlafaxine XR ( 75 - 225 mg/day )  Paroxetine was statistically significantly more effective than placebo throughout the long-term study with respect to reduction from baseline of full panic attacks , and at the end of treatment with respect to the proportion of patients who eventually experienced no panic attacks  There were no significant differences between paroxetine and clomipramine  'Paroxetine has been shown to be effective in panic disorder in three 10- to 12-week studies  Efficacy assessment s included the daily panic attack diary , the Clinical Global Impression Scale , the Hamilton Anxiety Rating Scale , the Marks Sheehan Phobia Scale and the Sheehan Disability Scale  In total , 176 patients were included in the intention-to-treat population  Our data show that subjects with genotypes La/La+G/G or La/La+G/A ( n=28 ) had significantly lower Hamilton Anxiety Scale ( HAM-A ) scores than those with genotypes La/S+A/A or S/S+A/A ( n=12 ) at 6 months ( HAM-A difference=10.7 ; P<0.0001 )  'Variation in genes involved in serotonergic signaling is thought to be associated with antidepressant treatment response in generalized anxiety disorder ( GAD )  Patients diagnosed with GAD received venlafaxine XR treatment as part of an 18-month relapse prevention study  We examined a possible interaction between the serotonin transporter gene ( SLC6A4 ) 5-HTTLPR/rs25531 haplotype and the serotonin 2A receptor gene ( HTR2A ) single-nucleotide polymorphism ( SNP ) rs7997012 in antidepressant treatment outcome in GAD  Genotypes obtained for the 5-HTTLPR/rs25531 ( La/La , La/S or S/S ) haplotype and rs7997012 SNP ( G or A ) in the European American population ( n=112 ) were used for pharmacogenetic analysis  Quetiapine XR monotherapy reduced the risk of anxiety symptom recurrence in patients with GAD stabilized on quetiapine XR , with tolerability results consistent with the known profile of quetiapine' Fewer patients receiving quetiapine XR ( N=22 , 10.2 % ) than placebo ( N=84 , 38.9 % ) experienced anxiety symptom recurrence  Secondary variables included : Hamilton Anxiety Rating Scale ( HAM-A ) total , HAM-A psychic/somatic anxiety factors , Clinical Global Impression-Severity of Illness ( CGI-S ) , and Quality of Life , Enjoyment and Satisfaction Question naire ( Q-LES-Q ) scores ; adverse events ( AE ) reporting  Primary variable : time from r and omization to anxiety event  During r and omized treatment , the most common AEs for quetiapine XR were headache and nasopharyngitis   'The pituitary adenylate cyclase-activating peptide ( PACAP ) and its receptor ( PAC1 ) are involved in stress response and anxiety  Genotypes for PACAP/PAC1 were examined for effects on treatment response to venlafaxine XR in  generalized anxiety disorder   The Asp54Gly ( rs2856966 ) variant in the PACAP gene was associated with better treatment outcome' 'BACKGROUND The results from our 1 year placebo-controlled maintenance/discontinuation study in remitted panic disorder with agoraphobia patients confirmed the significant prophylactic effectiveness of imipramine maintenance treatment but suggested that this may be necessary in only 37 % of the patients who relapse following discontinuation of 6 months acute imipramine treatment  RESULTS None of the IMI-IMI patients relapsed , two ( 28.5 % ) of the IMI-PBO patients relapsed , and two ( 28.5 % ) of PBO-PBO patients relapsed  The estimated probability of not relapsing was .64 for IMI-PBO and .60 for PBO-PBO ( Mantel-cox test chi2 = .84 , p = .77 )  The mean estimated time without relapse was 10 months and 9 months for IMI-PBO and PBO-PBO , respectively  METHOD Eighteen patients from the 30 who survived , in stable remission , the first 12 months of the maintenance/discontinuation study gave written consent to participate in a double-blind 2nd year extension phase with the knowledge that those on placebo will continue on the same condition ( N = 7 , PBO-PBO ) and those on imipramine ( N = 11 ) will be rer and omized to 2nd year maintenance ( N = 4 , IMI-IMI ) or placebo substitution ( N = 7 , IMI-PBO )  For patients with moderate or severe AG , CBT+SSRI was associated with a more rapid improvement on panic frequency as compared to patients receiving either mono-treatment  Participating patients kept record of the frequency of panic attacks throughout the full year of treatment  Gains were maintained after tapering medication  SSRI and CBT+SSRI were associated with a significant faster rate of improvement as compared to CBT  METHOD Patients were r and omized to CBT , SSRI or CBT+SSRI which each lasted one year including three months of medication taper  During the maintenance phase , neither tolerance nor daily dose increase was observed  Significantly more patients treated with alprazolam than with imipramine hydrochloride or placebo remained in therapy and experienced panic attack and phobia relief during the acute treatment phase  Patients who improved received an additional 6 months ' maintenance treatment  \"One hundred six patients diagnosed according to DSM-III as suffering from agoraphobia with panic disorder , panic disorder with limited phobic avoidance , or uncomplicated panic disorder entered an acute 8-week treatment phase  Alprazolam therapy was effective and well tolerated at a mean daily dose of 5.7 mg  In a r and omized controlled trial of acute serotonin-reuptake inhibitor treatment for late-life anxiety disorder , we examined whether change in salivary cortisol concentrations during treatment predicted improvements in measures of memory and executive function  Analyses suggested that a decrease in cortisol due to serotonin-reuptake inhibitor treatment was responsible for the memory changes : memory improvement was seen with cortisol reduction among patients receiving escitalopram but not among patients receiving placebo  All subjects had pre-treatment and post-treatment assessment s that included monitoring of peak and total daily cortisol  and a comprehensive neuropsychological evaluation  RESULTS Salivary cortisol changes during treatment showed significant associations with changes in immediate and delayed memory but no association with executive tasks ( measures of working memory and set shifting )  This finding suggests a novel treatment strategy in late-life anxiety disorders : targeting hypothalamic-pituitary- adrenal axis dysfunction to improve memory'  Discontinuation effects were evaluated with the Physician Withdrawal Checklist ( PWC ) and reported discontinuation-emergent signs and symptoms  Rates of rebound anxiety were also low at both 12 and 24 wk ( 0 - 6 % )  Patients were assigned to receive an initially flexible dose of pregabalin 450 - 600 mg/d , pregabalin 150 - 300 mg/d , or lorazepam 3 - 4 mg/d for 6 wk ; responders continued fixed-dose therapy for 6 additional weeks  GAD symptoms improved with all treatments and improvements were maintained over 12 and 24 wk  Patients entering period 2 continued on the same fixed dose or switched to placebo  'Objective : To eluci date the consequences of broadening DSM-IV criteria for generalized anxiety disorder ( GAD ) , we examined prospect ively the evolution of GAD symptoms in two groups of patients ; one group diagnosed according to DSM-IV criteria and the other , according to broader criteria  Method : Multicentre , prospect i ve and observational study conducted on outpatient psychiatric clinics  Socio-demographic data , medical history and functional outcome measures were collected three times during a 6-month period  The changes observed during the study were : 49.0 % and 58.0 % , respectively of patients without anxiety symptoms as per HAM-A scale at the 6 month visit ( p=0.261 ) and 59.7 % and 67.7 % , respectively ( p=0.103 ) of responder rates ( > 50 % reduction of baseline scoring )  Broader criteria were considered 1-month of excessive or non-excessive worry and only 2 of the associated symptoms listed on DSM-IV for GAD diagnosis  There were no significant differences in relapse rates between the patients who received intermediate-term ( up to 12 months ) paroxetine and those who chose the long-term course ( 24 month paroxetine treatment )  Twenty-four month paroxetine treatment is accompanied by sexual side effects and weight gain similar to those observed in twelve month treatment\" All patients then continued to receive paroxetine maintenance therapy for a total of 12 months  Results Only 21 of 143 patients ( 14 % ) relapsed during the one year medication discontinuation follow-up phase  The patients exhibited an average weight gain of 5.06 kg  Trial Registration clinical trials.gov Identifier : NCT00183274\" DESIGN After 6 months ' open-label venlafaxine XR treatment , improved patients were r and omized to venlafaxine XR or placebo for 6 months  RESULTS For objective 1 , relapse rates in phase 2 ( months 6 - 12 ) were 9.8 % on venlafaxine XR and 53.7 % on placebo ( P < .001 )  Preliminary data demonstrate that improved patients who relapse while off their antianxiety medication after at least 6 months of treatment will again most likely respond to a second course of treatment with the same medication  SETTING One urban site ( 5 locations )  Sheehan Disability Scale ( SDS ) total scores were also assessed ( maintenance study only )   Quality of Life Enjoyment and Satisfaction Question naire Short Form ( Q-LES-Q-SF ) percent maximum total scores ( items 1–14 ) , item 15 ( “ satisfaction with medication ” ) , item 16 ( “ overall life satisfaction ” ) , and Pittsburgh Sleep Quality Index ( PSQI ) global scores are reported  Methods This is a report of a pooled analysis from three acute 8-week , r and omized , placebocontrolled , fixed-dose ( 50 , 150 , 300 mg/day ) studies and a 52-week maintenance flexible dose ( 50–300 mg/day ) study of quetiapine XR monotherapy in patients with GAD  Results The acute studies showed significant improvements at week 8 in Q-LES-Q-SF percent maximum total score  with quetiapine XR 150 mg/day ( P < 0.001 ) and item 16  with quetiapine XR 50 ( P < 0.05 ) and 150 mg/day ( P < 0.001 ) versus placebo ; PSQI global scores significantly improved with quetiapine XR 50 , 150 , and 300 mg/day versus placebo ( P < 0.001 )  'Background We evaluated the effects of once-daily extended-release quetiapine fumarate ( quetiapine XR ) on patient-reported outcomes in generalized anxiety disorder ( GAD )  More specifically , a lower likelihood of remission from generalized anxiety disorder was predicted by the presence of avoidant PersD ( 34 % lower ) and dependent PersD ( 14 % lower )  The presence of major depressive disorder did not account for these findings  'BACKGROUND This investigation assessed the effect of personality disorders ( PersDs ) on time to remission in patients with generalized anxiety disorder , social phobia , or panic disorder  METHODS Selected Axis I and II predictors of time to remission during 5 years of follow-up were assessed in 514 patients with 1 or more of these anxiety disorders who participated in the Harvard/Brown Anxiety Research Program , a multisite , prospect i ve , longitudinal , naturalistic study  RESULTS The presence of a PersD predicted a 30 % lower likelihood of generalized anxiety disorder remission , a 39 % lower likelihood of social phobia remission , and no difference in likelihood of panic disorder remission  Using univariate and stepwise multiple linear regression those with cothymia , personality disorder , recurrent episodes and greater baseline self-rated anxiety and depression ratings had a worse outcome than others ; initial diagnosis did not contribute significantly to outcome and instability of diagnosis over time was much more common than consistency  'BACKGROUND Controlled prospect i ve studies of the simultaneous long-term outcome of several mental disorders are rare  Only 73 ( 36 % ) had no DSM diagnosis at the time of follow-up  Seventeen baseline predictors were also examined  CONCLUSION Only two out of five people with the common neurotic disorders have a good outcome despite alleged advances in treatment  This study investigated the effects of treatment with tricyclic antidepressants and selective serotonin re-uptake inhibitors ( SSRIs ) on CO2 reactivity and compared the relationships between 35 % CO2 hyperreactivity modulation and short-term clinical outcome  A double-blind , r and omized design was applied  The decrease in CO2 reactivity at the end of treatment was proportional to the degree of clinical improvement  They also suggest that precocious modulation of CO2 reactivity might fairly reliably predict short-term clinical outcome in patients with “ respiratory ” PD' Each patient received the 35 % CO2 challenge on days 0 , 7 , and 30  Buspirone , an azapirone , was found to be effective in a small number of trials , but the findings across trials are inconsistent  'BACKGROUND Generalized anxiety disorder  ( GAD ) is a common and serious disease with a lifetime prevalence of 4.3 % to 5.9 %  Tricyclic antidepressants are also effective but have more adverse effects than SSRIs  It is underdiagnosed in primary care  CONCLUSION The treatment of GAD with CBT and drugs is evidence -based and has a good chance of improving the manifestations of the disorder' The main outcome measure was time to relapse during this maintenance period  The risk of relapse over time was significantly lower for patients who continued treatment than for those switched to placebo ( P = .046 , log-rank test stratified for country )  TRIAL REGISTRATION www.is rct n.org identifier : IS RCT N38094599' CONCLUSIONS The present study extends the positive findings of an earlier short-term study of agomelatine in GAD , demonstrating that agomelatine is effective and well-tolerated in the longer-term treatment of this chronic disorder  The study was undertaken in 31 clinical centers in Canada , Denmark , Estonia , Finl and , Hungary , and Sweden from November 2007 to September 2009  'OBJECTIVE The authors sought to observe the long-term clinical course of anxiety disorders over 12 years and to examine the influence of comorbid psychiatric disorders on recovery from or recurrence of panic disorder , generalized anxiety disorder , and social phobia  Probabilities of recovery and recurrence were calculated by using st and ard survival analysis methods  Proportional hazards regression analyses with time-varying covariates were conducted to determine risk ratios for possible comorbid psychiatric predictors of recovery and recurrence  The findings add to the underst and ing of the nosology and treatment of these disorders' Social phobia had the smallest probability of recovery after 12 years of follow-up  Thirty patients ( 53 % ) in  the pregabalin group and 19 patients ( 37 % ) in the  placebo group completed the study , reducing the power to detect a significant difference on the primary outcome  'To evaluate the efficacy of pregabalin in facilitating taper off chronic benzodiazepines , out patients ( N = 106 ) with a lifetime diagnosis of generalized anxiety disorder ( current diagnosis could be subthreshold ) who had been treated with a benzodiazepine for 8–52 weeks were stabilized for 2–4 weeks on alprazolam in the range of 1–4 mg/day  At endpoint , a non-significant higher proportion of patients remained benzodiazepine-free  receiving pregabalin compared with placebo ( 51.4 % vs 37.0 % )  Outcome measures included ability to remain benzodiazepine-free ( primary ) as well as changes in Hamilton Anxiety Rating Scale (HAM)-A and Physician Withdrawal Checklist ( PWC )  The results on the anxiety and withdrawal severity measures suggest that switching to pregabalin may be a safe and effective method for discontinuing long-term benzodiazepine therapy' In the pregabalin group , only 42 % had relapsed by study end  No safety concerns were identified with long-term treatment  2.4 % )  11.2 % ) , and somnolence ( 6.0 vs Among responders to open-label acute treatment with pregabalin  , time to relapse of GAD was significantly longer for patients treated with pregabalin compared with placebo ( P<0.0001 )  'OBJECTIVE This study aims to evaluate the differential predictive values of age , age of onset and duration of illness on  paroxetine  and cognitive-behavioural therapy ( CBT ) outcome in late-life panic disorder with agoraphobia  CONCLUSIONS In late-life agoraphobic panic disorder , chronological age has no impact on treatment modality outcome  In older patients with a late disease onset or shorter duration of illness , CBT is to be preferred over paroxetine , whereas paroxetine might be the treatment of choice for older people with an early onset and short duration of illness' Multiple regression analyses were conducted per treatment arm with post-treatment avoidance behaviour and agoraphobic cognitions as the dependent variables  METHOD Patients 60 years and older with a confirmed diagnosis of panic disorder with agoraphobia ( n = 49 ) were r and omly assigned to paroxetine ( 40 mg/day ) treatment , individual CBT or a waiting-list control condition  'It has been suggested that maintenance treatment of patients who have remitted panic disorder with agoraphobia beyond the six months of acute phase imipramine treatment may decrease the risk of relapse  Fifty-one patients , all in remission at the end of six months acute phase open trial with imipramine 2.25 mg/kg/day and r and omized to double-blind maintenance or placebo substitution , discontinued imipramine treatment eventually and were followed over a 12-month risk period : 27 during first year placebo substitution , 7 after 12 months of imipramine maintenance in placebo substitution , and 17 after variable duration s of imipramine maintenance in open discontinuation  Early detection of relapse in patients who discontinue treatment may be a viable alternative to prediction' There were no behaviorally oriented interventions or instructions at any time during the acute and maintenance phases of treatment or during imipramine discontinuation  Duration of imipramine treatment , the method of discontinuation ( open versus placebo substitution ) , or any of the 9 variables from the demographic , clinical , and open treatment domains that were entered in a Cox proportional hazard model did not predict relapse  AIMS To describe the long-term outcome of naturalistically treated PD  RESULTS Complete recovery ( no panic attacks and no longer on medication during the last 10 years ) was seen in 18 % of patients , and an additional 13 % recovered but were still on medication  Maintenance medication was common  CONCLUSION PD has a favourable outcome in a substantial proportion of patients  Fifty-one percent experienced recurrent anxiety attacks whereas 18 % still met diagnostic criteria for PD  This genetic moderation of SSRI efficacy was due to a higher placebo response in La− subjects , compared with La+ subjects  Further research is needed to underst and the pharmacogenetic mechanism of this haplotype' One hundred fifty subjects were genotyped for the serotonin transporter promoter region haplotype and were divided into La− and La+ genotype groups ; the primary analyses were done in European Americans only ( n = 125 ; n = 59 with escitalopram and n = 66 with placebo )  Drug concentration did not affect the genetic results  Exploratory analyses suggest that La− subjects had greater variability of anxiety symptoms unrelated to treatment  In our study , 156 patients diagnosed with GAD received venlafaxine XR treatment as part of an 18-month relapse prevention study  We found no significant association between our primary Hamilton Anxiety Scale outcome measure and rs4680  Further studies in a larger population are needed to confirm this effect' We examined whether the COMT gene , which has been known to play a role in antidepressant treatment response in major depressive disorder ( MDD ) , has a pharmacogenetic effect in antidepressant treatment response in GAD  Genotypes were obtained for the COMT functional variant rs4680 ( Val158Met ) for all patients ; however , pharmacogenetic analysis was only conducted for the European American population ( n=112 )  'Hendriks G‐J , Keijsers GPJ , Kampman M , Oude Voshaar RC , Verbraak MJPM , Broekman TG , Hoogduin CAL  A r and omized controlled study of paroxetine and cognitive‐behavioural therapy for late‐life panic disorder' Illness severity was assessed at baseline and Weeks 27/52 using the Clinical Global Impression of Severity ( CGI-S ) scale  Few treatment-related AEs were rated as severe in the total anxiety ( 5.1 % ) or GAD ( 3.6 % ) groups  Improvement in illness severity was maintained over time  Clinical trial registration : NCT00150449  'Abstract Objective : Short-term clinical trials have demonstrated the efficacy and safety of pregabalin in the treatment of generalized anxiety disorder ( GAD )  Overall , when measured at the 12th month visit , monotherapy with paroxetine and citalopram was associated with a higher rate of sexual adverse effects than was treatment with fluoxetine or fluvoxamine  Conversely , patients in the fluvoxamine group had the highest dropout rate ( which was primarily caused by adverse effects in the initiation phase of treatment  Reports of sexual dysfunction were assessed using a nonstructured clinical interview at monthly visits  Outcome measures included relapse rates and adverse effects  Methods : Two hundred patients with PD were enrolled in our study  0.34 ; p=0.114 )  Quetiapine XR was more effective than placebo at maintaining SDS total scores ( LSM change : -0.19 vs 0.32 ; p=0.011 ) , but not ' social life ' ( 0.05 vs Primary variable was time to an anxiety event  METHODS Analysis of patient-reported data from a r and omized-withdrawal , double-blind , placebo-controlled study of quetiapine XR monotherapy in GAD  No significant differences between the two drugs were found  In this class of drugs , citalopram is the most selective for serotonin  METHOD Fifty-eight patients with PD were r and omly assigned to either the paroxetine or the citalopram treatment group in a single-blind , r and omized design  Primary outcome measures were the percentage of patients free of panic attacks , anticipatory anxiety and phobic avoidance in the last week of the trial and the percentage of good responders , as defined by a reduction of at least 50 % from baseline of both PASS and SDS global scores at day 60  We compared these two drugs and their effectiveness and tolerability in a sample of patients with PD in a two-month treatment course  'OBJECTIVE Generalized anxiety disorder is common among older adults and leads to diminished health and cognitive functioning  RESULTS Escitalopram augmented with CBT  increased response rates on the Penn State Worry Question naire but not on the Hamilton Anxiety Rating Scale compared with escitalopram alone  The authors examined whether sequenced treatment combining pharmacotherapy and cognitive-behavioral therapy ( CBT ) boosts response and prevents relapse in older adults with generalized anxiety disorder  Participants received 12 weeks of open-label escitalopram and were then r and omly assigned to one of four conditions : 16 weeks of escitalopram ( 10 - 20 mg/day ) plus modular CBT , followed by 28 weeks of maintenance escitalopram ; escitalopram alone , followed by maintenance escitalopram ; escitalopram plus CBT , followed by pill placebo ; and escitalopram alone , followed by placebo  Although antidepressant medications are efficacious , many elderly individuals require augmentation treatment  Clonazepam discontinuation symptoms were mostly mild and included mainly : anxiety , shaking/trembling/tremor , nausea/vomiting , insomnia/nightmares , excessive sweating , tachycardia/palpitations , headache , weakness , and muscle aches  The dosage of clonazepam was decreased by 0.5 mg per 2-week period until 1 mg per day was reached , followed by a decrease of 0.25 mg per week  The improvement in PD and general well-being was maintained during both the taper and follow-up phases  We aim ed to develop a protocol for safely tapering off clonazepam in patients with PD who had been receiving treatment for at least 3 years  'High-potency benzodiazepines , such as clonazepam , are frequently used in the treatment of panic disorder ( PD ) because of their rapid onset of action and good tolerability\n",
      "\n",
      "Review ID: 28611377\n",
      "Summary: paroxysmal AF receiving oral anticoagulation  57 % , P = 0.94 )  Patients with persistent AF had higher adjusted rates of stroke or systemic embolism ( 2.18 vs Conclusion In patients with AF at moderate-to-high risk of stroke receiving anticoagulation , those with persistent AF have a higher risk of thrombo-embolic events and worse survival compared with paroxysmal AF' We compared outcomes in patients with persistent vs Results — A total of 3169 patients ( 17 % ) had AF  'Background and Purpose — We sought to investigate the apparently high risk of early death after an ischemic stroke among patients with atrial fibrillation ( AF ) , identify the main factors associated with early death , and assess the effect of treatment with different doses of subcutaneous unfractionated heparin ( UFH ) given within 48 hours  The initial ischemic stroke type was more often a large-artery infa rct ( 36 % versus 21 % )  Death within 14 days was more common in patients with AF ( 17 % versus 8 % ) and more often attributed to neurological damage from the initial stroke ( 10 % versus 4 % )  Conclusions — Acute ischemic stroke patients with AF have a higher risk of early death , which can be explained by older age and larger infa rcts but not by a higher risk of early recurrent ischemic stroke , although slightly more patients with AF died from a fatal recurrent stroke of ischemic or unknown type ( 1.3 % versus 0.9 % )  OBJECTIVE The purpose of this study was to examine the clinical correlates of flutter and its associated outcomes to distinguish them from those associated with AF in the Framingham Heart Study  In multivariable analyses , smoking ( odds ratio [ OR ] 2.84 , 95 % confidence interval [ CI ] 1.54 - 5.23 ) , increased PR interval ( OR 1.28 per SD , 95 % CI 1.03 - 1.60 ) , myocardial infa rct ion ( OR 2.25 , 95 % CI 1.05 - 4.80 ) and heart failure ( OR 5.22 , 95 % CI 1.26 - 21.64 ) were associated with incident flutter  'BACKGROUND Few epidemiologic cohort studies have evaluated atrial flutter ( flutter ) as an arrhythmia distinct from atrial fibrillation ( AF )  RESULTS During mean follow-up of 33.0 ± 12.2 years , 112 participants ( mean age 72 ± 10 years , 30 % women ) developed flutter  We examined the clinical correlates of flutter by matching up to 5 AF and 5 referents to each flutter case using a nested case referent design  Clinical Trial Registration — URL : http://www  An examination of the causes of death according to dabigatran or warfarin showed that dabigatran significantly reduced vascular ( embolism and hemorrhage-related ) mortality ( relative risk , 0.63 ; 95 % CI , 0.45–0.88 ; P=0.007 ) , whereas other causes of death were similar between treatments , including cardiac mortality ( relative risk , 0.96 ; 95 % CI , 0.80–1.15 ; P=0.638 )  clinical trials.gov  Unique identifier : NCT00262600' These results emphasize the need to identify interventions beyond effective anticoagulation to further reduce mortality in atrial fibrillation  Clinical Trial Registration — URL : http://www  The relative effects of dabigatran versus warfarin on myocardial ischemic events were consistent in patients with or without a baseline history of MI or coronary artery disease  Unique identifier : NCT 00262600' clinical trials.gov  Annual rates of a composite of MI , unstable angina , cardiac arrest , and cardiac death were 3.16 % per year with dabigatran 110 mg , 3.33 % per year with dabigatran 150 mg , and 3.41 % per year with warfarin ( HR versus warfarin 0.93 , 95 % CI 0.80–1.06 , P=0.28 for dabigatran 110 mg and HR 0.98 , 95 % CI 0.85–1.12 , P=0.77 for dabigatran 150 mg )  Potentially etiologic patient characteristics independently associated with complex plaque included advanced age , history of hypertension , diabetes , and past or present tobacco use  We sought to identify the prevalence , predictors , and implication s of aortic plaque in patients with nonvalvular AF   Clinical and echocardiographic features of thromboembolism were correlated by multivariate analysis  Both were found more frequently in the descending than in the proximal aorta  METHODS Thoracic aortic plaque was prospect ively sought in 770 persons with AF with the use of transesophageal echocardiography and classified as simple or complex on the basis of thickness > /=4 mm , ulceration , or mobility  On the other h and , there were no significant differences in the risk of MI associated with AF in older ( ≥75 years ) vs younger ( < 75 years ) participants ( HR , 2.00 [ 95 % CI , 1.16 - 3.35 ] and HR , 1.60 [ 95 % CI , 1.11 - 2.30 ] , respectively ) ; for interaction , P = .44  These findings add to the growing concerns of the seriousness of AF as a public health burden : in addition to being a well-known risk factor for stroke , AF is also associated with increased risk of MI' MAIN OUTCOMES AND MEASURES Expert-adjudicated total MI events ( fatal and nonfatal )  DESIGN , SETTING , AND PARTICIPANTS A prospect i ve cohort of 23,928 participants residing in the continental United States and without coronary heart disease at baseline were enrolled from the Reasons for Geographic and Racial Differences in Stroke ( REGARDS ) cohort between 2003 and 2007 , with follow-up through December 2009   However , the extent to which AF is a risk factor for MI has not been investigated  14 + /- 6 mm Hg , p < 0.002 ) and increased right atrial pressure ( 10 + /- 6 vs After atrioventricular node ablation , the right ventricular apex was stimulated in three pacing modes in r and omized sequence : 1 ) VVI at 60 beats/min ; 2 ) VVI at the same average rate as during intrinsically conducted AF ( 102 + /- 22 beats/min ) ; and 3 ) during VVT pacing in which the pacemaker was triggered by playback of the FM tape recording of the right ventricular apex electrogram previously recorded during intrinsically conducted AF ( VVT 102 + /- 22 beats/min )  METHODS Sixteen patients with AF were studied invasively  CONCLUSIONS An irregular sequence of RR intervals produces adverse hemodynamic consequences that are independent of heart rate' This study was design ed to evaluate the effects of an irregular RR interval , independent of the average ventricular rate , on cardiac hemodynamic data during AF  Methods — A population -based cohort of first ischemic stroke patients ≥40 years old was prospect ively followed annually for recurrent stroke , MI and cause-specific mortality  Independent historical predictors of MI or vascular death were age > 70 years ( hazard ratio 1.62 , 1.07 to 2.44 ) , history of coronary artery disease ( hazard ratio 1.76 , 1.13 to 2.74 ) , and atrial fibrillation ( hazard ratio 1.76 , 1.05 to 2.94 )  Conclusions — The absolute risk of MI or vascular death after ischemic stroke , even in those without high-risk features , approximates levels used by national organizations to design ate groups of patients at high risk of vascular events  The comparability of levels of absolute risk among stroke and cardiac patients may have treatment implication' Univariate and multivariate Cox proportional hazards models were used to calculate hazard ratios and 95 % CI for predictors of cardiovascular outcomes  The aim of the study was to evaluate the independent predictors of major adverse cardiovascular events in a prospect i ve population based study , with the use of bioempedance analysis , echocardiography , ultrasonography and ECG  During the follow-up of 36 months ( 4485 patient years ) , 42 major adverse events occurred ( 0.03 % )  Major adverse event was defined as mortality or myocardial infa rct ion or stroke  However , implementation of all of these tools has not been tested before  PATIENTS AND METHODS The baseline measurements were conducted on 2230 participants ( 1427 women , 803 men with a mean age of 49 ± 15 )  The risk of AMI was higher in men with AF than in women with AF  OBJECTIVE The objective of the present study was to compare the risk of AMI in AF and non-AF subjects with a low ( 0 or 1 ) CHA2DS2-VASc score  The risk of AMI was higher in men with AF than in women with AF , with a hazard ratio of 2.24 ( 95 % confidence interval 1.61 - 3.11 ; P < .001 ) after adjustment for age and other comorbidities  The clinical end point was the occurrence of AMI  Cardiovascular risk prevention should be performed as part of the holistic management of AF to minimize the risks of AMI associated with AF' The observed risk of death from stroke in patients with AF suggests that anticoagulant use should be considered in selected patients\" The excess relative mortality declined with increasing age for both women and men  \"Prospect i ve data from Busselton , Western Australia , collected during triennial surveys from 1966 - 81 with follow-up of subjects to 1983 , showed that atrial fibrillation ( AF ) was frequent in elderly people and associated with increased mortality  Atrial fibrillation was positively associated with angina , history of a myocardial infa rct ion and left bundle branch block  This raised relative mortality remained constant with time from the first detection of AF for all causes and cardiovascular causes but appeared to increase with time from detection for stroke death  'OBJECTIVE This study undertook to determine if the presence of atrial fibrillation in patients with asymptomatic and symptomatic left ventricular dysfunction was associated with increased mortality and , if so , whether the increase could be attributed to progressive heart failure or arrhythmic death  23 % , p < 0.001 ) , death attributed to pump-failure ( 16.7 % vs These data suggest that atrial fibrillation is associated with progression of left ventricular systolic dysfunction' METHODS A retrospective analysis of the Studies of Left Ventricular Dysfunction Prevention and Treatment Trials was conducted that compared patients with atrial fibrillation to those in sinus rhythm at baseline  for the risk of all-cause mortality , progressive pump-failure death and arrhythmic death  After multivariate analysis , atrial fibrillation remained significantly associated with all-cause mortality ( relative risk [ RR ] 1.34 , 95 % confidence interval [ CI ] 1.12 to 1.62 , p=0.002 ) , progressive pump-failure death ( RR 1.42 , 95 % CI 1.09 to 1.85 , p=0.01 ) , the composite end point of death or hospitalization for heart failure ( RR 1.26 , 95 % CI 1.03 to 1.42 , p=0.02 ) , but not arrhythmic death ( RR 1.13 ; 95 % CI 0.75 to 1.71 ; p=0.55 )  Our aim was to investigate predictors of MI and cardiovascular death in a cohort of patients with AF who were taking anticoagulants  At follow-up , 111 CVEs ( 3.43%/y ) had occurred : 47 fatal-nonfatal MI/revascularization and 64 cardiovascular deaths  : NCT01882114 ; URL : www  TRIAL REGISTRY Clinical Trials.gov ; No Patients experiencing CVEs were older ( P < .001 ) and had a higher prevalence of metabolic syndrome ( MetS ) ( P = .005 ) , heart failure ( P = .001 ) , and prior cardiac ( P < .001 ) and cerebrovascular events ( P < .001 )  OBJECTIVES To examine the association between incident AF and mortality in initially healthy women and to evaluate the influence of associated cardiovascular comorbidities on risk  In multivariable models , hazard ratios ( HRs ) of new-onset AF for all-cause , cardiovascular , and noncardiovascular mortality were 2.14 ( 95 % CI , 1.64 - 2.77 ) , 4.18 ( 95 % CI , 2.69 - 6.51 ) , and 1.66 ( 95 % CI , 1.19 - 2.30 ) , respectively  Secondary outcomes included stroke , congestive heart failure , and myocardial infa rct ion  Secondary analyses were performed among women with paroxysmal AF  RESULTS During a median follow-up of 15.4 ( IQR , 14.7 - 15.8 ) years , 1011 women developed AF  RESULTS Atrial fibrillation and 1-year follow-up data are available for 63,589 patients  CONCLUSIONS Atrial fibrillation is common in patients with atherothrombosis , associated with more frequent fatal and nonfatal CV outcomes , and underuse of oral anticoagulants' The rate of bleeding requiring hospitalization was higher in AF versus non-AF patients ( 1.5 % vs 0.8 % , P<.0001 ) , possibly related to the more frequent use of anticoagulants ( 53.1 % vs 7.1 % )  Its prevalence and prognostic impact in patients with atherothrombosis are unclear  METHODS Risk factors , drug usage , and 1-year cardiovascular ( CV ) outcomes ( CV death , myocardial infa rct ion [ MI ] , and stroke ) were compared in  AF and non-AF patients from the REduction of Atherothrombosis for Continued Health ( REACH ) Registry , an international , prospect i ve cohort of 68,236 stable out patients with established atherothrombosis or > or=3 atherothrombotic RFs  Eight had lone atrial fibrillation   In 1984 the cases were compared with an age- and sex-matched control group of 50 and found to have more cerebrovascular accidents ( 6 versus 2 ; P less than 0.05 ) , congestive heart failure ( 9 versus 1 ; P less than 0.001 ) , and valvular rheumatic heart disease ( 3 versus 0 ) or history consistent with rheumatic fever ( 6 versus 0 ; P less than 0.01 )  The prevalence or incidence of ischaemic or hypertensive heart disease or the presence of coronary risk factors did not significantly differ in the two groups  Thus , the prevalence of CAF is low in a r and omly selected population 32 - 64 years of age and CAF is not strongly associated with ischaemic heart disease or hypertension  By M-mode echocardiography the left atrial size , left ventricular enddiastolic dimension and left ventricular mass were increased in the CAF patients , while the systolic left ventricular shortening was significantly less  However , in a model that included CHF , the AF-SCD association was no longer significant ( OR : 1.1 ; 95 % CI : 0.8 to 1.5 ; p = 0.45 ) , whereas CHF was a significant predictor of SCD ( OR : 3.1 ; 95 % CI : 2.4 to 4.1 ; p < 0.0001 )   BACKGROUND Recent studies have reported the possibility of an independent association between AF and SCD  Results on the basis of propensity score matching were consistent  'OBJECTIVES The purpose of this study was to evaluate the role of congestive heart failure ( CHF ) in the association between  atrial fibrillation ( AF ) and sudden cardiac death ( SCD )  We hypothesized that a history of CHF is a significant confounder of this association\n",
      "\n"
     ]
    }
   ],
   "source": [
    "import pandas as pd\n",
    "import numpy as np\n",
    "from sklearn.cluster import KMeans\n",
    "import torch\n",
    "from transformers import BertTokenizer, BertModel\n",
    "\n",
    "# Assuming df is your actual DataFrame with 'review_id' and 'abstract' columns\n",
    "\n",
    "# Split the concatenated abstracts into lists of abstracts\n",
    "df['split_abstracts'] = df['abstract'].apply(lambda x: x.split('\\n '))\n",
    "\n",
    "# Initialize SciBERT\n",
    "tokenizer = BertTokenizer.from_pretrained('allenai/scibert_scivocab_uncased')\n",
    "model = BertModel.from_pretrained('allenai/scibert_scivocab_uncased')\n",
    "\n",
    "def bert_sentence_embeddings(sentences):\n",
    "    embeddings = []\n",
    "    for sentence in sentences:\n",
    "        inputs = tokenizer(sentence, return_tensors='pt', max_length=512, truncation=True)\n",
    "        with torch.no_grad():\n",
    "            outputs = model(**inputs)\n",
    "        embeddings.append(outputs.last_hidden_state.mean(dim=1).squeeze().numpy())\n",
    "    return np.array(embeddings)\n",
    "\n",
    "def select_top_sentences(sentences, embeddings, n_sentences=5):\n",
    "    if len(sentences) < n_sentences:\n",
    "        return ' '.join(sentences)\n",
    "    kmeans = KMeans(n_clusters=n_sentences, n_init=10)\n",
    "    kmeans.fit(embeddings)\n",
    "    top_sentence_indices = np.argmin(\n",
    "        np.linalg.norm(embeddings[:, np.newaxis] - kmeans.cluster_centers_, axis=2), axis=0)\n",
    "    top_sentences = [sentences[index] for index in top_sentence_indices]\n",
    "    return ' '.join(top_sentences)\n",
    "\n",
    "# Process each abstract and create summaries\n",
    "summaries = {}\n",
    "for _, row in df.iterrows():\n",
    "    review_id = row['review_id']\n",
    "    split_abstracts = row['split_abstracts']\n",
    "    combined_summary = ''\n",
    "    \n",
    "    for abstract in split_abstracts:\n",
    "        # Split each abstract into sentences\n",
    "        sentences = abstract.split('. ')  # Assuming sentences in abstracts are separated by '. '\n",
    "        # Generate embeddings for each sentence\n",
    "        embeddings = bert_sentence_embeddings(sentences)\n",
    "        # Select the top sentences from these embeddings\n",
    "        summary = select_top_sentences(sentences, embeddings)\n",
    "        # Combine the summaries from each abstract\n",
    "        combined_summary += summary + ' '\n",
    "    \n",
    "    # Add the combined summary for the current review_id to the summaries dictionary\n",
    "    summaries[review_id] = combined_summary.strip()\n",
    "\n",
    "# Print the summaries for each review_id\n",
    "for review_id, summary in summaries.items():\n",
    "    print(f\"Review ID: {review_id}\\nSummary: {summary}\\n\")\n"
   ]
  },
  {
   "cell_type": "code",
   "execution_count": 5,
   "id": "2f2ff1a9",
   "metadata": {},
   "outputs": [
    {
     "name": "stderr",
     "output_type": "stream",
     "text": [
      "Some weights of PegasusForConditionalGeneration were not initialized from the model checkpoint at google/pegasus-xsum and are newly initialized: ['model.decoder.embed_positions.weight', 'model.encoder.embed_positions.weight']\n",
      "You should probably TRAIN this model on a down-stream task to be able to use it for predictions and inference.\n"
     ]
    },
    {
     "name": "stdout",
     "output_type": "stream",
     "text": [
      "Review ID: 16801507\n",
      "Abstractive Summary: glomeruloneitis ( GC ) has been shown to cause bone loss in chronic glomeruloneitis patients and to be a risk factor for fractures in postmenopausal women, but little is known about the mechanism of action of GC on bone metabolism and its effect on bone mineral density.\n",
      "\n",
      "Review ID: 11676811\n",
      "Abstractive Summary: The purpose of this study was to investigate the effects of two different exercise programs on low back problems in patients after 1year supervision by a physiotherapist and to assess the efficacy of lumbar supports and education in the prevention of low back pain in industry.\n",
      "\n",
      "Review ID: 12719681\n",
      "Abstractive Summary: The quality of life of patients with chronic obstructive pulmonary disease ( COPD) has been investigated in a series of clinical trials and reports have been published in the British Journal of Respiratory Medicine and the International Journal of Sports Medicine and Sport Science, as well as in the journal of the American College of Sports Medicine and the Journal of the American Medical Association\n",
      "\n",
      "Review ID: 26830881\n",
      "Abstractive Summary: The long-term results of this study showed that clonazepam was more effective than paroxetine in the treatment of panic disorder, with a significant advantage over paroxetine with respect to the frequency and nature of adverse events, as well as with respect to the total treatment duration.\n",
      "\n",
      "Review ID: 28611377\n",
      "Abstractive Summary: Patients with atrial fibrillation ( AF ) have a higher risk of thrombo-embolic events and worse survival compared with paroxysmal AF, but the effect of treatment with different doses of unfractionated heparin ( UFH ) given within 48 hours of an ischemic stroke has not been investigated.\n",
      "\n"
     ]
    }
   ],
   "source": [
    "from transformers import PegasusForConditionalGeneration, PegasusTokenizer\n",
    "\n",
    "# Load pre-trained Pegasus tokenizer and model\n",
    "tokenizer_pegasus = PegasusTokenizer.from_pretrained('google/pegasus-xsum')\n",
    "model_pegasus = PegasusForConditionalGeneration.from_pretrained('google/pegasus-xsum')\n",
    "\n",
    "# Dictionary to store the final summaries\n",
    "final_summaries = {}\n",
    "\n",
    "# Iterate over each summary in the summaries dictionary\n",
    "for review_id, extractive_summary in summaries.items():\n",
    "    # Prepare the input for the model\n",
    "    inputs = tokenizer_pegasus(\n",
    "        extractive_summary, \n",
    "        truncation=True, \n",
    "        padding=\"longest\", \n",
    "        return_tensors=\"pt\", \n",
    "        max_length=512\n",
    "    )\n",
    "\n",
    "    # Generate the summary with Pegasus\n",
    "    try:\n",
    "        summary_ids = model_pegasus.generate(\n",
    "            inputs['input_ids'], \n",
    "            num_beams=4,\n",
    "            min_length=50,\n",
    "            max_length=200,             \n",
    "            length_penalty=2.0, \n",
    "            early_stopping=True\n",
    "        )\n",
    "        \n",
    "        # Decode the generated IDs to text\n",
    "        pegasus_summary = tokenizer_pegasus.decode(\n",
    "            summary_ids[0], \n",
    "            skip_special_tokens=True\n",
    "        )\n",
    "        \n",
    "        # Store the summary in the final summaries dictionary\n",
    "        final_summaries[review_id] = pegasus_summary\n",
    "\n",
    "    except IndexError as e:\n",
    "        print(f\"Error processing review_id {review_id}: {e}\")\n",
    "        final_summaries[review_id] = \"\"\n",
    "\n",
    "# Display the final summaries\n",
    "for review_id, summary in final_summaries.items():\n",
    "    print(f\"Review ID: {review_id}\\nAbstractive Summary: {summary}\\n\")\n"
   ]
  },
  {
   "cell_type": "markdown",
   "id": "43792e81",
   "metadata": {},
   "source": [
    "____"
   ]
  },
  {
   "cell_type": "markdown",
   "id": "4d90cde3",
   "metadata": {},
   "source": [
    "***BioBERT***"
   ]
  },
  {
   "cell_type": "code",
   "execution_count": 8,
   "id": "8284ffc7",
   "metadata": {},
   "outputs": [
    {
     "data": {
      "application/vnd.jupyter.widget-view+json": {
       "model_id": "d087cc2003514d528152682e2272c764",
       "version_major": 2,
       "version_minor": 0
      },
      "text/plain": [
       "Downloading pytorch_model.bin:   0%|          | 0.00/436M [00:00<?, ?B/s]"
      ]
     },
     "metadata": {},
     "output_type": "display_data"
    },
    {
     "name": "stderr",
     "output_type": "stream",
     "text": [
      "Some weights of PegasusForConditionalGeneration were not initialized from the model checkpoint at google/pegasus-xsum and are newly initialized: ['model.decoder.embed_positions.weight', 'model.encoder.embed_positions.weight']\n",
      "You should probably TRAIN this model on a down-stream task to be able to use it for predictions and inference.\n"
     ]
    },
    {
     "name": "stdout",
     "output_type": "stream",
     "text": [
      "Review ID: 16801507\n",
      "Abstractive Summary: The present study was carried out to evaluate the effect of glomerulonephritis ( GC ) on bone loss in patients with chronic glomerulonephritis and to assess the efficacy of strontium ranelate in preventing vertebral fractures in postmenopausal women.\n",
      "\n",
      "Review ID: 11676811\n",
      "Abstractive Summary: The aim of this study was to compare the effectiveness of lumbar supports and education for the prevention of low back pain in patients after a factorial design with the use of randomised controlled trials (RCTs) and historical controls (HCTs) for clinical trials.\n",
      "\n",
      "Review ID: 12719681\n",
      "Abstractive Summary: Quality of life (QOL) scores predict re-admission for COPD or death within 12 months of an original admission, and predict home nebuliser provision in a study of 377 patients admitted with an exacerbation of COPD, with 111 of whom were not included in the study because they refused the interview or died before discharge.\n",
      "\n",
      "Review ID: 26830881\n",
      "Abstractive Summary: The following papers have been published in the Journal of the American Academy of Psychiatry and the Journal of the American Board of Psychiatry and Psychology: 'Panic disorder with or without agoraphobia: a long-term extension of an 8-week r and omized study'\n",
      "\n",
      "Review ID: 28611377\n",
      "Abstractive Summary: Early death after an ischemic stroke was more common in patients with atrial fibrillation ( AF ) than in those with persistent AF, and was more common in patients with further events within 14 days of the initial stroke, according to results of the Rivaroxaban trial.\n",
      "\n"
     ]
    }
   ],
   "source": [
    "import pandas as pd\n",
    "import numpy as np\n",
    "from sklearn.cluster import KMeans\n",
    "import torch\n",
    "from transformers import AutoTokenizer, AutoModel\n",
    "\n",
    "\n",
    "# Assuming df is your actual DataFrame with 'review_id' and 'abstract' columns\n",
    "\n",
    "# Split the concatenated abstracts into lists of abstracts\n",
    "df['split_abstracts'] = df['abstract'].apply(lambda x: x.split('\\n '))\n",
    "\n",
    "# Load the BioBERT tokenizer and model\n",
    "model_name = \"dmis-lab/biobert-base-cased-v1.2\"\n",
    "tokenizer = AutoTokenizer.from_pretrained(model_name)\n",
    "model = AutoModel.from_pretrained(model_name)\n",
    "\n",
    "\n",
    "def bert_sentence_embeddings(sentences):\n",
    "    embeddings = []\n",
    "    for sentence in sentences:\n",
    "        inputs = tokenizer(sentence, return_tensors='pt', max_length=512, truncation=True)\n",
    "        with torch.no_grad():\n",
    "            outputs = model(**inputs)\n",
    "        embeddings.append(outputs.last_hidden_state.mean(dim=1).squeeze().numpy())\n",
    "    return np.array(embeddings)\n",
    "\n",
    "def select_top_sentences(sentences, embeddings, n_sentences=5):\n",
    "    if len(sentences) < n_sentences:\n",
    "        return ' '.join(sentences)\n",
    "    kmeans = KMeans(n_clusters=n_sentences, n_init=10)\n",
    "    kmeans.fit(embeddings)\n",
    "    top_sentence_indices = np.argmin(\n",
    "        np.linalg.norm(embeddings[:, np.newaxis] - kmeans.cluster_centers_, axis=2), axis=0)\n",
    "    top_sentences = [sentences[index] for index in top_sentence_indices]\n",
    "    return ' '.join(top_sentences)\n",
    "\n",
    "# Process each abstract and create summaries\n",
    "summaries = {}\n",
    "for _, row in df.iterrows():\n",
    "    review_id = row['review_id']\n",
    "    split_abstracts = row['split_abstracts']\n",
    "    combined_summary = ''\n",
    "    \n",
    "    for abstract in split_abstracts:\n",
    "        # Split each abstract into sentences\n",
    "        sentences = abstract.split('. ')  # Assuming sentences in abstracts are separated by '. '\n",
    "        # Generate embeddings for each sentence\n",
    "        embeddings = bert_sentence_embeddings(sentences)\n",
    "        # Select the top sentences from these embeddings\n",
    "        summary = select_top_sentences(sentences, embeddings)\n",
    "        # Combine the summaries from each abstract\n",
    "        combined_summary += summary + ' '\n",
    "    \n",
    "    # Add the combined summary for the current review_id to the summaries dictionary\n",
    "    summaries[review_id] = combined_summary.strip()\n",
    "\n",
    "# # Print the summaries for each review_id\n",
    "# for review_id, summary in summaries.items():\n",
    "#     print(f\"Review ID: {review_id}\\nSummary: {summary}\\n\")\n",
    "\n",
    "\n",
    "\n",
    "##########\n",
    "\n",
    "\n",
    "from transformers import PegasusForConditionalGeneration, PegasusTokenizer\n",
    "\n",
    "# Load pre-trained Pegasus tokenizer and model\n",
    "tokenizer_pegasus = PegasusTokenizer.from_pretrained('google/pegasus-xsum')\n",
    "model_pegasus = PegasusForConditionalGeneration.from_pretrained('google/pegasus-xsum')\n",
    "\n",
    "# Dictionary to store the final summaries\n",
    "final_summaries = {}\n",
    "\n",
    "# Iterate over each summary in the summaries dictionary\n",
    "for review_id, extractive_summary in summaries.items():\n",
    "    # Prepare the input for the model\n",
    "    inputs = tokenizer_pegasus(\n",
    "        extractive_summary, \n",
    "        truncation=True, \n",
    "        padding=\"longest\", \n",
    "        return_tensors=\"pt\", \n",
    "        max_length=512\n",
    "    )\n",
    "\n",
    "    # Generate the summary with Pegasus\n",
    "    try:\n",
    "        summary_ids = model_pegasus.generate(\n",
    "            inputs['input_ids'], \n",
    "            num_beams=4,\n",
    "            min_length=50,\n",
    "            max_length=200,             \n",
    "            length_penalty=2.0, \n",
    "            early_stopping=True\n",
    "        )\n",
    "        \n",
    "        # Decode the generated IDs to text\n",
    "        pegasus_summary = tokenizer_pegasus.decode(\n",
    "            summary_ids[0], \n",
    "            skip_special_tokens=True\n",
    "        )\n",
    "        \n",
    "        # Store the summary in the final summaries dictionary\n",
    "        final_summaries[review_id] = pegasus_summary\n",
    "\n",
    "    except IndexError as e:\n",
    "        print(f\"Error processing review_id {review_id}: {e}\")\n",
    "        final_summaries[review_id] = \"\"\n",
    "\n",
    "# Display the final summaries\n",
    "for review_id, summary in final_summaries.items():\n",
    "    print(f\"Review ID: {review_id}\\nAbstractive Summary: {summary}\\n\")\n",
    "\n",
    "\n"
   ]
  },
  {
   "cell_type": "markdown",
   "id": "f1edca8a",
   "metadata": {},
   "source": [
    "___"
   ]
  },
  {
   "cell_type": "markdown",
   "id": "28e8d4ab",
   "metadata": {},
   "source": [
    "***BioBERT and T5***"
   ]
  },
  {
   "cell_type": "code",
   "execution_count": 11,
   "id": "84ab6690",
   "metadata": {},
   "outputs": [
    {
     "data": {
      "application/vnd.jupyter.widget-view+json": {
       "model_id": "00734c2912f04f16a67976fdf81057de",
       "version_major": 2,
       "version_minor": 0
      },
      "text/plain": [
       "Downloading (…)okenizer_config.json:   0%|          | 0.00/2.32k [00:00<?, ?B/s]"
      ]
     },
     "metadata": {},
     "output_type": "display_data"
    },
    {
     "data": {
      "application/vnd.jupyter.widget-view+json": {
       "model_id": "48f1c703fb1f4f249d365d522d4b1c05",
       "version_major": 2,
       "version_minor": 0
      },
      "text/plain": [
       "Downloading (…)ve/main/spiece.model:   0%|          | 0.00/792k [00:00<?, ?B/s]"
      ]
     },
     "metadata": {},
     "output_type": "display_data"
    },
    {
     "data": {
      "application/vnd.jupyter.widget-view+json": {
       "model_id": "fdea955435104468b9d3c2da2d045816",
       "version_major": 2,
       "version_minor": 0
      },
      "text/plain": [
       "Downloading (…)/main/tokenizer.json:   0%|          | 0.00/1.39M [00:00<?, ?B/s]"
      ]
     },
     "metadata": {},
     "output_type": "display_data"
    },
    {
     "name": "stderr",
     "output_type": "stream",
     "text": [
      "You are using the default legacy behaviour of the <class 'transformers.models.t5.tokenization_t5.T5Tokenizer'>. This is expected, and simply means that the `legacy` (previous) behavior will be used so nothing changes for you. If you want to use the new behaviour, set `legacy=False`. This should only be set if you understand what it means, and thouroughly read the reason why this was added as explained in https://github.com/huggingface/transformers/pull/24565\n"
     ]
    },
    {
     "data": {
      "application/vnd.jupyter.widget-view+json": {
       "model_id": "c21367aaebf64ad1abb55aed18407560",
       "version_major": 2,
       "version_minor": 0
      },
      "text/plain": [
       "Downloading (…)lve/main/config.json:   0%|          | 0.00/1.21k [00:00<?, ?B/s]"
      ]
     },
     "metadata": {},
     "output_type": "display_data"
    },
    {
     "data": {
      "application/vnd.jupyter.widget-view+json": {
       "model_id": "a92fa1d48398460c8583af513708cbfb",
       "version_major": 2,
       "version_minor": 0
      },
      "text/plain": [
       "Downloading model.safetensors:   0%|          | 0.00/242M [00:00<?, ?B/s]"
      ]
     },
     "metadata": {},
     "output_type": "display_data"
    },
    {
     "data": {
      "application/vnd.jupyter.widget-view+json": {
       "model_id": "1cba3c7028cd4a57bbcb8e36f977a02c",
       "version_major": 2,
       "version_minor": 0
      },
      "text/plain": [
       "Downloading (…)neration_config.json:   0%|          | 0.00/147 [00:00<?, ?B/s]"
      ]
     },
     "metadata": {},
     "output_type": "display_data"
    },
    {
     "name": "stdout",
     "output_type": "stream",
     "text": [
      "Review ID: 16801507\n",
      "Abstractive Summary: serum OPG, osteocalcin ( OC ), bone-specific alkaline phosphatase activity ( BAP ), PTH, tartrate-resistant acid phosphatase ( TRAP ), and bone mineral density ( BMD ) were measured before and during the treatment. no significant change was seen in group B.\n",
      "\n",
      "Review ID: 11676811\n",
      "Abstractive Summary: four of 56 HCTs ( 79 percent) found the therapy better than the control regimen. but only 10 of 50 RCTs ( 20 percent) agreed Adjustment of the outcomes of the HCTs for prognostic factors.\n",
      "\n",
      "Review ID: 12719681\n",
      "Abstractive Summary: one hundred and thirty eight patients did not have a home nebuliser before admission Logistic regression analysis of the three SGRQ subscales ( Symptom, Impact and Activity ) all three subscales were significantly related to hospital readmission and that Impact scores were related to nebuliser provision. 111 of those not included in the study because they refused the interview or died before discharge.\n",
      "\n",
      "Review ID: 26830881\n",
      "Abstractive Summary: clonazepam and paroxetine were 1.9 ( SD, 0.30 ) and 38.4 ( SD, 3.74 ) mg/d. total treatment duration was 36 months. both symptoms were significantly improved in both groups.\n",
      "\n",
      "Review ID: 28611377\n",
      "Abstractive Summary: patients with persistent AF were marginally older ( 73 vs 45 %, P  0.0001 ) and more likely to have previously used vitamin K antagonists. death within 14 days was more common in patients with AF ( 17 % versus 8 % ) and more often attributed to neurological damage from the initial stroke.\n",
      "\n"
     ]
    }
   ],
   "source": [
    "import pandas as pd\n",
    "import numpy as np\n",
    "from sklearn.cluster import KMeans\n",
    "import torch\n",
    "from transformers import AutoTokenizer, AutoModel, T5Tokenizer, T5ForConditionalGeneration\n",
    "\n",
    "# Assuming df is your actual DataFrame with 'review_id' and 'abstract' columns\n",
    "\n",
    "# Split the concatenated abstracts into lists of abstracts\n",
    "df['split_abstracts'] = df['abstract'].apply(lambda x: x.split('\\n '))\n",
    "\n",
    "# Load the BioBERT tokenizer and model\n",
    "biobert_model_name = \"dmis-lab/biobert-base-cased-v1.2\"\n",
    "tokenizer_biobert = AutoTokenizer.from_pretrained(biobert_model_name)\n",
    "model_biobert = AutoModel.from_pretrained(biobert_model_name)\n",
    "\n",
    "def bert_sentence_embeddings(sentences):\n",
    "    embeddings = []\n",
    "    for sentence in sentences:\n",
    "        inputs = tokenizer_biobert(sentence, return_tensors='pt', max_length=512, truncation=True)\n",
    "        with torch.no_grad():\n",
    "            outputs = model_biobert(**inputs)\n",
    "        embeddings.append(outputs.last_hidden_state.mean(dim=1).squeeze().numpy())\n",
    "    return np.array(embeddings)\n",
    "\n",
    "def select_top_sentences(sentences, embeddings, n_sentences=5):\n",
    "    if len(sentences) < n_sentences:\n",
    "        return ' '.join(sentences)\n",
    "    kmeans = KMeans(n_clusters=n_sentences, n_init=10)\n",
    "    kmeans.fit(embeddings)\n",
    "    top_sentence_indices = np.argmin(\n",
    "        np.linalg.norm(embeddings[:, np.newaxis] - kmeans.cluster_centers_, axis=2), axis=0)\n",
    "    top_sentences = [sentences[index] for index in top_sentence_indices]\n",
    "    return ' '.join(top_sentences)\n",
    "\n",
    "# Process each abstract and create summaries\n",
    "summaries = {}\n",
    "for _, row in df.iterrows():\n",
    "    review_id = row['review_id']\n",
    "    split_abstracts = row['split_abstracts']\n",
    "    combined_summary = ''\n",
    "    \n",
    "    for abstract in split_abstracts:\n",
    "        sentences = abstract.split('. ')  # Assuming sentences in abstracts are separated by '. '\n",
    "        embeddings = bert_sentence_embeddings(sentences)\n",
    "        summary = select_top_sentences(sentences, embeddings)\n",
    "        combined_summary += summary + ' '\n",
    "    \n",
    "    summaries[review_id] = combined_summary.strip()\n",
    "\n",
    "##########\n",
    "\n",
    "# Load pre-trained T5 tokenizer and model\n",
    "t5_model_name = \"t5-small\"  # You can choose other versions like 't5-base', 't5-large'\n",
    "tokenizer_t5 = T5Tokenizer.from_pretrained(t5_model_name)\n",
    "model_t5 = T5ForConditionalGeneration.from_pretrained(t5_model_name)\n",
    "\n",
    "# Dictionary to store the final summaries\n",
    "final_summaries = {}\n",
    "\n",
    "for review_id, extractive_summary in summaries.items():\n",
    "    # Prepend the prompt for summarization task\n",
    "    prompt = \"summarize: \" + extractive_summary\n",
    "    \n",
    "    inputs = tokenizer_t5(\n",
    "        prompt, \n",
    "        return_tensors=\"pt\", \n",
    "        max_length=512, \n",
    "        truncation=True, \n",
    "        padding=\"longest\"\n",
    "    )\n",
    "\n",
    "    try:\n",
    "        summary_ids = model_t5.generate(\n",
    "            inputs['input_ids'],\n",
    "            num_beams=4,\n",
    "            min_length=50,\n",
    "            max_length=200,\n",
    "            length_penalty=2.0,\n",
    "            early_stopping=True\n",
    "        )\n",
    "        \n",
    "        t5_summary = tokenizer_t5.decode(\n",
    "            summary_ids[0], \n",
    "            skip_special_tokens=True\n",
    "        )\n",
    "        \n",
    "        final_summaries[review_id] = t5_summary\n",
    "\n",
    "    except IndexError as e:\n",
    "        print(f\"Error processing review_id {review_id}: {e}\")\n",
    "        final_summaries[review_id] = \"\"\n",
    "\n",
    "for review_id, summary in final_summaries.items():\n",
    "    print(f\"Review ID: {review_id}\\nAbstractive Summary: {summary}\\n\")\n"
   ]
  },
  {
   "cell_type": "markdown",
   "id": "e2a2ec31",
   "metadata": {},
   "source": [
    "***SciBERT and GPT4***"
   ]
  },
  {
   "cell_type": "markdown",
   "id": "bcf071d7",
   "metadata": {},
   "source": [
    "Here are abstractive summaries for each biomedical review:\n",
    "\n",
    "Review ID: 16801507\n",
    "This review evaluates the effects of vitamin K2 on bone health, particularly in preventing bone loss induced by glucocorticoids and in postmenopausal women. The study involves various markers of bone metabolism and the incidence of vertebral fractures. The effects of different medications, including hormone replacement therapy, etidronate, calcitonin, and vitamin K, on bone mineral density and fracture incidence in postmenopausal women with osteoporosis are assessed. Additionally, it explores the role of vitamin K in preventing bone mineral density loss and fractures in elderly patients with Parkinson's disease, highlighting its potential in the treatment of osteoporosis.\n",
    "\n",
    "Review ID: 11676811\n",
    "This review compares the use of randomized controls (RCTs) and historical controls (HCTs) in clinical trials. It found that HCTs more often reported therapies as better than the control regimen compared to RCTs. The review also discusses the effectiveness of various interventions in preventing or treating low back pain in different settings, highlighting the mixed results and the need for further research. The findings underscore the importance of methodological rigor in clinical trials and suggest that RCTs may be more reliable for evaluating new therapies.\n",
    "\n",
    "Review ID: 12719681\n",
    "This review focuses on the impact of domiciliary oxygen therapy, self-directed exercise, and rehabilitation in patients with COPD. It examines quality of life, lung function, and hospital readmission rates. Additionally, it explores the long-term effects of pulmonary rehabilitation programs, including their impact on walking distance, muscle force, and overall quality of life. The review also investigates the perceptions of asthmatics to changes in their condition and the effectiveness of quality-of-life measures in clinical trials.\n",
    "\n",
    "Review ID: 26830881\n",
    "This review discusses long-term studies on the treatment of panic disorder and generalized anxiety disorder (GAD) with medications like clonazepam, paroxetine, and venlafaxine. It highlights the sustained efficacy of these medications over extended periods and their impact on symptoms like sleep disturbances. The review also explores pharmacogenetics in treatment response, the effectiveness of cognitive-behavioral therapy (CBT), and tapering off high-potency benzodiazepines in panic disorder treatment. Safety, adverse events, and relapse rates are key considerations.\n",
    "\n",
    "Review ID: 28611377\n",
    "This review compares outcomes in patients with persistent and paroxysmal atrial fibrillation (AF), particularly in relation to stroke risk and survival rates. It investigates the risk of early death post-ischemic stroke in AF patients, the effects of atrial flutter, and mortality associated with different anticoagulation treatments. The review also explores the correlation between AF and myocardial infarction, highlighting the public health burden of AF and the need for holistic management, including cardiovascular risk prevention."
   ]
  },
  {
   "cell_type": "markdown",
   "id": "1463cf66",
   "metadata": {},
   "source": [
    "#### prompted to pay attention to the evidence direction \n",
    "\n",
    "\n",
    "Review ID: 16801507\n",
    "This review examines the role of vitamin K2 in bone health. It finds that vitamin K2 may help in preventing bone loss caused by glucocorticoids and could be beneficial in treating osteoporosis, particularly in postmenopausal women. The study reports a decrease in bone mineral density with various treatments, but notes that vitamin K2 therapy may effectively prevent new fractures and reduce postmenopausal spinal bone loss. The results suggest that early postmenopausal intervention with vitamin K2 could be beneficial in maintaining bone health.\n",
    "\n",
    "Review ID: 11676811\n",
    "The review compares randomized control trials (RCTs) and historical control trials (HCTs) in assessing clinical therapies. It reveals that HCTs more frequently report positive outcomes compared to RCTs. In evaluating low back pain interventions, the review finds mixed results on their effectiveness, with some interventions showing benefit and others showing no significant impact. The findings highlight the variability in effectiveness of different interventions and underscore the importance of robust trial designs in determining the true efficacy of therapies.\n",
    "\n",
    "Review ID: 12719681\n",
    "This review focuses on treatments for COPD, particularly examining the effectiveness of domiciliary oxygen therapy, exercise, and rehabilitation. The study reports that while rehabilitation may improve quality of life, it doesn't necessarily correlate with improvements in lung function and exercise tolerance. Self-directed exercise is noted to improve physical functioning compared to usual care. The review also observes that long-term pulmonary rehabilitation programs can lead to sustained improvements in walking distance and quality of life for COPD patients.\n",
    "\n",
    "Review ID: 26830881\n",
    "The review discusses long-term treatment of panic disorder and generalized anxiety disorder (GAD) with clonazepam, paroxetine, and venlafaxine. It finds that these medications maintain their efficacy over extended periods, with particular improvements in anxiety-related sleep disturbances. The review also notes the effective role of cognitive-behavioral therapy (CBT) in treating these disorders and suggests that tapering off benzodiazepines like clonazepam can be achieved safely in patients with panic disorder. The study underscores the importance of considering safety and the potential for relapse in long-term treatment plans.\n",
    "\n",
    "Review ID: 28611377\n",
    "This review compares the risks associated with persistent and paroxysmal atrial fibrillation (AF), particularly in the context of stroke and survival rates. It finds that patients with persistent AF have a higher risk of thrombo-embolic events and worse survival compared to those with paroxysmal AF. The study also reports that AF patients have a higher risk of early death following an ischemic stroke, largely due to older age and larger infarcts. The effectiveness of anticoagulation treatments like dabigatran in reducing vascular mortality is noted, along with the association of AF with an increased risk of myocardial infarction. The review highlights the significant public health burden of AF and the necessity for comprehensive management strategies."
   ]
  }
 ],
 "metadata": {
  "kernelspec": {
   "display_name": "Python 3 (ipykernel)",
   "language": "python",
   "name": "python3"
  },
  "language_info": {
   "codemirror_mode": {
    "name": "ipython",
    "version": 3
   },
   "file_extension": ".py",
   "mimetype": "text/x-python",
   "name": "python",
   "nbconvert_exporter": "python",
   "pygments_lexer": "ipython3",
   "version": "3.8.18"
  }
 },
 "nbformat": 4,
 "nbformat_minor": 5
}
