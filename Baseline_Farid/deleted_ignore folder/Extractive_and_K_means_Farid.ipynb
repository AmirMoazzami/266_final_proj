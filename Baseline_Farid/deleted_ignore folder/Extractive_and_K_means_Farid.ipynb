{
 "cells": [
  {
   "cell_type": "code",
   "execution_count": 44,
   "id": "74bc1a2e",
   "metadata": {},
   "outputs": [
    {
     "name": "stdout",
     "output_type": "stream",
     "text": [
      "TensorFlow has access to the following devices:\n",
      "[PhysicalDevice(name='/physical_device:CPU:0', device_type='CPU'), PhysicalDevice(name='/physical_device:GPU:0', device_type='GPU')]\n",
      "TensorFlow version: 2.9.0\n"
     ]
    }
   ],
   "source": [
    "import pandas as pd\n",
    "import matplotlib.pyplot as plt\n",
    "import seaborn as sns\n",
    "import torch\n",
    "import evaluate\n",
    "import numpy as np\n",
    "\n",
    "from pprint import pprint\n",
    "from datasets import load_dataset\n",
    "from sklearn.cluster import KMeans\n",
    "\n",
    "from transformers import PegasusTokenizer, PegasusForConditionalGeneration\n",
    "from transformers import BertTokenizer, BertModel\n",
    "from nltk.tokenize import sent_tokenize\n",
    "\n",
    "# sure the GPUs are working \n",
    "import tensorflow as tf\n",
    "\n",
    "# Check for TensorFlow GPU access\n",
    "print(f\"TensorFlow has access to the following devices:\\n{tf.config.list_physical_devices()}\")\n",
    "\n",
    "# See TensorFlow version\n",
    "print(f\"TensorFlow version: {tf.__version__}\")\n",
    "\n",
    "\n",
    "# # Load the dataset\n",
    "# dataset = load_dataset(\"allenai/mslr2022\", \"ms2\", split='validation')\n",
    "\n",
    "# # Convert the dataset to a Pandas DataFrame\n",
    "# df = dataset.to_pandas()\n",
    "\n",
    "\n",
    "# Load the data- test inputs\n",
    "df = pd.read_csv('mslr2022_validation.csv')\n",
    "\n",
    "\n",
    "df = df[['review_id', 'abstract']]\n",
    "\n",
    "#save the first 10 rows for practice \n",
    "df= df[5:10]\n",
    "\n",
    "# df.head()"
   ]
  },
  {
   "cell_type": "code",
   "execution_count": 45,
   "id": "b2b2e6fa",
   "metadata": {},
   "outputs": [
    {
     "data": {
      "text/html": [
       "<div>\n",
       "<style scoped>\n",
       "    .dataframe tbody tr th:only-of-type {\n",
       "        vertical-align: middle;\n",
       "    }\n",
       "\n",
       "    .dataframe tbody tr th {\n",
       "        vertical-align: top;\n",
       "    }\n",
       "\n",
       "    .dataframe thead th {\n",
       "        text-align: right;\n",
       "    }\n",
       "</style>\n",
       "<table border=\"1\" class=\"dataframe\">\n",
       "  <thead>\n",
       "    <tr style=\"text-align: right;\">\n",
       "      <th></th>\n",
       "      <th>review_id</th>\n",
       "      <th>abstract</th>\n",
       "    </tr>\n",
       "  </thead>\n",
       "  <tbody>\n",
       "    <tr>\n",
       "      <th>5</th>\n",
       "      <td>16801507</td>\n",
       "      <td>['We have recently demonstrated that glucocort...</td>\n",
       "    </tr>\n",
       "    <tr>\n",
       "      <th>6</th>\n",
       "      <td>11676811</td>\n",
       "      <td>['To compare the use of  r and omized controls...</td>\n",
       "    </tr>\n",
       "    <tr>\n",
       "      <th>7</th>\n",
       "      <td>12719681</td>\n",
       "      <td>[\"BACKGROUND There is some evidence that quali...</td>\n",
       "    </tr>\n",
       "    <tr>\n",
       "      <th>8</th>\n",
       "      <td>26830881</td>\n",
       "      <td>['Abstract This long-term extension of an 8-we...</td>\n",
       "    </tr>\n",
       "    <tr>\n",
       "      <th>9</th>\n",
       "      <td>28611377</td>\n",
       "      <td>['Aim Anticoagulation prophylaxis for stroke i...</td>\n",
       "    </tr>\n",
       "  </tbody>\n",
       "</table>\n",
       "</div>"
      ],
      "text/plain": [
       "   review_id                                           abstract\n",
       "5   16801507  ['We have recently demonstrated that glucocort...\n",
       "6   11676811  ['To compare the use of  r and omized controls...\n",
       "7   12719681  [\"BACKGROUND There is some evidence that quali...\n",
       "8   26830881  ['Abstract This long-term extension of an 8-we...\n",
       "9   28611377  ['Aim Anticoagulation prophylaxis for stroke i..."
      ]
     },
     "execution_count": 45,
     "metadata": {},
     "output_type": "execute_result"
    }
   ],
   "source": [
    "df.head(15)"
   ]
  },
  {
   "cell_type": "code",
   "execution_count": 50,
   "id": "7ba72d0d",
   "metadata": {},
   "outputs": [
    {
     "data": {
      "text/plain": [
       "5    [['We have recently demonstrated that glucocor...\n",
       "6    [['To compare the use of  r and omized control...\n",
       "7    [[\"BACKGROUND There is some evidence that qual...\n",
       "8    [['Abstract This long-term extension of an 8-w...\n",
       "9    [['Aim Anticoagulation prophylaxis for stroke ...\n",
       "Name: split_abstracts, dtype: object"
      ]
     },
     "execution_count": 50,
     "metadata": {},
     "output_type": "execute_result"
    }
   ],
   "source": [
    "# Split the abstracts into lists of sentences\n",
    "df['split_abstracts'] = df['abstract'].apply(lambda x: x.split('\\n '))\n",
    "df['split_abstracts']"
   ]
  },
  {
   "cell_type": "markdown",
   "id": "8bdce99a",
   "metadata": {},
   "source": [
    "***Extractive step: BERT, K means***"
   ]
  },
  {
   "cell_type": "code",
   "execution_count": 52,
   "id": "2c2cccc7",
   "metadata": {},
   "outputs": [
    {
     "name": "stdout",
     "output_type": "stream",
     "text": [
      "Review ID: 16801507\n",
      "Summary: OPG was significantly decreased in group A ( P < 0.001 ) , while no significant change was seen in group B As vitamin K2 ( menatetrenone ) has been used for the treatment of osteoporosis , the present study was carried out to evaluate the effect of vitamin K2 on GC-induced bone loss  There were no significant differences between the groups in the incidence of serious adverse events  METHODS To evaluate the efficacy of strontium ranelate in preventing vertebral fractures in a phase 3 trial , we r and omly assigned 1649 postmenopausal women with osteoporosis ( low bone mineral density ) and at least one vertebral fracture to receive 2 g of oral strontium ranelate per day or placebo for three years  During 1 yr of calcium/vitamin D2 treatment , ucOC decreased ( P < 0.05 ) , especially in those with the initially increased values ( from 2.22 + /- 0.35 to 1.41 + /- 0.29 ng/ml , P < 0.005 ) contrasting with an increase in the placebo group ( P < 0.05 )  In conclusion , the increase in ucOC in the elderly reflects not only some degree of vitamin K deficiency but also their poor vitamin D status , suggesting that vitamin D may be important , either directly or indirectly through its effect on bone turnover , for achieving a normal gamma-carboxylation of OC  RESULTS Women in quintiles 2 - 5 of vitamin K intake had a significantly lower age-adjusted relative risk ( RR : 0.70 ; 95 % CI : 0.53 , 0.93 ) of hip fracture than women in the lowest quintile ( < 109 microg/d )  OBJECTIVE We investigated the hypothesis that high intakes of vitamin K are associated with a lower  risk of hip fracture in women  OBJECTIVE The objective of this study was to determine whether phylloquinone ( vitamin K(1 ) ) intake and biochemical indicators of vitamin K status are related to bone mineral content ( BMC ) and markers of bone formation and bone resorption in girls  Better vitamin K status ( high plasma phylloquinone and low % ucOC ) was associated with lower bone resorption and formation  Conclusions : The rate of bone loss in all three subgroups of female athletes was unexpectedly high ; neither estrogen nor vitamin K supplementation prevented bone loss  Study Design : Prospect i ve cohort study  Phylloquinone and menaquinone-4 were present in all milk sample s : 5.84 ( SD 2.31 ) and 2.98 ( SD 1.51 ) nmol/l ( n 31 ) respectively , in colostrum ( day 4 sample )  Milk sample s were collected on days 4 , 8 , 16 , and 19  For clinical ly apparent vertebral fractures , the corresponding numbers were 23 ( 2.3 % ) alendronate and 50 ( 5.0 % ) placebo ( relative hazard 0.45 [ 0.27 - 0.72 ] )  New vertebral fractures , the primary endpoint , were defined by morphometry as a decrease of 20 % ( and at least 4 mm ) in at least one vertebral height between the baseline and latest follow-up radiograph  RESULTS Compared with baseline , the 2-year mean changes in bone mineral density were 2.0 % for hormone replacement therapy , -0.5 % for etidronate , 1.6 % for calcitonin , -3.6 % for alfacalcidol , -1.9 % for vitamin K , and -3.3 % for control  'PURPOSE To assess the comparative effectiveness of several medications on bone mineral density , biochemical bone markers , and the incidence of vertebral fractures in postmenopausal women with osteoporosis  The main outcome was the change in BMD of the femoral neck and lumbar spine after 3 years , as measured by DXA  In the trial presented here we have investigated the potential complementary effect of vitamin K1 ( 1 mg/day ) and a mineral + vitamin D supplement ( 8 µg/day ) on postmenopausal bone loss  BMD in the second metacarpals increased by 0.9 % in the treated group and decreased by 4.3 % in the untreated group ( p < 0.0001 )  As a biological indicator of compromised vitamin K status , an increased serum concentration of undercarboxylated osteocalcin ( Oc ) has been associated with reduced BMD in the hip and an increased risk of fracture in otherwise healthy elderly women  'Abstract The effect of the combined administration of vitamin D3 and vitamin K2 on bone mineral density ( BMD ) of the lumbar spine was examined in postmenopausal women with osteoporosis  One-way analysis of variance ( ANOVA ) with repeated measurements showed a significant decrease in BMD in the C group ( P < 0.001 )  Censoring data from women when they ceased to adhere to the study medication reduced the hazard ratio for hip fracture to 0.71 ( 95 percent confidence interval , 0.52 to 0.97 )  )\" 'The purpose of this study is to evaluate the efficacy of vitamin K2 and 1,25-dihydroxyvitamin D3 [ 1,25-(OH)2D3 ] in preventing bone loss induced by estrogen deficiency during therapy with the GnRH agonist ( GnRH-a ) leuprolide  Group B tended to have the highest percent changes of bone resorption markers among the four groups , but these increases were not significantly different between any of the groups  Correlations of BMD with age , year since menopause and the initial BMD were determined  'OBJECTIVES To investigate the effect of vitamin K2 treatment for a year on spinal bone mineral density ( BMD ) in postmenopausal women , comparing with vitamin D3 hormone replacement therapy and to determine the factors which affect the efficacy of vitamin K2 therapy  The 40-microg dose increased bone mineral density more than the 20-microg dose but had similar effects on the risk of fracture and was more likely to have side effects' RESULTS New vertebral fractures occurred in 14 percent of the women in the placebo group and in 5 percent and 4 percent , respectively , of the women in the 20-microg and 40-microg parathyroid hormone groups ; the respective relative risks of fracture in the 20-microg and 40-microg groups , as compared with the placebo group , were 0.35 and 0.31 ( 95 percent confidence intervals , 0.22 to 0.55 and 0.19 to 0.50 )  The serum levels of Glu-OC at the end of the observation period in the control and the treated group were 3.0 + /- 0.3 ng/ml and 1.6 + /- 0.1 ng/ml , respectively ( p < 0.0001 ) , while the serum level of OC measured by the conventional radioimmunoassay ( RIA ) showed a significant rise ( 42.4 + /-6.9 % from the basal value ) in the treated group at 24 months ( 18.2 + /- 6.1 % for the controls;p = 0.0081 )  The control group ( without treatment ; n = 121 ) and the vitamin K2-treated group ( n = 120 ) , which received 45 mg/day orally vitamin K2 , were followed for lumbar bone mineral density ( LBMD ; measured by dual-energy X-ray absorptiometry [ DXA ] ) and occurrence of new clinical fractures  FINDINGS 698 ( 13 % ) of 5292 participants had a new low-trauma fracture , 183 ( 26 % ) of which were of the hip  INTERPRETATION The findings do not support routine oral supplementation with calcium and vitamin D3 , either alone or in combination , for the prevention of further fractures in previously mobile elderly people' We evaluated the efficacy of vitamin K2 ( menatetrenone : menaquinone-4 ; MK-4 ) in maintaining BMD by comparing serum biochemical indices of bone metabolism between treated and untreated patients  Nine patients excluded from the study  The indices of new vertebral fractures/1000 patient-years in the E and M groups were significantly higher than that in the C group ( χ2 = 47.7 ; P < 0.0001 and χ2 = 42.4 ; P < 0.0001 , respectively ) , and did not differ significantly between the E and M groups  'Abstract\n",
      "\n",
      "Review ID: 11676811\n",
      "Summary: For each therapy , the treated patients in RCTs and HCTs of the same therapy was largely due to differences in outcome for the control groups , with HCT control patients generally doing worse than the RCT control groups  The predictive value of each might be improved by reconsidering the use of p less than 0.05 as the significance level for all types of clinical trials , and by the use of confidence intervals around estimates of treatment effects' 'A clinical trial , aim ed at secondary prevention of low-back pain , was performed in 142 hospital employees reporting at least three annual episodes of this condition  The superiority of the CAL group was achieved partly because of the significant increase in trunk forward flexion and to initial increment in abdominal muscle strength  1 ) To investigate and compare the effects of two different exercise programs on low back problems in patients after a 1‐year training program under the supervision of a physiotherapist  Conclusions  Based on our results , the use of education or lumbar supports can not be recommended in the prevention of low back pain in industry' PARTICIPANTS A total of 312 workers were r and omized , of whom 282 were available for the 6-month follow-up  'We analysed 113 reports published in 1980 in a sample of medical journals to relate features of study design to the magnitude of gains attributed to new therapies over old  When interpreting an evaluation of a new therapy , readers should consider the impact of the following average adjustments to the Mann-Whitney statistic : for trials with non-r and om sequential assignment a decrease of 0.15 , for non-double-blind r and omized controlled trials a decrease of 0.11' The remaining 97 subjects participated in a schedule consisting of pre-post medical and physiotherapy examinations , question naires concerning sociodemography , musculoskeletal and general health complaints and work environment , physiological tests of cardiovascular fitness , and of strength and endurance of shoulder flexors and knee extensors , and registration of sick leave  The subjects were r and omly assigned to an exercise ( treatment ) or control group  The feedback report included staff team decisions made on the basis of the analysis and their justification  The initial item pool contained all items from existing criteria lists  Therefore , the study offers suggestive evidence for the initial benefits of a back injury prevention program and lends support to the widely held belief that health promotion in the workplace can reduce employee health risks , increase healthful behaviors and attitudes , and improve attitudes toward the employer organization  Four of the six divisions were r and omly selected as the intervention group and the remaining two , the  control group  Subjects were pre- and posttested using the Work-Related Body Mechanics Evaluation ( Carlton , 1987 ) while performing a st and ardized lifting task in the clinical setting  Using analysis of covariance , no significant differences were found in the posttest scores of the two groups' \"This study was funded in part by NIH grant AR36308 The authors thank the employees of the United States Postal Service and the American Postal Workers Union ( APWU ) , Boston Metro Area Local , and Maith and lers Local 301 for their help and cooperation ; therapists from the Department of Rehabilitation Services , Bngham and Women 's Hospital for help in training workers ; and Ms Nancy Tanner for\" Injured subjects ( from both the intervention and the control groups ) were r and omized a second time to receive either training or no training after their return to work  Our comparison of the intervention and control groups found that the education program did not reduce the rate of low back injury , the median cost per injury , the time off from work per injury , the rate of related musculoskeletal injuries , or the rate of repeated injury after return to work ; only the subjects ' knowledge of safe behavior was increased by the training  The treatment group received an intervention design ed to reduce current problems , but above all to prevent reinjury and minor pains from becoming chronic medical problems , and it included a physical and behavioral therapy package  The control group was placed on a waiting‐list  It appears that the use of intermittent prophylactic bracing has no adverse affects on abdominal muscle strength and may contribute to decreased lost time from work injuries' Orthoses and training-group showed no changes in strength productivity or accident rate ; however , they showed substantially less lost time  One group was allowed to exercise during working hours to improve back muscle strength , endurance , and coordination  Every hour spent by the physiotherapist on the training group reduced the work absence among the participants by 1.3 days , result ing in a cost/benefit ratio greater than 10' \"We analysed the results of 221 comparisons of an innovation with a st and ard treatment in surgery published in six leading surgery journals in 1983 to relate features of study design to the magnitude of gain  For secondary therapies ( used to prevent or treat complications of therapy ) , the average gain was 0.53 for 61 r and omized controlled trials , 0.58 for eleven non-r and omized controlled trials , 0.54 for eight externally controlled trials , and 0.55 for 18 record review s \"Thirty food service workers were r and omly assigned to two groups ; one group received body mechanics instruction while the other did not  Results indicated that the group which received instruction performed significantly better on the novel task than the group that received no instruction  In the exercise group , the number of episodes of back pain and the number of sick-leave days attributable to back pain in the intervention period decreased by over 50 %  Suggestions for establishing exercise programs are given' The results of the study indicate that the group that received instruction performed significantly better than the control group  Instruction on  low back pain  began with one classroom session before the subjects ' first day of work and continued during employment with two on-site sessions\n",
      "\n",
      "Review ID: 12719681\n",
      "Summary: CONCLUSIONS It is concluded that poor scores on the SGRQ , a QOL scale which measures patient distress and coping , are associated with re-admission for COPD and use of re sources such as nebulisers , independent of physiological measures of disease severity\" A total of 377 patients admitted with an exacerbation of COPD were identified in this time , 111 of whom were not included in the study because they refused the interview or died before discharge  'PURPOSE Self-directed and supervised exercise were compared with usual care in a clinical trial design ed to evaluate the effect of structured exercise on physical functioning and other dimensions of health-related quality of life in women with stages I and II breast cancer  In a secondary analysis of participants stratified by type of adjuvant therapy , supervised exercise improved aerobic capacity ( + 3.5 mL/kg/min ; P = .01 ) and reduced body weight ( -4.8 kg ; P < .05 ) compared with usual care only in participants not receiving chemotherapy  The exercise tolerance improved significantly in the rehabilitation group compared to the control group  After stratification , 28 patients were r and omly allocated in a home rehabilitation programme for 12 weeks  Physicians provided lower UNISCALE scores than patients  Two issues addressed were ( 1 ) Will QOL tools suffer from missing data when used in a community-based cooperative group setting ? , and ( 2 ) Are there additional data generated by a more detailed multiitem instrument over that provided by a single-item global QOL question ? MATERIAL S AND METHODS A four-arm r and omized trial was design ed to compare four instruments that provide overall QOL scores in patients with advanced colorectal cancer  Results  CONCLUSION AND DISCUSSION The magnitude of CSEMs is sufficiently small to detect change in patients with initial scores in the central portion of the scale ( 4 - 20 RMQ points ) ; however , the magnitude is too large to detect improvement in patients with scores of less than 4 and deterioration in patients who have scores greater than 20\" CONCLUSION Among patients who completed the 6-month program , outpatient training result ed in significant and clinical ly relevant changes in 6-minute walking distance , maximal exercise performance , peripheral and respiratory muscle strength , and quality of life  In the control group , 28 patients were evaluated at 6 months and 23 after 18 months  Determining the minimal patient perceivable improvement value for a measure may be helpful to interpret changes  'In this study , the perceptions of asthmatics to change in their disease was associated with observed changes in clinical asthma measures , in order to identify the threshold where changes in clinical asthma measures are perceivable by patients  RESULTS : The test-retest reliability of both question naires over time was good to excellent ( GSRS 0.53–0.69 ; QOLRAD 0.65–0.76 ) , as was the responsiveness estimated by st and ardized response means ( GSRS reflux dimension , −1.43 ; QOLRAD 0.81–1.43 ) and effect sizes ( GRSR reflux dimension , −1.74 ; QOLRAD 0.82–1.56 )  We aim ed to evaluate the previously vali date d Gastrointestinal Symptoms Rating Scale ( GSRS ) and the Quality of Life in Reflux and Dyspepsia ( QOLRAD ) question naires for reliability and responsiveness to change over time  Conclusion : This is the third study to support using one SEM to identify important individual change in health-related quality of life ( HRQoL ) measures  The baseline SEM values were compared with established AQLQ MID st and ards using weighted κ values  Both these problems have been addressed in a single study of the long term effects of once monthly physiotherapy versus once weekly physiotherapy at home after a comprehensive home rehabilitation programme on quality of life and exercise tolerance in patients with COPD  There was a decrease in both six minute walking distance ( at 12 and 18 months ) and IVC ( at three , 12 , and 18 months ) in patients in group C compared with the baseline measurement  CONCLUSIONS The use of the SEM to evaluate individual patient change should be explored among other health-related quality of life instruments with established st and ards for clinical ly relevant differences  DESIGN Secondary analysis of data from a r and omized controlled trial  1 ) , prior weight loss ( < 5 % vs Similarly , the average TOI change score from baseline to 12 weeks was -6.1 for patients who had progressive disease versus -0.8 points for patients who had responded to treatment  'The purpose was to determine the minimally important clinical difference ( MICD ) in fatigue as measured by the Profile of Mood States , Schwartz Cancer Fatigue Scale ( SCFS ) , General Fatigue Scale , and a 10-point single-item fatigue measure  The MICD is the smallest amount of change in a symptom ( e.g While the statistical significance of treatment differentials in  quality -of-life indices  has been well documented , their clinical relevance still remains unclear  'The use of  quality -of-life indices  in therapeutic trials is gaining recognition as important outcome variables for evaluating the total impact of antihypertensive therapy  Responsiveness statistics using changes in the independent measures of stress test pad weight , number of incontinent episodes , and patient global impression of improvement ranged from 0.4 to 0.8  Psychometric testing followed st and ardized procedures  The MCID for improvement ranged from 0.80 to 1.01 points on the continuous WOMAC numerical rating scale from 0 to 10 , reflecting changes of 17 to 22 % of baseline scores  CONCLUSION The assessment of MCID using the transition method is a heuristic and valid strategy to detect particular rehabilitation effects in patients with OA of the lower extremities with the use of the WOMAC , and it is worth implementing   MCID was assessed by the transition method  CONCLUSION In rehabilitation intervention , effects larger than 12 % of baseline score ( 6 % of maximal score ) can be attained and detected as MCID by the transition method in both the WOMAC and the SF-36  Apart from a small difference in ages , all treatment groups were well matched at baseline in terms of forced expiratory volume in one second ( FEV1 ) and HRQoL scores  This was not seen with salmeterol 100 microg twice a day\n",
      "\n",
      "Review ID: 26830881\n",
      "Summary: Patients treated with clonazepam had significantly fewer adverse events than those treated with paroxetine ( 28.9 % vs 70.6 % , P < 0.001 )  This study reports data from the long-term period ( 34 months ) , following the initial 8-week treatment phase  Sleep disturbances are highly prevalent in GAD patients  Thus , the objective of this study was to model the longitudinal latent effect of pregabalin or usual care ( UC ) therapies on changes in sleep in out patients with GAD under routine clinical practice  Data collected by this research group assessed the rate of remission after 6 months of treatment of generalized anxiety disorder ( GAD ) with venlafaxine XR , to search for predictors of remission and to define how early on in treatment later remission can be predicted  In addition , adverse events were also followed over time  Paroxetine was statistically significantly more effective than placebo throughout the long-term study with respect to reduction from baseline of full panic attacks , and at the end of treatment with respect to the proportion of patients who eventually experienced no panic attacks  Paroxetine was significantly more effective than placebo and as effective as ( but better tolerated than ) clomipramine in the long-term treatment of panic disorder  'Variation in genes involved in serotonergic signaling is thought to be associated with antidepressant treatment response in generalized anxiety disorder ( GAD )  Single-marker analysis only showed HAM-A differences of 4.3 ( 5-HTTLPR/rs25531 : La/La versus La/S+S/S ) and 4.8 ( rs7997012 : G/G+G/A versus A/A ) , showing for the first time a significant gene – gene interaction between these markers' Quetiapine XR monotherapy reduced the risk of anxiety symptom recurrence in patients with GAD stabilized on quetiapine XR , with tolerability results consistent with the known profile of quetiapine' Primary variable : time from r and omization to anxiety event  Genotypes for PACAP/PAC1 were examined for effects on treatment response to venlafaxine XR in  generalized anxiety disorder  'The pituitary adenylate cyclase-activating peptide ( PACAP ) and its receptor ( PAC1 ) are involved in stress response and anxiety  'BACKGROUND The results from our 1 year placebo-controlled maintenance/discontinuation study in remitted panic disorder with agoraphobia patients confirmed the significant prophylactic effectiveness of imipramine maintenance treatment but suggested that this may be necessary in only 37 % of the patients who relapse following discontinuation of 6 months acute imipramine treatment  The mean estimated time without relapse was 10 months and 9 months for IMI-PBO and PBO-PBO , respectively  For patients with moderate or severe AG , CBT+SSRI was associated with a more rapid improvement on panic frequency as compared to patients receiving either mono-treatment  RESULTS A significant decline in frequency of panic attacks was observed for each treatment modality  Significantly more patients treated with alprazolam than with imipramine hydrochloride or placebo remained in therapy and experienced panic attack and phobia relief during the acute treatment phase  Patients who improved received an additional 6 months ' maintenance treatment  In a r and omized controlled trial of acute serotonin-reuptake inhibitor treatment for late-life anxiety disorder , we examined whether change in salivary cortisol concentrations during treatment predicted improvements in measures of memory and executive function  All subjects had pre-treatment and post-treatment assessment s that included monitoring of peak and total daily cortisol  and a comprehensive neuropsychological evaluation  Rates of rebound anxiety were also low at both 12 and 24 wk ( 0 - 6 % )  Patients were assigned to receive an initially flexible dose of pregabalin 450 - 600 mg/d , pregabalin 150 - 300 mg/d , or lorazepam 3 - 4 mg/d for 6 wk ; responders continued fixed-dose therapy for 6 additional weeks  Method : Multicentre , prospect i ve and observational study conducted on outpatient psychiatric clinics  'Objective : To eluci date the consequences of broadening DSM-IV criteria for generalized anxiety disorder ( GAD ) , we examined prospect ively the evolution of GAD symptoms in two groups of patients ; one group diagnosed according to DSM-IV criteria and the other , according to broader criteria  There were no significant differences in relapse rates between the patients who received intermediate-term ( up to 12 months ) paroxetine and those who chose the long-term course ( 24 month paroxetine treatment )  All patients who eventually relapsed demonstrated significantly greater weight increase ( 7.3 kg ) during the treatment phase  SETTING One urban site ( 5 locations )  PATIENTS Of 268 patients with a diagnosis of GAD entering the open-label venlafaxine XR treatment phase , 158 ( 59.0 % ) completed 6 months , and 136 ( 50.7 % ) entered relapse phase 2 ( 6 - 12 months )  Conclusion Quetiapine XR 150 mg/day ( acute studies ) and 50–300 mg/day ( maintenance study ) improved quality of life , overall functioning , and sleep quality in patients with GAD'  Quality of Life Enjoyment and Satisfaction Question naire Short Form ( Q-LES-Q-SF ) percent maximum total scores ( items 1–14 ) , item 15 ( “ satisfaction with medication ” ) , item 16 ( “ overall life satisfaction ” ) , and Pittsburgh Sleep Quality Index ( PSQI ) global scores are reported  The presence of major depressive disorder did not account for these findings  RESULTS The presence of a PersD predicted a 30 % lower likelihood of generalized anxiety disorder remission , a 39 % lower likelihood of social phobia remission , and no difference in likelihood of panic disorder remission  RESULTS Data were obtained from 201 ( 96 % ) patients , 17 of whom had died  CONCLUSION Only two out of five people with the common neurotic disorders have a good outcome despite alleged advances in treatment  Decreased hyperreactivity to 35 % CO2 in all five treatment groups was already evident after the first week  A double-blind , r and omized design was applied  CONCLUSION The treatment of GAD with CBT and drugs is evidence -based and has a good chance of improving the manifestations of the disorder' Tricyclic antidepressants are also effective but have more adverse effects than SSRIs  Agomelatine was also superior to placebo in preventing relapse in the subset of more severe patients with baseline HARS total score ≥ 25 and CGI-S score ≥ 5  The study was undertaken in 31 clinical centers in Canada , Denmark , Estonia , Finl and , Hungary , and Sweden from November 2007 to September 2009  The findings add to the underst and ing of the nosology and treatment of these disorders' CONCLUSIONS These data depict the anxiety disorders as insidious , with a chronic clinical course , low rates of recovery , and relatively high probabilities of recurrence  Thirty patients ( 53 % ) in  the pregabalin group and 19 patients ( 37 % ) in the  placebo group completed the study , reducing the power to detect a significant difference on the primary outcome  'To evaluate the efficacy of pregabalin in facilitating taper off chronic benzodiazepines , out patients ( N = 106 ) with a lifetime diagnosis of generalized anxiety disorder ( current diagnosis could be subthreshold ) who had been treated with a benzodiazepine for 8–52 weeks were stabilized for 2–4 weeks on alprazolam in the range of 1–4 mg/day  11.2 % ) , headache ( 10.1 vs Among responders to open-label acute treatment with pregabalin  , time to relapse of GAD was significantly longer for patients treated with pregabalin compared with placebo ( P<0.0001 )  'OBJECTIVE This study aims to evaluate the differential predictive values of age , age of onset and duration of illness on  paroxetine  and cognitive-behavioural therapy ( CBT ) outcome in late-life panic disorder with agoraphobia  METHOD Patients 60 years and older with a confirmed diagnosis of panic disorder with agoraphobia ( n = 49 ) were r and omly assigned to paroxetine ( 40 mg/day ) treatment , individual CBT or a waiting-list control condition  Fifty-one patients , all in remission at the end of six months acute phase open trial with imipramine 2.25 mg/kg/day and r and omized to double-blind maintenance or placebo substitution , discontinued imipramine treatment eventually and were followed over a 12-month risk period : 27 during first year placebo substitution , 7 after 12 months of imipramine maintenance in placebo substitution , and 17 after variable duration s of imipramine maintenance in open discontinuation  'It has been suggested that maintenance treatment of patients who have remitted panic disorder with agoraphobia beyond the six months of acute phase imipramine treatment may decrease the risk of relapse  However , the illness is chronic and needs treatment  Patients with agoraphobia at admission tended to have a poorer long-term outcome according to daily functioning compared with patients without agoraphobia at admission , although both groups reported improved daily functioning at follow-up  We hypothesized that GAD patients with no La haplotypes ( La− ) have lower SSRI treatment efficacy than those with 1 to 2 La haplotypes ( La+ )  Drug concentration did not affect the genetic results  In our study , 156 patients diagnosed with GAD received venlafaxine XR treatment as part of an 18-month relapse prevention study  However , we did find a nominally significant allelic association between this variant and a secondary treatment outcome measure ( CGI-I ) in our European American population ( n=112 )  A r and omized controlled study of paroxetine and cognitive‐behavioural therapy for late‐life panic disorder' 'Hendriks G‐J , Keijsers GPJ , Kampman M , Oude Voshaar RC , Verbraak MJPM , Broekman TG , Hoogduin CAL  No clinical ly significant laboratory , electrocardiogram , or other treatment-related safety findings were noted , except for treatment-related weight gain , which occurred in both the total ( 24.4 % ) and GAD ( 19.4 % ) groups  Clinical trial registration : NCT00150449  Conclusions : Most of our PD patients responded well to 12-month treatment with either citalopram , fluoxetine , fluvoxamine , or paroxetine , and the overall response rate was equal after the first 4 weeks of treatment  The Panic Self- Question naire , which is a self-report scale , was administered at baseline and then once per month during the duration of the 12-month study  \"BACKGROUND This analysis evaluated effects of quetiapine XR maintenance treatment on functioning and sleep in patients with GAD  0.32 ; p=0.011 ) , but not ' social life ' ( 0.05 vs 'BACKGROUND Serotonin Selective Re-uptake Inhibitors ( SSRIs ) are the drugs of choice for treating panic disorder ( PD )  Primary outcome measures were the percentage of patients free of panic attacks , anticipatory anxiety and phobic avoidance in the last week of the trial and the percentage of good responders , as defined by a reduction of at least 50 % from baseline of both PASS and SDS global scores at day 60  The authors examined whether sequenced treatment combining pharmacotherapy and cognitive-behavioral therapy ( CBT ) boosts response and prevents relapse in older adults with generalized anxiety disorder  CONCLUSIONS This study demonstrates effective strategies for treatment of generalized anxiety disorder in older adults  In total , 51 ( 68.9 % ) of the patients were free of the medication after the 4 months of tapering according to the protocol , and 19 ( 26.0 % ) of the patients needed another 3 months to be free of  medication  We aim ed to develop a protocol for safely tapering off clonazepam in patients with PD who had been receiving treatment for at least 3 years\n",
      "\n",
      "Review ID: 28611377\n",
      "Summary: Patients with persistent AF had higher adjusted rates of stroke or systemic embolism ( 2.18 vs 3.31 , P = 0.77 )  Methods — We studied the occurrence of major clinical events within 14 days among 18 451 patients from the International Stroke Trial , first for all treatment groups combined  Death within 14 days was more common in patients with AF ( 17 % versus 8 % ) and more often attributed to neurological damage from the initial stroke ( 10 % versus 4 % )  In multivariable analyses , smoking ( odds ratio [ OR ] 2.84 , 95 % confidence interval [ CI ] 1.54 - 5.23 ) , increased PR interval ( OR 1.28 per SD , 95 % CI 1.03 - 1.60 ) , myocardial infa rct ion ( OR 2.25 , 95 % CI 1.05 - 4.80 ) and heart failure ( OR 5.22 , 95 % CI 1.26 - 21.64 ) were associated with incident flutter  We examined the clinical correlates of flutter by matching up to 5 AF and 5 referents to each flutter case using a nested case referent design  Clinical Trial Registration — URL : http://www  An examination of the causes of death according to dabigatran or warfarin showed that dabigatran significantly reduced vascular ( embolism and hemorrhage-related ) mortality ( relative risk , 0.63 ; 95 % CI , 0.45–0.88 ; P=0.007 ) , whereas other causes of death were similar between treatments , including cardiac mortality ( relative risk , 0.96 ; 95 % CI , 0.80–1.15 ; P=0.638 )  Clinical Trial Registration — URL : http://www  The relative effects of dabigatran versus warfarin on myocardial ischemic events were consistent in patients with or without a baseline history of MI or coronary artery disease  CONCLUSIONS Aortic plaque is prevalent in patients with AF and is associated with atherosclerosis risk factors and with left atrial stasis or thrombosis , which are themselves independent stroke risk factors   Clinical and echocardiographic features of thromboembolism were correlated by multivariate analysis  On the other h and , there were no significant differences in the risk of MI associated with AF in older ( ≥75 years ) vs younger ( < 75 years ) participants ( HR , 2.00 [ 95 % CI , 1.16 - 3.35 ] and HR , 1.60 [ 95 % CI , 1.11 - 2.30 ] , respectively ) ; for interaction , P = .44  DESIGN , SETTING , AND PARTICIPANTS A prospect i ve cohort of 23,928 participants residing in the continental United States and without coronary heart disease at baseline were enrolled from the Reasons for Geographic and Racial Differences in Stroke ( REGARDS ) cohort between 2003 and 2007 , with follow-up through December 2009  This study was design ed to evaluate the effects of an irregular RR interval , independent of the average ventricular rate , on cardiac hemodynamic data during AF  14 + /- 6 mm Hg , p < 0.002 ) and increased right atrial pressure ( 10 + /- 6 vs Conclusions — The absolute risk of MI or vascular death after ischemic stroke , even in those without high-risk features , approximates levels used by national organizations to design ate groups of patients at high risk of vascular events   The 5-year risk of MI or vascular death was 17.4 % ( 95 % CI , 14.2 % to 20.6 % )  PATIENTS AND METHODS The baseline measurements were conducted on 2230 participants ( 1427 women , 803 men with a mean age of 49 ± 15 )  The aim of the study was to evaluate the independent predictors of major adverse cardiovascular events in a prospect i ve population based study , with the use of bioempedance analysis , echocardiography , ultrasonography and ECG  The risk of AMI was higher in men with AF than in women with AF , with a hazard ratio of 2.24 ( 95 % confidence interval 1.61 - 3.11 ; P < .001 ) after adjustment for age and other comorbidities  Cardiovascular risk prevention should be performed as part of the holistic management of AF to minimize the risks of AMI associated with AF' The excess relative mortality declined with increasing age for both women and men  Relative mortality in those with atrial fibrillation compared with those without it , was 1.92 for all causes , 1.82 for death from cardiovascular causes ( excluding stroke ) and 3.78 for deaths from stroke , after adjustment by proportional hazards regression for confounding effects of age , sex , history of a myocardial infa rct ion , an abnormal electrocardiogram , angina , cholesterol level systolic blood pressure and Quetelet 's Index ( weight/height2 )  9.4 % , p < 0.001 ) and were more likely to reach the composite end point of death or hospitalization for heart failure ( 45 % vs 'OBJECTIVE This study undertook to determine if the presence of atrial fibrillation in patients with asymptomatic and symptomatic left ventricular dysfunction was associated with increased mortality and , if so , whether the increase could be attributed to progressive heart failure or arrhythmic death  At follow-up , 111 CVEs ( 3.43%/y ) had occurred : 47 fatal-nonfatal MI/revascularization and 64 cardiovascular deaths  TRIAL REGISTRY Clinical Trials.gov ; No In multivariable models , hazard ratios ( HRs ) of new-onset AF for all-cause , cardiovascular , and noncardiovascular mortality were 2.14 ( 95 % CI , 1.64 - 2.77 ) , 4.18 ( 95 % CI , 2.69 - 6.51 ) , and 1.66 ( 95 % CI , 1.19 - 2.30 ) , respectively  CONCLUSION Among a group of healthy women , new-onset AF was independently associated with all-cause , cardiovascular , and noncardiovascular mortality , with some of the risk potentially explained by nonfatal cardiovascular events\" METHODS Risk factors , drug usage , and 1-year cardiovascular ( CV ) outcomes ( CV death , myocardial infa rct ion [ MI ] , and stroke ) were compared in  AF and non-AF patients from the REduction of Atherothrombosis for Continued Health ( REACH ) Registry , an international , prospect i ve cohort of 68,236 stable out patients with established atherothrombosis or > or=3 atherothrombotic RFs  In these patients with or at high risk of atherothrombosis , most patients with AF received antiplatelet agents , but only 53.1 % were treated with oral anticoagulants  Eight had lone atrial fibrillation   In 1984 the cases were compared with an age- and sex-matched control group of 50 and found to have more cerebrovascular accidents ( 6 versus 2 ; P less than 0.05 ) , congestive heart failure ( 9 versus 1 ; P less than 0.001 ) , and valvular rheumatic heart disease ( 3 versus 0 ) or history consistent with rheumatic fever ( 6 versus 0 ; P less than 0.01 )  In multivariate analysis without considering CHF , AF was a significant predictor of SCD ( odds ratio [ OR ] : 1.6 ; 95 % confidence interval [ CI ] : 1.2 to 2.0 ; p = 0.002 )  CONCLUSIONS Our findings suggest that a history of CHF , including both systolic and diastolic symptomatic dysfunction , may partially explain the AF-SCD association']\n",
      "\n"
     ]
    }
   ],
   "source": [
    "import pandas as pd\n",
    "import numpy as np\n",
    "from sklearn.cluster import KMeans\n",
    "import torch\n",
    "from transformers import BertTokenizer, BertModel\n",
    "\n",
    "# Assuming df is your actual DataFrame with 'review_id' and 'abstract' columns\n",
    "\n",
    "# Split the concatenated abstracts into lists of abstracts\n",
    "df['split_abstracts'] = df['abstract'].apply(lambda x: x.split('\\n '))\n",
    "\n",
    "# Initialize BERT\n",
    "tokenizer = BertTokenizer.from_pretrained('bert-base-uncased')\n",
    "model = BertModel.from_pretrained('bert-base-uncased')\n",
    "\n",
    "def bert_sentence_embeddings(sentences):\n",
    "    embeddings = []\n",
    "    for sentence in sentences:\n",
    "        inputs = tokenizer(sentence, return_tensors='pt', max_length=512, truncation=True)\n",
    "        with torch.no_grad():\n",
    "            outputs = model(**inputs)\n",
    "        embeddings.append(outputs.last_hidden_state.mean(dim=1).squeeze().numpy())\n",
    "    return np.array(embeddings)\n",
    "\n",
    "def select_top_sentences(sentences, embeddings, n_sentences=2):\n",
    "    if len(sentences) < n_sentences:\n",
    "        return ' '.join(sentences)\n",
    "    kmeans = KMeans(n_clusters=n_sentences, n_init=10)\n",
    "    kmeans.fit(embeddings)\n",
    "    top_sentence_indices = np.argmin(\n",
    "        np.linalg.norm(embeddings[:, np.newaxis] - kmeans.cluster_centers_, axis=2), axis=0)\n",
    "    top_sentences = [sentences[index] for index in top_sentence_indices]\n",
    "    return ' '.join(top_sentences)\n",
    "\n",
    "# Process each abstract and create summaries\n",
    "summaries = {}\n",
    "for _, row in df.iterrows():\n",
    "    review_id = row['review_id']\n",
    "    split_abstracts = row['split_abstracts']\n",
    "    combined_summary = ''\n",
    "    \n",
    "    for abstract in split_abstracts:\n",
    "        # Split each abstract into sentences\n",
    "        sentences = abstract.split('. ')  # Assuming sentences in abstracts are separated by '. '\n",
    "        # Generate embeddings for each sentence\n",
    "        embeddings = bert_sentence_embeddings(sentences)\n",
    "        # Select the top sentences from these embeddings\n",
    "        summary = select_top_sentences(sentences, embeddings)\n",
    "        # Combine the summaries from each abstract\n",
    "        combined_summary += summary + ' '\n",
    "    \n",
    "    # Add the combined summary for the current review_id to the summaries dictionary\n",
    "    summaries[review_id] = combined_summary.strip()\n",
    "\n",
    "# Print the summaries for each review_id\n",
    "for review_id, summary in summaries.items():\n",
    "    print(f\"Review ID: {review_id}\\nSummary: {summary}\\n\")\n"
   ]
  },
  {
   "cell_type": "code",
   "execution_count": 58,
   "id": "2f2ff1a9",
   "metadata": {},
   "outputs": [
    {
     "name": "stderr",
     "output_type": "stream",
     "text": [
      "Some weights of PegasusForConditionalGeneration were not initialized from the model checkpoint at google/pegasus-xsum and are newly initialized: ['model.decoder.embed_positions.weight', 'model.encoder.embed_positions.weight']\n",
      "You should probably TRAIN this model on a down-stream task to be able to use it for predictions and inference.\n"
     ]
    },
    {
     "name": "stdout",
     "output_type": "stream",
     "text": [
      "Review ID: 16801507\n",
      "Abstractive Summary: The aim of this study was to investigate the effect of vitamin K2 on osteoporotic bone turnover (OPG) in postmenopausal women with osteoporosis and at least one vertebral fracture after three years of treatment with strontium ranelate in a phase 3 trial.\n",
      "\n",
      "Review ID: 11676811\n",
      "Abstractive Summary: The effect of exercise on low back pain has been investigated in a series of RCTs and human clinical trials (HCTs) of the same therapy in a hospital setting, with the aim of comparing the effects of two different exercise programs on low back pain.\n",
      "\n",
      "Review ID: 12719681\n",
      "Abstractive Summary: The purpose of this study was to investigate the relationship between patient distress and quality of life (QOL) in patients with chronic obstructive pulmonary disease (COPD) and the use of re-admission sources such as nebulisers and asthma inhalers.\n",
      "\n",
      "Review ID: 26830881\n",
      "Abstractive Summary: Here are some of the latest studies on anxiety disorders that have been published in the journal Anxiety.''The results from this long-term study showed that clonazepam was significantly more effective than paroxetine in the treatment of panic disorder in patients with GAD.\n",
      "\n",
      "Review ID: 28611377\n",
      "Abstractive Summary: The effect of dabigatran and warfarin on major clinical events in patients with atrial fibrillation (AF) has been investigated in the International Stroke Trial (IST) and the results have been published in the British Journal of Sports Medicine and the European Journal of Cardiology.\n",
      "\n"
     ]
    }
   ],
   "source": [
    "from transformers import PegasusForConditionalGeneration, PegasusTokenizer\n",
    "\n",
    "# Load pre-trained Pegasus tokenizer and model\n",
    "tokenizer_pegasus = PegasusTokenizer.from_pretrained('google/pegasus-xsum')\n",
    "model_pegasus = PegasusForConditionalGeneration.from_pretrained('google/pegasus-xsum')\n",
    "\n",
    "# Dictionary to store the final summaries\n",
    "final_summaries = {}\n",
    "\n",
    "# Iterate over each summary in the summaries dictionary\n",
    "for review_id, extractive_summary in summaries.items():\n",
    "    # Prepare the input for the model\n",
    "    inputs = tokenizer_pegasus(\n",
    "        extractive_summary, \n",
    "        truncation=True, \n",
    "        padding=\"longest\", \n",
    "        return_tensors=\"pt\", \n",
    "        max_length=512\n",
    "    )\n",
    "\n",
    "    # Generate the summary with Pegasus\n",
    "    try:\n",
    "        summary_ids = model_pegasus.generate(\n",
    "            inputs['input_ids'], \n",
    "            num_beams=4,\n",
    "            min_length=50,\n",
    "            max_length=200,             \n",
    "            length_penalty=2.0, \n",
    "            early_stopping=True\n",
    "        )\n",
    "        \n",
    "        # Decode the generated IDs to text\n",
    "        pegasus_summary = tokenizer_pegasus.decode(\n",
    "            summary_ids[0], \n",
    "            skip_special_tokens=True\n",
    "        )\n",
    "        \n",
    "        # Store the summary in the final summaries dictionary\n",
    "        final_summaries[review_id] = pegasus_summary\n",
    "\n",
    "    except IndexError as e:\n",
    "        print(f\"Error processing review_id {review_id}: {e}\")\n",
    "        final_summaries[review_id] = \"\"\n",
    "\n",
    "# Display the final summaries\n",
    "for review_id, summary in final_summaries.items():\n",
    "    print(f\"Review ID: {review_id}\\nAbstractive Summary: {summary}\\n\")\n"
   ]
  }
 ],
 "metadata": {
  "kernelspec": {
   "display_name": "Python 3 (ipykernel)",
   "language": "python",
   "name": "python3"
  },
  "language_info": {
   "codemirror_mode": {
    "name": "ipython",
    "version": 3
   },
   "file_extension": ".py",
   "mimetype": "text/x-python",
   "name": "python",
   "nbconvert_exporter": "python",
   "pygments_lexer": "ipython3",
   "version": "3.8.18"
  }
 },
 "nbformat": 4,
 "nbformat_minor": 5
}
