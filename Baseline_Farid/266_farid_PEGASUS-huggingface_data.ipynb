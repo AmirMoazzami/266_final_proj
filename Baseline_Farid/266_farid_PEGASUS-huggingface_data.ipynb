{
 "cells": [
  {
   "cell_type": "code",
   "execution_count": null,
   "id": "b29af5bb",
   "metadata": {},
   "outputs": [],
   "source": [
    "# #Download and Extract the Dataset:\n",
    "# !wget https://ai2-s2-mslr.s3.us-west-2.amazonaws.com/mslr_data.tar.gz\n",
    "# !tar -xvf mslr_data.tar.gz\n",
    "\n",
    "# #Delete the Cochrane dataset and any other unwanted files:\n",
    "# !rm -r mslr_data/cochrane/\n",
    "# !rm mslr_data.tar.gz*\n",
    "\n",
    "# #Move the ms2 directory up one level and remove the parent mslr_data directory:\n",
    "# !mv mslr_data/ms2 ./\n",
    "# !rm -r mslr_data/\n",
    "# !rm -r sample_data/"
   ]
  },
  {
   "cell_type": "code",
   "execution_count": 1,
   "id": "3435cb5f",
   "metadata": {},
   "outputs": [
    {
     "data": {
      "application/vnd.jupyter.widget-view+json": {
       "model_id": "9beb002a2769491c99d5c73e2b5668fc",
       "version_major": 2,
       "version_minor": 0
      },
      "text/plain": [
       "Downloading builder script:   0%|          | 0.00/7.09k [00:00<?, ?B/s]"
      ]
     },
     "metadata": {},
     "output_type": "display_data"
    },
    {
     "data": {
      "application/vnd.jupyter.widget-view+json": {
       "model_id": "0e75d7cc4da24f52bee0b3c1fe737990",
       "version_major": 2,
       "version_minor": 0
      },
      "text/plain": [
       "Downloading metadata:   0%|          | 0.00/5.76k [00:00<?, ?B/s]"
      ]
     },
     "metadata": {},
     "output_type": "display_data"
    },
    {
     "data": {
      "application/vnd.jupyter.widget-view+json": {
       "model_id": "ced35fb646bd43128eaad47b27d8d533",
       "version_major": 2,
       "version_minor": 0
      },
      "text/plain": [
       "Downloading readme:   0%|          | 0.00/39.3k [00:00<?, ?B/s]"
      ]
     },
     "metadata": {},
     "output_type": "display_data"
    },
    {
     "data": {
      "application/vnd.jupyter.widget-view+json": {
       "model_id": "56b657779fa24176885cf4079ef8a889",
       "version_major": 2,
       "version_minor": 0
      },
      "text/plain": [
       "Downloading data:   0%|          | 0.00/264M [00:00<?, ?B/s]"
      ]
     },
     "metadata": {},
     "output_type": "display_data"
    },
    {
     "data": {
      "application/vnd.jupyter.widget-view+json": {
       "model_id": "b8a7b23c6c344655bd9ca35e40c670b9",
       "version_major": 2,
       "version_minor": 0
      },
      "text/plain": [
       "Generating train split:   0%|          | 0/14188 [00:00<?, ? examples/s]"
      ]
     },
     "metadata": {},
     "output_type": "display_data"
    },
    {
     "data": {
      "application/vnd.jupyter.widget-view+json": {
       "model_id": "77e097975a974de791f56a361eea2d3e",
       "version_major": 2,
       "version_minor": 0
      },
      "text/plain": [
       "Generating test split:   0%|          | 0/1667 [00:00<?, ? examples/s]"
      ]
     },
     "metadata": {},
     "output_type": "display_data"
    },
    {
     "data": {
      "application/vnd.jupyter.widget-view+json": {
       "model_id": "203bfe02d7694153a66c5b661617291e",
       "version_major": 2,
       "version_minor": 0
      },
      "text/plain": [
       "Generating validation split:   0%|          | 0/2021 [00:00<?, ? examples/s]"
      ]
     },
     "metadata": {},
     "output_type": "display_data"
    },
    {
     "name": "stdout",
     "output_type": "stream",
     "text": [
      "Dataset saved to mslr2022_validation.csv\n"
     ]
    }
   ],
   "source": [
    "#loading the data through hugginface\n",
    "\n",
    "import pandas as pd\n",
    "from datasets import load_dataset\n",
    "\n",
    "# Load the dataset\n",
    "dataset = load_dataset(\"allenai/mslr2022\", \"ms2\", split='validation')\n",
    "\n",
    "# Convert the dataset to a Pandas DataFrame\n",
    "df = dataset.to_pandas()\n",
    "\n",
    "# Save the DataFrame to a CSV file\n",
    "df.to_csv(\"mslr2022_validation.csv\", index=False)\n",
    "\n",
    "print(\"Dataset saved to mslr2022_validation.csv\")\n"
   ]
  },
  {
   "cell_type": "markdown",
   "id": "b5bca7f9",
   "metadata": {},
   "source": [
    "_______"
   ]
  },
  {
   "cell_type": "code",
   "execution_count": 4,
   "id": "2552056c",
   "metadata": {},
   "outputs": [
    {
     "name": "stdout",
     "output_type": "stream",
     "text": [
      "TensorFlow has access to the following devices:\n",
      "[PhysicalDevice(name='/physical_device:CPU:0', device_type='CPU'), PhysicalDevice(name='/physical_device:GPU:0', device_type='GPU')]\n",
      "TensorFlow version: 2.9.0\n"
     ]
    }
   ],
   "source": [
    "# sure the GPUs are working \n",
    "import tensorflow as tf\n",
    "\n",
    "# Check for TensorFlow GPU access\n",
    "print(f\"TensorFlow has access to the following devices:\\n{tf.config.list_physical_devices()}\")\n",
    "\n",
    "# See TensorFlow version\n",
    "print(f\"TensorFlow version: {tf.__version__}\")\n",
    "\n",
    "#import \n",
    "import pandas as pd\n",
    "import matplotlib.pyplot as plt\n",
    "import seaborn as sns\n",
    "\n",
    "# from transformers import PegasusTokenizer, TFPegasusForConditionalGeneration, AutoConfig\n",
    "from transformers import PegasusTokenizer, PegasusForConditionalGeneration\n",
    "import torch\n",
    "\n",
    "import evaluate\n",
    "from pprint import pprint  # Makes longer output readable without horizontal scrolling\n",
    "\n",
    "import csv\n",
    "\n",
    "\n",
    "\n"
   ]
  },
  {
   "cell_type": "code",
   "execution_count": 7,
   "id": "7ce33ea5",
   "metadata": {},
   "outputs": [
    {
     "data": {
      "text/html": [
       "<div>\n",
       "<style scoped>\n",
       "    .dataframe tbody tr th:only-of-type {\n",
       "        vertical-align: middle;\n",
       "    }\n",
       "\n",
       "    .dataframe tbody tr th {\n",
       "        vertical-align: top;\n",
       "    }\n",
       "\n",
       "    .dataframe thead th {\n",
       "        text-align: right;\n",
       "    }\n",
       "</style>\n",
       "<table border=\"1\" class=\"dataframe\">\n",
       "  <thead>\n",
       "    <tr style=\"text-align: right;\">\n",
       "      <th></th>\n",
       "      <th>review_id</th>\n",
       "      <th>abstract</th>\n",
       "    </tr>\n",
       "  </thead>\n",
       "  <tbody>\n",
       "    <tr>\n",
       "      <th>0</th>\n",
       "      <td>28514886</td>\n",
       "      <td>[\"ABSTRACT A healthy intestinal microbiota is ...</td>\n",
       "    </tr>\n",
       "    <tr>\n",
       "      <th>1</th>\n",
       "      <td>18842808</td>\n",
       "      <td>['The effects of the soluble fiber konjac gluc...</td>\n",
       "    </tr>\n",
       "    <tr>\n",
       "      <th>2</th>\n",
       "      <td>24297836</td>\n",
       "      <td>['The aims of this study were 1 ) to evaluate ...</td>\n",
       "    </tr>\n",
       "    <tr>\n",
       "      <th>3</th>\n",
       "      <td>32367221</td>\n",
       "      <td>[\"Abstract . This study documented postoperati...</td>\n",
       "    </tr>\n",
       "    <tr>\n",
       "      <th>4</th>\n",
       "      <td>25038833</td>\n",
       "      <td>['OBJECTIVES To investigate the effects of dar...</td>\n",
       "    </tr>\n",
       "  </tbody>\n",
       "</table>\n",
       "</div>"
      ],
      "text/plain": [
       "   review_id                                           abstract\n",
       "0   28514886  [\"ABSTRACT A healthy intestinal microbiota is ...\n",
       "1   18842808  ['The effects of the soluble fiber konjac gluc...\n",
       "2   24297836  ['The aims of this study were 1 ) to evaluate ...\n",
       "3   32367221  [\"Abstract . This study documented postoperati...\n",
       "4   25038833  ['OBJECTIVES To investigate the effects of dar..."
      ]
     },
     "execution_count": 7,
     "metadata": {},
     "output_type": "execute_result"
    }
   ],
   "source": [
    "\n",
    "# Load the data- test inputs\n",
    "df_dev = pd.read_csv('mslr2022_validation.csv')\n",
    "\n",
    "\n",
    "df_dev = df_dev[['review_id', 'abstract']]\n",
    "\n",
    "df_dev.head()"
   ]
  },
  {
   "cell_type": "code",
   "execution_count": 8,
   "id": "a78eb197",
   "metadata": {},
   "outputs": [
    {
     "name": "stdout",
     "output_type": "stream",
     "text": [
      "[\"ABSTRACT A healthy intestinal microbiota is considered to be important for priming of the infants ' mucosal and systemic immunity . Breast-fed infants typically have an intestinal microbiota dominated by different Bifidobacterium species . It has been described that allergic infants have different levels of specific Bifidobacterium species than healthy infants . For the accurate quantification of Bifidobacterium adolescentis , Bifidobacterium angulatum , Bifidobacterium bifidum , Bifidobacterium breve , Bifidobacterium catenulatum , Bifidobacterium dentium , Bifidobacterium infantis , and Bifidobacterium longum in fecal sample s , duplex 5′ nuclease assays were developed . The assays , targeting rRNA gene intergenic spacer regions , were vali date d and compared with conventional PCR and fluorescent in situ hybridization methods . The 5′ nuclease assays were subsequently used to determine the relative amounts of different Bifidobacterium species in fecal sample s from infants receiving a st and ard formula or a st and ard formula supplemented with galacto- and fructo-oligosaccharides ( OSF ) . A breast-fed group was studied in parallel as a reference . The results showed a significant increase in the total amount of fecal bifidobacteria ( 54.8 % ± 9.8 % to 73.4 % ± 4.0 % ) in infants receiving the prebiotic formula ( OSF ) , with a diversity of Bifidobacterium species similar to breast-fed infants . The intestinal microbiota of infants who received a st and ard formula seems to resemble a more adult-like distribution of bifidobacteria and contains relatively more B. catenulatum and B. adolescentis ( 2.71 % ± 1.92 % and 8.11 % ± 4.12 % , respectively , versus 0.15 % ± 0.11 % and 1.38 % ± 0.98 % for the OSF group ) . In conclusion , the specific prebiotic infant formula used induces a fecal microbiota that closely resembles the microbiota of breast-fed infants also at the level of the different Bifidobacterium species\"\n",
      " 'Preterm infants have an impaired gut barrier function . We aim ed to determine the effects of enteral supplementation of a prebiotic mixture consisting of neutral oligosaccharides ( short-chain galacto-oligosaccharides (SCGOS)/long-chain fructo-oligosaccharides ( LCFOS ) ) and acidic oligosaccharides ( AOS ) on intestinal permeability of preterm infants as measured by the sugar absorption test in the first week of life . Furthermore , we determined host- and treatment-related factors associated with intestinal permeability . In a r and omised controlled trial , preterm infants with a gestational age < 32 weeks and /or birth weight ( BW ) < 1500 g received enteral supplementation of SCGOS/LCFOS/AOS or placebo ( maltodextrin ) between days 3 and 30 of life . Intestinal permeability , reflected by the urinary lactulose/mannitol ( L/M ) ratio after oral ingestion of lactulose and mannitol , was assessed at three time points : before the start of the study ( t = 0 ) , at day 4 ( t = 1 ) and at day 7 ( t = 2 ) of life . Data were analysed by generalised estimating equations . In total , 113 infants were included . Baseline patient and nutritional characteristics were not different between the SCGOS/LCFOS/AOS ( n 55 ) and the placebo groups ( n 58 ) . SCGOS/LCFOS/AOS had no effect on the L/M ratio between t = 0 and t = 2 . In both the groups , the L/M ratio decreased from t = 0 to t = 2 ( P < 0·001 ) . Low BW increased the L/M ratio ( P = 0·002 ) . Exclusive breast milk feeding and mixed breast milk/formula feeding during the first week of life decreased the L/M ratio ( P < 0·001 and P < 0·05 , respectively ) . In conclusion , enteral supplementation of a prebiotic mixture does not enhance the postnatal decrease in intestinal permeability in preterm infants in the first week of life'\n",
      " 'BACKGROUND Galactooligosaccharides ( GOS ) and long-chain fructooligosaccharides ( lcFOS ) proliferate bifidobacteria in infant gut microbiota . However , it is not known how GOS and FOS influence the microbiota of pregnant women and whether a potential prebiotic effect is transferred to the offspring . OBJECTIVES We aim ed to test how supplementation with GOS and lcFOS ( GOS/lcFOS ) in the last trimester of pregnancy affects maternal and neonatal gut microbiota . Variables of fetal immunity were assessed as a secondary outcome . DESIGN In a r and omized , double-blind , placebo-controlled pilot study , 48 pregnant women were supplemented 3 times/d with 3 g GOS/lcFOS ( at a ratio of 9:1 ) or maltodextrin ( placebo ) from week 25 of gestation until delivery . Percentages of bifidobacteria and lactobacilli within total bacterial counts were detected by fluorescent in situ hybridization and quantitative polymerase chain reaction in maternal and neonatal ( days 5 , 20 , and approximately 182 ) stool sample s. Variables of fetal immunity were assessed in cord blood by using flow cytometry and cytokine multiplex-array analysis . RESULTS The proportions of bifidobacteria in the maternal gut were significantly higher in the supplemented group than in the placebo group ( 21.0 % and 12.4 % , respectively ; P = 0.026 ) ; the proportion of lactobacilli did not differ between the groups . In neonates , bifidobacteria and lactobacilli percentages , diversity and similarity indexes , and fetal immune parameters did not differ significantly between the 2 groups . Mother-neonate similarity indexes of bifidobacteria decreased over time . CONCLUSIONS GOS/lcFOS supplementation has a bifidogenic effect on maternal gut microbiota that is not transferred to neonates . The increased maternal bifidobacteria did not affect fetal immunity as measured by a comprehensive examination of cord blood immunity variables'\n",
      " 'BACKGROUND Nondigestible carbohydrates ( NDCHs ) are fermented in the colon , where they can selectively promote the growth of bifidobacteria . OBJECTIVE Our aim was to determine the bifidogenic potential of different NDCHs used in human diets . DESIGN Two hundred healthy volunteers participated in this double-blind study . During phase 1 ( screening ) , 64 volunteers were r and omly assigned to 8 groups of 8 subjects each ; for 7 d , they ingested 10 g/d of 1 of the 7 NDCHs tested or of the placebo . During phase 2 ( dose-response study ) , 136 volunteers were r and omly assigned to 4 groups of 32 subjects who received 2.5 , 5.0 , 7.5 , or 10 g/d , respectively ( 8 subjects/dose ) , of one of the NDCHs that were proven to be bifidogenic during phase 1 and a fifth group of 8 subjects ( control subjects ) who received the placebo .  Stools were recovered before and after NDCH consumption . RESULTS In phase 1 , 4 NDCHs were found to be bifidogenic : short-chain fructooligosaccharides ( P=0.008 ) , soybean oligosaccharides ( P=0.006 ) , galactooligosaccharides ( P < 0.0001 ) , and type III resistant starch ( P=0.02 ) ; lactulose , long-chain inulin , and isomaltooligosaccharides were not bifidogenic . In phase 2 , the effects of 7-d treatment on bifidobacteria concentrations were found to differ significantly among the 4 NDCHs ( P=0.009 for time x treatment interaction ) . However , no significant differences were found among doses , and there was no significant dose x time interaction . A low baseline bifidobacteria count was significantly associated with the bifidogenic response to treatment ( P < 0.001 ) . CONCLUSION This study showed the different bifidogenic properties among the substrates and underlined the importance of taking into account the baseline bifidobacteria counts when evaluating the effect of the treatment'\n",
      " 'BACKGROUND Serious infectious morbidity is high in preterm infants .  Enteral supplementation of prebiotics may reduce the incidence of serious infections , especially infections related to the gastrointestinal tract . OBJECTIVE The objective was to determine the effect of enteral supplementation of a prebiotic mixture consisting of neutral oligosaccharides ( (SC)GOS/(LC)FOS ) and acidic oligosaccharides ( AOS ) on serious infectious morbidity in preterm infants . DESIGN In a r and omized controlled trial , preterm infants ( gestational age < 32 wk and /or birth weight < 1500 g ) received enteral supplementation of 80 % (SC)GOS/(LC)FOS and 20 % AOS ( 1.5 g . kg(-1 ) . d(-1 ) ) or placebo ( maltodextrin ) between days 3 and 30 of life . Serious infectious morbidity was defined as a culture positive for sepsis , meningitis , pyelonephritis , or pneumonia . The analysis was performed by intention-to-treat and per- protocol , defined as > or = 50 % supplementation dose during the study period . RESULTS In total , 113 preterm infants were included . Baseline and nutritional characteristics were not different between groups . In the intention-to-treat analysis , the incidence of > or = 1 serious infection , > or = 1 serious endogenous infection , or > or = 2 serious infectious episodes was not significantly different in the (SC)GOS/(LC)FOS/AOS-supplemented and placebo groups . In the per- protocol analysis , there was a trend toward a lower incidence of > or = 1 serious endogenous infection and > or = 2 serious infectious episodes in the (SC)GOS/(LC)FOS/AOS-supplemented group than in the placebo group ( P = 0.09 and P = 0.07 , respectively ) . CONCLUSIONS Enteral supplementation of (SC)GOS/(LC)FOS/AOS does not significantly reduce the risk of serious infectious morbidity in preterm infants . However , there was a trend toward a lower incidence of serious infectious morbidity , especially for infections with endogenous bacteria . This finding suggests a possible beneficial effect that should be evaluated in a larger study . This trial was registered at is rct n.org as IS RCT N16211826'\n",
      " 'BACKGROUND Gut hormones play an important role in the adaptation of the immature neonatal gut , and their secretion may be modulated by prebiotics . Furthermore , prebiotics are well known for their hypolipidemic potentials . We tested the hypothesis that prebiotics could alter motilin and gastrin secretion and reduce lipids in healthy preterms . METHODS A total of 167 newborns were r and omized to either a prebiotics enriched formula containing dietary oligosaccharides ( short-chain galacto-oligo-saccharides/long-chain fructo-oligo-saccharides [ scGOS/lcFOS ] ) , at a concentration of 0.8 g/100 ml , or a common preterm formula . Day 1 and 16 basal motilin , gastrin concentrations , and lipids were evaluated together with growth parameters , gastric residue , bowel habits , and feeding tolerance . Adverse events including necrotizing enterocolitis ( NEC ) and septicemia were also recorded . RESULTS Mean motilin increase and day 16 mean values were greater for the intervention , compared with the control group ( P = .001 , P = .005 , respectively ) , while gastrin remained high in both groups . Mean cholesterol and low density lipoprotein ( LDL ) increase were significantly greater in the control , compared with the intervention ( P = .037 , and P = .001 ) group . Day 16 LDL levels were significantly higher in the control group . Mean weight was increased in the control group , while gastric residue was less and stool frequency was increased in the intervention group . NEC and septicemia were not statistically different between groups . CONCLUSION A prebiotics enriched formula result ed in significant surge of motilin relating to reduced gastric residue , compared with a common preterm formula . Mean cholesterol change was lower , while LDL was not increased in the prebiotics group , compared with the control group'\n",
      " \"Background Human milk oligosaccharides have been shown to stimulate selectively the growth of Bifidobacteria and Lactobacilli in the intestine . In this study , the bifidogenic effect of an experimental prebiotic oligosaccharide mixture consisting of low-molecular-weight galactooligosaccharides and high-molecular-weight fructooligosaccharides was analyzed in 90 term infants . Methods Two test formulas were supplemented with either 0.4 g/dL or with 0.8 g/dL oligosaccharides . In the control formula , maltodextrin was used as placebo . At study day 1 and study day 28 , the fecal species , colony forming units ( cfu ) and pH were measured and stool characteristics , growth , and side effects were recorded . Results At study day 1 , the median number of Bifidobacteria did not differ among the groups ( 0.4 g/dL group , mean [ interquartile range ] 8.5 [ 1.9 ] cfu/g ; 0.8 g/dL group , 7.7 [ 6.1 ] cfu/g ; and the placebo group , 8.8 [ 6.1 ] cfu/g ) ( figures in square brackets are interquartile range ) . At the end of the 28-day feeding period , the number of Bifidobacteria was significantly increased for both groups receiving supplemented formulas ( the 0.4 g/dL group , 9.3 [ 4.9 ] cfu/g ; the 0.8 g/dL group , 9.7 [ 0.8 ] cfu/g ) versus the placebo group ( 7.2 [ 4.9 ] cfu/g , P < 0.001 ) . This effect was dose dependent ( 0.4 g/dL versus 0.8 g/dL , P < 0.01 ) . The number of Lactobacilli also increased significantly in both groups fed the supplemented formulas ( versus placebo , P < 0.001 ) , but there was no statistically significant difference between the group fed formula with 0.4 g/dL oligosaccharides and the group fed formula with 0.8 g/dL oligosaccharides . The dosage of supplement significantly influenced the change in fecal pH ( P < 0.05 ) ( placebo , pH 5.5–6.1 ; 0.4 g/dL formula , pH 5.48–5.44 ; 0.8 g/dL formula , pH 5.54–5.19 ) . Slight changes in the stool frequency result ed in a significant difference between the placebo group and the group fed the 0.8 g/dL formula at day 28 ( P < 0.01 ) . Supplementation had a significant dose-dependent influence on stool consistency ( 0.8 g/dL versus placebo , P < 0.0001 ; 0.8 g/dL versus 0.4 g/dL , P < 0.01 ) . Supplementation had no influence on the incidence of side effects ( crying , regurgitation , vomiting ) or growth . Conclusions These data indicate that supplementation of a term infant 's formula with a mixture of galacto- and fructooligosaccharides has a dose-dependent stimulating effect on the growth of Bifidobacteria and Lactobacilli in the intestine and results in softer stool with increasing dosage of supplementation\"\n",
      " \"OBJECTIVES Our goals were to determine the mortality risk for infants weighing 501 to 1500 gm according to gestational age , birth weight , and gender and to document birth weight-related changes in mortality and morbidity over a 5-year time period . STUDY DESIGN In this observational study perinatal data were prospect ively collected by the 12 participating centers of the National Institute of Child Health and Human Development Neonatal Research Network from May 1991 through December 1992 and compared with the corresponding data from 1987 through 1990 . St and ard definitions were used to record sociodemographic factors , perinatal events , and the neonatal course to 120 days of life , discharge , or death . RESULTS The 1991 and 1992 cohort included 4279 in-born infants . Among their mothers 10 % were < 18 years old ; 55 % were black , 31 % were white , and 11 % were Hispanic ; 14 % had received no prenatal care ; and 20 % had received antenatal corticosteroids .  Multiple gestations accounted for 20 % of the births . Fifty percent of the infants were delivered by cesarean section . During 1991 and 1992 the overall survival for infants weighing 501 to 1500 gm at birth was 81 % , compared with 74 % in 1987 and 1988 . Survival at birth weight 501 to 750 gm was 44 % ; it was 81 % at 751 to 1000 gm , 92 % at 1001 to 1250 gm , and 95 % between 1251 and 1500 gm . Female infants had a significantly greater chance of surviving than male infants at similar birth weights and gestational ages . At any given gestational age , smaller infants were less likely to survive . Survival in all birth weight categories increased between 1987 and 1992 , without accompanying increases in medical morbidity . Major morbidity increased with decreasing birth weight and included late-onset septicemia 22 % , chronic lung disease ( oxygen dependence at 36 weeks ' corrected age ) 18 % , severe intraventricular hemorrhage ( grade s III and IV ) 11 % , and necrotizing enterocolitis 5 % . Twelve percent of all infants were treated with corticosteroids for chronic lung disease , including 36 % of infants who were oxygen dependent at age 28 days . The mean length of hospital stay was 69 days for survivors and 18 days for infants who died . CONCLUSIONS Mortality for infants between 501 and 1500 gm at birth has declined over the past 5 years . There are interactions between birth weight , gestational age , gender , and survival rate . This increase in survival was not accompanied by an increase in medical morbidity\"\n",
      " 'There is some evidence that early colonization of the intestine affects the composition of the intestinal microbiota after weaning . In the present study , the effect of prebiotics administered from the first day of life on fecal counts of bifidobacteria and lactobacilli were studied during and after the administration of the prebiotics . In this double-blind , r and omized , placebo-controlled , explorative study , 20 newborns of hepatitis C virus-infected mothers who decided not to breast feed due to their concerns regarding their plasma viral load were r and omly assigned to either a formula with 8 g/L of a specific prebiotic mixture ( short-chain galacto-oligosaccharides and long-chain fructo-oligosaccharides , ratio 9:1 ) or a formula containing the same amount of maltodextrin ( placebo ) .  Clinical examination including anthropometric measurements , microbiological analysis of fecal sample s , and blood leukocyte population analysis were performed at birth and 3 , 6 , and 12 mo age . At the age of 12 mo , hepatitis B vaccine-specific IgG serum titers ( Hepatitis B virus surface antibodies ) were also measured . Prebiotic supplementation result ed in more fecal bifidobacteria ( P < 0.0001 ) and lactobacilli ( P = 0.0044 ) compared with the placebo group . These differences between the groups were maintained during the second half of the first year without any prebiotic supplementation . There was no influence of the different diets on anthropometric data or the measured immunological variables . The data from this small explorative study indicate that early colonization of the intestine might have long-lasting effects on the composition of the intestinal microbiota'\n",
      " \"Background : The establishment of a balanced intestinal microflora which may protect against infection is desirable for the preterm infant . Objective : To investigate the effect of a preterm formula milk supplement consisting of oligosaccharides in similar proportions to human milk on the faecal flora and stool characteristics of preterm infants . Study design : To resemble the effect of human milk , an oligosaccharide mixture consisting of 90 % galacto-oligosaccharides and 10 % fructo-oligosaccharides was used to supplement a st and ard preterm formula at a concentration of 10 g/l . This supplemented formula was studied in 15 preterm infants , and the results were compared with those found in 15 infants fed a formula supplemented with maltodextrin as placebo .  A group fed fortified mother 's milk  was investigated as a reference group ( n = 12 ) . On four days during a 28 day feeding period ( 1 , 7 , 14 , and 28 ) , the faecal flora was investigated , and stool characteristics , growth , and possible side effects were recorded . Results : During the study period , the number of bifidobacteria in the group fed the oligosaccharide supplemented formula increased to the upper range of bifidobacteria counts in the reference group . The difference between the supplemented and non-supplemented groups was highly significant ( p = 0.0008 ) . The stool characteristics were also influenced by the supplement : the stool frequency after 28 days was significantly lower in the control group than in the oligosaccharide supplemented group ( p = 0.0079 ) and the reference group ( p < 0.0001 ) . Over the study period , the stool consistency in the control group became harder , but remained fairly stable in the other two groups . There was no effect of the different diets on the incidence of side effects ( crying , regurgitation , vomiting ) or on weight gain or length gain . Conclusion : Supplementing preterm formula with a mixture of galacto- and fructo-oligosaccharides at a concentration of 10 g/l stimulates the growth of bifidobacteria in the intestine and results in stool characteristics similar to those found in preterm infants fed human milk . Therefore prebiotic mixtures such as the one studied may help to improve intestinal tolerance to enteral feeding in preterm infants\"\n",
      " 'Background : Human milk components , including oligosaccharides , affect the gastrointestinal flora of infants . Previous studies in adults have demonstrated that fructo-oligosaccharides increase potentially beneficial fecal bacteria , including bifidobacteria . The purpose of this study was to determine the prebiotic effect of infant formula supplemented with fructo-oligosaccharides .  Methods : Healthy term infants 2 to 6 weeks of age were enrolled in a 5-week , prospect i ve , r and omized , crossover , single-site study with a nonr and omized human milk comparator group . Washout weeks preceded and followed a week of feeding with fructo-oligosaccharide-supplemented formula ( 1.5 or 3.0 g/L ) . Stool specimens were quantitatively cultured weekly for bacteroides , lactobacilli , bifidobacteria , clostridia and enterococci and were tested for Clostridium difficile toxin . Results : Seventy-two of 87 infants completed the trial ; 58 were formula fed and 14 were human milk fed .  Mean counts of bifidobacteria and lactobacilli were similar in all groups at entry and no group experienced a significant change in counts with fructo-oligosaccharide supplementation . After 7 days of fructo-oligosaccharide supplementation the bifidobacteria counts were greater in the 1.5 g/L fructo-oligosaccharide formula group than in the human milk fed or 3.0 g/L fructo-oligosaccharide formula groups . Formula-fed infants had higher counts of enterococci and bacteroides before fructo-oligosaccharide supplementation , and these counts did not change after supplementation . Clostridium counts increased 7 days after supplementation in the 1.5 g/L fructo-oligosaccharide formula group ( P = 0.0356 ) . No human milk fed infants had C. difficile toxin in stools .  Fructo-oligosaccharide ( 3.0 g/L ) supplementation result ed in more frequent and significantly softer stools . Conclusions : Infant formula supplemented with 1.5 or 3.0 g/L fructo-oligosaccharides was safe but had minimal effect on fecal flora and C. difficile toxin'\n",
      " 'Background : Necrotizing enterocolitis ( NEC ) is one of the most destructive diseases associated with conditions of neonatal prematurity . Supplementation with enteral prebiotics may reduce the incidence of NEC , especially in infants who fed exclusively with breast-milk . Therefore , we compared the efficacy and safety of enteral supplementation of a prebiotic mixture ( short chain galacto-oligosaccharides/long chain fructo-oligosaccharides [ SCGOS/LCFOS ] ) versus no intervention on incidence of NEC in preterm infants . Methods : In a single-center r and omized control trial 75 preterm infants ( birth weight [ BW ] ≤1500 g , gestational age ≤34 weeks and were not fed with formula ) on 30 ml/kg/day volume of breast-milk were r and omly allocated to have enteral supplementation with a prebiotic mixture ( SCGOS/LCFOS ; 9:1 ) or not receive any prebiotic . The incidence of suspected NEC , feeding intolerance , time to full enteral feeds , duration of hospitalization were investigated . Results : Differences in demographic characteristics were not statistically important . SCGOS/LCFOS mixture significantly reduced the incidence of suspected NEC , ( 1 [ 4.0 % ] vs. 11 [ 22.0 % ] ; hazard ratio : 0.49 [ 95 % confidence interval : 0.29 - 0.84 ] ; P = 0.002 ) , and time to full enteral feeds ( 11 [ 7 - 21 ] vs. 14 [ 8 - 36 ] days ; P - 0.02 ] . Also duration of hospitalization was meaningfully shorter in the prebiotic group ( 16 [ 9 - 45 ] vs. 25 [ 11 - 80 ] ; P - 0.004 ] . Prebiotic oligosaccharides were well tolerated by very low BW ( VLBW ) infants . Conclusions : Enteral supplementation with prebiotic significantly reduced the incidence of NEC in VLBW infants who were fed exclusively breast-milk . This finding suggests that it might have been the complete removal of formula which caused a synergistic effect between nonhuman neutral oligosaccharides ( prebiotic ) and human oligosaccharides'\n",
      " 'AIM The intestinal flora of breast-fed infants is generally dominated by bifidobacteria which have beneficial properties . Their presence is due to various components of breast milk , including prebiotic substances . This prospect i ve double-blind study compared the numbers of bifidobacteria in the stool flora of bottle-fed preterm infants r and omized to receive for 14 days either a formula with prebiotic fructo-oligosaccharides at a concentration of 0.4 g/dL or the same formula with maltodextrin as a placebo . METHODS Within 0 - 14 days after birth , 56 healthy bottle-fed infants were enrolled to receive either the prebiotic or placebo . Faecal sample s were taken at inclusion day and at study day 7 . The number of bifidobacteria in the stools , stool characteristics and somatic growth were recorded during the study . RESULTS In the group fed fructo-oligosaccharides , both the numbers of bifidobacteria in the stools and the proportion of infants colonized with them were significantly higher as compared to the placebo group ( p=0.032 and p=0.030 respectively ) . There was also a higher number of bacteroids in the fructo-oligosaccharide group as compared to the placebo ( p=0.029 ) . At the same time , reduction was noted in the numbers of Escherichia coli and enterococci . ( p=0.029 , and p=0.025 , respectively ) . Supplementation had also significant influence on stool frequency per day ( p=0.0080 ) . CONCLUSION An infant formula containing a small quantity of prebiotic oligosaccharides is well accepted and leads to rapid growth of bifidobacteria in the gut of bottle-fed preterm infants while decreasing the numbers of pathogenic microorganisms'\n",
      " \"Background : Premature birth results in a delayed and abnormal qualitative pattern of gut colonization . This abnormal pattern is thought to affect intestinal development and contribute to a higher risk of gastrointestinal infectious diseases such as neonatal necrotizing enterocolitis ( NEC ) . In particular , bifidobacteria are thought to play a major role . We therefore studied bifidobacterial colonization in preterm infants during the first month of life . Patients and Methods : Fecal sample s were prospect ively analyzed in 52 infants born at a gestational age ranging from 30 to 35 weeks fed with a preterm formula alone and , in 18 , with their mother 's milk .  Fecal sample s were collected twice per week during the hospital stay . Bifidobacterial colonization was analyzed with culture and a molecular method . Results : Bifidobacterial colonization occurred in 18 infants at a median age of 11 days , always greater than the corrected mean gestational age of 35.4 weeks ( SD , 0.9 ) and greater than 34 weeks for 16 of 18 . Colonization by bifidobacteria was affected by neither birthweight nor mode of delivery nor antibiotics given to the mother or infant . In contrast , birth gestational age had a significant impact on colonization by bifidobacteria ( P < 0.05 ) , which always occurred in children born at a birth gestational age greater than 32.9 weeks ( P < 0.05 ) . Conclusions : Birth gestational age seems to act as a major determinant of bifidobacterial colonization in the premature infant , suggesting the role of gut maturation , a finding that should probably be taken into account in manipulations of the gut flora aim ed at reducing NEC\"\n",
      " \"OBJECTIVE To determine the association between maternal milk levels of 2-linked fucosylated oligosaccharide and prevention of diarrhea as a result of Campylobacter , caliciviruses , and diarrhea of all causes in breast-fed infants . STUDY DESIGN Data and banked sample s were analyzed from 93 breast-feeding mother-infant pairs who were prospect ively studied during 1988 - 1991 from birth to 2 years with infant feeding and diarrhea data collected weekly ; diarrhea was diagnosed by a study physician .  Milk sample s obtained 1 to 5 weeks postpartum were analyzed for oligosaccharide content . Data were analyzed by Poisson regression . RESULTS Total 2-linked fucosyloligosaccharide in maternal milk ranged from 0.8 to 20.8 mmol/L ( 50%-92 % of milk oligosaccharide ) . Moderate-to-severe diarrhea of all causes ( n=77 cases ) occurred less often ( P=.001 ) in infants whose milk contained high levels of total 2-linked fucosyloligosaccharide as a percent of milk oligosaccharide . Campylobacter diarrhea ( n=31 cases ) occurred less often ( P=.004 ) in infants whose mother 's milk contained high levels of 2'-FL , a specific 2-linked fucosyloligosaccharide , and calicivirus diarrhea ( n=16 cases ) occurred less often ( P=.012 ) in infants whose mother 's milk contained high levels of lacto-N-difucohexaose ( LDFH-I ) , another 2-linked fucosyloligosaccharide . CONCLUSION This study provides novel evidence suggesting that human milk oligosaccharides are clinical ly relevant to protection against infant diarrhea\"\n",
      " 'Breast milk prebiotic oligosaccharides are believed to promote enteral tolerance . Many mothers delivering preterm are unable to provide sufficient milk . We conducted a multicenter , r and omized , controlled trial comparing preterm formula containing 0.8 g/100 mL short-chain galacto-oligosaccharides/long-chain fructo-oligosaccharides in a 9:1 ratio and an otherwise identical formula , using formula only to augment insufficient maternal milk volume . Infants were r and omized within 24 h of birth . The primary outcome ( PO ) was time to establish a total milk intake of 150 mL/kg/d PO and the principal secondary outcome ( PSO ) was proportion of time between birth and 28 d/discharge that a total milk intake of ≥150 mL/kg/d was tolerated . Other secondary outcomes included growth , fecal characteristics , gastrointestinal signs , necrotizing enterocolitis , and bloodstream infection . Outcomes were compared adjusted for prespecified covariates . We recruited 160 infants appropriately grown for GA <33 wk . There were no significant differences in PO or PSOs . After covariate adjustment , we showed significant benefit from trial formula in PSO with increasing infant immaturity ( 2.9 % improved tolerance for a baby born at 28-wk gestation and 9.9 % at 26-wk gestation ; p < 0.001 ) but decreased or no benefit in babies > 31-wk gestation . Prebiotic supplementation appears safe and may benefit enteral tolerance in the most immature infants'\n",
      " 'AIM To investigate whether a mixture of prebiotic non-digestible oligosaccharides ( GosFos ; referring to galacto- and fructo-oligosaccharides ) would improve feeding tolerance in preterm infants on full enteral formula feeding . We hypothesized that GosFos would : ( 1 ) reduce stool viscosity and ( 2 ) accelerate gastrointestinal transport . METHODS In a placebo-controlled double-blind trial 20 preterm infants on full enteral nutrition ( gestational age 27 ( 24 - 31 ) weeks , postnatal age 42 ( 11 - 84 ) days , and weight at study entry 1570 ( 1080 - 2300 ) g were r and omly allocated to have their feedings supplemented with either GosFos ( 1 g/100 mL ) or placebo for 14 days . Stool viscosity was measured by high-pressure capillary rheometry . Gastrointestinal transport time was assessed as the time from feeding carmine red to its appearance in the diaper . The hypotheses were tested as a priori ordered hypotheses . Data are shown as median ( range ) . RESULTS Birth weight , gestational age , postnatal age , and weight at study entry did not differ between groups . GosFos significantly reduced both stool viscosity , as measured by extrusion force ( 32 ( 2 - 67 ) versus 158 ( 24 - 314 ) N ) , and gastrointestinal transit time ( 12 ( 4 - 33 ) versus 26 ( 5 - 52 ) h ) . No adverse effects were observed . CONCLUSION Formula supplementation with GosFos reduced stool viscosity and accelerated gastrointestinal transport . Further trials are required to investigate whether GosFos facilitates enteral feeding advancement and early enteral nutrition thereby eventually reducing the incidence of catheter-related nosocomial infections and improving long-term outcome'\n",
      " 'Objectives The aim of this study was to evaluate the nutritional efficacy and bifidogenic characteristics of a new infant formula containing partially hydrolyzed whey protein , modified vegetable oil with a high & bgr;-palmitic acid content , prebiotic oligosaccharides , and starch . Methods In a double-blind study , healthy formula-fed term infants aged younger than 2 weeks were r and omized to receive either the new infant formula ( NF ) or a st and ard formula ( SF )  until the age of 12 weeks .  Anthropometric measurements were taken at enrollment , 6 weeks , and 12 weeks . In a sub sample of infants , blood sample s were taken at 6 weeks and stool sample s were taken at enrollment and 6 weeks . Blood sample s were analyzed for biochemical measures of protein status and amino acids , and stools were analyzed for total bacteria and bifidobacteria . Mothers completed a feeding diary and question naire at 6 and 10 weeks . Results One hundred fifty-four infants were enrolled in the study ; 102 completed the trial . The growth of infants in both formula groups was in line with published growth curves . During the first 6 weeks , NF girls gained more weight and head circumference than the SF girls . These velocity differences were not maintained throughout the 12-week study period . The NF stools had a higher proportion of bifidobacteria at 6 weeks compared with the SF stools , and they were softer . There were no clinical ly significant differences in the blood biochemical and amino acid values between groups . Both formulas were well tolerated by the infants . Conclusions When compared with a st and ard infant formula , the new formula supported satisfactory growth , led to higher counts of bifidobacteria in the feces , produced blood bio-chemical values typical of formula-fed infants , and was well tolerated'\n",
      " 'BACKGROUND The intestinal flora of breast-fed infants is generally dominated by bifidobacteria which have beneficial properties . Their presence is due to various compounds of breast milk including prebiotic substances . AIM This prospect i ve , double blind , study compared the growth , acceptability and the proportion of bifidobacteria and clostridia in the stool flora of bottle-fed infants r and omized to receive a formula with a specific mixture of 0.4 g/100 ml prebiotic galacto- and long-chain fructooligosaccharides or the same formula without added prebiotics . METHODS Within 0 - 14 days after birth at term , healthy bottle-fed infants were enrolled to receive either a prebiotic formula or a st and ard formula . At recruitment anthropometric measurements were done . These were repeated at the age of 6 and 12 weeks . Stool sample s were taken at inclusion and at the age of 6 weeks . The number of bifidobacteria and clostridia was determined by fluorescent in situ hybridization . RESULTS There was good tolerance of the prebiotic formula . Somatic growth was similar in the two groups . Stool frequency was significantly higher in the prebiotic group ( P=0.031 ) . Infants in the prebiotic group had also softer stools as compared to the control group ( P=0.026 ) . Baseline values of microorganisms at study entry were similar . The percentage of faecal clostridia at the completion of the study was significantly lower in the prebiotic group ( P=0.042 ) , while the proportion of faecal bifidobacteria was higher in the prebiotic group as compared to the control group . However this difference did not reach statistical significance ( P=0.262 ) . The percentage of E. coli was lower in the prebiotic group but again this did not reach statistical significance ( P=0.312 ) . CONCLUSION An infant formula containing prebiotic oligosaccharides is well tolerated , leads to normal somatic growth and suppresses the numbers of clostridia in the faeces with a trend for higher percentage of stool bifidobacteria and lower percentage of E. coli'\n",
      " 'The aim of this double-blind , r and omized , placebo-controlled study was to evaluate the effect of a prebiotic mixture on gastric motility in preterm newborns . After a feeding period of 15 days , gastric electrical activity was measured by electrogastrography , and the gastric emptying time was studied by ultrasound technique . No difference was seen in the daily increase of body weight , and no adverse events have been reported . The percentage of time in which propagation was detected in the electrogastrography signal was twice in newborns receiving formula with prebiotics  with respect to placebo , and the gastric half-emptying time was 30 % faster in the prebiotic group than the placebo group . Prebiotic oligosaccharides can modulate the electrical activity and the gastric emptying and may improve the intestinal tolerance of enteral feeding in preterm infants'\n",
      " 'Objectives : The present study was design ed to evaluate the effect of 2 different combinations of prebiotic ingredients , polydextrose ( PDX ) , galactooligosaccharides ( GOS ) , and lactulose ( LOS ) , at 2 different intake levels on the overall growth and tolerance in healthy term infants up to 120 days of age . Patients and Methods : Healthy , formula-fed , term infants ( n = 226 ) were r and omly assigned to 1 of 3 study formula groups : control group ( n = 76 ) , PG4 group ( control formula supplemented with 4 g/L of a prebiotic blend , n = 74 ) , or PGL8 group ( control formula supplemented with 8 g/L of a prebiotic blend , n = 76 ) . Anthropometric measurements were taken at 14 , 30 , 60 , 90 , and 120 days of age , and 24-hour dietary recall and 24-hour tolerance recall were recorded at 30 , 60 , 90 , and 120 days of age . Adverse events were recorded throughout the study . Results : There were no statistically significant differences among the 3 formula groups for weight growth rate or length growth rate at any time point . Significant differences in stool consistency were detected among the 3 formula groups at 30 , 60 , and 90 days of age ( P < 0.001 , P = 0.025 , P = 0.004 , respectively ) , with the supplemented formula groups having looser stools than the control group . The PGL8 group had significantly higher stool frequency compared with the control and PG4 groups at 30 days of age ( P = 0.021 and P = 0.017 , respectively ) , but all of the groups were similar at 60 , 90 , and 120 days of age . A statistical difference was detected among the formula groups in 3 categories of adverse events : diarrhea ( control vs PG4 , 4 % vs 18 % , P = 0.008 ) , eczema ( PG4 vs control , 18 % vs 7 % , P = 0.046 ; PG4 vs PGL8 , 18 % vs 4 % , P = 0.008 ) , and irritability ( control vs PGL8 , 4 % vs 16 % , P = 0.027 ) . Conclusions : Infants fed formula supplemented with a prebiotic mixture achieved normal growth and stool characteristics more similar to those of breast-fed infants in comparison with infants fed an unsupplemented formula . A pediatrician needs to consider the risk of possible intolerance against the benefits of prebiotics'\n",
      " \"OBJECTIVE To assess the safety and prebiotic effects of lactulose in preterm infants . STUDY DESIGN This was a prospect i ve , double-blinded , placebo-controlled , single-center study in 23- to 34-weeks premature infants . The study group received 1 % lactulose , and control infants received 1 % dextrose in all feeds ( human milk or formula ) . RESULTS Twenty-eight infants participated ( 15 lactulose , 13 placebo ) . Small doses of lactulose appeared to be safe and did not cause diarrhea .  Premature infants on lactulose had more Lactobacilli-positive stool cultures that appeared earlier with larger number of colonies . The lactulose group tended to have less intolerance to enteral feedings , to reach full oral feeds earlier , and to be discharged home earlier . They also tended to have fewer episodes of late-onset sepsis , lower Bell stage necrotizing enterocolitis , and their nutritional laboratory indices were better , especially calcium and total protein . CONCLUSIONS This pilot study supports the safety of supplementing preterm infants ' feeds with low doses of lactulose . It also demonstrated trends that may suggest positive prebiotic effects\"]\n"
     ]
    }
   ],
   "source": [
    "print(df_dev.iloc[0, 1])\n"
   ]
  },
  {
   "cell_type": "code",
   "execution_count": null,
   "id": "404fc190",
   "metadata": {},
   "outputs": [],
   "source": [
    "# # Replace 'your_review_id' with the actual ReviewID you're looking for\n",
    "# your_review_id = 9712593\n",
    "\n",
    "# # Select the row where 'ReviewID' matches 'your_review_id'\n",
    "# target_text = df.loc[df['ReviewID'] == your_review_id, 'Abstract'].values[0]\n",
    "\n",
    "# print(target_text)"
   ]
  },
  {
   "cell_type": "markdown",
   "id": "65b47dea",
   "metadata": {},
   "source": [
    "_______"
   ]
  },
  {
   "cell_type": "markdown",
   "id": "3eec2dfd",
   "metadata": {},
   "source": [
    "***Run the code on validation dataset***"
   ]
  },
  {
   "cell_type": "code",
   "execution_count": 14,
   "id": "6973a522",
   "metadata": {},
   "outputs": [
    {
     "name": "stderr",
     "output_type": "stream",
     "text": [
      "Some weights of PegasusForConditionalGeneration were not initialized from the model checkpoint at google/pegasus-large and are newly initialized: ['model.encoder.embed_positions.weight', 'model.decoder.embed_positions.weight']\n",
      "You should probably TRAIN this model on a down-stream task to be able to use it for predictions and inference.\n"
     ]
    }
   ],
   "source": [
    "# Initialize the Pegasus tokenizer and model\n",
    "tokenizer = PegasusTokenizer.from_pretrained(\"google/pegasus-large\")\n",
    "model = PegasusForConditionalGeneration.from_pretrained(\"google/pegasus-large\")\n",
    "\n",
    "# Tokenize the inputs\n",
    "inputs = tokenizer(df_dev['abstract'].tolist(), max_length=1024, \n",
    "                    truncation=True, padding=\"max_length\", return_tensors=\"pt\")  # Note return_tensors=\"pt\" for PyTorch\n"
   ]
  },
  {
   "cell_type": "code",
   "execution_count": 15,
   "id": "2e1e0bc7",
   "metadata": {},
   "outputs": [
    {
     "name": "stdout",
     "output_type": "stream",
     "text": [
      "Saved summaries to val-prediction.csv\n"
     ]
    }
   ],
   "source": [
    "# Define the batch size\n",
    "batch_size = 10\n",
    "\n",
    "# Initialize the results list\n",
    "results = []\n",
    "\n",
    "# Generate summaries in batches\n",
    "for i in range(0, len(inputs['input_ids']), batch_size):\n",
    "    input_ids_batch = inputs['input_ids'][i:i+batch_size]\n",
    "    review_ids_batch = df_dev['review_id'][i:i+batch_size].tolist()  # Get the corresponding ReviewIDs\n",
    "    summary_ids = model.generate(input_ids_batch,\n",
    "                                 num_beams=2,\n",
    "                                 no_repeat_ngram_size=2,\n",
    "                                 min_length=10,\n",
    "                                 max_length=512,\n",
    "                                 early_stopping=True)\n",
    "    batch_summaries = tokenizer.batch_decode(summary_ids, skip_special_tokens=True)\n",
    "\n",
    "    # Append each summary with its ReviewID to the results list\n",
    "    for review_id, summary in zip(review_ids_batch, batch_summaries):\n",
    "        results.append({'review_id': review_id, 'Summary': summary})\n",
    "\n",
    "# Convert the results to a DataFrame\n",
    "summaries_df_val = pd.DataFrame(results)\n",
    "\n",
    "\n",
    "# Save the DataFrame to a CSV file\n",
    "output_file_val = 'val-prediction.csv'\n",
    "summaries_df_val.to_csv(output_file_val, index=True)\n",
    "print(f\"Saved summaries to {output_file_val}\")"
   ]
  },
  {
   "cell_type": "code",
   "execution_count": null,
   "id": "cd8601ce",
   "metadata": {},
   "outputs": [],
   "source": []
  }
 ],
 "metadata": {
  "kernelspec": {
   "display_name": "Python 3 (ipykernel)",
   "language": "python",
   "name": "python3"
  },
  "language_info": {
   "codemirror_mode": {
    "name": "ipython",
    "version": 3
   },
   "file_extension": ".py",
   "mimetype": "text/x-python",
   "name": "python",
   "nbconvert_exporter": "python",
   "pygments_lexer": "ipython3",
   "version": "3.8.18"
  }
 },
 "nbformat": 4,
 "nbformat_minor": 5
}
