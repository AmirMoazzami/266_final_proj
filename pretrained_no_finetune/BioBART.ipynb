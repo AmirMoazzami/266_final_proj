{
  "cells": [
    {
      "cell_type": "markdown",
      "metadata": {
        "colab_type": "text",
        "id": "view-in-github"
      },
      "source": [
        "<a href=\"https://colab.research.google.com/github/AmirMoazzami/266_final_proj/blob/mk%2Fbart-biobart-exploration/pretrained_no_finetune/BioBART.ipynb\" target=\"_parent\"><img src=\"https://colab.research.google.com/assets/colab-badge.svg\" alt=\"Open In Colab\"/></a>"
      ]
    },
    {
      "cell_type": "code",
      "execution_count": null,
      "metadata": {
        "id": "6FeiakTOS3EE"
      },
      "outputs": [],
      "source": [
        "!pip install transformers\n",
        "!pip install datasets\n",
        "!pip install torchsummary"
      ]
    },
    {
      "cell_type": "code",
      "execution_count": 1,
      "metadata": {
        "colab": {
          "base_uri": "https://localhost:8080/"
        },
        "id": "iqGK3_JvSsJv",
        "outputId": "1140e848-0eb9-479d-d6c6-5b0c8f440dd4"
      },
      "outputs": [
        {
          "name": "stdout",
          "output_type": "stream",
          "text": [
            "0.0\n",
            "There is MPS GPU available!\n"
          ]
        },
        {
          "data": {
            "text/plain": [
              "Dataset({\n",
              "    features: ['review_id', 'pmid', 'title', 'abstract', 'target', 'background'],\n",
              "    num_rows: 10\n",
              "})"
            ]
          },
          "execution_count": 1,
          "metadata": {},
          "output_type": "execute_result"
        }
      ],
      "source": [
        "import shutil\n",
        "import os\n",
        "import gc\n",
        "\n",
        "from transformers import pipeline, AutoTokenizer, AutoModelForSeq2SeqLM, BartForConditionalGeneration, BartTokenizer\n",
        "from datasets import load_dataset, load_from_disk\n",
        "import torch\n",
        "\n",
        "\n",
        "os.environ['PYTORCH_MPS_HIGH_WATERMARK_RATIO'] = \"0.0\"\n",
        "print(os.getenv('PYTORCH_MPS_HIGH_WATERMARK_RATIO'))\n",
        "\n",
        "os.environ['CUDA_LAUNCH_BLOCKING'] = \"1\"\n",
        "\n",
        "# use MPS instead\n",
        "if torch.backends.mps.is_available():\n",
        "    device = torch.device(\"mps\")\n",
        "    print('There is MPS GPU available!')\n",
        "\n",
        "elif torch.cuda.is_available():\n",
        "    device = torch.device(\"cuda\")\n",
        "    print('There is CUDA GPU available!')\n",
        "\n",
        "else:\n",
        "    print('No GPU available, using the CPU instead.')\n",
        "    device = torch.device(\"cpu\")\n",
        "\n",
        "\n",
        "model_names = [\n",
        "    \"GanjinZero/biobart-v2-base\",\n",
        "    \"facebook/bart-base\",\n",
        "    \"facebook/bart-large-cnn\",\n",
        "]\n",
        "\n",
        "def get_model_and_tokenizer(model_name: str):\n",
        "    model = BartForConditionalGeneration.from_pretrained(model_name).to(device)\n",
        "    tokenizer = BartTokenizer.from_pretrained(model_name)\n",
        "    return model, tokenizer\n",
        "\n",
        "def clear_memory(*args):\n",
        "    \"\"\"After inference, delete the variables to free up memory\"\"\"\n",
        "    for arg in args:\n",
        "        del arg\n",
        "    gc.collect()\n",
        "    if torch.cuda.is_available():\n",
        "        torch.cuda.empty_cache()\n",
        "    elif torch.backends.mps.is_available():\n",
        "        torch.mps.empty_cache()\n",
        "\n",
        "# # run once only during development period:\n",
        "# dataset = load_dataset(\n",
        "#     \"allenai/mslr2022\",\n",
        "#     \"ms2\",\n",
        "#     split='train[:10]',  # use only for setting up/debugging\n",
        "# )  # this takes a long time, ~ 6 mins. Most time spent in train split\n",
        "\n",
        "# # subsetting the first 10 into a small file for quick debugging in the future (no need to pull entire dataset!)\n",
        "# dataset.save_to_disk(\"first_10_train_examples\")\n",
        "# shutil.make_archive('first_10_train_examples', 'zip', 'first_10_train_examples')\n",
        "\n",
        "# run following all the time\n",
        "dataset = load_from_disk(\"first_10_train_examples\")\n",
        "dataset"
      ]
    },
    {
      "cell_type": "code",
      "execution_count": 2,
      "metadata": {
        "id": "mz4L-G2MhGcE"
      },
      "outputs": [],
      "source": [
        "model, tokenizer = get_model_and_tokenizer(\"GanjinZero/biobart-v2-base\")\n",
        "# model, tokenizer = get_model_and_tokenizer(\"facebook/bart-large-cnn\")\n",
        "# model, tokenizer = get_model_and_tokenizer(\"facebook/bart-base\")"
      ]
    },
    {
      "cell_type": "code",
      "execution_count": 14,
      "metadata": {
        "colab": {
          "base_uri": "https://localhost:8080/",
          "height": 192
        },
        "id": "W0OO9ag2ia6f",
        "outputId": "d73546e3-dd27-458e-8f2f-1e03cb8bdbea"
      },
      "outputs": [
        {
          "name": "stdout",
          "output_type": "stream",
          "text": [
            "torch.Size([1, 300])\n"
          ]
        },
        {
          "data": {
            "text/plain": [
              "'summarize: BACKGROUND - INTRODUCTION Surgical stress in the presence of fasting worsens the catabolic state, causes insulin resistance and may delay recovery.. Carbohydrate rich drinks given preoperatively may ameliorate these deleterious effects. A systematic review was undertaken to analyse the effect of the potential effect of preoperative carbohydrate loading on insulin resistance, gastric emptying, gastric acidity, patient wellbeing, immunity and nutrition following surgery. ABSTRACT - The effect on gastric pH and volume, and the effects of this effect on the ability of an effect on a possible effect of a potential effect on an effect of an upcoming event, was found to be, respectively, of -1, -2, -3, and -1.5, -4, -1, -1 and -2.2,-1, and was investigated in this study by the use of a technique of, and hence, of, a, and a, thus, of-1. During and after the period, we were able to detect, and we could not detect, the possibility of, or the outcome of, an effect, of an event, of being, or of a greater magnitude, to -3.0, -5.5 and -4.1, respectively. Infusion of glucose and its possible effects on an event were found, with an effect that was'"
            ]
          },
          "execution_count": 14,
          "metadata": {},
          "output_type": "execute_result"
        }
      ],
      "source": [
        "# # old way\n",
        "\n",
        "# test_idx = 5\n",
        "# background_text = dataset[test_idx][\"background\"].replace(\"\\n\", \" \")\n",
        "# text1 = dataset[test_idx][\"abstract\"][0].replace(\"\\n\", \" \")\n",
        "# text2 = dataset[test_idx][\"abstract\"][1].replace(\"\\n\", \" \")\n",
        "# instruction = \"summarize: BACKGROUND - \"\n",
        "# background_length = len(tokenizer.encode(instruction + background_text))\n",
        "\n",
        "# # Encoding separately, concatenate, then decode\n",
        "# inputs1 = tokenizer.encode(instruction + background_text + \" ABSTRACT - \" + text1, return_tensors=\"pt\", max_length=1024, truncation=True).to(device)\n",
        "# inputs2 = tokenizer.encode(instruction + background_text + \" ABSTRACT - \" + text2, return_tensors=\"pt\", max_length=1024, truncation=True).to(device)\n",
        "\n",
        "# encoded1 = model(inputs1).encoder_last_hidden_state[:, :int(1024 / 2)]  # max position embeddings is 1024 for BART\n",
        "# encoded2 = model(inputs2).encoder_last_hidden_state[:, :int(1024 / 2)]\n",
        "\n",
        "# concatenated = torch.cat((encoded1, encoded2), dim=1)\n",
        "# decoded = model.generate(max_length=300, pad_token_id=1, inputs_embeds=concatenated, decoder_inputs_embeds=concatenated)\n",
        "# print(decoded.shape)\n",
        "# tokenizer.decode(decoded[0], skip_special_tokens=True)"
      ]
    },
    {
      "cell_type": "code",
      "execution_count": 3,
      "metadata": {},
      "outputs": [
        {
          "name": "stdout",
          "output_type": "stream",
          "text": [
            "Number of references: 18\n",
            "torch.Size([1, 444])\n",
            "summarize results:STUDY - Background : Postoperative glucose metabolism is associated with postoperative insulin resistance\n",
            "We previously showed that the effect of preoperative carbohydrate loading ( CHO ) on postoperative recovery\n",
            "The effect of this study was investigated in 80 healthy children of ages five to ten years undergoing surgery\n",
            "The aim of the present study was to investigate whether oral carbohydrate or carbohydrate with peptide drinks preoperatively could reduce the catabolic state, causes insulin resistance and may delay recovery\n",
            "RESULTS The patients undergoing surgery were double-blinded and were given either a placebo drink or carbohydrate ( 12.6g/100ml ) drink ( CHOD )\n",
            "The postoperative blood glucose level and the total insulin requirement for normoglycemic control during the 16 h following surgery were determined\n",
            "The visual analog scale scores in a control group were not different between groups\n",
            "During the waiting period before surgery, the carbohydrate-rich drink group was less hungry than the fasting group ( P = 0.011 )\n",
            "There were no differences between these groups with respect to age, sex, BMI, gastric emptying, and abdominal pain.\n",
            "In both studies, the mean glucose value decreased from 152.3 to 130.7 mg/dL ( P<.001 ), and postoperative complications were recorded..\n",
            "The carbohydrate content was significantly lower in the CHO group, which led to a significant reduction in both the percentage of glucose values of 200 mg/dl, and those who had not ( P < 0.05 ).\n",
            "The preoperative oral administration of carbohydrate and branched-chain amino acid-enriched nutrient is of clinical benefit to patients undergoing laparoscopic surgery.\n",
            "andA).\n",
            "The recovery phase.\n",
            "Conservative treatment\n",
            "The pH value of postoperative recovery after surgery.\n",
            "The presence of fasting worsens the recovery phase and that of postoperative carbohydrate loading on the renal function, renal function and nutrition following surgery\n",
            "A systematic review was undertaken to analyse the presence of preoperative,.+}VC \n"
          ]
        }
      ],
      "source": [
        "# different way of \"concatenating\" -- this is better\n",
        "\n",
        "test_idx = 5\n",
        "\n",
        "max_num_refs = 25\n",
        "background_text = dataset[test_idx][\"background\"].replace(\"\\n\", \" \")\n",
        "# text1 = dataset[test_idx][\"abstract\"][1].replace(\"\\n\", \" \")\n",
        "# text2 = dataset[test_idx][\"abstract\"][0].replace(\"\\n\", \" \")\n",
        "# texts = [text1, text2]\n",
        "\n",
        "texts = [text.replace(\"\\n\", \" \") for text in dataset[test_idx][\"abstract\"]][:max_num_refs]\n",
        "print(f\"Number of references: {len(texts)}\")\n",
        "\n",
        "instruction = \"summarize conclusion:\"\n",
        "text_with_preamble = [instruction + \"<s>STUDY - \" + text + \"<s>BACKGROUND: \" + background_text for text in texts]\n",
        "inputs = tokenizer.batch_encode_plus(text_with_preamble, return_tensors=\"pt\", max_length=1024, truncation=True, padding=True).to(device)\n",
        "\n",
        "# Encoding separately, concatenate, then decode\n",
        "encoder_outputs = model.model.encoder(inputs[\"input_ids\"])\n",
        "encoded = encoder_outputs[0]\n",
        "encoder_outputs[\"last_hidden_state\"] = encoded.reshape(1, -1, encoded.size(-1))\n",
        "\n",
        "decoded = model.generate(max_length=512, pad_token_id=1, encoder_outputs=encoder_outputs)\n",
        "print(decoded.shape)\n",
        "summary_output_text = tokenizer.decode(decoded[0], skip_special_tokens=True)\n",
        "\n",
        "# print with simple wrapping\n",
        "print(\"\\n\".join(summary_output_text.split(\". \")))"
      ]
    },
    {
      "cell_type": "code",
      "execution_count": 7,
      "metadata": {},
      "outputs": [
        {
          "name": "stdout",
          "output_type": "stream",
          "text": [
            "Background and objective We studied the effect of three different fasting protocol s on preoperative discomfort and glucose and insulin levels \n",
            "Methods Two hundred and ten ASA I – III patients undergoing general or gastrointestinal surgery were r and omly assigned to three groups : overnight intravenous 5 % glucose infusion ( 1000 ml ) , carbohydrate-rich drink ( 400 ml ) at 6–7 a.m\n",
            ", or overnight fasting \n",
            "The subjective feelings of thirst , hunger , mouth dryness , weakness , tiredness , anxiety , headache and pain of each patient were question ed preoperatively using a visual analogue scale \n",
            "Serum glucose and insulin levels were measured at predetermined time points preoperatively \n",
            "Results During the waiting period before surgery , the carbohydrate-rich drink group was less hungry than the fasting group ( P = 0.011 ) \n",
            "No other differences were seen in visual analogue scale scores among the study groups \n",
            "Trend analysis showed increasing thirst , mouth dryness and anxiety in the intravenous glucose group ( P < 0.05 ) \n",
            "The carbohydrate-rich drink group experienced decreasing thirst but increasing hunger and mouth dryness ( P < 0.05 ) \n",
            "In the fasting group , thirst , hunger , mouth dryness , weakness , tiredness and anxiety increased ( P < 0.05 ) \n",
            "Both intravenous and oral carbohydrate caused a significant increase in glucose and insulin levels \n",
            "Conclusion Intravenous glucose infusion does not decrease the sense of thirst and hunger as effectively as a carbohydrate-rich drink but does alleviate the feelings of weakness and tiredness compared with fasting\n"
          ]
        }
      ],
      "source": [
        "print(\"\\n\".join(texts[8].split(\". \")))"
      ]
    },
    {
      "cell_type": "code",
      "execution_count": 12,
      "metadata": {},
      "outputs": [
        {
          "name": "stdout",
          "output_type": "stream",
          "text": [
            "BACKGROUND AND AIMS Preoperative intake of a clear carbohydrate-rich drink reduces  insulin resistance after surgery . In this study , we evaluated whether this could be related to increased insulin sensitivity at the onset of surgery . Furthermore , we aim ed to establish the optimal dose-regimen . METHODS Six healthy volunteers underwent hyperinsulinaemic ( 0.8 mU/kg/min ) , normoglycaemic ( 4.5 mmol/l ) clamps and indirect calorimetry on four occasions in a crossover-r and omised order ;  after overnight fasting ( CC ) , after a single evening dose ( 800 ml ) of the drink ( LC ) , after a single morning dose ( 400 ml , CL ) and after intake of the drink in the evening and in the morning before the clamp ( LL ) . Data are presented as mean+/-SD . Statistical analysis was performed using the Student 's t-test and ANOVA . RESULTS Insulin sensitivity was higher in CL and LL ( 9.2+/-1.5 and 9.3+/-1.9 mg/kg/min , respectively ) compared to CC and LC ( 6.1+/-1.6 and 6.6+/-1.9 mg/kg/min , P<0.01 vs. CL and LL ) . CONCLUSIONS A carbohydrate-rich drink enhances insulin action 3 h later by approximately 50 % . Enhanced insulin action to normal postpr and ial day-time level at the time of onset of anaesthesia or surgery is likely to , at least partly , explain the effects on postoperative insulin resistance\n"
          ]
        }
      ],
      "source": [
        "# search in texts\n",
        "query = \"postoperative\"\n",
        "for text in texts:\n",
        "    if query in text:\n",
        "        print(text)\n",
        "        break"
      ]
    },
    {
      "cell_type": "code",
      "execution_count": 4,
      "metadata": {},
      "outputs": [
        {
          "data": {
            "text/plain": [
              "torch.Size([1, 14760, 768])"
            ]
          },
          "execution_count": 4,
          "metadata": {},
          "output_type": "execute_result"
        }
      ],
      "source": [
        "encoded.reshape(1, -1, encoded.size(-1)).shape"
      ]
    },
    {
      "cell_type": "code",
      "execution_count": 9,
      "metadata": {
        "colab": {
          "base_uri": "https://localhost:8080/",
          "height": 87
        },
        "id": "v-G3ZXcvDRi-",
        "outputId": "a4e44bbd-279d-41e6-f107-98870b25f8c4"
      },
      "outputs": [
        {
          "name": "stdout",
          "output_type": "stream",
          "text": [
            "INTRODUCTION Surgical stress in the presence of fasting worsens the catabolic state , causes insulin resistance and may delay recovery \n",
            "Carbohydrate rich drinks given preoperatively may ameliorate these deleterious effects \n",
            "A systematic review was undertaken to analyse the effect of preoperative carbohydrate loading on insulin resistance , gastric emptying , gastric acidity , patient wellbeing , immunity and nutrition following surgery .\n"
          ]
        }
      ],
      "source": [
        "print(\"\\n\".join(background_text.split(\". \")))"
      ]
    },
    {
      "cell_type": "code",
      "execution_count": 8,
      "metadata": {},
      "outputs": [],
      "source": [
        "clear_memory(model, tokenizer, inputs, encoder_outputs, encoded, decoded)"
      ]
    },
    {
      "cell_type": "code",
      "execution_count": 19,
      "metadata": {
        "colab": {
          "base_uri": "https://localhost:8080/",
          "height": 105
        },
        "id": "U6I_jZo1IMU-",
        "outputId": "04bf327d-4a71-4aad-f1ed-df6fd89cd0dc"
      },
      "outputs": [
        {
          "name": "stdout",
          "output_type": "stream",
          "text": [
            "Preoperative carbohydrate drinks significantly improved insulin resistance and indices of patient comfort following surgery , especially hunger , thirst , malaise , anxiety and nausea .\n",
            "No definite conclusions could be made regarding preservation of muscle mass .\n",
            "Following ingestion of carbohydrate drinks , no adverse events such as apparent or proven aspiration during or after surgery were reported .\n",
            "Administration of oral carbohydrate drinks before surgery is probably safe and may have a positive influence on a wide range of perioperative markers of clinical outcome .\n"
          ]
        }
      ],
      "source": [
        "print(dataset[test_idx][\"target\"])"
      ]
    },
    {
      "cell_type": "markdown",
      "metadata": {},
      "source": [
        "Operationalizing our summarizer! Loop through our dataset:"
      ]
    },
    {
      "cell_type": "code",
      "execution_count": 16,
      "metadata": {},
      "outputs": [
        {
          "data": {
            "text/plain": [
              "'30760312'"
            ]
          },
          "execution_count": 16,
          "metadata": {},
          "output_type": "execute_result"
        }
      ],
      "source": [
        "dataset[0][\"review_id\"]"
      ]
    },
    {
      "cell_type": "code",
      "execution_count": 18,
      "metadata": {},
      "outputs": [
        {
          "name": "stdout",
          "output_type": "stream",
          "text": [
            "Index: 0\n",
            "Number of references: 15\n",
            "torch.Size([1, 417])\n",
            "Retrieve concise conclusion without background: BACKGROUND Current therapies for pulmonary arterial hypertension ( PAH ) are not yet common practice, but awareness of the merits of conducting such SRs is steadily increasing\n",
            "As animal intervention studies differ from r and omized clinical trials\n",
            "The aim of this study was to further investigate the long-term effect of BMSCs on pulmonary hypertension, we compared the early effect of oral and intramuscular injection of MSCs\n",
            "The study was a double-blind, placebo-controlled study, the pulmonary vascular wall, and pulmonary hemodynamics.\n",
            "The right-sided heart catheterization and 6-MWD test were performed at baseline and at the time of 12 wk after cell infusion\n",
            "The primary end point was the change from baseline to week 12 in the distance walked in six minutes\n",
            "The change in mean pulmonary-artery pressure and World Health Organization ( WHO ) functional class and the incidence of clinical worsening were also assessed\n",
            "RESULTS The combined clinical end points were as follows : at 1 year, 68 % ( Cl, 61 % to 75 % ) ; at 3 years, 48 % ( P<0.001 )\n",
            "The improvement was maintained for at least 20 weeks\n",
            "The cardiac index was 1.0 L min(-1 ) m(-2 ), and 50 m ( + 14.7 % ) in patients after Fontan\n",
            "The incidence of adverse events was also significantly higher in patients given bosentan than in those given placebo\n",
            " Pulmonary vascular resistance decreased by 223 dyn s cm(-)(5 )..\n",
            "the efficacy of stem cell ( SC ) therapy for PAH.\n",
            "Many pre clinical studies have reported the prognosis of patients with PAH\n",
            "The prognosis of these patients with SC treatment is the same as that of untreated PAH\n",
            "Although the potential efficacy of SC therapeutic agents is to assess the feasibility of SC therapy in PAH, this approach remains extremely poor.\n",
            "Index: 1\n",
            "Number of references: 5\n",
            "torch.Size([1, 512])\n",
            "Retrieve concise conclusion without background: After the approval of bosentan for the treatment of pulmonary arterial hypertension ( PAH ), European authorities required the introduction of a post-marketing surveillance system ( PMS ) to obtain further data on its safety profile\n",
            "By causing the pulmonary artery to dilate, inhaled nitric oxide ( NO ) may allow an increase in exercise capacity in patients with PH\n",
            "A novel, prospect i ve, internet-based PMS was design ed, which solicited reports on elevated aminotransferases, medical reasons for bosentan discontinuation and other serious adverse events requiring hospitalisation\n",
            "Data captured included demographics, PAH aetiology, baseline functional status and concomitant PAH-specific medications\n",
            "Safety signals captured included death, hospitalisation, serious adverse event, unexpected adverse events and elevated amidinotransferase\n",
            "Within 30 months, 4,994 patients were included, representing 79 % of patients receiving bosentan in Europe\n",
            "In total, 44 patients were naïve to treatment ; of these, 352 had elevated amiotransmases , corresponding to a crude incidence of 7.6 % and an annual rate of 10.1 %\n",
            "PaO2 was improved in both studies and their extensions, survival was assessed from start of treatment to death or data cut-off and analysed as Kaplan – Meier estimates\n",
            "The changes in mean pulmonary-artery pressure for those with PAH secondary to CTD who were treated with bosentan were stable in 6-min walk distance at the end of the study ( + 19.5 m, 95 % confidence interval ( CI ) −3.2 to 42.2 ) ; Deltaf1.gif \" BORDER=\"0\" > O(2)/DeltaW ratio, respectively ( difference in mean change, -4.9 mm Hg/liter/min ; 95 percent confidence interval, -7.6 to.A/).-.  )\n",
            "The rationale for using continuous epoprostenol infusion in treating pulmonary hypertension may be based on the efficacy of this therapy in the and,+} phase\n",
            "The mortality in those receiving bosentan was 85.9 % after 1 year and 73.4 % after 2 years\n",
            "The continuous intravenous infusion of bosentan--\n",
            "Index: 2\n",
            "Number of references: 10\n",
            "torch.Size([1, 456])\n",
            "Retrieve concise conclusion without background: BACKGROUND Although improved epicardial blood flow ( as assessed with either TIMI flow grade s or TIMI frame count ) has been related to reduced mortality after PCI, the association of statin pretreatment with infa rct size in patients with acute coronary intervention ( PCI )\n",
            "We studied 116 patients with a first anterior wall AMI who underwent primary coronary angioplasty within 12 hours of onset\n",
            "A total of 253 consecutive patients undergoing primary PCI.\n",
            "The incidence of myonecrosis defined as peak elevation of CK‐MB or CK three time above upper limit of normal within 24 hr and the 6‐month cardiovascular event rate ( death ) or 10-mg  atorvastatin ( n = 85 )\n",
            "Coronary flow velocity parameters were assessed immediately after reperfusion using a Doppler guidewire\n",
            "We defined severe microvascular injury as the presence of systolic flow reversal and a diastolic deceleration time < 600 ms\n",
            "The following end points were compared after PCI : electrocardiographic resolution of ST segment elevation, defined as a reduction of > or = 50 % from the initial value ; achievement of Thrombolysis in Myocardial Infa Rct ion ( TIMI ) grade 3 flow, myocardial blush grade, and ST-segment resolution at 90 min after PCI\n",
            "RESULTS MACE occurred in 5 ( 5.8 % ) and 9 ( 10.6 % ) patients in the atorvastatin arm and those of NoMD patients ( n=85 )\n",
            "The differences in mortality between the two groups, including use of glycoprotein IIb/IIIa inhibitors, number of diseased vessels, and type of lesions\n",
            "KEY POINTS : Primary PCI was associated with decreased systemic inflammation and better LV dilation ( OR 0.61, 95 % CI 0.52 to 0.71 and.). )\n",
            "Previous trials have reported the superiority of a statin in STEMI patients undergoing PPCI.,/- }+ p group\n",
            "The present study compared with previous studies.\n",
            "Index: 3\n",
            "Number of references: 10\n",
            "torch.Size([1, 395])\n",
            "Retrieve concise conclusion without background: INTRODUCTION Tobacco use in low- to middle-income countries is a major public health concern for both smokers and those exposed to environmental tobacco smoke ( ETS )\n",
            "The analysis was split into two halves – baseline study taken up prior to implementation of the said ban on 2nd October 2008, and the follow-up study after it came into effect\n",
            "Material s and Methods : Twenty-five venues including five restaurants, fourteen resto-bars, two hookah ( smoking water-pipe ) cafes and four pubs were selected using a mix of r and om, convenience and purpose ful sampling\n",
            "Particulate matter ( PM2.5 ) measurements at these venues were made using TSI SidePak AM510 Personal Aerosol Monitor\n",
            "The primary endpoint was continuous 6-month smoking abstinence, which was determined by carbon monoxide levels\n",
            "In order to underst and reasons for non-permission, interviews with parents were conducted\n",
            "Phone numbers of parents were requested from the school administration.\n",
            "Secondary end points were 7 day point-prevalent abstinence and adherence to treatment\n",
            "A rand om sample of 28 parents from 12 schools was interviewed to reach data saturation\n",
            "In a meta- analysis, higher odds of waterpipe tobacco smoking were found among males ( Adjusted odds ratio [ AOR ] = 1.37, 95 % confidence interval [ CI ] =1.18 % to 1.57 ).\n",
            "The intervention did not result in reductions in cigarette smoking\n",
            "However, the tailored Web intervention predicted the effectiveness of smoking cessation\n",
            "A similar pattern was observed for cigarette-only smokers at baseline ( RR = 1 vs\n",
            "1.54\n",
            "95 % CI = 0.9, 1.82 )\n",
            "We systematic ally review the literature, EMBASE and Web of Science, for interventions targeting prevention and cessation to smoke the smoking.\n",
            "Index: 4\n",
            "Number of references: 5\n",
            "torch.Size([1, 392])\n",
            "Retrieve concise conclusion without background: OBJECTIVE To identify determinants of sexual adjustment by persons with spinal cord injury ( SCI ) and quality of the relationship compared with persons in the general population\n",
            "DESIGN Controlled survey\n",
            "SETTING Postdischarge community setting\n",
            "PARTICIPANTS A consecutive series of 252 persons admitted to our spinal unit between November 1982 and July 1991 with traumatic SCI were contacted, 85 of whom persons were excluded : 36 were dead, 37 had recovered, 5 could not be located, 4 were younger than 18 years, 2 had language difficulties, and 1 had a psychiatric illness\n",
            "Of the remaining 167 persons with SCI, 85 had a stable partner relationship, 75 of whom ( 88 % ) completed and returned the question naires ( median age, 33 years ; range 19 to 76 )\n",
            "Correlation analysis evaluated criterion validation\n",
            "Change scores compared to change scores in other measures evaluated responsiveness among women who underwent surgery\n",
            "Results A total of 589 women gave baseline data, 200 returned surveys after treatment, and 147 provided test-retest data\n",
            "For SA women, 3 subscales each in 2 domains ( 21 items ) and for NSA women 2 subscales in each of 2 domains together with a partner\n",
            "Sexual information and counselling should be available both during initial rehabilitation and later when the women have returned to their homes\n",
            "The most important correlates for sexual fulfillment in both groups were found to be the use of a varied repertoire of sexual behaviors and the perceived treatment ( SGI ; 1, terrible ; 7, delighted )\n",
            "CONCLUSIONS To systematic ally review which vali date d PROMs are available to evaluate sexual function\n",
            "The quality of the PROMs that can be used for neurologic patients remains unknown\n",
            "OBJECTIVE To systematically ally the quality of a satisfying sexual function in neurologic patients and to critically assess the quantity of sexual function among neurologic patients.\n",
            "Index: 5\n",
            "Number of references: 18\n",
            "torch.Size([1, 332])\n",
            "Retrieve concise conclusion without background: BACKGROUND : Postoperative hyperglycemia is associated with postoperative insulin resistance\n",
            "We studied the effect of a preoperative carbohydrate loading\n",
            "The effect of this treatment on postoperative recovery\n",
            "The study was conducted to determine the role of preoperative carbohydrate administration and the impact on postoperative insulin sensitivity\n",
            "PATIENTS AND METHODS Insulin resistance and glucose turnover ( [ 6, 6,(2)H(2)]-D-glucose ) were measured using a carbohydrate-rich drink ( 400 ml )\n",
            "The patients undergoing a hepatectomy for the treatment of a hepatic neoplasm were recruited to this double-blind study\n",
            "The gastric volume and pH immediately following the induction of general anaesthesia were recorded\n",
            "The postoperative blood glucose level was determined to calculate the postoperative insulin, gastric emptying, and there were no adverse events\n",
            "The visual analog scale scores in a control group were not different between groups\n",
            "During the waiting period before surgery, the CHO-treated group was less hungry and less anxious than both the other groups ( P ≤ 0.05 )\n",
            "There were no differences between these groups with respect to age, sex, procedure, admission time, insulin resistance, or postoperative complications.\n",
            "The carbohydrate group was significantly lower than the control group ( P < 0.0001..\n",
            ")\n",
            "The volume gastrique était de 0.43 ± 0.5 and 9.3 ± 1.9 mg/kg/min, respectively\n",
            "At dischargeA+.\n",
            "Index: 6\n",
            "Number of references: 5\n",
            "torch.Size([1, 449])\n",
            "Retrieve concise conclusion without background: OBJECT Aneurysmal subarachnoid hemorrhage ( ICH ) is a rare but potentially devastating complication of oral anticoagulation ( OAC )\n",
            " Heparin is a pleiotropic drug that antagonizes many of the pathophysiological mechanisms implicated in secondary brain injury after aSAH.\n",
            "The authors performed a retrospective analysis in 86 consecutive patients with Fisher Grade 3 aSAH due to rupture of a supratentorial aneurysm who presented within 36 hours and were treated by surgical clipping within 48 hours of their ictus\n",
            "We conducted a retrospective cohort study of all patients discharged from our institution after OAC-associated ICH over a 10-year period\n",
            "Data on the use of OAC or platelet inhibitors and the occurrence of vascular events during follow-up were assessed through question naires and patient files\n",
            "The primary outcome was recurrent fatal or non-fatal stroke\n",
            "Secondary outcomes were the incidence of other haemorrhagic, thrombotic or thromboembolic events\n",
            "With patients without antithrombotic treatment as reference\n",
            "In the heparin group, activated partial thromboplastin times were normal to mildly elevated.\n",
            "Factors associated with favorable ( modified Rankin Scale score, 0 - 3 ) vs unfavorable functional outcome\n",
            "RESULTS Hemorrhage enlargement occurred in 307 of 853 patients ( 36.0 % )\n",
            "The overall risk of a thrombus formation were associated with reversal of INR levels < 1.3 within 4 hours after admission ( 43/217 [ 19.8 % ] ) vs INR of ≥1.3 ( 264/636 [ 41.5 % ] and 3.32 [ 1-year, P = 0.003 ] )\n",
            "We saw recurrent intracranial bleeding in eight patients, 2 of which were fatal\n",
            "We performed a systematic review and meta- analysis to summarize the outcomes of OAC, including the risk of ICH recurrence ( P < 0.001 ).\n",
            "In patients with ICH, the frequency of ICH ( INR therapy after the onset of ICH ) remain unclear\n",
            "The safety and efficacy of restarting the OAC after ICH. ).\n",
            "Index: 7\n",
            "Number of references: 25\n",
            "torch.Size([1, 421])\n",
            "Retrieve concise conclusion without background: BACKGROUND : The efficacy of varenicline is a novel treatment for smoking cessation\n",
            " Varenicline, a partial agonist at the nicotinic acetylcholine receptor, may be more acceptable to smokers\n",
            "The goal of this study was to evaluate the efficacy and safety of varenicline versus placebo in smoking cessation in patients with schizophrenia or schizoaffective disorder\n",
            "Methods : In this double-blind, placebo-controlled, randomized controlled trial, subjects were r and omized to receive varenicline or placebo\n",
            " Both groups received in-hospital and telephone counseling.\n",
            "The primary outcome was the 7-day point prevalence abstinence rate 12 weeks after cessation\n",
            "Secondary outcomes included abstinence at 3 and 6 months after treatment\n",
            ": The primary end point was carbon monoxide - confirmed continuous abstinence rate for weeks 9 through 12 ( n = 130 )\n",
            "The varenicline doses in the high-body-weight group were 1 mg BID and 0.5 mg BID\n",
            "The placebo group were similar at baseline, those treated with varenicline were significantly less likely to report adverse events.\n",
            "At 12 weeks ( end of treatment ), the varenicline group was significantly higher for varenicline than placebo\n",
            "At the 6-month postquit follow-up visit, there was no significant difference between varenicline and placebo\n",
            "The mean ( SD ) number of varenicline treated subjects was 64.3 % ( varenicline ) versus 40.6 % ( placebo ), and the mean abstinence rates were significantly higher ( p =.006 ), while there were no significant differences in varenicline-treated subjects\n",
            "The adverse events were similar between groups, with no significant changes in placebo compared with placebo.\n",
            "KEY MESSAGES : : Varenicline was well tolerated with no serious adverse events in any group...A}).+VC)/-R -\n",
            "and].,\n",
            "Index: 8\n",
            "Number of references: 25\n",
            "torch.Size([1, 264])\n",
            "Retrieve concise conclusion without background: OBJECTIVES The aim of this prospect i ve clinical study was to evaluate the clinical performance of three-unit zirconia fixed dental prostheses ( FDPs ) made  from a lithium-disilicate glass-ceramic ( IPS e.max Press, Ivoclar Vivadent )\n",
            "MATERIAL S AND METHODS Forty-three patients were placed in 19 patients ( mean age, 34 ± 9.6 years ; 15 male, 26 female )\n",
            "The inlays were placed with three 3-step and one 2-step etch and rinse bonding\n",
            "The restorations were evaluated by two calibrated investigators\n",
            "The survival rate was evaluated after 6 months, and 1 to 5 years after cementation\n",
            "The outcomes were compared between restored crowns and contralateral teeth using a t-test\n",
            "RESULTS Eight of the 96 restorations had to be replaced ( failure rate 16 % ), and 7.1 % presented marginal discoloration\n",
            "The clinical reevaluations were performed using the chi-square test and Kaplan-Meier survival analysis\n",
            "Statistical analysis was performed using descriptive statistics, the survival rate and complication rates of  all-ceramic restorations after a minimum follow-up time of 5 years.\n",
            "Index: 9\n",
            "Number of references: 25\n",
            "torch.Size([1, 423])\n",
            "Retrieve concise conclusion without background: Background and Purpose : To develop a model for predicting outcome in the first week after acute ischemic stroke\n",
            "The role of clinical characteristics in predicting outcomes of patients with acute stroke is not robust\n",
            "The combination of clinical and imaging variables as predictors of outcome after the acute phase of stroke\n",
            "We aim to determine the predictive value of the outcome of patients assessed within 6 hours of onset\n",
            "The study was therefore conducted in a cohort study\n",
            "Patients with stroke patients were prospectively enrolled to the study\n",
            "The outcome was assessed at 7 days and 3 months after stroke\n",
            "In all patients, the initial degree of paralysis ( BI ) and the Glasgow Coma Scale ( GOS )\n",
            "The six variables were collected at r and omisation\n",
            "The predictive model based on these factors predicted functional outcome with an overall accuracy of 67 % and mortality with an accuracy of 83 %\n",
            "The final models of binary logistic regression analyses were constructed\n",
            "The baseline NIHSS score was the most important predictor for outcome\n",
            "The cohort study showed that the cohort study predicted outcome, with one additional point on the RIHSS\n",
            "The outcomes of interest were the following: the baseline BI\n",
            "The logistic regression model was developed to predict the outcomes\n",
            "The accuracy of this model was assessed for the 6-month follow-up\n",
            "The prognostic factors that predict outcome of stroke patients that are the same ( p = 0.001 )\n",
            "The model predicts the early poststroke phase for outcome of ADL.\n",
            "The model is a valid tool for predicting outcomes after stroke patients\n",
            "A score of ≥16 forecasts a high probability of recovery or even complete recovery\n",
            "The score of 6-months after stroke is predictive or not predictive\n",
            "The classification of outcomes of stroke with the model.A+RC/)-90,)\n",
            "and.\n"
          ]
        }
      ],
      "source": [
        "# Loop through our dataset\n",
        "\n",
        "max_num_refs = 25\n",
        "save_dir = \"first_10_conclusion_1\"\n",
        "verbose = True\n",
        "instruction = \"Retrieve concise conclusion without background:\"\n",
        "\n",
        "if not os.path.exists(save_dir):\n",
        "    os.makedirs(save_dir)\n",
        "\n",
        "for idx in range(dataset.num_rows):\n",
        "    if verbose:\n",
        "        print(f\"Index: {idx}\")\n",
        "    model, tokenizer = get_model_and_tokenizer(\"GanjinZero/biobart-v2-base\")\n",
        "\n",
        "    background_text = dataset[idx][\"background\"].replace(\"\\n\", \" \")\n",
        "    texts = [text.replace(\"\\n\", \" \") for text in dataset[idx][\"abstract\"]][:max_num_refs]\n",
        "    print(f\"Number of references: {len(texts)}\")\n",
        "\n",
        "    text_with_preamble = [instruction + \"<s> \" + text + \"<s>BACKGROUND: \" + background_text for text in texts]\n",
        "    inputs = tokenizer.batch_encode_plus(text_with_preamble, return_tensors=\"pt\", max_length=1024, truncation=True, padding=True).to(device)\n",
        "\n",
        "    # Encoding separately, concatenate, then decode\n",
        "    encoder_outputs = model.model.encoder(inputs[\"input_ids\"])\n",
        "    encoded = encoder_outputs[0]\n",
        "    encoder_outputs[\"last_hidden_state\"] = encoded.reshape(1, -1, encoded.size(-1))\n",
        "\n",
        "    decoded = model.generate(max_length=512, pad_token_id=1, encoder_outputs=encoder_outputs)\n",
        "    if verbose:\n",
        "        print(decoded.shape)\n",
        "    summary_output_text = tokenizer.decode(decoded[0], skip_special_tokens=True)\n",
        "\n",
        "    # print with simple wrapping\n",
        "    if verbose:\n",
        "        print(\"\\n\".join(summary_output_text.split(\". \")))\n",
        "\n",
        "    # Save to disk -- create simple text file with review_id as name\n",
        "    review_id = dataset[idx][\"review_id\"]\n",
        "    with open(os.path.join(save_dir, f\"{review_id}.txt\"), \"w\") as f:\n",
        "        f.write(summary_output_text)\n",
        "\n",
        "    clear_memory(inputs, encoder_outputs, encoded, decoded)"
      ]
    },
    {
      "cell_type": "markdown",
      "metadata": {},
      "source": [
        "Other older approaches"
      ]
    },
    {
      "cell_type": "code",
      "execution_count": 24,
      "metadata": {
        "colab": {
          "base_uri": "https://localhost:8080/",
          "height": 226
        },
        "id": "a_q5PNlU84Ut",
        "outputId": "27ea54fa-255e-4c14-c50d-2701c2b6b2e4"
      },
      "outputs": [
        {
          "name": "stdout",
          "output_type": "stream",
          "text": [
            "torch.Size([1, 300])\n"
          ]
        },
        {
          "data": {
            "text/plain": [
              "'summarize: INTRODUCTION Surgical stress in the presence of fasting worsens the catabolic state, causes insulin resistance and may delay recovery. Carbohydrate rich drinks given preoperatively may ameliorate these deleterious effects. A systematic review was undertaken to analyse the effect of preoperative carbohydrate loading on insulin resistance. gastric emptying, gastric acidity, patient wellbeing, immunity and nutrition following surgery. The effect on gastric pH and volume of 0, 6 and 10 ml · kg−1, of apple juice given 2.5 hours before surgery to children aged five to ten years was investigated in this prospect i ve, r and omized, single-blind study. Gastric contents were aspirated after induction of anaesthesia, and the volume measured. The pH of the gastric aspirate was then assessed using pH paper. Neither gastric volume nor pH immediately following the induction of general anaesthesia were significantly different among the three groups. Gast gastric volumes after 0,6 and 10 mg · kg −1. of juice averaged ( mean ±SD ) 0.45 ±0.31, 0.66 ±0 79 and 0.71 ±0,76 ml ·kg−1. respectively ; gastricpH averaged 1.7 ±00.6, 1.6 ±1.6 and 1.8 ±0-8, respectively. On the basis of questions asked immediately before induction of anaest'"
            ]
          },
          "execution_count": 24,
          "metadata": {},
          "output_type": "execute_result"
        }
      ],
      "source": [
        "inputs_combined = tokenizer.encode(\"summarize: \" + background_text + \" \" + text1 + \" \" + text2, return_tensors=\"pt\", max_length=1024, truncation=True).to(device)\n",
        "\n",
        "decoded_combined = model.generate(inputs_combined, max_length=300, pad_token_id=1)\n",
        "print(decoded_combined.shape)\n",
        "tokenizer.decode(decoded_combined[0], skip_special_tokens=True)"
      ]
    },
    {
      "cell_type": "code",
      "execution_count": 25,
      "metadata": {
        "colab": {
          "base_uri": "https://localhost:8080/",
          "height": 209
        },
        "id": "Ofw9nftk7Fms",
        "outputId": "725bc46f-aadb-4ed4-a3be-777f95970ee6"
      },
      "outputs": [
        {
          "data": {
            "text/plain": [
              "'summarize: BACKGROUND - INTRODUCTION Surgical stress in the presence of fasting worsens the catabolic state, causes insulin resistance and may delay recovery. Carbohydrate rich drinks given preoperatively may ameliorate these deleterious effects. A systematic review was undertaken to analyse the effect of preoperative carbohydrate loading on insulin resistance. gastric emptying, gastric acidity, patient wellbeing, immunity and nutrition following surgery. ABSTRACT - The effect on gastric pH and volume of 0, 6 and 10 ml · kg−1, of apple juice given 2.5 hours before surgery to children aged five to ten years was investigated in this prospect i ve, r and omized, single-blind study. Gastric contents were aspirated after induction of anaesthesia, and the volume measured. The pH of the gastric aspirate was then assessed using pH paper. Neither gastric volume nor pH immediately following the induction of general anaesthesia were significantly different among the three groups. Gastral volumes after 0,6 and 10 mg · kg −1,of juice averaged ( mean ±SD ) 0.45 ±0.31, 0.66 ±0 79 and 0.71 ±0,76 ml ·kg−1. gastral pH averaged 1.7±0.6, 1. 7 ±0-6 and 1.8 ±00.8, respectively. On the basis of questions asked immediately'"
            ]
          },
          "execution_count": 25,
          "metadata": {},
          "output_type": "execute_result"
        }
      ],
      "source": [
        "inputs_solo = tokenizer.encode(\"summarize: BACKGROUND - \" + background_text + \" ABSTRACT - \" + text1, return_tensors=\"pt\", max_length=1024, truncation=True).to(device)\n",
        "\n",
        "decoded_solo = model.generate(inputs_solo, max_length=300, pad_token_id=1)\n",
        "tokenizer.decode(decoded_solo[0], skip_special_tokens=True)"
      ]
    },
    {
      "cell_type": "code",
      "execution_count": 26,
      "metadata": {
        "colab": {
          "base_uri": "https://localhost:8080/"
        },
        "id": "inW8-PRxK_yk",
        "outputId": "c9041863-34b9-41ec-d725-4901a21987d2"
      },
      "outputs": [
        {
          "name": "stdout",
          "output_type": "stream",
          "text": [
            "torch.Size([1, 818])\n",
            "torch.Size([1, 300])\n"
          ]
        }
      ],
      "source": [
        "print(inputs_solo.shape)\n",
        "print(decoded_solo.shape)"
      ]
    },
    {
      "cell_type": "code",
      "execution_count": 27,
      "metadata": {
        "colab": {
          "base_uri": "https://localhost:8080/",
          "height": 296
        },
        "id": "0klpMk7y9kci",
        "outputId": "79656f2d-bdfd-4a0d-f69f-b961e682757f"
      },
      "outputs": [
        {
          "name": "stdout",
          "output_type": "stream",
          "text": [
            "torch.Size([1, 300])\n"
          ]
        },
        {
          "data": {
            "text/plain": [
              "'summarize: BACKGROUND - INTRODUCTION Surgical stress in the presence of fasting worsens the catabolic state, causes insulin resistance and may delay recovery.. Carbohydrate rich drinks given preoperatively may ameliorate these deleterious effects. A systematic review was undertaken to analyse the effect of the potential effect of preoperative carbohydrate loading on insulin resistance, gastric emptying, gastric acidity, patient wellbeing, immunity and nutrition following surgery. ABSTRACT - The effect on gastric pH and volume, and the effects of this effect on the ability of an effect on a possible effect of a potential effect on an effect of an upcoming event, was found to be, respectively, of -1, -2, -3, and -1.5, -4, -1, -1 and -2.2,-1, and was investigated in this study by the use of a technique of, and hence, of, a, and a, thus, of-1. During and after the period, we were able to detect, and we could not detect, the possibility of, or the outcome of, an effect, of an event, of being, or of a greater magnitude, to -3.0, -5.5 and -4.1, respectively. Infusion of glucose and its possible effects on an event were found, with an effect that was'"
            ]
          },
          "execution_count": 27,
          "metadata": {},
          "output_type": "execute_result"
        }
      ],
      "source": [
        "print(decoded.shape)\n",
        "tokenizer.decode(decoded[0], skip_special_tokens=True)"
      ]
    },
    {
      "cell_type": "code",
      "execution_count": 29,
      "metadata": {},
      "outputs": [],
      "source": [
        "clear_memory(inputs_combined, decoded_combined, inputs_solo, decoded_solo)"
      ]
    },
    {
      "cell_type": "code",
      "execution_count": 33,
      "metadata": {
        "colab": {
          "base_uri": "https://localhost:8080/"
        },
        "id": "e9J5l0JYVYh7",
        "outputId": "757f1ef9-ec2e-4e9b-cad3-ef3d700b4de7"
      },
      "outputs": [
        {
          "name": "stdout",
          "output_type": "stream",
          "text": [
            "Summary 1:\n",
            "The GFP-tagged ADSCs were identified in the lungs and differentiated into endothelial-like cells. Two weeks post-MCT administration, the ADSCs group received 1 × 106 ADSCs via the external jugular vein. Compared to PAH rats, mean pulmonary arterial pressure was decreased in rats at 1, 2, and 3 weeks after ADSCs-treatment.\n",
            "\n"
          ]
        }
      ],
      "source": [
        "def summarize(text, model, tokenizer, **generate_args):\n",
        "    inputs = tokenizer.encode(\"summarize: \" + text, return_tensors=\"pt\", max_length=1024, truncation=True).to(device)\n",
        "    summary_ids = model.generate(inputs, **generate_args)\n",
        "    return tokenizer.decode(summary_ids[0], skip_special_tokens=True)\n",
        "\n",
        "# Summarize the first 5 examples\n",
        "summaries = []\n",
        "for example in dataset:\n",
        "    text = example[\"abstract\"][1]  # single abstract\n",
        "    # text = \"; \".join([f\"ARTICLE {e + 1}: {txt}\" for e, txt in enumerate(example[\"abstract\"])])  # concatenate everything into one\n",
        "\n",
        "    # test text from news article:\n",
        "    # text = \"\"\"ATLANTIC CITY, N.J. — Danish energy developer Orsted said Tuesday night it is scrapping two large offshore wind-power projects off the coast of New Jersey, adding uncertainty to a nascent industry the Biden administration and many state governments are counting on to help transition away from the burning of planet-warming fossil fuels. The company said it is canceling its Ocean Wind I and II projects in southern New Jersey, citing supply-chain issues and rising interest rates.\"\"\"\n",
        "    summary = summarize(text, model, tokenizer, max_length=200, min_length=20, length_penalty=1.0, num_beams=10, early_stopping=True)  # guesses for generate args\n",
        "    summaries.append(summary)\n",
        "    break\n",
        "\n",
        "for i, summary in enumerate(summaries):\n",
        "    print(f\"Summary {i+1}:\\n{summary}\\n\")"
      ]
    },
    {
      "cell_type": "code",
      "execution_count": 29,
      "metadata": {
        "colab": {
          "base_uri": "https://localhost:8080/",
          "height": 174
        },
        "id": "_ZRi7qwI2R07",
        "outputId": "11edb58c-5e4b-44c5-8d85-ef7fb4acc6c6"
      },
      "outputs": [
        {
          "data": {
            "application/vnd.google.colaboratory.intrinsic+json": {
              "type": "string"
            },
            "text/plain": [
              "'ARTICLE 1: Although transplantation of adult bone marrow mesenchymal stem cells ( BM-MSCs ) holds promise in the treatment for pulmonary arterial hypertension ( PAH ) , the poor survival and differentiation potential of adult BM-MSCs have limited their therapeutic efficiency . Here , we compared the therapeutic efficacy of human embryonic stem cell-derived MSCs ( hESC-MSCs ) with adult BM-MSCs for the treatment of PAH in an animal model . One week following monocrotaline (MCT)-induced PAH , mice were r and omly assigned to receive phosphate-buffered saline ( MCT group ) ; 3.0 × 106 human BM-derived MSCs ( BM-MSCs group ) or 3.0 × 106 hESC-derived MSCs ( hESC-MSCs group ) via tail vein injection . At 3 weeks posttransplantation , the right ventricular systolic pressure ( RVSP ) , degree of RV hypertrophy , and medial wall thickening of pulmonary arteries were lower= , and pulmonary capillary density was higher in the hESC-MSC group as compared with BM-MSC and MCT groups ( all p < 0.05 ) . At 1 week posttransplantation , the number of engrafted MSCs in the lungs was found significantly higher in the hESC-MSC group than in the BM-MSC group ( all p < 0.01 ) . At 3 weeks posttransplantation , implanted BM-MSCs were undetectable whereas hESC-MSCs were not only engrafted in injured pulmonary arteries but had also undergone endothelial differentiation . In addition , protein profiling of hESC-MSC- and BM-MSC-conditioned medium revealed a differential paracrine capacity . Classification of these factors into bioprocesses revealed that secreted factors from hESC-MSCs were preferentially involved in early embryonic development and tissue differentiation , especially blood vessel morphogenesis . We concluded that improved cell survival and paracrine capacity of hESC-MSCs provide better therapeutic efficacy than BM-MSCs in the treatment for PAH; ARTICLE 2: Abstract We investigated the effect of adipose-derived stem cells ( ADSCs ) transplantation effects on structural remodeling and pulmonary artery pressure in  monocrotaline (MCT)-induced pulmonary hypertensive rats . In the first experiment , 32 male Sprague-Dawley ( SD ) rats were r and omly divided into four groups ( n = 8/group ) : 3 ADSCs treated groups and normal control ( Ctrl ) . ADSCs were administered through the left jugular vein at 105 , 106 and 107 cells , respectively , and a cell density of 106cells/ml was shown to be optimal . The GFP-tagged ADSCs were identified in the lungs and differentiated into endothelial-like cells . In the second experiment , 96 male SD rats were r and omly divided into three groups ( n = 32/group ) : Ctrl , MCT-induced pulmonary arterial hypertension ( PAH ) , and PAH treated with ADSCs ( ADSCs ) . Two weeks post-MCT administration , the ADSCs group received 1 × 106 ADSCs via the external jugular vein . Compared to PAH rats , mean pulmonary arterial pressure was decreased in rats at 1 , 2 , and 3 weeks after ADSCs-treatment ( 18.63 ± 2.15 mmHg versus 24.53 ± 2.90 mmHg ; 23.07 ± 2.84 mmHg versus 33.18 ± 2.30 mmHg ; 22.98 ± 2.34 mmHg versus 36.38 ± 3.28 mmHg , p < 0.05 ) . Meanwhile , the right heart hypertrophy index ( 36.2 1 ± 4.27 % versus 41.01 ± 1.29 % ; 39.47 ± 4.02 % versus 48.75 ± 2 .13 % ; 41.02 ± 0.9 % versus 50.52 ± 1.49 % , p < 0.05 , respectively ) , ratio of wall/lumen thickness , as well as the wall/lumen area were significantly reduced in PAH rats at these time points following ADSCs-treatment , as compared with untreated PAH rats . In summary , ADSCs may colonize the pulmonary arteries , attenuate pulmonary arterial hypertension and ameliorate pulmonary arterial remodeling; ARTICLE 3: The aim of the present study was to investigate the effect of bone marrow mesenchymal stem cell ( BMSC ) transp1antation on lung and heart damage in a rat model of monocrotaline (MCT)-induced pulmonary arterial hypertension ( PAH ) . The animals were r and omly divided into 3 groups : control , PAH  and  BMSC implantation  groups . Structural changes in the pulmonary vascular wall , such as the pulmonary artery lumen area ( VA ) and vascular area ( TAA ) were measured by hematoxylin and eosin ( H&E ) staining , and the hemodynamics were detected by echocardiography . Two weeks post-operation , our results demonstrated that sublingual vein injection of BMSCs significantly attenuated the pulmonary vascular structural and hemodynamic changes caused by pulmonary arterial hypertension . The mechanism may be executed via paracrine effects; ARTICLE 4: OBJECTIVE To characterize mortality in persons diagnosed with primary pulmonary hypertension and to investigate factors associated with survival . DESIGN Registry with prospect i ve follow-up . SETTING Thirty-two clinical centers in the United States participating in the Patient Registry for the Characterization of Primary Pulmonary Hypertension supported by the National Heart , Lung , and Blood Institute . PATIENTS Patients ( 194 ) diagnosed at clinical centers between 1 July 1981 and 31 December 1985 and followed through 8 August 1988 . MEASUREMENTS At diagnosis , measurements of hemodynamic variables , pulmonary function , and gas exchange variables were taken in addition to information on demographic variables , medical history , and life-style . Patients were followed for survival at 6-month intervals . MAIN RESULTS The estimated median survival of these patients was 2.8 years ( 95 % Cl , 1.9 to 3.7 years ) . Estimated single-year survival rates were as follows : at 1 year , 68 % ( Cl , 61 % to 75 % ) ; at 3 years , 48 % ( Cl , 41 % to 55 % ) ; and at 5 years , 34 % ( Cl , 24 % to 44 % ) . Variables associated with poor survival included a New York Heart Association ( NYHA ) functional class of III or IV , presence of Raynaud phenomenon , elevated mean right atrial pressure , elevated mean pulmonary artery pressure , decreased cardiac index , and decreased diffusing capacity for carbon monoxide ( DLCO ) . Drug therapy at entry or discharge was not associated with survival duration . CONCLUSIONS Mortality was most closely associated with right ventricular hemodynamic function and can be characterized by means of an equation using three variables : mean pulmonary artery pressure , mean right atrial pressure , and cardiac index . Such an equation , once vali date d prospect ively , could be used as an adjunct in planning treatment strategies and allocating medical re sources; ARTICLE 5: BACKGROUND Sildenafil inhibits phosphodiesterase type 5 , an enzyme that metabolizes cyclic guanosine monophosphate , thereby enhancing the cyclic guanosine monophosphate-mediated relaxation and growth inhibition of vascular smooth-muscle cells , including those in the lung . METHODS In this double-blind , placebo-controlled study , we r and omly assigned 278 patients with symptomatic pulmonary arterial hypertension ( either idiopathic or associated with connective-tissue disease or with repaired congenital systemic-to-pulmonary shunts ) to placebo or sildenafil  ( 20 , 40 , or 80 mg ) orally three times daily for 12 weeks . The primary end point was the change from baseline to week 12 in the distance walked in six minutes . The change in mean pulmonary-artery pressure and World Health Organization ( WHO ) functional class and the incidence of clinical worsening were also assessed , but the study was not powered to assess mortality . Patients completing the 12-week r and omized study could enter a long-term extension study . RESULTS The distance walked in six minutes increased from baseline in all sildenafil groups ; the mean placebo-corrected treatment effects were 45 m ( + 13.0 percent ) , 46 m ( + 13.3 percent ) , and 50 m ( + 14.7 percent ) for 20 , 40 , and 80 mg of sildenafil , respectively ( P<0.001 for all comparisons ) . All sildenafil doses reduced the mean pulmonary-artery pressure ( P=0.04 , P=0.01 , and P<0.001 , respectively ) , improved the WHO functional class ( P=0.003 , P<0.001 , and P<0.001 , respectively ) , and were associated with side effects such as flushing , dyspepsia , and diarrhea . The incidence of clinical worsening did not differ significantly between the patients treated with sildenafil and those treated with placebo . Among the 222 patients completing one year of treatment with sildenafil monotherapy , the improvement from baseline at one year in the distance walked in six minutes was 51 m. CONCLUSIONS Sildenafil improves exercise capacity , WHO functional class , and hemodynamics in patients with symptomatic pulmonary arterial hypertension; ARTICLE 6: BACKGROUND Current therapies for pulmonary arterial hypertension have been adopted on the basis of short-term trials with exercise capacity as the primary end point . We assessed the efficacy of macitentan , a new dual endothelin-receptor antagonist , using a primary end point of morbidity and mortality in a long-term trial . METHODS We r and omly assigned patients with symptomatic pulmonary arterial hypertension to receive placebo once daily , macitentan at a once-daily dose of 3 mg , or macitentan at a once-daily dose of 10 mg . Stable use of oral or inhaled therapy for pulmonary arterial hypertension , other than endothelin-receptor antagonists , was allowed at study entry . The primary end point was the time from the initiation of treatment to the first occurrence of a composite end point of death , atrial septostomy , lung transplantation , initiation of treatment with intravenous or subcutaneous prostanoids , or worsening of pulmonary arterial hypertension . RESULTS A total of 250 patients were r and omly assigned to placebo , 250 to the 3-mg macitentan dose , and 242 to the 10-mg macitentan dose . The primary end point occurred in 46.4 % , 38.0 % , and 31.4 % of the patients in these groups , respectively . The hazard ratio for the 3-mg macitentan dose as compared with placebo was 0.70 ( 97.5 % confidence interval [ CI ] , 0.52 to 0.96 ; P=0.01 ) , and the hazard ratio for the 10-mg macitentan dose as compared with placebo was 0.55 ( 97.5 % CI , 0.39 to 0.76 ; P<0.001 ) . Worsening of pulmonary arterial hypertension was the most frequent primary end-point event . The effect of macitentan on this end point was observed regardless of whether the patient was receiving therapy for pulmonary arterial hypertension at baseline . Adverse events more frequently associated with macitentan than with placebo were headache , nasopharyngitis , and anemia . CONCLUSIONS Macitentan significantly reduced morbidity and mortality among patients with pulmonary arterial hypertension in this event-driven study . ( Funded by Actelion Pharmaceuticals ; SERAPHIN Clinical Trials.gov number , NCT00660179 . ); ARTICLE 7: Our previous studies have shown that bone marrow mesenchymal stem cells ( BMSCs ) can inhibit the progression of pulmonary artery hypertension ( PAH ) in the monocrotaline ( MCT ) model in the short term . The aim of this study was to further investigate the long-term effect of BMSCs on PAH and to explore the mechanism of the protective effect including the pulmonary vascular remodeling and cell differentiation . PAH model was established by subcutaneous injection of 50 mg/kg MCT as previously study . Postoperatively , the animals were r and omly divided into three groups ( n = 10 in each group ) : control , PAH group , and BMSCs implantation group . Six months after injection , immunology and immunohistochemistry analysis indicated the  MCT-induced intima-media thickness in muscular arteries was reduced ( P < 0.05 ) ; the area of collagen fibers in lung tissue was lower ( P < 0.05 ) , and the proliferating cell nuclear antigen level in pulmonary artery smooth muscle cells was decreased ( P < 0.05 ) . Immunofluorescence showed that the cells have the ability to differentiate between von Willebr and factor and vascular endothelial growth factor . Six months after intravenous injection , BMSCs could significantly improve pulmonary function by inhibiting the ventricular remodeling and the effect of cell differentiation; ARTICLE 8: Experimental data suggest that transplantation of EPCs attenuates monocrotaline-induced pulmonary hypertension in rats and dogs . In addition , our previous studies suggested that autologous EPC transplantation was feasible , safe , and might have beneficial effects on exercise capacity and pulmonary hemodynamics in adults with IPAH . Thus , we hypothesized that transplantation of EPCs would improve exercise capacity and pulmonary hemodynamics in children with IPAH . Thirteen children with IPAH received intravenous infusion of autologous EPCs . The right-sided heart catheterization and 6-MWD test were performed at baseline and at the time of 12 wk after cell infusion . At the time of 12 wk , mPAP decreased by 6.4 mmHg from 70.3 + /- 19.0 to 63.9 + /- 19.3 mmHg ( p = 0.015 ) . PVR decreased by approximately 19 % from 1118 + /- 537 to 906 + /- 377 dyn s/cm(5 ) ( p = 0.047 ) . CO increased from 3.39 + /- 0.79 to 3.85 + /- 0.42 L/min ( p = 0.048 ) . The 6-MWD increased by 39 m from 359 + /- 82 to 399 + /- 74 m ( p = 0.012 ) . NYHA functional class also improved . There were no severe adverse events with cell infusion . The small pilot study suggested that intravenous infusion of autologous EPCs was feasible , safe , and associated with significant improvements in exercise capacity , NYHA functional class , and pulmonary hemodynamics in children with IPAH . Confirmation of these results in a r and omized controlled trial are essential; ARTICLE 9: BACKGROUND Uncontrolled studies suggested that aerosolized iloprost , a stable analogue of prostacyclin , causes selective pulmonary vasodilatation and improves hemodynamics and exercise capacity in patients with pulmonary hypertension . METHODS We compared repeated daily inhalations of 2.5 or 5.0 microg of iloprost ( six or nine times per day ; median inhaled dose , 30 microg per day ) with inhalation of placebo .  A total of 203 patients with selected forms of severe pulmonary arterial hypertension and chronic thromboembolic pulmonary hypertension ( New York Heart Association [ NYHA ] functional class III or IV ) were included . The primary end point was met if , after week 12 , the NYHA class and distance walked in six minutes were improved by at least one class and at least 10 percent , respectively , in the absence of clinical deterioration according to predefined criteria and death . RESULTS The combined clinical end point was met by 16.8 percent of the patients receiving iloprost , as compared with 4.9 percent of the patients receiving placebo ( P=0.007 ) . There were increases in the distance walked in six minutes of 36.4 m in the iloprost group as a whole ( P=0.004 ) and of 58.8 m in the subgroup of patients with primary pulmonary hypertension . Overall , 4.0 percent of patients in the iloprost group ( including one who died ) and 13.7 percent of those in the placebo group ( including four who died ) did not complete the study ( P=0.024 ) ; the most common reason for withdrawal was clinical deterioration . As compared with base-line values , hemodynamic values were significantly improved at 12 weeks when measured after iloprost inhalation ( P<0.001 ) , were largely unchanged when measured before iloprost inhalation , and were significantly worse in the placebo group . Further significant beneficial effects of iloprost treatment included an improvement in the NYHA class ( P=0.03 ) , dyspnea ( P=0.015 ) , and quality of life ( P=0.026 ) . Syncope occurred with similar frequency in the two groups but was more frequently rated as serious in the iloprost group , although this adverse effect was not associated with clinical deterioration . CONCLUSIONS Inhaled iloprost is an effective therapy for patients with severe pulmonary hypertension; ARTICLE 10: BACKGROUND High pulmonary vascular resistance ( PVR ) may be a risk factor for early and late mortality in both Glen shunt and Fontan operation patients . Furthermore , PVR may increase long after the Fontan operation . Whether pulmonary vasodilators such as phosphodiesterase 5 inhibitors can decrease PVR in patients with single ventricular physiology remains undetermined . METHODS AND RESULTS This was a prospect i ve , multicenter study . Patients with single ventricular physiology who have a PVR index higher than 2.5 Wood units · ㎡ ( WU ) were enrolled .  Cardiac catheterization was performed before and after administration of sildenafil in all patients . After the Fontan operation , a  six minute walk test  ( 6MWT ) was also performed . A total of 42 patients were enrolled . PVR was significantly decreased in each stage of single ventricular physiology after sildenafil administration : from 4.3±1.5WU to 2.1±0.6WU ( p<0.01 ) in patients before a Glenn shunt , from 3.2±0.5WU to 1.6±0.6WU ( p<0.001 ) in patients after a Glenn shunt , and from 3.9±1.7WU to 2.3±0.8WU ( p<0.001 ) in patients after Fontan . In patients after Fontan , the 6MWT increased from 416±74 m to 485±72 m ( p<0.01 ) , and NYHA functional class improved significantly ( p<0.05 ) after sildenafil administration . No major side effects were observed in any patients . CONCLUSIONS Sildenafil reduced PVR in patients with single ventricle physiology . Sildenafil increased exercise capacity and improved NYHA functional class in patients after a Fontan operation . This implies that pulmonary vasodilation is a potential therapeutic target in selected patients with elevated PVR with single ventricle physiology . Long-term clinical significance warrants further study; ARTICLE 11: OBJECTIVES The purpose of this study was to examine the efficacy and safety of four doses of ambrisentan , an oral endothelin type A receptor-selective antagonist , in patients with pulmonary arterial hypertension ( PAH ) . BACKGROUND Pulmonary arterial hypertension is a life-threatening and progressive disease with limited treatment options . Endothelin is a vasoconstrictor and smooth muscle cell mitogen that plays a critical role in the pathogenesis and progression of PAH . METHODS In this double-blind , dose-ranging study , 64 patients with idiopathic PAH or PAH associated with collagen vascular disease , anorexigen use , or human immunodeficiency virus infection were r and omized to receive 1 , 2.5 , 5 , or 10 mg of ambrisentan once daily for 12 weeks followed by 12 weeks of open-label ambrisentan . The primary end point was an improvement from baseline in 6-min walk distance ( 6MWD ) ; secondary end points included Borg dyspnea index , World Health Organization ( WHO ) functional class , a subject global assessment , and cardiopulmonary hemodynamics . RESULTS At 12 weeks , ambrisentan increased 6MWD ( + 36.1 m , p < 0.0001 ) with similar and statistically significant increases for each dose group ( range , + 33.9 to + 38.1 m ) . Improvements were also observed in Borg dyspnea index , WHO functional class , subject global assessment , mean pulmonary arterial pressure ( -5.2 mm Hg , p < 0.0001 ) , and cardiac index ( + 0.33 l/min/m2 , p < 0.0008 ) . Adverse events were mild and unrelated to dose , including the incidence of elevated serum aminotransferase concentrations > 3 times the upper limit of normal ( 3.1 % ) . CONCLUSIONS Ambrisentan appears to improve exercise capacity , symptoms , and hemodynamics in patients with PAH . The incidence and severity of liver enzyme abnormalities appear to be low; ARTICLE 12: UNLABELLED Pulmonary arterial hypertension ( PAH ) is characterized by functional and structural changes in the pulmonary vasculature , and despite the drug treatment that made significant progress , the prognosis of patients with advanced PH remains extremely poor . In the present study , we investigated the early effect of bone marrow mesenchymal stem cells ( BMSCs ) on experimental high blood flow-induced PAH model rats and discussed the mechanism . BMSCs were isolated , cultured from bone marrow of Sprague-Dawley ( SD ) rat . The animal model of PAH was created by surgical methods to produce a left-to-right shunt . Following the successful establishment of the PAH model , rats were r and omly assigned to three groups ( n=20 in each group ) : sham group ( control ) , PAH group , and BMSC group ( received a sublingual vein injection of 1 - 5 × 10(6 ) BMSCs ) . Two weeks after the administration , BMSCs significantly reduced the vascular remodeling , improved the hemodynamic data , and deceased the right ventricle weight ratio to left ventricular plus septal weight ( RV/LV+S ) ( P<0.05 ) . Real-time reverse transcription-polymerase chain reaction ( RT-PCR ) and immunohistochemistry analysis results indicated that the inflammation factors such as interleukin-1β ( IL-1β ) , IL-6 , and tumor necrosis factor-α ( TNF-α ) were reduced ( P<0.05 ) ; the expression of matrix metallo proteinase-9 ( MMP-9 ) was lower ( P<0.05 ) ; vascular endothelial growth factor ( VEGF ) was higher in BMSC group than those in PAH group ( P<0.05 ) . CONCLUSION Sublingual vein injection of BMSCs for 2 weeks , significantly improved the lung and heart injury caused by left-to-right shunt-induced PAH ; decreased pulmonary vascular remodeling and inflammation ; and enhanced angiogenesis; ARTICLE 13: Pulmonary arterial hypertension is a life-threatening disease for which continuous intravenous prostacyclin has proven to be effective . However , this treatment requires a permanent central venous catheter with the associated risk of serious complications such as sepsis , thromboembolism , or syncope . Treprostinil , a stable prostacyclin analogue , can be administered by a continuous subcutaneous infusion , avoiding these risks . We conducted a 12-week , double-blind , placebo-controlled multicenter trial in 470 patients with pulmonary arterial hypertension , either primary or associated with connective tissue disease or congenital systemic-to-pulmonary shunts .  Exercise capacity improved with treprostinil and was unchanged with placebo ; the between treatment group difference in median six-minute walking distance was 16 m ( p = 0.006 ) . Improvement in exercise capacity was greater in the sicker patients and was dose-related , but independent of disease etiology . Concomitantly , treprostinil significantly improved indices of dyspnea , signs and symptoms of pulmonary hypertension , and hemodynamics . The most common side effect attributed to treprostinil was infusion site pain ( 85 % ) leading to premature discontinuation from the study in 8 % of patients . Three patients in the treprostinil treatment group presented with an episode of gastrointestinal hemorrhage . We conclude that chronic subcutaneous infusion of treprostinil is an effective treatment with an acceptable safety profile in patients with pulmonary arterial hypertension; ARTICLE 14: BACKGROUND Endothelin 1 , a powerful endogenous vasoconstrictor and mitogen , might be a cause of pulmonary hypertension . We describe the efficacy and safety of bosentan , a dual endothelin-receptor antagonist that can be taken orally , in patients with severe pulmonary hypertension . METHODS In this double-blind , placebo-controlled study , 32 patients with pulmonary hypertension ( primary or associated with scleroderma ) were r and omly assigned to bosentan ( 62.5 mg taken twice daily for 4 weeks then 125 mg twice daily ) or placebo for a minimum of 12 weeks . The primary endpoint was change in exercise capacity . Secondary endpoints included changes in cardiopulmonary haemodynamics , Borg dyspnoea index , WHO functional class , and withdrawal due to clinical worsening . Analysis was by intention to treat . FINDINGS In patients given bosentan , the distance walked in 6 min improved by 70 m at 12 weeks compared with baseline , whereas it worsened by 6 m in those on placebo ( difference 76 m [ 95 % CI 12 - 139 ] , p=0.021 ) . The improvement was maintained for at least 20 weeks . The cardiac index was 1.0 L min(-1 ) m(-2 ) ( 95 % CI 0.6 - 1.4 , p<0.0001 ) greater in patients given bosentan than in those given placebo .  Pulmonary vascular resistance decreased by 223 dyn s cm(-)(5 ) with bosentan , but increased by 191 dyn s cm(-5 ) with placebo ( difference -415 [ -608 to -221 ] , p=0.0002 ) . Patients given bosentan had a reduced Borg dyspnoea index and an improved WHO functional class . All three withdrawals from clinical worsening were in the placebo group ( p=0.033 ) . The number and nature of adverse events did not differ between the two groups . INTERPRETATION Bosentan increases exercise capacity and improves haemodynamics in patients with pulmonary hypertension , suggesting that endothelin has an important role in pulmonary hypertension; ARTICLE 15: Background Systematic Review s ( SRs ) of experimental animal studies are not yet common practice , but awareness of the merits of conducting such SRs is steadily increasing . As animal intervention studies differ from r and omized clinical trials ( RCT ) in many aspects , the methodology for SRs of clinical trials needs to be adapted and optimized for animal intervention studies . The Cochrane Collaboration developed a Risk of Bias ( RoB ) tool to establish consistency and avoid discrepancies in assessing the method ological quality of RCTs . A similar initiative is warranted in the field of animal experimentation . Methods We provide an RoB tool for animal intervention studies ( SYRCLE ’s RoB tool ) . This tool is based on the Cochrane RoB tool and has been adjusted for aspects of bias that play a specific role in animal intervention studies . To enhance transparency and applicability , we formulated signalling questions to facilitate judgment . Results The result ing RoB tool  for animal studies contains 10 entries . These entries are related to selection bias , performance bias , detection bias , attrition bias , reporting bias and other biases . Half these items are in agreement with the items in the Cochrane RoB tool . Most of the variations between the two tools are due to differences in design between RCTs and animal studies . Shortcomings in , or unfamiliarity with , specific aspects of experimental design of animal studies compared to clinical studies also play a role . Conclusions SYRCLE ’s RoB tool is an adapted version of the Cochrane RoB tool . Widespread adoption and implementation of this tool will facilitate and improve critical appraisal of evidence from animal studies . This may subsequently enhance the efficiency of translating animal research into clinical practice and increase awareness of the necessity of improving the method ological quality of animal studies'"
            ]
          },
          "execution_count": 29,
          "metadata": {},
          "output_type": "execute_result"
        }
      ],
      "source": [
        "\"; \".join([f\"ARTICLE {e + 1}: {txt}\" for e, txt in enumerate(example[\"abstract\"])])"
      ]
    },
    {
      "cell_type": "code",
      "execution_count": 32,
      "metadata": {
        "colab": {
          "base_uri": "https://localhost:8080/"
        },
        "id": "6OgdejY_W968",
        "outputId": "2b795d75-a2ea-47a4-d822-e07e39364121"
      },
      "outputs": [
        {
          "name": "stdout",
          "output_type": "stream",
          "text": [
            "Abstract We investigated the effect of adipose-derived stem cells ( ADSCs ) transplantation effects on structural remodeling and pulmonary artery pressure in  monocrotaline (MCT)-induced pulmonary hypertensive rats . \n",
            "In the first experiment , 32 male Sprague-Dawley ( SD ) rats were r and omly divided into four groups ( n = 8/group ) : 3 ADSCs treated groups and normal control ( Ctrl ) . \n",
            "ADSCs were administered through the left jugular vein at 105 , 106 and 107 cells , respectively , and a cell density of 106cells/ml was shown to be optimal . \n",
            "The GFP-tagged ADSCs were identified in the lungs and differentiated into endothelial-like cells . \n",
            "In the second experiment , 96 male SD rats were r and omly divided into three groups ( n = 32/group ) : Ctrl , MCT-induced pulmonary arterial hypertension ( PAH ) , and PAH treated with ADSCs ( ADSCs ) . \n",
            "Two weeks post-MCT administration , the ADSCs group received 1 × 106 ADSCs via the external jugular vein . \n",
            "Compared to PAH rats , mean pulmonary arterial pressure was decreased in rats at 1 , 2 , and 3 weeks after ADSCs-treatment ( 18.63 ± 2.15 mmHg versus 24.53 ± 2.90 mmHg ; 23.07 ± 2.84 mmHg versus 33.18 ± 2.30 mmHg ; 22.98 ± 2.34 mmHg versus 36.38 ± 3.28 mmHg , p < 0.05 ) . \n",
            "Meanwhile , the right heart hypertrophy index ( 36.2 1 ± 4.27 % versus 41.01 ± 1.29 % ; 39.47 ± 4.02 % versus 48.75 ± 2 .13 % ; 41.02 ± 0.9 % versus 50.52 ± 1.49 % , p < 0.05 , respectively ) , ratio of wall/lumen thickness , as well as the wall/lumen area were significantly reduced in PAH rats at these time points following ADSCs-treatment , as compared with untreated PAH rats . \n",
            "In summary , ADSCs may colonize the pulmonary arteries , attenuate pulmonary arterial hypertension and ameliorate pulmonary arterial remodeling\n"
          ]
        }
      ],
      "source": [
        "print(dataset[0][\"abstract\"][1].replace(\". \", \". \\n\"))"
      ]
    }
  ],
  "metadata": {
    "accelerator": "GPU",
    "colab": {
      "authorship_tag": "ABX9TyM2BPaizLO4YsewmxMV5CR7",
      "gpuType": "T4",
      "include_colab_link": true,
      "provenance": []
    },
    "kernelspec": {
      "display_name": "Python 3",
      "name": "python3"
    },
    "language_info": {
      "codemirror_mode": {
        "name": "ipython",
        "version": 3
      },
      "file_extension": ".py",
      "mimetype": "text/x-python",
      "name": "python",
      "nbconvert_exporter": "python",
      "pygments_lexer": "ipython3",
      "version": "3.8.18"
    }
  },
  "nbformat": 4,
  "nbformat_minor": 0
}
