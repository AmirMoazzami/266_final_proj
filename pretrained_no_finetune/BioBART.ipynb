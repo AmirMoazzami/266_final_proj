{
  "nbformat": 4,
  "nbformat_minor": 0,
  "metadata": {
    "colab": {
      "provenance": [],
      "gpuType": "T4",
      "authorship_tag": "ABX9TyM2BPaizLO4YsewmxMV5CR7",
      "include_colab_link": true
    },
    "kernelspec": {
      "name": "python3",
      "display_name": "Python 3"
    },
    "language_info": {
      "name": "python"
    },
    "accelerator": "GPU"
  },
  "cells": [
    {
      "cell_type": "markdown",
      "metadata": {
        "id": "view-in-github",
        "colab_type": "text"
      },
      "source": [
        "<a href=\"https://colab.research.google.com/github/AmirMoazzami/266_final_proj/blob/mk%2Fbart-biobart-exploration/pretrained_no_finetune/BioBART.ipynb\" target=\"_parent\"><img src=\"https://colab.research.google.com/assets/colab-badge.svg\" alt=\"Open In Colab\"/></a>"
      ]
    },
    {
      "cell_type": "code",
      "source": [
        "!pip install transformers\n",
        "!pip install datasets\n",
        "!pip install torchsummary"
      ],
      "metadata": {
        "id": "6FeiakTOS3EE"
      },
      "execution_count": null,
      "outputs": []
    },
    {
      "cell_type": "code",
      "execution_count": 1,
      "metadata": {
        "id": "iqGK3_JvSsJv",
        "colab": {
          "base_uri": "https://localhost:8080/"
        },
        "outputId": "1140e848-0eb9-479d-d6c6-5b0c8f440dd4"
      },
      "outputs": [
        {
          "output_type": "stream",
          "name": "stdout",
          "text": [
            "There are 1 GPU(s) available.\n",
            "We will use the GPU: Tesla T4\n"
          ]
        },
        {
          "output_type": "execute_result",
          "data": {
            "text/plain": [
              "Dataset({\n",
              "    features: ['review_id', 'pmid', 'title', 'abstract', 'target', 'background'],\n",
              "    num_rows: 10\n",
              "})"
            ]
          },
          "metadata": {},
          "execution_count": 1
        }
      ],
      "source": [
        "import shutil\n",
        "import os\n",
        "\n",
        "from transformers import pipeline, AutoTokenizer, AutoModelForSeq2SeqLM, BartForConditionalGeneration, BartTokenizer\n",
        "from datasets import load_dataset, load_from_disk\n",
        "import torch\n",
        "\n",
        "\n",
        "os.environ['CUDA_LAUNCH_BLOCKING'] = \"1\"\n",
        "\n",
        "if torch.cuda.is_available():\n",
        "# if False:\n",
        "    device = torch.device(\"cuda\")\n",
        "    print('There are %d GPU(s) available.' % torch.cuda.device_count())\n",
        "    print('We will use the GPU:', torch.cuda.get_device_name(0))\n",
        "\n",
        "else:\n",
        "    print('No GPU available, using the CPU instead.')\n",
        "    device = torch.device(\"cpu\")\n",
        "\n",
        "\n",
        "model_names = [\n",
        "    \"GanjinZero/biobart-v2-base\",\n",
        "    \"facebook/bart-base\",\n",
        "    \"facebook/bart-large-cnn\",\n",
        "]\n",
        "\n",
        "def get_model_and_tokenizer(model_name: str):\n",
        "    model = BartForConditionalGeneration.from_pretrained(model_name).to(device)\n",
        "    tokenizer = BartTokenizer.from_pretrained(model_name)\n",
        "    return model, tokenizer\n",
        "\n",
        "# # run once only during development period:\n",
        "# dataset = load_dataset(\n",
        "#     \"allenai/mslr2022\",\n",
        "#     \"ms2\",\n",
        "#     split='train[:10]',  # use only for setting up/debugging\n",
        "# )  # this takes a long time, ~ 6 mins. Most time spent in train split\n",
        "\n",
        "# # subsetting the first 10 into a small file for quick debugging in the future (no need to pull entire dataset!)\n",
        "# dataset.save_to_disk(\"first_10_train_examples\")\n",
        "# shutil.make_archive('first_10_train_examples', 'zip', 'first_10_train_examples')\n",
        "\n",
        "# run following all the time\n",
        "dataset = load_from_disk(\"first_10_train_examples\")\n",
        "dataset"
      ]
    },
    {
      "cell_type": "code",
      "source": [
        "model, tokenizer = get_model_and_tokenizer(\"GanjinZero/biobart-v2-base\")"
      ],
      "metadata": {
        "id": "mz4L-G2MhGcE"
      },
      "execution_count": 2,
      "outputs": []
    },
    {
      "cell_type": "code",
      "source": [
        "test_idx = 5\n",
        "background_text = dataset[test_idx][\"background\"].replace(\"\\n\", \" \")\n",
        "text1 = dataset[test_idx][\"abstract\"][0].replace(\"\\n\", \" \")\n",
        "text2 = dataset[test_idx][\"abstract\"][1].replace(\"\\n\", \" \")\n",
        "instruction = \"summarize: BACKGROUND - \"\n",
        "background_length = len(tokenizer.encode(instruction + background_text))\n",
        "\n",
        "# Encoding separately, concatenate, then decode\n",
        "inputs1 = tokenizer.encode(instruction + background_text + \" ABSTRACT - \" + text1, return_tensors=\"pt\", max_length=1024, truncation=True).to(device)\n",
        "inputs2 = tokenizer.encode(instruction + background_text + \" ABSTRACT - \" + text2, return_tensors=\"pt\", max_length=1024, truncation=True).to(device)\n",
        "\n",
        "encoded1 = model(inputs1).encoder_last_hidden_state[:, :int(1024 / 2)]  # max position embeddings is 1024 for BART\n",
        "encoded2 = model(inputs2).encoder_last_hidden_state[:, :int(1024 / 2)]\n",
        "\n",
        "concatenated = torch.cat((encoded1, encoded2), dim=1)\n",
        "decoded = model.generate(max_length=300, pad_token_id=1, inputs_embeds=concatenated, decoder_inputs_embeds=concatenated)\n",
        "print(decoded.shape)\n",
        "tokenizer.decode(decoded[0], skip_special_tokens=True)"
      ],
      "metadata": {
        "colab": {
          "base_uri": "https://localhost:8080/",
          "height": 192
        },
        "id": "W0OO9ag2ia6f",
        "outputId": "d73546e3-dd27-458e-8f2f-1e03cb8bdbea"
      },
      "execution_count": 19,
      "outputs": [
        {
          "output_type": "stream",
          "name": "stdout",
          "text": [
            "torch.Size([1, 300])\n"
          ]
        },
        {
          "output_type": "execute_result",
          "data": {
            "text/plain": [
              "'summarize: BACKGROUND - INTRODUCTION Surgical stress in the presence of fasting worsens the catabolic state, causes insulin resistance and may delay recovery.. Carbohydrate rich drinks given preoperatively may ameliorate these deleterious effects. A systematic review was undertaken to analyse the effect of the potential effect of preoperative carbohydrate loading on insulin resistance, gastric emptying, gastric acidity, patient wellbeing, immunity and nutrition following surgery. ABSTRACT - The effect on gastric pH and volume, and the effects of this effect on the ability of an effect on a possible effect of a potential effect on an effect of an upcoming event, was found to be, respectively, of -1, -2, -3, and -1.5, -4, -1, -1 and -2.2,-1, and was investigated in this study by the use of a technique of, and hence, of, a, and a, thus, of-1. During and after the period, we were able to detect, and we could not detect, the possibility of, or the outcome of, an effect, of an event, of being, or of a greater magnitude, to -3.0, -5.5 and -4.1, respectively. Infusion of glucose and its possible effects on an event were found, with an effect that was'"
            ],
            "application/vnd.google.colaboratory.intrinsic+json": {
              "type": "string"
            }
          },
          "metadata": {},
          "execution_count": 19
        }
      ]
    },
    {
      "cell_type": "code",
      "source": [
        "background_text"
      ],
      "metadata": {
        "colab": {
          "base_uri": "https://localhost:8080/",
          "height": 87
        },
        "id": "v-G3ZXcvDRi-",
        "outputId": "a4e44bbd-279d-41e6-f107-98870b25f8c4"
      },
      "execution_count": 73,
      "outputs": [
        {
          "output_type": "execute_result",
          "data": {
            "text/plain": [
              "'INTRODUCTION Surgical stress in the presence of fasting worsens the catabolic state , causes insulin resistance and may delay recovery . Carbohydrate rich drinks given preoperatively may ameliorate these deleterious effects . A systematic review was undertaken to analyse the effect of preoperative carbohydrate loading on insulin resistance , gastric emptying , gastric acidity , patient wellbeing , immunity and nutrition following surgery .'"
            ],
            "application/vnd.google.colaboratory.intrinsic+json": {
              "type": "string"
            }
          },
          "metadata": {},
          "execution_count": 73
        }
      ]
    },
    {
      "cell_type": "code",
      "source": [
        "dataset[test_idx][\"target\"].replace(\"\\n\", \" \")"
      ],
      "metadata": {
        "colab": {
          "base_uri": "https://localhost:8080/",
          "height": 105
        },
        "id": "U6I_jZo1IMU-",
        "outputId": "04bf327d-4a71-4aad-f1ed-df6fd89cd0dc"
      },
      "execution_count": 77,
      "outputs": [
        {
          "output_type": "execute_result",
          "data": {
            "text/plain": [
              "'Preoperative carbohydrate drinks significantly improved insulin resistance and indices of patient comfort following surgery , especially hunger , thirst , malaise , anxiety and nausea . No definite conclusions could be made regarding preservation of muscle mass . Following ingestion of carbohydrate drinks , no adverse events such as apparent or proven aspiration during or after surgery were reported . Administration of oral carbohydrate drinks before surgery is probably safe and may have a positive influence on a wide range of perioperative markers of clinical outcome .'"
            ],
            "application/vnd.google.colaboratory.intrinsic+json": {
              "type": "string"
            }
          },
          "metadata": {},
          "execution_count": 77
        }
      ]
    },
    {
      "cell_type": "code",
      "source": [
        "text1"
      ],
      "metadata": {
        "colab": {
          "base_uri": "https://localhost:8080/",
          "height": 174
        },
        "id": "XCBcXwq3DNCy",
        "outputId": "e7aaf232-ad44-4f64-b299-686716f51f34"
      },
      "execution_count": 74,
      "outputs": [
        {
          "output_type": "execute_result",
          "data": {
            "text/plain": [
              "'The effect on gastric pH and volume of 0 , 6 and 10 ml · kg−1 , of apple juice given 2.5 hours before surgery to children aged five to ten years was investigated in this prospect i ve , r and omized , single-blind study . Gastric contents were aspirated after induction of anaesthesia , and the volume measured . The pH of the gastric aspirate was then assessed using pH paper . Neither gastric volume nor pH immediately following the induction of general anaesthesia were significantly different among the three groups . Gastric volumes after 0 , 6 and 10 ml · kg−1 , of juice averaged ( mean ±SD ) 0.45 ±0.31 , 0.66 ±0.79 and 0.71 ±0.76 ml · kg−1 , respectively ; gastric pH averaged 1.7 ±0.6 , 1.7 ±0.6 and 1.8 ±0.8 , respectively . On the basis of questions asked immediately before induction of anaesthiesia , patients who drank 6 ml · kg−1 of apple juice had decreased thirst and were less irritable and upset before anaesthesia than those who had not ( P < 0.05 ) . It is concluded that drinking large volumes of clear apple juice 2.5 hours before scheduled surgery does not have a measurable effect on gastric volume and pH and may offer benefits such as improved patient comfort . RésuméL’effet sur le volume et le pH gastrique de 0,6 et 10 ml · kg−1 de jus de pomme donné 2.5 heures avant la chirurgie aux enfants âgés de cinq à dix ans a été investigué dans cette étude prospect i ve r and omisée et a simple insu . Le contenu gastrique fut aspiré après induction de l’anesthésie et le volume mesuré . Le pH du sue gastrique aspiré a par la suite été évalué par un papier à pH. Ni le volume gastrique ni son pH n’était significativement différent pour les trois groupes après l’induction de l’anesthesie générale . Le volume gastrique après 0,6 et 10 ml · kg−1 de jus de pomme était en moyenne ( moyenne ±SD ) respectivement 0,45 ±0,31 , 0,66 ±0,79 et 0,71 ±0,76 ml · kg−1 , en moyenne le pH gastrique était de 1,7 ±0,6 , 1,7 ±0,6 et 1,8 ±0,8 . Pour les avoir question né immédiatement avant l’induction de l’anesthésie les patients ayant bu 6 ml · kg−1 de jus de pomme avaient moins soif et étaient moins irritables avant l’anesthésie que ceux qui n’en ont pas eu ( P < 0.05 ) . On conclut que l’ingestion dun large volume de jus de pomme 2.5 heures avant la chirurgie n’a pas d’effet mesurable sur le volume et le pH gastrique et peut offrir des bénéfices tel que l’amélioration du confort du patient'"
            ],
            "application/vnd.google.colaboratory.intrinsic+json": {
              "type": "string"
            }
          },
          "metadata": {},
          "execution_count": 74
        }
      ]
    },
    {
      "cell_type": "code",
      "source": [
        "inputs_combined = tokenizer.encode(\"summarize: \" + background_text + \" \" + text1 + \" \" + text2, return_tensors=\"pt\", max_length=1024, truncation=True).to(device)\n",
        "\n",
        "decoded_combined = model.generate(inputs_combined, max_length=300, pad_token_id=1)\n",
        "print(decoded_combined.shape)\n",
        "tokenizer.decode(decoded_combined[0], skip_special_tokens=True)"
      ],
      "metadata": {
        "colab": {
          "base_uri": "https://localhost:8080/",
          "height": 226
        },
        "id": "a_q5PNlU84Ut",
        "outputId": "27ea54fa-255e-4c14-c50d-2701c2b6b2e4"
      },
      "execution_count": 4,
      "outputs": [
        {
          "output_type": "stream",
          "name": "stdout",
          "text": [
            "torch.Size([1, 300])\n"
          ]
        },
        {
          "output_type": "execute_result",
          "data": {
            "text/plain": [
              "'summarize: INTRODUCTION Surgical stress in the presence of fasting worsens the catabolic state, causes insulin resistance and may delay recovery. Carbohydrate rich drinks given preoperatively may ameliorate these deleterious effects. A systematic review was undertaken to analyse the effect of preoperative carbohydrate loading on insulin resistance. gastric emptying, gastric acidity, patient wellbeing, immunity and nutrition following surgery. The effect on gastric pH and volume of 0, 6 and 10 ml · kg−1, of apple juice given 2.5 hours before surgery to children aged five to ten years was investigated in this prospect i ve, r and omized, single-blind study. Gastric contents were aspirated after induction of anaesthesia, and the volume measured. The pH of the gastric aspirate was then assessed using pH paper. Neither gastric volume nor pH immediately following the induction of general anaesthesia were significantly different among the three groups. Gast gastric volumes after 0,6 and 10 mg · kg −1. of juice averaged ( mean ±SD ) 0.45 ±0.31, 0.66 ±0 79 and 0.71 ±0,76 ml ·kg−1. respectively ; gastricpH averaged 1.7 ±00.6, 1.6 ±1.6 and 1.8 ±0-8, respectively. On the basis of questions asked immediately before induction of anaest'"
            ],
            "application/vnd.google.colaboratory.intrinsic+json": {
              "type": "string"
            }
          },
          "metadata": {},
          "execution_count": 4
        }
      ]
    },
    {
      "cell_type": "code",
      "source": [
        "inputs_solo = tokenizer.encode(\"summarize: BACKGROUND - \" + background_text + \" ABSTRACT - \" + text1, return_tensors=\"pt\", max_length=1024, truncation=True).to(device)\n",
        "\n",
        "decoded_solo = model.generate(inputs_solo, max_length=300, pad_token_id=1)\n",
        "tokenizer.decode(decoded_solo[0], skip_special_tokens=True)"
      ],
      "metadata": {
        "colab": {
          "base_uri": "https://localhost:8080/",
          "height": 209
        },
        "id": "Ofw9nftk7Fms",
        "outputId": "725bc46f-aadb-4ed4-a3be-777f95970ee6"
      },
      "execution_count": 13,
      "outputs": [
        {
          "output_type": "execute_result",
          "data": {
            "text/plain": [
              "'summarize: BACKGROUND - INTRODUCTION Surgical stress in the presence of fasting worsens the catabolic state, causes insulin resistance and may delay recovery. Carbohydrate rich drinks given preoperatively may ameliorate these deleterious effects. A systematic review was undertaken to analyse the effect of preoperative carbohydrate loading on insulin resistance. gastric emptying, gastric acidity, patient wellbeing, immunity and nutrition following surgery. ABSTRACT - The effect on gastric pH and volume of 0, 6 and 10 ml · kg−1, of apple juice given 2.5 hours before surgery to children aged five to ten years was investigated in this prospect i ve, r and omized, single-blind study. Gastric contents were aspirated after induction of anaesthesia, and the volume measured. The pH of the gastric aspirate was then assessed using pH paper. Neither gastric volume nor pH immediately following the induction of general anaesthesia were significantly different among the three groups. Gastral volumes after 0,6 and 10 mg · kg −1,of juice averaged ( mean ±SD ) 0.45 ±0.31, 0.66 ±0 79 and 0.71 ±0,76 ml ·kg−1. gastral pH averaged 1.7±0.6, 1. 7 ±0-6 and 1.8 ±00.8, respectively. On the basis of questions asked immediately'"
            ],
            "application/vnd.google.colaboratory.intrinsic+json": {
              "type": "string"
            }
          },
          "metadata": {},
          "execution_count": 13
        }
      ]
    },
    {
      "cell_type": "code",
      "source": [
        "print(inputs_solo.shape)\n",
        "print(decoded_solo.shape)"
      ],
      "metadata": {
        "colab": {
          "base_uri": "https://localhost:8080/"
        },
        "id": "inW8-PRxK_yk",
        "outputId": "c9041863-34b9-41ec-d725-4901a21987d2"
      },
      "execution_count": 12,
      "outputs": [
        {
          "output_type": "stream",
          "name": "stdout",
          "text": [
            "torch.Size([1, 824])\n",
            "torch.Size([1, 300])\n"
          ]
        }
      ]
    },
    {
      "cell_type": "code",
      "source": [
        "print(decoded.shape)\n",
        "tokenizer.decode(decoded[0], skip_special_tokens=True)"
      ],
      "metadata": {
        "colab": {
          "base_uri": "https://localhost:8080/",
          "height": 296
        },
        "id": "0klpMk7y9kci",
        "outputId": "79656f2d-bdfd-4a0d-f69f-b961e682757f"
      },
      "execution_count": 31,
      "outputs": [
        {
          "output_type": "stream",
          "name": "stdout",
          "text": [
            "torch.Size([1, 400])\n"
          ]
        },
        {
          "output_type": "execute_result",
          "data": {
            "text/plain": [
              "'summarize: (3 sentences) BACKGROUND Pulmonary arterial hypertension is a devastating disease, which leads to right heart failure and premature death. Recent evidence suggests that endothelin receptor antagonists may be promising drugs in the treatment of pulmonary arterial pressure. OBJECTIVES To evaluate the efficacy of endendothelin- receptor antagonists in pulmonaryterial hypertension. BACKGROUND Primary pulmonary hypertension ist a progressive disease for which no treatment has been shown in a prospect i ve, r and omized trial to improve survival. METHODS We conducted a 12-week prospect i v, rand omized, multicenter open trial comparing the effects of the continuous intravenous infusion of epoprostenol ( formerly called prostacyclin ) plus conventional therapy with those of conventional tapy alone in 81 patients with severe primary pulmonmonary hypertension ( New York Heart Association functional class III or IV ). RESULTS Exercise capacity was improved in  the 41 patients treated with epopentenol ( median distance walked in six minutes, 362 m at 12 weeks vs. 315 m at base line ), but it decreased in to the 40 patients treatment with conventional apy alone ( 204 m at 6 months vs. 270 m at baseline line ; P < 0.002 for the comparison of these treatment groups ). Indexes of total quality of life were improved only in patients the epoprostenyl-treated patients. The changes in mean pulmonary-artery pressure for those treated and control groups were -8 percent and + 3 percent, respectively ( difference in mean change, -6.7 mm Hg ; 95 percent confidence interval, -10.7 to -2.6 mm Hg. P <0.002 ), and the mean changes in pulmon pulmonary vascular resistance for each treatment group were -21 percent and -4.9 mm Hg/liter/min ; 95'"
            ],
            "application/vnd.google.colaboratory.intrinsic+json": {
              "type": "string"
            }
          },
          "metadata": {},
          "execution_count": 31
        }
      ]
    },
    {
      "cell_type": "code",
      "source": [
        "def summarize(text, model, tokenizer, **generate_args):\n",
        "    inputs = tokenizer.encode(\"summarize: \" + text, return_tensors=\"pt\", max_length=1024, truncation=True).to(device)\n",
        "    summary_ids = model.generate(inputs, **generate_args)\n",
        "    return tokenizer.decode(summary_ids[0], skip_special_tokens=True)\n",
        "\n",
        "# Summarize the first 5 examples\n",
        "summaries = []\n",
        "for example in dataset:\n",
        "    text = example[\"abstract\"][1]  # single abstract\n",
        "    # text = \"; \".join([f\"ARTICLE {e + 1}: {txt}\" for e, txt in enumerate(example[\"abstract\"])])  # concatenate everything into one\n",
        "\n",
        "    # test text from news article:\n",
        "    # text = \"\"\"ATLANTIC CITY, N.J. — Danish energy developer Orsted said Tuesday night it is scrapping two large offshore wind-power projects off the coast of New Jersey, adding uncertainty to a nascent industry the Biden administration and many state governments are counting on to help transition away from the burning of planet-warming fossil fuels. The company said it is canceling its Ocean Wind I and II projects in southern New Jersey, citing supply-chain issues and rising interest rates.\"\"\"\n",
        "    summary = summarize(text, model, tokenizer, max_length=200, min_length=20, length_penalty=1.0, num_beams=10, early_stopping=True)  # guesses for generate args\n",
        "    summaries.append(summary)\n",
        "    break\n",
        "\n",
        "for i, summary in enumerate(summaries):\n",
        "    print(f\"Summary {i+1}:\\n{summary}\\n\")"
      ],
      "metadata": {
        "colab": {
          "base_uri": "https://localhost:8080/"
        },
        "id": "e9J5l0JYVYh7",
        "outputId": "757f1ef9-ec2e-4e9b-cad3-ef3d700b4de7"
      },
      "execution_count": 33,
      "outputs": [
        {
          "output_type": "stream",
          "name": "stdout",
          "text": [
            "Summary 1:\n",
            "The GFP-tagged ADSCs were identified in the lungs and differentiated into endothelial-like cells. Two weeks post-MCT administration, the ADSCs group received 1 × 106 ADSCs via the external jugular vein. Compared to PAH rats, mean pulmonary arterial pressure was decreased in rats at 1, 2, and 3 weeks after ADSCs-treatment.\n",
            "\n"
          ]
        }
      ]
    },
    {
      "cell_type": "code",
      "source": [
        "\"; \".join([f\"ARTICLE {e + 1}: {txt}\" for e, txt in enumerate(example[\"abstract\"])])"
      ],
      "metadata": {
        "colab": {
          "base_uri": "https://localhost:8080/",
          "height": 174
        },
        "id": "_ZRi7qwI2R07",
        "outputId": "11edb58c-5e4b-44c5-8d85-ef7fb4acc6c6"
      },
      "execution_count": 29,
      "outputs": [
        {
          "output_type": "execute_result",
          "data": {
            "text/plain": [
              "'ARTICLE 1: Although transplantation of adult bone marrow mesenchymal stem cells ( BM-MSCs ) holds promise in the treatment for pulmonary arterial hypertension ( PAH ) , the poor survival and differentiation potential of adult BM-MSCs have limited their therapeutic efficiency . Here , we compared the therapeutic efficacy of human embryonic stem cell-derived MSCs ( hESC-MSCs ) with adult BM-MSCs for the treatment of PAH in an animal model . One week following monocrotaline (MCT)-induced PAH , mice were r and omly assigned to receive phosphate-buffered saline ( MCT group ) ; 3.0 × 106 human BM-derived MSCs ( BM-MSCs group ) or 3.0 × 106 hESC-derived MSCs ( hESC-MSCs group ) via tail vein injection . At 3 weeks posttransplantation , the right ventricular systolic pressure ( RVSP ) , degree of RV hypertrophy , and medial wall thickening of pulmonary arteries were lower= , and pulmonary capillary density was higher in the hESC-MSC group as compared with BM-MSC and MCT groups ( all p < 0.05 ) . At 1 week posttransplantation , the number of engrafted MSCs in the lungs was found significantly higher in the hESC-MSC group than in the BM-MSC group ( all p < 0.01 ) . At 3 weeks posttransplantation , implanted BM-MSCs were undetectable whereas hESC-MSCs were not only engrafted in injured pulmonary arteries but had also undergone endothelial differentiation . In addition , protein profiling of hESC-MSC- and BM-MSC-conditioned medium revealed a differential paracrine capacity . Classification of these factors into bioprocesses revealed that secreted factors from hESC-MSCs were preferentially involved in early embryonic development and tissue differentiation , especially blood vessel morphogenesis . We concluded that improved cell survival and paracrine capacity of hESC-MSCs provide better therapeutic efficacy than BM-MSCs in the treatment for PAH; ARTICLE 2: Abstract We investigated the effect of adipose-derived stem cells ( ADSCs ) transplantation effects on structural remodeling and pulmonary artery pressure in  monocrotaline (MCT)-induced pulmonary hypertensive rats . In the first experiment , 32 male Sprague-Dawley ( SD ) rats were r and omly divided into four groups ( n = 8/group ) : 3 ADSCs treated groups and normal control ( Ctrl ) . ADSCs were administered through the left jugular vein at 105 , 106 and 107 cells , respectively , and a cell density of 106cells/ml was shown to be optimal . The GFP-tagged ADSCs were identified in the lungs and differentiated into endothelial-like cells . In the second experiment , 96 male SD rats were r and omly divided into three groups ( n = 32/group ) : Ctrl , MCT-induced pulmonary arterial hypertension ( PAH ) , and PAH treated with ADSCs ( ADSCs ) . Two weeks post-MCT administration , the ADSCs group received 1 × 106 ADSCs via the external jugular vein . Compared to PAH rats , mean pulmonary arterial pressure was decreased in rats at 1 , 2 , and 3 weeks after ADSCs-treatment ( 18.63 ± 2.15 mmHg versus 24.53 ± 2.90 mmHg ; 23.07 ± 2.84 mmHg versus 33.18 ± 2.30 mmHg ; 22.98 ± 2.34 mmHg versus 36.38 ± 3.28 mmHg , p < 0.05 ) . Meanwhile , the right heart hypertrophy index ( 36.2 1 ± 4.27 % versus 41.01 ± 1.29 % ; 39.47 ± 4.02 % versus 48.75 ± 2 .13 % ; 41.02 ± 0.9 % versus 50.52 ± 1.49 % , p < 0.05 , respectively ) , ratio of wall/lumen thickness , as well as the wall/lumen area were significantly reduced in PAH rats at these time points following ADSCs-treatment , as compared with untreated PAH rats . In summary , ADSCs may colonize the pulmonary arteries , attenuate pulmonary arterial hypertension and ameliorate pulmonary arterial remodeling; ARTICLE 3: The aim of the present study was to investigate the effect of bone marrow mesenchymal stem cell ( BMSC ) transp1antation on lung and heart damage in a rat model of monocrotaline (MCT)-induced pulmonary arterial hypertension ( PAH ) . The animals were r and omly divided into 3 groups : control , PAH  and  BMSC implantation  groups . Structural changes in the pulmonary vascular wall , such as the pulmonary artery lumen area ( VA ) and vascular area ( TAA ) were measured by hematoxylin and eosin ( H&E ) staining , and the hemodynamics were detected by echocardiography . Two weeks post-operation , our results demonstrated that sublingual vein injection of BMSCs significantly attenuated the pulmonary vascular structural and hemodynamic changes caused by pulmonary arterial hypertension . The mechanism may be executed via paracrine effects; ARTICLE 4: OBJECTIVE To characterize mortality in persons diagnosed with primary pulmonary hypertension and to investigate factors associated with survival . DESIGN Registry with prospect i ve follow-up . SETTING Thirty-two clinical centers in the United States participating in the Patient Registry for the Characterization of Primary Pulmonary Hypertension supported by the National Heart , Lung , and Blood Institute . PATIENTS Patients ( 194 ) diagnosed at clinical centers between 1 July 1981 and 31 December 1985 and followed through 8 August 1988 . MEASUREMENTS At diagnosis , measurements of hemodynamic variables , pulmonary function , and gas exchange variables were taken in addition to information on demographic variables , medical history , and life-style . Patients were followed for survival at 6-month intervals . MAIN RESULTS The estimated median survival of these patients was 2.8 years ( 95 % Cl , 1.9 to 3.7 years ) . Estimated single-year survival rates were as follows : at 1 year , 68 % ( Cl , 61 % to 75 % ) ; at 3 years , 48 % ( Cl , 41 % to 55 % ) ; and at 5 years , 34 % ( Cl , 24 % to 44 % ) . Variables associated with poor survival included a New York Heart Association ( NYHA ) functional class of III or IV , presence of Raynaud phenomenon , elevated mean right atrial pressure , elevated mean pulmonary artery pressure , decreased cardiac index , and decreased diffusing capacity for carbon monoxide ( DLCO ) . Drug therapy at entry or discharge was not associated with survival duration . CONCLUSIONS Mortality was most closely associated with right ventricular hemodynamic function and can be characterized by means of an equation using three variables : mean pulmonary artery pressure , mean right atrial pressure , and cardiac index . Such an equation , once vali date d prospect ively , could be used as an adjunct in planning treatment strategies and allocating medical re sources; ARTICLE 5: BACKGROUND Sildenafil inhibits phosphodiesterase type 5 , an enzyme that metabolizes cyclic guanosine monophosphate , thereby enhancing the cyclic guanosine monophosphate-mediated relaxation and growth inhibition of vascular smooth-muscle cells , including those in the lung . METHODS In this double-blind , placebo-controlled study , we r and omly assigned 278 patients with symptomatic pulmonary arterial hypertension ( either idiopathic or associated with connective-tissue disease or with repaired congenital systemic-to-pulmonary shunts ) to placebo or sildenafil  ( 20 , 40 , or 80 mg ) orally three times daily for 12 weeks . The primary end point was the change from baseline to week 12 in the distance walked in six minutes . The change in mean pulmonary-artery pressure and World Health Organization ( WHO ) functional class and the incidence of clinical worsening were also assessed , but the study was not powered to assess mortality . Patients completing the 12-week r and omized study could enter a long-term extension study . RESULTS The distance walked in six minutes increased from baseline in all sildenafil groups ; the mean placebo-corrected treatment effects were 45 m ( + 13.0 percent ) , 46 m ( + 13.3 percent ) , and 50 m ( + 14.7 percent ) for 20 , 40 , and 80 mg of sildenafil , respectively ( P<0.001 for all comparisons ) . All sildenafil doses reduced the mean pulmonary-artery pressure ( P=0.04 , P=0.01 , and P<0.001 , respectively ) , improved the WHO functional class ( P=0.003 , P<0.001 , and P<0.001 , respectively ) , and were associated with side effects such as flushing , dyspepsia , and diarrhea . The incidence of clinical worsening did not differ significantly between the patients treated with sildenafil and those treated with placebo . Among the 222 patients completing one year of treatment with sildenafil monotherapy , the improvement from baseline at one year in the distance walked in six minutes was 51 m. CONCLUSIONS Sildenafil improves exercise capacity , WHO functional class , and hemodynamics in patients with symptomatic pulmonary arterial hypertension; ARTICLE 6: BACKGROUND Current therapies for pulmonary arterial hypertension have been adopted on the basis of short-term trials with exercise capacity as the primary end point . We assessed the efficacy of macitentan , a new dual endothelin-receptor antagonist , using a primary end point of morbidity and mortality in a long-term trial . METHODS We r and omly assigned patients with symptomatic pulmonary arterial hypertension to receive placebo once daily , macitentan at a once-daily dose of 3 mg , or macitentan at a once-daily dose of 10 mg . Stable use of oral or inhaled therapy for pulmonary arterial hypertension , other than endothelin-receptor antagonists , was allowed at study entry . The primary end point was the time from the initiation of treatment to the first occurrence of a composite end point of death , atrial septostomy , lung transplantation , initiation of treatment with intravenous or subcutaneous prostanoids , or worsening of pulmonary arterial hypertension . RESULTS A total of 250 patients were r and omly assigned to placebo , 250 to the 3-mg macitentan dose , and 242 to the 10-mg macitentan dose . The primary end point occurred in 46.4 % , 38.0 % , and 31.4 % of the patients in these groups , respectively . The hazard ratio for the 3-mg macitentan dose as compared with placebo was 0.70 ( 97.5 % confidence interval [ CI ] , 0.52 to 0.96 ; P=0.01 ) , and the hazard ratio for the 10-mg macitentan dose as compared with placebo was 0.55 ( 97.5 % CI , 0.39 to 0.76 ; P<0.001 ) . Worsening of pulmonary arterial hypertension was the most frequent primary end-point event . The effect of macitentan on this end point was observed regardless of whether the patient was receiving therapy for pulmonary arterial hypertension at baseline . Adverse events more frequently associated with macitentan than with placebo were headache , nasopharyngitis , and anemia . CONCLUSIONS Macitentan significantly reduced morbidity and mortality among patients with pulmonary arterial hypertension in this event-driven study . ( Funded by Actelion Pharmaceuticals ; SERAPHIN Clinical Trials.gov number , NCT00660179 . ); ARTICLE 7: Our previous studies have shown that bone marrow mesenchymal stem cells ( BMSCs ) can inhibit the progression of pulmonary artery hypertension ( PAH ) in the monocrotaline ( MCT ) model in the short term . The aim of this study was to further investigate the long-term effect of BMSCs on PAH and to explore the mechanism of the protective effect including the pulmonary vascular remodeling and cell differentiation . PAH model was established by subcutaneous injection of 50 mg/kg MCT as previously study . Postoperatively , the animals were r and omly divided into three groups ( n = 10 in each group ) : control , PAH group , and BMSCs implantation group . Six months after injection , immunology and immunohistochemistry analysis indicated the  MCT-induced intima-media thickness in muscular arteries was reduced ( P < 0.05 ) ; the area of collagen fibers in lung tissue was lower ( P < 0.05 ) , and the proliferating cell nuclear antigen level in pulmonary artery smooth muscle cells was decreased ( P < 0.05 ) . Immunofluorescence showed that the cells have the ability to differentiate between von Willebr and factor and vascular endothelial growth factor . Six months after intravenous injection , BMSCs could significantly improve pulmonary function by inhibiting the ventricular remodeling and the effect of cell differentiation; ARTICLE 8: Experimental data suggest that transplantation of EPCs attenuates monocrotaline-induced pulmonary hypertension in rats and dogs . In addition , our previous studies suggested that autologous EPC transplantation was feasible , safe , and might have beneficial effects on exercise capacity and pulmonary hemodynamics in adults with IPAH . Thus , we hypothesized that transplantation of EPCs would improve exercise capacity and pulmonary hemodynamics in children with IPAH . Thirteen children with IPAH received intravenous infusion of autologous EPCs . The right-sided heart catheterization and 6-MWD test were performed at baseline and at the time of 12 wk after cell infusion . At the time of 12 wk , mPAP decreased by 6.4 mmHg from 70.3 + /- 19.0 to 63.9 + /- 19.3 mmHg ( p = 0.015 ) . PVR decreased by approximately 19 % from 1118 + /- 537 to 906 + /- 377 dyn s/cm(5 ) ( p = 0.047 ) . CO increased from 3.39 + /- 0.79 to 3.85 + /- 0.42 L/min ( p = 0.048 ) . The 6-MWD increased by 39 m from 359 + /- 82 to 399 + /- 74 m ( p = 0.012 ) . NYHA functional class also improved . There were no severe adverse events with cell infusion . The small pilot study suggested that intravenous infusion of autologous EPCs was feasible , safe , and associated with significant improvements in exercise capacity , NYHA functional class , and pulmonary hemodynamics in children with IPAH . Confirmation of these results in a r and omized controlled trial are essential; ARTICLE 9: BACKGROUND Uncontrolled studies suggested that aerosolized iloprost , a stable analogue of prostacyclin , causes selective pulmonary vasodilatation and improves hemodynamics and exercise capacity in patients with pulmonary hypertension . METHODS We compared repeated daily inhalations of 2.5 or 5.0 microg of iloprost ( six or nine times per day ; median inhaled dose , 30 microg per day ) with inhalation of placebo .  A total of 203 patients with selected forms of severe pulmonary arterial hypertension and chronic thromboembolic pulmonary hypertension ( New York Heart Association [ NYHA ] functional class III or IV ) were included . The primary end point was met if , after week 12 , the NYHA class and distance walked in six minutes were improved by at least one class and at least 10 percent , respectively , in the absence of clinical deterioration according to predefined criteria and death . RESULTS The combined clinical end point was met by 16.8 percent of the patients receiving iloprost , as compared with 4.9 percent of the patients receiving placebo ( P=0.007 ) . There were increases in the distance walked in six minutes of 36.4 m in the iloprost group as a whole ( P=0.004 ) and of 58.8 m in the subgroup of patients with primary pulmonary hypertension . Overall , 4.0 percent of patients in the iloprost group ( including one who died ) and 13.7 percent of those in the placebo group ( including four who died ) did not complete the study ( P=0.024 ) ; the most common reason for withdrawal was clinical deterioration . As compared with base-line values , hemodynamic values were significantly improved at 12 weeks when measured after iloprost inhalation ( P<0.001 ) , were largely unchanged when measured before iloprost inhalation , and were significantly worse in the placebo group . Further significant beneficial effects of iloprost treatment included an improvement in the NYHA class ( P=0.03 ) , dyspnea ( P=0.015 ) , and quality of life ( P=0.026 ) . Syncope occurred with similar frequency in the two groups but was more frequently rated as serious in the iloprost group , although this adverse effect was not associated with clinical deterioration . CONCLUSIONS Inhaled iloprost is an effective therapy for patients with severe pulmonary hypertension; ARTICLE 10: BACKGROUND High pulmonary vascular resistance ( PVR ) may be a risk factor for early and late mortality in both Glen shunt and Fontan operation patients . Furthermore , PVR may increase long after the Fontan operation . Whether pulmonary vasodilators such as phosphodiesterase 5 inhibitors can decrease PVR in patients with single ventricular physiology remains undetermined . METHODS AND RESULTS This was a prospect i ve , multicenter study . Patients with single ventricular physiology who have a PVR index higher than 2.5 Wood units · ㎡ ( WU ) were enrolled .  Cardiac catheterization was performed before and after administration of sildenafil in all patients . After the Fontan operation , a  six minute walk test  ( 6MWT ) was also performed . A total of 42 patients were enrolled . PVR was significantly decreased in each stage of single ventricular physiology after sildenafil administration : from 4.3±1.5WU to 2.1±0.6WU ( p<0.01 ) in patients before a Glenn shunt , from 3.2±0.5WU to 1.6±0.6WU ( p<0.001 ) in patients after a Glenn shunt , and from 3.9±1.7WU to 2.3±0.8WU ( p<0.001 ) in patients after Fontan . In patients after Fontan , the 6MWT increased from 416±74 m to 485±72 m ( p<0.01 ) , and NYHA functional class improved significantly ( p<0.05 ) after sildenafil administration . No major side effects were observed in any patients . CONCLUSIONS Sildenafil reduced PVR in patients with single ventricle physiology . Sildenafil increased exercise capacity and improved NYHA functional class in patients after a Fontan operation . This implies that pulmonary vasodilation is a potential therapeutic target in selected patients with elevated PVR with single ventricle physiology . Long-term clinical significance warrants further study; ARTICLE 11: OBJECTIVES The purpose of this study was to examine the efficacy and safety of four doses of ambrisentan , an oral endothelin type A receptor-selective antagonist , in patients with pulmonary arterial hypertension ( PAH ) . BACKGROUND Pulmonary arterial hypertension is a life-threatening and progressive disease with limited treatment options . Endothelin is a vasoconstrictor and smooth muscle cell mitogen that plays a critical role in the pathogenesis and progression of PAH . METHODS In this double-blind , dose-ranging study , 64 patients with idiopathic PAH or PAH associated with collagen vascular disease , anorexigen use , or human immunodeficiency virus infection were r and omized to receive 1 , 2.5 , 5 , or 10 mg of ambrisentan once daily for 12 weeks followed by 12 weeks of open-label ambrisentan . The primary end point was an improvement from baseline in 6-min walk distance ( 6MWD ) ; secondary end points included Borg dyspnea index , World Health Organization ( WHO ) functional class , a subject global assessment , and cardiopulmonary hemodynamics . RESULTS At 12 weeks , ambrisentan increased 6MWD ( + 36.1 m , p < 0.0001 ) with similar and statistically significant increases for each dose group ( range , + 33.9 to + 38.1 m ) . Improvements were also observed in Borg dyspnea index , WHO functional class , subject global assessment , mean pulmonary arterial pressure ( -5.2 mm Hg , p < 0.0001 ) , and cardiac index ( + 0.33 l/min/m2 , p < 0.0008 ) . Adverse events were mild and unrelated to dose , including the incidence of elevated serum aminotransferase concentrations > 3 times the upper limit of normal ( 3.1 % ) . CONCLUSIONS Ambrisentan appears to improve exercise capacity , symptoms , and hemodynamics in patients with PAH . The incidence and severity of liver enzyme abnormalities appear to be low; ARTICLE 12: UNLABELLED Pulmonary arterial hypertension ( PAH ) is characterized by functional and structural changes in the pulmonary vasculature , and despite the drug treatment that made significant progress , the prognosis of patients with advanced PH remains extremely poor . In the present study , we investigated the early effect of bone marrow mesenchymal stem cells ( BMSCs ) on experimental high blood flow-induced PAH model rats and discussed the mechanism . BMSCs were isolated , cultured from bone marrow of Sprague-Dawley ( SD ) rat . The animal model of PAH was created by surgical methods to produce a left-to-right shunt . Following the successful establishment of the PAH model , rats were r and omly assigned to three groups ( n=20 in each group ) : sham group ( control ) , PAH group , and BMSC group ( received a sublingual vein injection of 1 - 5 × 10(6 ) BMSCs ) . Two weeks after the administration , BMSCs significantly reduced the vascular remodeling , improved the hemodynamic data , and deceased the right ventricle weight ratio to left ventricular plus septal weight ( RV/LV+S ) ( P<0.05 ) . Real-time reverse transcription-polymerase chain reaction ( RT-PCR ) and immunohistochemistry analysis results indicated that the inflammation factors such as interleukin-1β ( IL-1β ) , IL-6 , and tumor necrosis factor-α ( TNF-α ) were reduced ( P<0.05 ) ; the expression of matrix metallo proteinase-9 ( MMP-9 ) was lower ( P<0.05 ) ; vascular endothelial growth factor ( VEGF ) was higher in BMSC group than those in PAH group ( P<0.05 ) . CONCLUSION Sublingual vein injection of BMSCs for 2 weeks , significantly improved the lung and heart injury caused by left-to-right shunt-induced PAH ; decreased pulmonary vascular remodeling and inflammation ; and enhanced angiogenesis; ARTICLE 13: Pulmonary arterial hypertension is a life-threatening disease for which continuous intravenous prostacyclin has proven to be effective . However , this treatment requires a permanent central venous catheter with the associated risk of serious complications such as sepsis , thromboembolism , or syncope . Treprostinil , a stable prostacyclin analogue , can be administered by a continuous subcutaneous infusion , avoiding these risks . We conducted a 12-week , double-blind , placebo-controlled multicenter trial in 470 patients with pulmonary arterial hypertension , either primary or associated with connective tissue disease or congenital systemic-to-pulmonary shunts .  Exercise capacity improved with treprostinil and was unchanged with placebo ; the between treatment group difference in median six-minute walking distance was 16 m ( p = 0.006 ) . Improvement in exercise capacity was greater in the sicker patients and was dose-related , but independent of disease etiology . Concomitantly , treprostinil significantly improved indices of dyspnea , signs and symptoms of pulmonary hypertension , and hemodynamics . The most common side effect attributed to treprostinil was infusion site pain ( 85 % ) leading to premature discontinuation from the study in 8 % of patients . Three patients in the treprostinil treatment group presented with an episode of gastrointestinal hemorrhage . We conclude that chronic subcutaneous infusion of treprostinil is an effective treatment with an acceptable safety profile in patients with pulmonary arterial hypertension; ARTICLE 14: BACKGROUND Endothelin 1 , a powerful endogenous vasoconstrictor and mitogen , might be a cause of pulmonary hypertension . We describe the efficacy and safety of bosentan , a dual endothelin-receptor antagonist that can be taken orally , in patients with severe pulmonary hypertension . METHODS In this double-blind , placebo-controlled study , 32 patients with pulmonary hypertension ( primary or associated with scleroderma ) were r and omly assigned to bosentan ( 62.5 mg taken twice daily for 4 weeks then 125 mg twice daily ) or placebo for a minimum of 12 weeks . The primary endpoint was change in exercise capacity . Secondary endpoints included changes in cardiopulmonary haemodynamics , Borg dyspnoea index , WHO functional class , and withdrawal due to clinical worsening . Analysis was by intention to treat . FINDINGS In patients given bosentan , the distance walked in 6 min improved by 70 m at 12 weeks compared with baseline , whereas it worsened by 6 m in those on placebo ( difference 76 m [ 95 % CI 12 - 139 ] , p=0.021 ) . The improvement was maintained for at least 20 weeks . The cardiac index was 1.0 L min(-1 ) m(-2 ) ( 95 % CI 0.6 - 1.4 , p<0.0001 ) greater in patients given bosentan than in those given placebo .  Pulmonary vascular resistance decreased by 223 dyn s cm(-)(5 ) with bosentan , but increased by 191 dyn s cm(-5 ) with placebo ( difference -415 [ -608 to -221 ] , p=0.0002 ) . Patients given bosentan had a reduced Borg dyspnoea index and an improved WHO functional class . All three withdrawals from clinical worsening were in the placebo group ( p=0.033 ) . The number and nature of adverse events did not differ between the two groups . INTERPRETATION Bosentan increases exercise capacity and improves haemodynamics in patients with pulmonary hypertension , suggesting that endothelin has an important role in pulmonary hypertension; ARTICLE 15: Background Systematic Review s ( SRs ) of experimental animal studies are not yet common practice , but awareness of the merits of conducting such SRs is steadily increasing . As animal intervention studies differ from r and omized clinical trials ( RCT ) in many aspects , the methodology for SRs of clinical trials needs to be adapted and optimized for animal intervention studies . The Cochrane Collaboration developed a Risk of Bias ( RoB ) tool to establish consistency and avoid discrepancies in assessing the method ological quality of RCTs . A similar initiative is warranted in the field of animal experimentation . Methods We provide an RoB tool for animal intervention studies ( SYRCLE ’s RoB tool ) . This tool is based on the Cochrane RoB tool and has been adjusted for aspects of bias that play a specific role in animal intervention studies . To enhance transparency and applicability , we formulated signalling questions to facilitate judgment . Results The result ing RoB tool  for animal studies contains 10 entries . These entries are related to selection bias , performance bias , detection bias , attrition bias , reporting bias and other biases . Half these items are in agreement with the items in the Cochrane RoB tool . Most of the variations between the two tools are due to differences in design between RCTs and animal studies . Shortcomings in , or unfamiliarity with , specific aspects of experimental design of animal studies compared to clinical studies also play a role . Conclusions SYRCLE ’s RoB tool is an adapted version of the Cochrane RoB tool . Widespread adoption and implementation of this tool will facilitate and improve critical appraisal of evidence from animal studies . This may subsequently enhance the efficiency of translating animal research into clinical practice and increase awareness of the necessity of improving the method ological quality of animal studies'"
            ],
            "application/vnd.google.colaboratory.intrinsic+json": {
              "type": "string"
            }
          },
          "metadata": {},
          "execution_count": 29
        }
      ]
    },
    {
      "cell_type": "code",
      "source": [
        "print(dataset[0][\"abstract\"][1].replace(\". \", \". \\n\"))"
      ],
      "metadata": {
        "colab": {
          "base_uri": "https://localhost:8080/"
        },
        "id": "6OgdejY_W968",
        "outputId": "2b795d75-a2ea-47a4-d822-e07e39364121"
      },
      "execution_count": 32,
      "outputs": [
        {
          "output_type": "stream",
          "name": "stdout",
          "text": [
            "Abstract We investigated the effect of adipose-derived stem cells ( ADSCs ) transplantation effects on structural remodeling and pulmonary artery pressure in  monocrotaline (MCT)-induced pulmonary hypertensive rats . \n",
            "In the first experiment , 32 male Sprague-Dawley ( SD ) rats were r and omly divided into four groups ( n = 8/group ) : 3 ADSCs treated groups and normal control ( Ctrl ) . \n",
            "ADSCs were administered through the left jugular vein at 105 , 106 and 107 cells , respectively , and a cell density of 106cells/ml was shown to be optimal . \n",
            "The GFP-tagged ADSCs were identified in the lungs and differentiated into endothelial-like cells . \n",
            "In the second experiment , 96 male SD rats were r and omly divided into three groups ( n = 32/group ) : Ctrl , MCT-induced pulmonary arterial hypertension ( PAH ) , and PAH treated with ADSCs ( ADSCs ) . \n",
            "Two weeks post-MCT administration , the ADSCs group received 1 × 106 ADSCs via the external jugular vein . \n",
            "Compared to PAH rats , mean pulmonary arterial pressure was decreased in rats at 1 , 2 , and 3 weeks after ADSCs-treatment ( 18.63 ± 2.15 mmHg versus 24.53 ± 2.90 mmHg ; 23.07 ± 2.84 mmHg versus 33.18 ± 2.30 mmHg ; 22.98 ± 2.34 mmHg versus 36.38 ± 3.28 mmHg , p < 0.05 ) . \n",
            "Meanwhile , the right heart hypertrophy index ( 36.2 1 ± 4.27 % versus 41.01 ± 1.29 % ; 39.47 ± 4.02 % versus 48.75 ± 2 .13 % ; 41.02 ± 0.9 % versus 50.52 ± 1.49 % , p < 0.05 , respectively ) , ratio of wall/lumen thickness , as well as the wall/lumen area were significantly reduced in PAH rats at these time points following ADSCs-treatment , as compared with untreated PAH rats . \n",
            "In summary , ADSCs may colonize the pulmonary arteries , attenuate pulmonary arterial hypertension and ameliorate pulmonary arterial remodeling\n"
          ]
        }
      ]
    },
    {
      "cell_type": "code",
      "source": [
        "pipe(sample[\"abstract\"][0])"
      ],
      "metadata": {
        "colab": {
          "base_uri": "https://localhost:8080/"
        },
        "id": "v_OfBIyUW7ZT",
        "outputId": "078da4e0-0342-42cd-896e-c1f48f5462c4"
      },
      "execution_count": null,
      "outputs": [
        {
          "output_type": "execute_result",
          "data": {
            "text/plain": [
              "[{'summary_text': 'Although transplantation of adult bone marrow mesenchymal stem cells ( BM-MSCs ) holds promise in the treatment for pulmonary arterial hypertension ( PAH ) , the poor survival and differentiation potential of adult BM-derived MSCs have limited their therapeutic efficiency . Here , we compared the potential efficacy of human embryonic stem cell- derived MSCs ( hESC-MSSCs ) with adult BM -MSCs for the repair of PAH in an animal model . One week following monocrotaline (MCT)-induced PAH , mice were r and omly assigned to receive phosphate-buffered saline ( MCT'}]"
            ]
          },
          "metadata": {},
          "execution_count": 20
        }
      ]
    }
  ]
}